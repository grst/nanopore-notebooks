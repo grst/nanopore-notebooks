{
 "cells": [
  {
   "cell_type": "code",
   "execution_count": 4,
   "metadata": {
    "collapsed": true
   },
   "outputs": [],
   "source": [
    "import os"
   ]
  },
  {
   "cell_type": "code",
   "execution_count": 1,
   "metadata": {
    "collapsed": true
   },
   "outputs": [],
   "source": [
    "def prepare_sam(basename):\n",
    "    \"\"\"convert a sam file to a sorted bam file that can\n",
    "    be opend with igv\"\"\"\n",
    "    assert os.path.isfile(\"{0}.sam\".format(basename))\n",
    "    !samtools view -S -b {basename}.sam > {basename}.bam\n",
    "    !samtools sort {basename}.bam {basename}.sorted\n",
    "    !samtools index {basename}.sorted.bam\n",
    "    return \"{0}.sorted.bam\".format(basename)"
   ]
  },
  {
   "cell_type": "code",
   "execution_count": 2,
   "metadata": {
    "collapsed": true
   },
   "outputs": [],
   "source": [
    "def get_file_and_channel(filename):\n",
    "    \"\"\"extract fild id and channel from filename or fasta-header\"\"\"\n",
    "    result = re.search(r'ch(\\d+)_file(\\d+)_', filename)\n",
    "    file_id = int(result.group(2))\n",
    "    channel_id = int(result.group(1))\n",
    "    return file_id, channel_id"
   ]
  },
  {
   "cell_type": "code",
   "execution_count": 3,
   "metadata": {
    "collapsed": true
   },
   "outputs": [],
   "source": [
    "FMAP = None\n",
    "def prepare_filemap(file_data):\n",
    "    \"\"\"create global dict to which allows to get a file\n",
    "    by channel and file id in constant time\"\"\"\n",
    "    global FMAP\n",
    "    FMAP = {\"ch{0}_file{1}\".format(f[\"channel\"], f[\"file_id\"]) : f\n",
    "            for f in file_data}\n",
    "        \n",
    "def get_file(channel, file_id):\n",
    "    \"\"\" get a file from the FMAP dictionary by channel \n",
    "    and file id. Requires to run 'prepare_filemap' first.\"\"\"\n",
    "    global FMAP\n",
    "    assert FMAP is not None, \"filemap not initialized. \"\n",
    "    return FMAP[\"ch{0}_file{1}\".format(channel, file_id)]"
   ]
  },
  {
   "cell_type": "code",
   "execution_count": null,
   "metadata": {
    "collapsed": true
   },
   "outputs": [],
   "source": [
    "def mk_fastq(fastq_file, file_data, add_header=\"read\"):\n",
    "    \"\"\"write file-objects as fastq-file.\n",
    "    The headers are newly generated, such that they \n",
    "    can be accessed later\"\"\"\n",
    "    with open(fastq_file, 'w') as f: \n",
    "        for file_obj in file_data:\n",
    "            f.write(\"@ch{0}_file{1}_{2}\\n\".format(\n",
    "                    file_obj[\"channel\"],\n",
    "                    file_obj[\"file_id\"],\n",
    "                    add_header))\n",
    "            f.write(\"\\n\".join(file_obj[\"fastq\"].split(\"\\n\")[1:]))"
   ]
  },
  {
   "cell_type": "code",
   "execution_count": null,
   "metadata": {
    "collapsed": true
   },
   "outputs": [],
   "source": [
    "def graphmap(ref_file, fastq_file, sam_file, ncores=1):\n",
    "    \"\"\"\n",
    "    align reads against reference using graphmap. \n",
    "    \n",
    "    Args:\n",
    "        ref_file: fasta file with reference genome\n",
    "        fastq_file: fasta or fastq-file with the reads\n",
    "        sam_file: output file of the alignment (SAM)\n",
    "        n_cores: use multithreading with ncores\n",
    "    \"\"\"\n",
    "    !/home/ibis/gregor.sturm/nanopore/tools/graphmap/graphmap -r {ref_file} -d {fastq_file} -o {sam_file} -t{ncores}"
   ]
  },
  {
   "cell_type": "code",
   "execution_count": null,
   "metadata": {
    "collapsed": true,
    "run_control": {
     "breakpoint": false
    }
   },
   "outputs": [],
   "source": [
    "def bwamem(ref_file, fastq_file, sam_file, ncores=1):\n",
    "    \"\"\"\n",
    "    align reads against reference using graphmap. \n",
    "    \n",
    "    Args:\n",
    "        ref_file: fasta file with reference genome\n",
    "        fastq_file: fasta or fastq-file with the reads\n",
    "        sam_file: output file of the alignment (SAM)\n",
    "        n_cores: use multithreading with ncores\n",
    "    \"\"\"\n",
    "    !bwa index {ref_file}\n",
    "    !bwa mem -t{ncores} {ref_file} {fastq_file} > {sam_file}"
   ]
  }
 ],
 "metadata": {
  "kernelspec": {
   "display_name": "Python 3",
   "language": "python",
   "name": "python3"
  },
  "language_info": {
   "codemirror_mode": {
    "name": "ipython",
    "version": 3
   },
   "file_extension": ".py",
   "mimetype": "text/x-python",
   "name": "python",
   "nbconvert_exporter": "python",
   "pygments_lexer": "ipython3",
   "version": "3.4.3"
  }
 },
 "nbformat": 4,
 "nbformat_minor": 0
}
