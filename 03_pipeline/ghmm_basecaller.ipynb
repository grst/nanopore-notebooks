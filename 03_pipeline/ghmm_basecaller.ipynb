{
 "cells": [
  {
   "cell_type": "code",
   "execution_count": 2,
   "metadata": {
    "collapsed": false
   },
   "outputs": [],
   "source": [
    "import ghmm\n",
    "import pickle\n",
    "import numpy as np\n",
    "from itertools import product\n",
    "import pysam\n",
    "import os\n",
    "import pandas\n",
    "import re\n",
    "import editdistance\n",
    "from Bio import pairwise2"
   ]
  },
  {
   "cell_type": "code",
   "execution_count": 3,
   "metadata": {
    "collapsed": true
   },
   "outputs": [],
   "source": [
    "NMERS = 3\n",
    "NSTATES = 4**NMERS"
   ]
  },
  {
   "cell_type": "code",
   "execution_count": 4,
   "metadata": {
    "collapsed": false
   },
   "outputs": [],
   "source": [
    "HMM_PARAMS = pickle.load(open(\"/home/ibis/gregor.sturm/nanopore/own/notebooks/03_pipeline/hmm_params.pickle\", 'rb'))\n",
    "HMM_PARAMS = sorted(zip(*[HMM_PARAMS[\"kmers\"], HMM_PARAMS[\"means\"], HMM_PARAMS[\"stdv\"]]))"
   ]
  },
  {
   "cell_type": "markdown",
   "metadata": {},
   "source": [
    "# Train Model "
   ]
  },
  {
   "cell_type": "code",
   "execution_count": 5,
   "metadata": {
    "collapsed": true
   },
   "outputs": [],
   "source": [
    "def mk_transmat(nmers):\n",
    "    \"\"\"make a transition matrix assuming single base steps\"\"\"\n",
    "    all_kmers = [x[0] for x in HMM_PARAMS]\n",
    "    n_components = len(all_kmers)\n",
    "    transmat = np.empty((n_components, n_components))\n",
    "    for j, from_kmer in enumerate(all_kmers):\n",
    "        for i, to_kmer in enumerate(all_kmers):\n",
    "            p = 1/4. if from_kmer[-2:] == to_kmer[:2] else 0.\n",
    "            transmat[j, i] = p          \n",
    "            \n",
    "    return transmat.tolist()"
   ]
  },
  {
   "cell_type": "code",
   "execution_count": 6,
   "metadata": {
    "collapsed": false
   },
   "outputs": [],
   "source": [
    "# example code for a continuous HMM with gaussian emissions\n",
    "\n",
    "\n",
    "F = ghmm.Float()  # emission domain of this model\n",
    "\n",
    "A = mk_transmat(NMERS)\n",
    "B = [[x[1], x[2]] for x in HMM_PARAMS]   # parameters of emission distributions in pairs of (mu, sigma)\n",
    "pi = [1/float(NSTATES)] * NSTATES   # initial probabilities per state\n",
    "\n",
    "# generate model from parameters\n",
    "model = ghmm.HMMFromMatrices(F,ghmm.GaussianDistribution(F), A, B, pi)"
   ]
  },
  {
   "cell_type": "code",
   "execution_count": 7,
   "metadata": {
    "collapsed": false
   },
   "outputs": [
    {
     "name": "stdout",
     "output_type": "stream",
     "text": [
      "GaussianEmissionHMM(N=64)\n",
      "  state 0 (initial=0.02, mu=70.17, sigma=3.84)\n",
      "    Transitions: ->0 (0.25), ->1 (0.25), ->2 (0.25), ->3 (0.25)\n",
      "  state 1 (initial=0.02, mu=63.14, sigma=3.47)\n",
      "    Transitions: ->4 (0.25), ->5 (0.25), ->6 (0.25), ->7 (0.25)\n",
      "\n",
      "  ...\n",
      "\n",
      "  state 62 (initial=0.02, mu=53.52, sigma=2.85)\n",
      "    Transitions: ->56 (0.25), ->57 (0.25), ->58 (0.25), ->59 (0.25)\n",
      "  state 63 (initial=0.02, mu=49.86, sigma=2.78)\n",
      "    Transitions: ->60 (0.25), ->61 (0.25), ->62 (0.25), ->63 (0.25)\n",
      "\n"
     ]
    }
   ],
   "source": [
    "s = str(model)\n",
    "print(s)"
   ]
  },
  {
   "cell_type": "code",
   "execution_count": 8,
   "metadata": {
    "collapsed": false
   },
   "outputs": [],
   "source": [
    "def result_to_seq(result):\n",
    "    states = result[0]\n",
    "    all_kmers = [x[0] for x in HMM_PARAMS]\n",
    "    kmers = [all_kmers[x] for x in states]\n",
    "    seq = [kmer[NMERS/2] for kmer in kmers]\n",
    "    return \"\".join(seq)"
   ]
  },
  {
   "cell_type": "code",
   "execution_count": 9,
   "metadata": {
    "collapsed": true
   },
   "outputs": [],
   "source": [
    "def predict(means):\n",
    "    seq = ghmm.EmissionSequence(F, means)\n",
    "    result = model.viterbi(seq)\n",
    "    return result_to_seq(result)"
   ]
  },
  {
   "cell_type": "code",
   "execution_count": 10,
   "metadata": {
    "collapsed": false
   },
   "outputs": [
    {
     "data": {
      "text/plain": [
       "u'TTTGTGTGT'"
      ]
     },
     "execution_count": 10,
     "metadata": {},
     "output_type": "execute_result"
    }
   ],
   "source": [
    "predict([44.2, 44.3, 56, 58.2, 56.2, 58.1, 58.2, 60, 30.2])"
   ]
  },
  {
   "cell_type": "markdown",
   "metadata": {},
   "source": [
    "# Validate Model "
   ]
  },
  {
   "cell_type": "code",
   "execution_count": 11,
   "metadata": {
    "collapsed": true
   },
   "outputs": [],
   "source": [
    "args = {\n",
    "    \"events\" : \"/home/ibis/gregor.sturm/nanopore/own/notebooks/03_pipeline/david_events.pickle\",\n",
    "    \"alignment\" : \"/home/ibis/gregor.sturm/nanopore/own/notebooks/03_pipeline/david_alignment.sorted.bam\",\n",
    "    \"ref\": \"/home/ibis/gregor.sturm/nanopore/david_eccles_bc_ideas/mouse_ref.fa\",\n",
    "}"
   ]
  },
  {
   "cell_type": "code",
   "execution_count": 12,
   "metadata": {
    "collapsed": false
   },
   "outputs": [
    {
     "name": "stdout",
     "output_type": "stream",
     "text": [
      "/home/ibis/gregor.sturm/nanopore/own/notebooks/03_pipeline\r\n"
     ]
    }
   ],
   "source": [
    "!pwd"
   ]
  },
  {
   "cell_type": "code",
   "execution_count": 13,
   "metadata": {
    "collapsed": false
   },
   "outputs": [],
   "source": [
    "assert os.path.isfile(args[\"events\"])\n",
    "assert os.path.isfile(args[\"alignment\"])"
   ]
  },
  {
   "cell_type": "code",
   "execution_count": 14,
   "metadata": {
    "collapsed": false
   },
   "outputs": [
    {
     "name": "stdout",
     "output_type": "stream",
     "text": [
      "['>mmusMT_PCR1']\n",
      "GTTAATGTAGCTTAATAACAAAGCAAAGCACTGAAAATGCTTAGATGGATAATTGTATCCCATAAACACAAAGGTTTGGTCCTGGCCTTATAATTAATTA\n"
     ]
    }
   ],
   "source": [
    "ref_file = args[\"ref\"]\n",
    "test = !cat {ref_file} | grep \">\"\n",
    "print(test)\n",
    "ref = !cat {ref_file} | grep -v \">\"\n",
    "ref = ref[0]\n",
    "print(ref[:100])"
   ]
  },
  {
   "cell_type": "code",
   "execution_count": 15,
   "metadata": {
    "collapsed": false
   },
   "outputs": [],
   "source": [
    "file_data = pickle.load(open(args[\"events\"], 'rb'))\n",
    "file_data = [f for f in file_data if f is not None]"
   ]
  },
  {
   "cell_type": "code",
   "execution_count": 16,
   "metadata": {
    "collapsed": true
   },
   "outputs": [],
   "source": [
    "fmap = {}\n",
    "for f in file_data: \n",
    "    fmap[\"ch{0}_file{1}\".format(f[\"channel\"], f[\"file_id\"])] = f"
   ]
  },
  {
   "cell_type": "code",
   "execution_count": 17,
   "metadata": {
    "collapsed": true
   },
   "outputs": [],
   "source": [
    "def get_file(channel, file_id):\n",
    "    return fmap[\"ch{0}_file{1}\".format(channel, file_id)]"
   ]
  },
  {
   "cell_type": "code",
   "execution_count": 18,
   "metadata": {
    "collapsed": true
   },
   "outputs": [],
   "source": [
    "def get_file_and_channel(filename):\n",
    "    result = re.search(r'ch(\\d+)_file(\\d+)_', filename)\n",
    "    file_id = int(result.group(2))\n",
    "    channel_id = int(result.group(1))\n",
    "    return file_id, channel_id"
   ]
  },
  {
   "cell_type": "code",
   "execution_count": 19,
   "metadata": {
    "collapsed": false
   },
   "outputs": [
    {
     "data": {
      "text/plain": [
       "51"
      ]
     },
     "execution_count": 19,
     "metadata": {},
     "output_type": "execute_result"
    }
   ],
   "source": [
    "samfile = pysam.AlignmentFile(args[\"alignment\"])\n",
    "reads  = [x for x in samfile.fetch()]\n",
    "len(reads)"
   ]
  },
  {
   "cell_type": "code",
   "execution_count": 22,
   "metadata": {
    "collapsed": false,
    "scrolled": true
   },
   "outputs": [
    {
     "name": "stdout",
     "output_type": "stream",
     "text": [
      "(0, 1, 157, 'ch157_file1_2d')\n",
      "1376\n",
      "3405\n",
      "6266\n",
      "(1, 6, 156, 'ch156_file6_2d')\n",
      "1722\n",
      "3126\n",
      "6166\n",
      "(2, 0, 135, 'ch135_file0_2d')\n",
      "1768\n",
      "3239\n",
      "6112\n",
      "(3, 10, 206, 'ch206_file10_2d')\n",
      "2021\n",
      "3155\n",
      "6129\n",
      "(4, 5, 204, 'ch204_file5_2d')\n",
      "1801\n",
      "3167\n",
      "6135\n",
      "(5, 19, 135, 'ch135_file19_2d')\n",
      "2072\n",
      "3302\n",
      "6162\n",
      "(6, 14, 209, 'ch209_file14_2d')\n",
      "2156\n",
      "3187\n",
      "6170\n",
      "(7, 15, 215, 'ch215_file15_2d')\n",
      "1681\n",
      "3231\n",
      "6226\n",
      "(8, 27, 215, 'ch215_file27_2d')\n",
      "1866\n",
      "3032\n",
      "6161\n",
      "(9, 3, 211, 'ch211_file3_2d')\n",
      "1884\n",
      "3282\n",
      "6307\n",
      "(10, 9, 215, 'ch215_file9_2d')\n",
      "1971\n",
      "3310\n",
      "5720\n",
      "(11, 1, 203, 'ch203_file1_2d')\n",
      "3560\n",
      "3024\n",
      "5681\n",
      "(12, 0, 157, 'ch157_file0_2d')\n",
      "3726\n",
      "3262\n",
      "6122\n",
      "(13, 1, 201, 'ch201_file1_2d')\n",
      "3944\n",
      "3395\n",
      "6100\n",
      "(14, 8, 141, 'ch141_file8_2d')\n",
      "3790\n",
      "3137\n",
      "6092\n",
      "(15, 38, 132, 'ch132_file38_2d')\n",
      "3682\n",
      "3493\n",
      "5929\n",
      "(16, 28, 211, 'ch211_file28_2d')\n",
      "3852\n",
      "3340\n",
      "6225\n",
      "(17, 5, 227, 'ch227_file5_2d')\n",
      "3624\n",
      "3680\n",
      "5941\n",
      "(18, 11, 223, 'ch223_file11_2d')\n",
      "3741\n",
      "3418\n",
      "5976\n",
      "(19, 35, 132, 'ch132_file35_2d')\n",
      "1895\n",
      "3219\n",
      "5574\n",
      "(20, 18, 142, 'ch142_file18_2d')\n",
      "1981\n",
      "3431\n",
      "6059\n",
      "(21, 20, 211, 'ch211_file20_2d')\n",
      "1815\n",
      "3132\n",
      "5927\n",
      "(22, 26, 132, 'ch132_file26_2d')\n",
      "3722\n",
      "3474\n",
      "6016\n",
      "(23, 11, 156, 'ch156_file11_2d')\n",
      "3445\n",
      "4111\n",
      "5782\n",
      "(24, 11, 133, 'ch133_file11_2d')\n",
      "1951\n",
      "3002\n",
      "5397\n",
      "(25, 2, 203, 'ch203_file2_2d')\n",
      "3666\n",
      "3189\n",
      "6115\n",
      "(26, 10, 132, 'ch132_file10_2d')\n",
      "1762\n",
      "3228\n",
      "5681\n",
      "(27, 12, 211, 'ch211_file12_2d')\n",
      "2031\n",
      "3100\n",
      "5698\n",
      "(28, 27, 212, 'ch212_file27_2d')\n",
      "3558\n",
      "3421\n",
      "5900\n",
      "(29, 23, 135, 'ch135_file23_2d')\n",
      "1269\n",
      "1319\n",
      "2203\n",
      "(30, 17, 132, 'ch132_file17_2d')\n",
      "1942\n",
      "3132\n",
      "6155\n",
      "(31, 12, 141, 'ch141_file12_2d')\n",
      "1636\n",
      "1509\n",
      "2972\n",
      "(32, 20, 206, 'ch206_file20_2d')\n",
      "384\n",
      "1445\n",
      "3084\n",
      "(33, 3, 142, 'ch142_file3_2d')\n",
      "791\n",
      "724\n",
      "1450\n",
      "(34, 36, 132, 'ch132_file36_2d')\n",
      "174\n",
      "589\n",
      "1254\n",
      "(35, 17, 211, 'ch211_file17_2d')\n",
      "4531\n",
      "4068\n",
      "7862\n",
      "(36, 44, 132, 'ch132_file44_2d')\n",
      "1963\n",
      "1930\n",
      "3616\n",
      "(37, 6, 223, 'ch223_file6_2d')\n",
      "4404\n",
      "4073\n",
      "7712\n",
      "(38, 2, 133, 'ch133_file2_2d')\n",
      "1304\n",
      "3635\n",
      "7201\n",
      "(39, 3, 149, 'ch149_file3_2d')\n",
      "4437\n",
      "4066\n",
      "7922\n",
      "(40, 15, 141, 'ch141_file15_2d')\n",
      "1207\n",
      "1154\n",
      "2232\n",
      "(41, 4, 204, 'ch204_file4_2d')\n",
      "1504\n",
      "2613\n",
      "5571\n",
      "(42, 4, 223, 'ch223_file4_2d')\n",
      "1667\n",
      "2832\n",
      "4766\n",
      "(43, 26, 211, 'ch211_file26_2d')\n",
      "1976\n",
      "3463\n",
      "6517\n",
      "(44, 25, 135, 'ch135_file25_2d')\n",
      "1437\n",
      "3757\n",
      "5771\n",
      "(45, 23, 132, 'ch132_file23_2d')\n",
      "302\n",
      "1579\n",
      "3336\n",
      "(46, 7, 206, 'ch206_file7_2d')\n",
      "4078\n",
      "3242\n",
      "4428\n",
      "(47, 4, 215, 'ch215_file4_2d')\n",
      "1285\n",
      "1181\n",
      "2247\n",
      "(48, 15, 156, 'ch156_file15_2d')\n",
      "256\n",
      "518\n",
      "1084\n",
      "(49, 35, 211, 'ch211_file35_2d')\n",
      "492\n",
      "781\n",
      "1039\n",
      "(50, 21, 206, 'ch206_file21_2d')\n",
      "539\n",
      "484\n",
      "905\n"
     ]
    }
   ],
   "source": [
    "total_events = 0\n",
    "\n",
    "called_seqs = []\n",
    "for i, read in enumerate(reads):\n",
    "    file_id, channel_id = get_file_and_channel(read.query_name)\n",
    "    print(i, file_id, channel_id, read.query_name)\n",
    "    file_obj = get_file(channel_id, file_id)\n",
    "      \n",
    "    events = [x[\"template.mean\"] for x in file_obj[\"events\"]]\n",
    "    events = [x for x in events if x is not None]\n",
    "    metrichor_seq = file_obj[\"fastq\"].split(\"\\n\")[1]\n",
    "    ref_seq = \"\".join([ref[x] for x in read.get_reference_positions()])\n",
    "    called_seq = predict(events)\n",
    "    print(editdistance.eval(ref_seq, metrichor_seq))\n",
    "    print(editdistance.eval(ref_seq, called_seq))\n",
    "    print(len(ref_seq))\n",
    "    called_seqs.append((read.query_name, called_seq))\n",
    "    \n",
    "    "
   ]
  },
  {
   "cell_type": "code",
   "execution_count": 23,
   "metadata": {
    "collapsed": true
   },
   "outputs": [],
   "source": [
    "with open(\"basecall_test.fa\", 'w') as f: \n",
    "    for seq in called_seqs: \n",
    "        f.write(\">\" + seq[0] + \"\\n\")\n",
    "        f.write(seq[1] + \"\\n\")"
   ]
  },
  {
   "cell_type": "code",
   "execution_count": 24,
   "metadata": {
    "collapsed": false
   },
   "outputs": [
    {
     "name": "stdout",
     "output_type": "stream",
     "text": [
      "[Index 15:01:25] Running in fast and sensitive mode. Two indexes will be used (double memory consumption).\n",
      "[Index 15:01:25] Index already exists. Loading from file.\n",
      "[Index 15:01:27] Secondary index already exists. Loading from file.\n",
      "[Index 15:01:28] Index loaded in 0.21 sec.\n",
      "[Index 15:01:28] Memory consumption: [currentRSS = 513 MB, peakRSS = 513 MB]\n",
      "\n",
      "[Run 15:01:28] Automatically setting the maximum allowed number of regions: max. 500, attempt to reduce after 100\n",
      "[Run 15:01:28] Reference genome is assumed to be linear.\n",
      "[Run 15:01:28] Only one alignment will be reported per mapped read.\n",
      "[ProcessReads 15:01:28] Reads will be loaded in batches of up to 200 MB in size.\n",
      "[ProcessReads 15:01:28] Batch of 51 reads (0 MiB) loaded in 0.00 sec. (28845000 bases)\n",
      "[ProcessReads 15:01:28] Memory consumption: [currentRSS = 514 MB, peakRSS = 514 MB]\n",
      "[ProcessReads 15:01:28] Using 4 threads.\n",
      "[ProcessReads 15:01:29] [CPU time: 2.00 sec, RSS: 524 MB] Read: 51/51 (100.00%) [m: 50, u: 1]                                                                      \n",
      "\n",
      "[ProcessReads 15:01:29] Memory consumption: [currentRSS = 524 MB, peakRSS = 542 MB]\n",
      "\n",
      "[ProcessReads 15:01:29] All reads processed in 2.00 sec (or 0.03 CPU min).\n"
     ]
    }
   ],
   "source": [
    "!/home/ibis/gregor.sturm/nanopore/tools/graphmap/graphmap \\\n",
    "-r ./../../../david_eccles_bc_ideas/mouse_ref.fa -d basecall_test.fa -o basecall_test.sam -t4"
   ]
  },
  {
   "cell_type": "code",
   "execution_count": 25,
   "metadata": {
    "collapsed": true
   },
   "outputs": [],
   "source": [
    "def prepare_sam(basename):\n",
    "    !samtools view -S -b {basename}.sam > {basename}.bam\n",
    "    !samtools sort {basename}.bam {basename}.sorted\n",
    "    !samtools index {basename}.sorted.bam"
   ]
  },
  {
   "cell_type": "code",
   "execution_count": 27,
   "metadata": {
    "collapsed": false
   },
   "outputs": [
    {
     "name": "stdout",
     "output_type": "stream",
     "text": [
      "[samopen] SAM header is present: 1 sequences.\r\n"
     ]
    }
   ],
   "source": [
    "prepare_sam(\"./basecall_test\")"
   ]
  },
  {
   "cell_type": "code",
   "execution_count": null,
   "metadata": {
    "collapsed": true
   },
   "outputs": [],
   "source": []
  }
 ],
 "metadata": {
  "kernelspec": {
   "display_name": "IPython (Python 2)",
   "language": "python",
   "name": "python2"
  },
  "language_info": {
   "codemirror_mode": {
    "name": "ipython",
    "version": 2
   },
   "file_extension": ".py",
   "mimetype": "text/x-python",
   "name": "python",
   "nbconvert_exporter": "python",
   "pygments_lexer": "ipython2",
   "version": "2.7.10"
  }
 },
 "nbformat": 4,
 "nbformat_minor": 0
}
