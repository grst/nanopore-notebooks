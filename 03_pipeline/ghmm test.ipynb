{
 "cells": [
  {
   "cell_type": "code",
   "execution_count": 2,
   "metadata": {
    "collapsed": true
   },
   "outputs": [],
   "source": [
    "import ghmm"
   ]
  },
  {
   "cell_type": "code",
   "execution_count": 3,
   "metadata": {
    "collapsed": false
   },
   "outputs": [],
   "source": [
    "# example code for a continuous HMM with gaussian emissions\n",
    "\n",
    "F = ghmm.Float()  # emission domain of this model\n",
    "\n",
    "A = [[0.0,1.0,0],[0.5,0.0,0.5],[0.3,0.3,0.4]]   # transition matrix\n",
    "B = [[0.0,1.0],[-1.0,0.5], [1.0,0.2]]   # parameters of emission distributions in pairs of (mu, sigma)\n",
    "pi = [1.0,0.0,0.0]   # initial probabilities per state\n",
    "\n",
    "# generate model from parameters\n",
    "model = ghmm.HMMFromMatrices(F,ghmm.GaussianDistribution(F), A, B, pi)"
   ]
  },
  {
   "cell_type": "code",
   "execution_count": 8,
   "metadata": {
    "collapsed": false
   },
   "outputs": [
    {
     "name": "stdout",
     "output_type": "stream",
     "text": [
      "GaussianEmissionHMM(N=3)\n",
      "  state 0 (initial=0.50, mu=0.00, sigma=1.00)\n",
      "    Transitions: ->1 (1.00)\n",
      "  state 1 (initial=0.00, mu=5.00, sigma=0.60)\n",
      "    Transitions: ->0 (0.50), ->2 (0.50)\n",
      "  state 2 (initial=0.50, mu=1.00, sigma=0.20)\n",
      "    Transitions: ->0 (0.30), ->1 (0.30), ->2 (0.40)\n",
      "\n"
     ]
    }
   ],
   "source": [
    "# modify model parameters\n",
    "p = model.getInitial(2)\n",
    "model.setInitial(2,0.5)\n",
    "model.setInitial(0,0.5)\n",
    " \n",
    "# re-set transition from state 0 to state 1\n",
    "trans = model.getTransition(0,1)\n",
    "model.setTransition(0,1,0.6)\n",
    "\n",
    "# re-setting emission of state 2\n",
    "model.setEmission(1,[5.0,0.6])v\n",
    " \n",
    "# re-normalize model parameters\n",
    "model.normalize()\n",
    "\n",
    "print model"
   ]
  },
  {
   "cell_type": "code",
   "execution_count": 4,
   "metadata": {
    "collapsed": false
   },
   "outputs": [
    {
     "name": "stdout",
     "output_type": "stream",
     "text": [
      "-0.717351881831 -0.638197641689 0.549979008207 -1.55567794018 0.103951280735 -1.05556480407 -0.336928666051 -0.802501523605 0.940662209722 0.715888614705 1.83449265455 0.399818073473 -0.988492479253 -1.53817480677 -2.24551264863 0.311252070455 -0.132393478445 -0.919526126114 -1.15775185523 0.662077746831 -1.90356690076 -1.4330815948 -1.83501477741 -0.0702266005805 -1.20608407332 -0.101378701383 0.0213939044349 1.26110403187 -1.08104654761 -1.13899375402 1.15630672389 -2.18801353541 -0.608691538001 -0.253407287628 0.991626972007 -2.86417224953 0.493660991951 -0.249748996849 -1.18566508738 1.27305599362 1.00296974191 0.519619457045 1.07007684181 0.129330046636 -0.105107811035 0.281577790918 -0.994249457596 1.2063739694 0.987172829241 1.68388314537 \n",
      "-71.9447804453\n"
     ]
    }
   ],
   "source": [
    "# sample single sequence of length 50\n",
    "seq = model.sampleSingle(50)\n",
    "print(seq)\n",
    "\n",
    "# sample 10 sequences of length 50\n",
    "seq_set = model.sample(10,50)\n",
    "\n",
    "# get log P(seq | model)\n",
    "logp = model.loglikelihood(seq)\n",
    "print(logp)"
   ]
  },
  {
   "cell_type": "code",
   "execution_count": 11,
   "metadata": {
    "collapsed": false
   },
   "outputs": [
    {
     "name": "stdout",
     "output_type": "stream",
     "text": [
      "([2, 0, 1, 2, 2, 2, 2, 2, 2, 1, 0, 1, 0, 1, 2, 1, 2, 2, 0, 1, 2, 2, 0, 1, 2, 1, 0, 1, 2, 1, 0, 1, 2, 2, 2, 2, 1, 0, 1, 0, 1, 0, 1, 0, 1, 2, 1, 2, 1, 2], -85.49229061887038)\n"
     ]
    },
    {
     "data": {
      "text/plain": [
       "-762.9838308084975"
      ]
     },
     "execution_count": 11,
     "metadata": {},
     "output_type": "execute_result"
    }
   ],
   "source": [
    "# cacluate viterbi path \n",
    "path = model.viterbi(seq)\n",
    "print(path)\n",
    "\n",
    "# train model parameters\n",
    "model.baumWelch(seq_set,5,0.01)"
   ]
  },
  {
   "cell_type": "code",
   "execution_count": null,
   "metadata": {
    "collapsed": true
   },
   "outputs": [],
   "source": []
  }
 ],
 "metadata": {
  "kernelspec": {
   "display_name": "IPython (Python 2)",
   "language": "python",
   "name": "python2"
  },
  "language_info": {
   "name": "python",
   "version": "2.7.9"
  }
 },
 "nbformat": 4,
 "nbformat_minor": 0
}
