{
 "cells": [
  {
   "cell_type": "code",
   "execution_count": 1,
   "metadata": {
    "collapsed": false
   },
   "outputs": [],
   "source": [
    "from ipyparallel import Client\n",
    "from os import getpid\n",
    "rc = Client(profile='ssh')\n",
    "dview = rc[:]"
   ]
  },
  {
   "cell_type": "code",
   "execution_count": 2,
   "metadata": {
    "collapsed": false
   },
   "outputs": [
    {
     "name": "stdout",
     "output_type": "stream",
     "text": [
      "[31295, 31584, 31256, 31366, 31693, 31799, 31479, 31910, 32016, 32117, 32228, 32328, 32441, 32553, 32651, 32755, 409, 521, 627, 749, 921, 1075, 1182, 1329]\n"
     ]
    }
   ],
   "source": [
    "res = dview.apply_async(getpid)\n",
    "print ([x for x in res])"
   ]
  },
  {
   "cell_type": "code",
   "execution_count": 3,
   "metadata": {
    "collapsed": false
   },
   "outputs": [
    {
     "name": "stdout",
     "output_type": "stream",
     "text": [
      "[stdout:0] /home/ibis/gregor.sturm\r\n",
      "[stdout:1] /home/ibis/gregor.sturm\r\n",
      "[stdout:2] /home/ibis/gregor.sturm\r\n",
      "[stdout:3] /home/ibis/gregor.sturm\r\n"
     ]
    }
   ],
   "source": [
    "%%px\n",
    "!pwd"
   ]
  },
  {
   "cell_type": "code",
   "execution_count": null,
   "metadata": {
    "collapsed": true
   },
   "outputs": [],
   "source": []
  }
 ],
 "metadata": {
  "kernelspec": {
   "display_name": "Python 3",
   "language": "python",
   "name": "python3"
  },
  "language_info": {
   "codemirror_mode": {
    "name": "ipython",
    "version": 3
   },
   "file_extension": ".py",
   "mimetype": "text/x-python",
   "name": "python",
   "nbconvert_exporter": "python",
   "pygments_lexer": "ipython3",
   "version": "3.4.3"
  }
 },
 "nbformat": 4,
 "nbformat_minor": 0
}
