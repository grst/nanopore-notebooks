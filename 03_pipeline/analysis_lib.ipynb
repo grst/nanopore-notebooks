{
 "cells": [
  {
   "cell_type": "code",
   "execution_count": 4,
   "metadata": {
    "collapsed": false
   },
   "outputs": [
    {
     "data": {
      "text/plain": [
       "{'A': 0, 'C': 1, 'G': 2, 'T': 3}"
      ]
     },
     "execution_count": 4,
     "metadata": {},
     "output_type": "execute_result"
    }
   ],
   "source": [
    "from collections import OrderedDict\n",
    "NT_MAP = {nt: i for i, nt in enumerate(\"ACGT\")}"
   ]
  },
  {
   "cell_type": "code",
   "execution_count": 1,
   "metadata": {
    "collapsed": true
   },
   "outputs": [],
   "source": [
    "def mk_kmer_dict(nmer):\n",
    "    from itertools import product\n",
    "    return [''.join(i) for i in product(\"ACGT\",repeat=nmer)]"
   ]
  },
  {
   "cell_type": "code",
   "execution_count": null,
   "metadata": {
    "collapsed": true
   },
   "outputs": [],
   "source": [
    "def mk_event_map(events, kmers):\n",
    "    \"\"\"sort all events into kmer-buckets according to their \n",
    "    kmer attribute.\n",
    "    \n",
    "    Returns:\n",
    "        dict (kmer => [list_of_events])\n",
    "    \"\"\"\n",
    "    ev_map = OrderedDict((k,[]) for k in all_5mers)\n",
    "    for ev in true_events: \n",
    "        if(NMER == 3):\n",
    "            ev_map[ev[\"kmer\"][1:4]].append(ev)\n",
    "        if(NMER == 5):\n",
    "            ev_map[ev[\"kmer\"][:]].append(ev)\n",
    "    return ev_map"
   ]
  }
 ],
 "metadata": {
  "kernelspec": {
   "display_name": "Python 3",
   "language": "python",
   "name": "python3"
  },
  "language_info": {
   "codemirror_mode": {
    "name": "ipython",
    "version": 3
   },
   "file_extension": ".py",
   "mimetype": "text/x-python",
   "name": "python",
   "nbconvert_exporter": "python",
   "pygments_lexer": "ipython3",
   "version": "3.4.3"
  }
 },
 "nbformat": 4,
 "nbformat_minor": 0
}
