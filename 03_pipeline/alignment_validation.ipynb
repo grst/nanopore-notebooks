{
 "cells": [
  {
   "cell_type": "code",
   "execution_count": 1,
   "metadata": {
    "collapsed": true
   },
   "outputs": [],
   "source": [
    "import numpy as np\n",
    "import pysam\n",
    "from tempfile import NamedTemporaryFile\n",
    "SIGNIFICANCE = 0.05"
   ]
  },
  {
   "cell_type": "code",
   "execution_count": 2,
   "metadata": {
    "collapsed": false
   },
   "outputs": [],
   "source": [
    "class samstats:    \n",
    "    \"\"\"generate statistics for a samfile\"\"\"\n",
    "    def __init__(self, samfile, ref_seq): \n",
    "        \"\"\"\n",
    "        Args:\n",
    "            samfile: pysam.AlignmentFile\n",
    "            ref_seq: (str) reference sequence\n",
    "        \"\"\"\n",
    "        self.samfile=samfile\n",
    "        self.ref_seq = ref_seq\n",
    "        total_reads = !samtools view {samfile.filename} | wc -l #for some reason, samfile.unmapped does not work. \n",
    "        self.file_stats = {\n",
    "            \"total_reads\": int(total_reads[0]),\n",
    "            \"mapped_reads\": samfile.mapped, \n",
    "            \"total_nts\": sum(r.get_tag(\"ZQ\") for r in samfile.fetch())\n",
    "        }\n",
    "        self.read_stats = [self.readstats(r) for r in samfile.fetch() if not r.is_unmapped]\n",
    "    \n",
    "    def readstats(self, read):\n",
    "        \"\"\"statistics for a single read. \n",
    "        \n",
    "        Args: \n",
    "            read: pysam.AlignedRead\n",
    "        \"\"\"\n",
    "        s = {\n",
    "            \"read_len\": read.get_tag(\"ZQ\"),\n",
    "            \"mapping_quality\": read.mapping_quality, \n",
    "            \"aln_len\": read.alen,\n",
    "            \"aln_score\": read.get_tag(\"AS\"), \n",
    "            \"aln_evalue\": read.get_tag(\"ZE\"),\n",
    "            \"aln_editdistance\": read.get_tag(\"NM\"),\n",
    "            \"mapped_nts\": sum([l for op, l in read.cigartuples if op == 0]),\n",
    "            \"ins\": sum(l for op, l in read.cigartuples if op == 1),\n",
    "            \"del\": sum(l for op, l in read.cigartuples if op == 2),\n",
    "            \"subst\": sum(1 for query, ref in read.get_aligned_pairs(matches_only=True) \n",
    "                         if read.seq[query] != self.ref_seq[ref]),\n",
    "            \"is_significant\": e2p(read.get_tag(\"ZE\")) < SIGNIFICANCE / self.file_stats[\"total_reads\"]\n",
    "        }\n",
    "        assert s[\"read_len\"] >= s[\"mapped_nts\"]\n",
    "        assert s[\"aln_len\"] >= s[\"mapped_nts\"]\n",
    "        assert len(read.query_sequence) == s[\"read_len\"]\n",
    "        return s       \n",
    "    \n",
    "    def sumstat(self, stat): \n",
    "        \"\"\"sum of the stat <stat> for all reads.\"\"\"\n",
    "        return sum(r[stat] for r in self.read_stats)\n",
    "        \n",
    "    def print_summary(self): \n",
    "        lines = [\n",
    "            [\"mapped_reads/total_reads\", self.file_stats[\"mapped_reads\"], self.file_stats[\"total_reads\"]],\n",
    "            [\"significant_reads/total_reads\", self.sumstat(\"is_significant\"), self.file_stats[\"total_reads\"]],\n",
    "            [\"mapped_nts/total_nts\", self.sumstat(\"mapped_nts\"), self.file_stats[\"total_nts\"]],\n",
    "            [\"editdistance/alignment_length\", self.sumstat(\"aln_editdistance\"), self.sumstat(\"aln_len\")],\n",
    "            [\"alignment_score/alignment_length\", self.sumstat(\"aln_score\"), self.sumstat(\"aln_len\")],\n",
    "            [\"SNPs/mapped_nts\", self.sumstat(\"subst\"), self.sumstat(\"mapped_nts\")],\n",
    "            [\"ins/mapped_nts\", self.sumstat(\"ins\"), self.sumstat(\"mapped_nts\")],\n",
    "            [\"del/mapped_nts\", self.sumstat(\"del\"), self.sumstat(\"mapped_nts\")],            \n",
    "        ]\n",
    "        def process_line(line): \n",
    "            return [str(x) for x in (line + [\"{0:%}\".format(float(line[1])/line[2])])]\n",
    "        return [process_line(line) for line in lines]"
   ]
  },
  {
   "cell_type": "code",
   "execution_count": 15,
   "metadata": {
    "collapsed": true
   },
   "outputs": [],
   "source": [
    "def mk_consensus(bam_file, ref_file): \n",
    "    \"\"\"calculate the consensus sequence of a bam file\"\"\"\n",
    "    cons_fq = !samtools mpileup -uf {ref_file} {bam_file} | \\\n",
    "        bcftools view -cg - | \\\n",
    "        /home/ibis/gregor.sturm/nanopore/tools/bcftools/vcfutils.pl vcf2fq\n",
    "    i = [i for i, line in enumerate(cons_fq) if line[0] == \"@\"][0]\n",
    "    return cons_fq, i"
   ]
  },
  {
   "cell_type": "code",
   "execution_count": 12,
   "metadata": {
    "collapsed": true
   },
   "outputs": [],
   "source": [
    "def needle(ref_seq, target_seq):    \n",
    "    \"\"\"needleman-wunsch global alignment of two sequences\"\"\"\n",
    "    with NamedTemporaryFile('w') as ref_file:\n",
    "        with NamedTemporaryFile('w') as target_file: \n",
    "            with NamedTemporaryFile('r+') as output_file: \n",
    "                ref_file.write(ref_seq)\n",
    "                target_file.write(target_seq)\n",
    "                target_file.flush()\n",
    "                ref_file.flush()\n",
    "                !needle -asequence {ref_file.name} -bsequence {target_file.name} -aformat score -outfile {output_file.name}\n",
    "                out = output_file.readlines()\n",
    "    \n",
    "    return out\n",
    "    "
   ]
  },
  {
   "cell_type": "code",
   "execution_count": 13,
   "metadata": {
    "collapsed": true
   },
   "outputs": [],
   "source": [
    "def e2p(e): \n",
    "    \"\"\"convert Evalue to Pvalue (of Alignment)\"\"\"\n",
    "    return 1-np.exp(-e)"
   ]
  },
  {
   "cell_type": "code",
   "execution_count": null,
   "metadata": {
    "collapsed": true
   },
   "outputs": [],
   "source": []
  }
 ],
 "metadata": {
  "kernelspec": {
   "display_name": "IPython (Python 2)",
   "language": "python",
   "name": "python2"
  },
  "language_info": {
   "codemirror_mode": {
    "name": "ipython",
    "version": 2
   },
   "file_extension": ".py",
   "mimetype": "text/x-python",
   "name": "python",
   "nbconvert_exporter": "python",
   "pygments_lexer": "ipython2",
   "version": "2.7.10"
  }
 },
 "nbformat": 4,
 "nbformat_minor": 0
}
