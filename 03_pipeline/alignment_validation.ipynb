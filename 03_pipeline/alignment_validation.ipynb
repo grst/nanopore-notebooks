{
 "cells": [
  {
   "cell_type": "code",
   "execution_count": 17,
   "metadata": {
    "collapsed": true
   },
   "outputs": [],
   "source": [
    "import numpy as np\n",
    "import pysam\n",
    "from tempfile import NamedTemporaryFile\n",
    "import itertools\n",
    "import math\n",
    "SIGNIFICANCE = 0.05"
   ]
  },
  {
   "cell_type": "code",
   "execution_count": 18,
   "metadata": {
    "collapsed": true
   },
   "outputs": [],
   "source": [
    "from multiprocessing import Pool\n",
    "import pysam\n",
    "import pandas\n",
    "from IPython.display import display"
   ]
  },
  {
   "cell_type": "code",
   "execution_count": 19,
   "metadata": {
    "collapsed": false
   },
   "outputs": [],
   "source": [
    "def readstats(args):\n",
    "        \"\"\"statistics for a single read. \n",
    "        \n",
    "        Args: \n",
    "            read: pysam.AlignedRead\n",
    "        \"\"\"\n",
    "        samfile_path, read_id, total_reads, ref_seq, chunk = args\n",
    "        \n",
    "        samfile = pysam.AlignmentFile(samfile_path)\n",
    "        generator = samfile.fetch()\n",
    "        read = None\n",
    "        out = []\n",
    "        for i in range(read_id):\n",
    "            #skip previous reads\n",
    "            read = generator.next()\n",
    "        for i in range(chunk):\n",
    "            try:\n",
    "                read = generator.next()\n",
    "            except StopIteration:\n",
    "                break\n",
    "            s = {\n",
    "                \"read_len\": read.get_tag(\"ZQ\"),\n",
    "                \"mapping_quality\": read.mapping_quality, \n",
    "                \"aln_len\": read.alen,\n",
    "                \"aln_score\": read.get_tag(\"AS\"), \n",
    "                \"aln_evalue\": read.get_tag(\"ZE\"),\n",
    "                \"aln_editdistance\": read.get_tag(\"NM\"),\n",
    "                \"mapped_nts\": sum([l for op, l in read.cigartuples if op == 0]),\n",
    "                \"ins\": sum(l for op, l in read.cigartuples if op == 1),\n",
    "                \"del\": sum(l for op, l in read.cigartuples if op == 2),\n",
    "                \"subst\": sum(1 for query, ref in read.get_aligned_pairs(matches_only=True) \n",
    "                             if read.seq[query] != ref_seq[ref]),\n",
    "                \"is_significant\": e2p(read.get_tag(\"ZE\")) < SIGNIFICANCE / total_reads\n",
    "            }\n",
    "            assert s[\"read_len\"] >= s[\"mapped_nts\"]\n",
    "            assert s[\"aln_len\"] >= s[\"mapped_nts\"]\n",
    "            assert len(read.query_sequence) == s[\"read_len\"]\n",
    "            out.append(s)\n",
    "        return out       \n",
    "\n",
    "class samstats:\n",
    "    \"\"\"generate statistics for a samfile\"\"\"\n",
    "    def __init__(self, samfile_name, ref_seq, ncores=4): \n",
    "        \"\"\"\n",
    "        Args:\n",
    "            samfile: path to sorted BAM file\n",
    "            ref_seq: (str) reference sequence\n",
    "        \"\"\"\n",
    "        samfile = pysam.AlignmentFile(samfile_name)\n",
    "        self.ref_seq = ref_seq\n",
    "        total_reads = !samtools view {samfile_name} | wc -l #for some reason, samfile.unmapped does not work. \n",
    "        total_nts = !samtools view {samfile_name} | cut -f 17 | cut -d\":\" -f3\n",
    "        total_reads = int(total_reads[0])\n",
    "        total_nts =  sum(int(x) for x in total_nts)\n",
    "        mapped_reads = samfile.mapped\n",
    "        self.file_stats = {\n",
    "            \"total_reads\": total_reads,\n",
    "            \"mapped_reads\": mapped_reads, \n",
    "            \"total_nts\": total_nts\n",
    "        }\n",
    "        chunk = int(math.ceil(mapped_reads/float(ncores)))\n",
    "        p = Pool(ncores)\n",
    "        args = [(samfile_name, i, total_reads, ref_seq, chunk) for i in range(0, mapped_reads, chunk)]\n",
    "        try:\n",
    "            read_stats = p.map(readstats, args)  \n",
    "            p.close()\n",
    "        except KeyboardInterrupt: \n",
    "            p.terminate()\n",
    "        \n",
    "        self.read_stats = list(itertools.chain(*read_stats))\n",
    "            \n",
    "    \n",
    "    def sumstat(self, stat): \n",
    "        \"\"\"sum of the stat <stat> for all reads.\"\"\"\n",
    "        return sum(r[stat] for r in self.read_stats)\n",
    "        \n",
    "    def print_summary(self): \n",
    "        lines = [\n",
    "            [\"mapped_reads/total_reads\", self.file_stats[\"mapped_reads\"], self.file_stats[\"total_reads\"]],\n",
    "            [\"significant_reads/total_reads\", self.sumstat(\"is_significant\"), self.file_stats[\"total_reads\"]],\n",
    "            [\"mapped_nts/total_nts\", self.sumstat(\"mapped_nts\"), self.file_stats[\"total_nts\"]],\n",
    "            [\"editdistance/alignment_length\", self.sumstat(\"aln_editdistance\"), self.sumstat(\"aln_len\")],\n",
    "            [\"alignment_score/alignment_length\", self.sumstat(\"aln_score\"), self.sumstat(\"aln_len\")],\n",
    "            [\"SNPs/mapped_nts\", self.sumstat(\"subst\"), self.sumstat(\"mapped_nts\")],\n",
    "            [\"ins/mapped_nts\", self.sumstat(\"ins\"), self.sumstat(\"mapped_nts\")],\n",
    "            [\"del/mapped_nts\", self.sumstat(\"del\"), self.sumstat(\"mapped_nts\")],            \n",
    "        ]\n",
    "        def process_line(line): \n",
    "            return [str(x) for x in (line + [\"{0:%}\".format(float(line[1])/line[2])])]\n",
    "        return [process_line(line) for line in lines]"
   ]
  },
  {
   "cell_type": "code",
   "execution_count": 20,
   "metadata": {
    "collapsed": true
   },
   "outputs": [],
   "source": [
    "def mk_consensus(bam_file, ref_file): \n",
    "    \"\"\"calculate the consensus sequence of a bam file\"\"\"\n",
    "    cons_fq = !samtools mpileup -uf {ref_file} {bam_file} | \\\n",
    "        bcftools view -cg - | \\\n",
    "        /home/ibis/gregor.sturm/nanopore/tools/bcftools/vcfutils.pl vcf2fq\n",
    "    i = [i for i, line in enumerate(cons_fq) if line[0] == \"@\"][0]\n",
    "    return cons_fq, i"
   ]
  },
  {
   "cell_type": "code",
   "execution_count": 21,
   "metadata": {
    "collapsed": true
   },
   "outputs": [],
   "source": [
    "def needle(ref_seq, target_seq):    \n",
    "    \"\"\"needleman-wunsch global alignment of two sequences\"\"\"\n",
    "    with NamedTemporaryFile('w') as ref_file:\n",
    "        with NamedTemporaryFile('w') as target_file: \n",
    "            with NamedTemporaryFile('r+') as output_file: \n",
    "                ref_file.write(ref_seq)\n",
    "                target_file.write(target_seq)\n",
    "                target_file.flush()\n",
    "                ref_file.flush()\n",
    "                !needle -asequence {ref_file.name} -bsequence {target_file.name} -aformat score -outfile {output_file.name}\n",
    "                out = output_file.readlines()\n",
    "    \n",
    "    return out"
   ]
  },
  {
   "cell_type": "code",
   "execution_count": 22,
   "metadata": {
    "collapsed": true
   },
   "outputs": [],
   "source": [
    "def e2p(e): \n",
    "    \"\"\"convert Evalue to Pvalue (of Alignment)\"\"\"\n",
    "    return 1-np.exp(-e)"
   ]
  },
  {
   "cell_type": "code",
   "execution_count": 23,
   "metadata": {
    "collapsed": false
   },
   "outputs": [
    {
     "name": "stdout",
     "output_type": "stream",
     "text": [
      "['>mmusMT_PCR1']\n",
      "GTTAATGTAGCTTAATAACAAAGCAAAGCACTGAAAATGCTTAGATGGATAATTGTATCCCATAAACACAAAGGTTTGGTCCTGGCCTTATAATTAATTA\n"
     ]
    }
   ],
   "source": [
    "# ref_file = \"../../../david_eccles_bc_ideas/mouse_ref.fa\"\n",
    "# test = !cat {ref_file} | grep \">\"\n",
    "# print(test)\n",
    "# ref = !cat {ref_file} | grep -v \">\"\n",
    "# ref = ref[0]\n",
    "# print(ref[:100])"
   ]
  },
  {
   "cell_type": "code",
   "execution_count": 24,
   "metadata": {
    "collapsed": false
   },
   "outputs": [
    {
     "data": {
      "text/html": [
       "<div>\n",
       "<table border=\"1\" class=\"dataframe\">\n",
       "  <thead>\n",
       "    <tr style=\"text-align: right;\">\n",
       "      <th></th>\n",
       "      <th>0</th>\n",
       "      <th>1</th>\n",
       "      <th>2</th>\n",
       "      <th>3</th>\n",
       "    </tr>\n",
       "  </thead>\n",
       "  <tbody>\n",
       "    <tr>\n",
       "      <th>0</th>\n",
       "      <td>mapped_reads/total_reads</td>\n",
       "      <td>72</td>\n",
       "      <td>81</td>\n",
       "      <td>88.888889%</td>\n",
       "    </tr>\n",
       "    <tr>\n",
       "      <th>1</th>\n",
       "      <td>significant_reads/total_reads</td>\n",
       "      <td>32</td>\n",
       "      <td>81</td>\n",
       "      <td>39.506173%</td>\n",
       "    </tr>\n",
       "    <tr>\n",
       "      <th>2</th>\n",
       "      <td>mapped_nts/total_nts</td>\n",
       "      <td>315365</td>\n",
       "      <td>443207</td>\n",
       "      <td>71.155239%</td>\n",
       "    </tr>\n",
       "    <tr>\n",
       "      <th>3</th>\n",
       "      <td>editdistance/alignment_length</td>\n",
       "      <td>191698</td>\n",
       "      <td>333197</td>\n",
       "      <td>57.532931%</td>\n",
       "    </tr>\n",
       "    <tr>\n",
       "      <th>4</th>\n",
       "      <td>alignment_score/alignment_length</td>\n",
       "      <td>1030</td>\n",
       "      <td>333197</td>\n",
       "      <td>0.309126%</td>\n",
       "    </tr>\n",
       "    <tr>\n",
       "      <th>5</th>\n",
       "      <td>SNPs/mapped_nts</td>\n",
       "      <td>83649</td>\n",
       "      <td>315365</td>\n",
       "      <td>26.524503%</td>\n",
       "    </tr>\n",
       "    <tr>\n",
       "      <th>6</th>\n",
       "      <td>ins/mapped_nts</td>\n",
       "      <td>90166</td>\n",
       "      <td>315365</td>\n",
       "      <td>28.590998%</td>\n",
       "    </tr>\n",
       "    <tr>\n",
       "      <th>7</th>\n",
       "      <td>del/mapped_nts</td>\n",
       "      <td>17832</td>\n",
       "      <td>315365</td>\n",
       "      <td>5.654400%</td>\n",
       "    </tr>\n",
       "  </tbody>\n",
       "</table>\n",
       "</div>"
      ],
      "text/plain": [
       "                                  0       1       2           3\n",
       "0          mapped_reads/total_reads      72      81  88.888889%\n",
       "1     significant_reads/total_reads      32      81  39.506173%\n",
       "2              mapped_nts/total_nts  315365  443207  71.155239%\n",
       "3     editdistance/alignment_length  191698  333197  57.532931%\n",
       "4  alignment_score/alignment_length    1030  333197   0.309126%\n",
       "5                   SNPs/mapped_nts   83649  315365  26.524503%\n",
       "6                    ins/mapped_nts   90166  315365  28.590998%\n",
       "7                    del/mapped_nts   17832  315365   5.654400%"
      ]
     },
     "metadata": {},
     "output_type": "display_data"
    }
   ],
   "source": [
    "# sst = samstats(\"./david_calling.called.sorted.bam\", ref)\n",
    "# display(pandas.DataFrame(sst.print_summary()))"
   ]
  },
  {
   "cell_type": "code",
   "execution_count": null,
   "metadata": {
    "collapsed": true
   },
   "outputs": [],
   "source": []
  },
  {
   "cell_type": "code",
   "execution_count": null,
   "metadata": {
    "collapsed": true
   },
   "outputs": [],
   "source": []
  }
 ],
 "metadata": {
  "kernelspec": {
   "display_name": "IPython (Python 2)",
   "language": "python",
   "name": "python2"
  }
 },
 "nbformat": 4,
 "nbformat_minor": 0
}
