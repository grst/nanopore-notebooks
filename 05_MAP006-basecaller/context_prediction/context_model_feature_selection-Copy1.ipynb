{
 "cells": [
  {
   "cell_type": "code",
   "execution_count": 1,
   "metadata": {
    "collapsed": false
   },
   "outputs": [],
   "source": [
    "import pickle\n",
    "from IPython.display import display, clear_output\n",
    "from pylab import * \n",
    "from collections import OrderedDict\n",
    "import numpy as np\n",
    "import seaborn as sns\n",
    "import pandas\n",
    "import logging\n",
    "from itertools import product as iterproduct, groupby, chain\n",
    "import mltools\n",
    "from multiprocessing import Pool\n",
    "%matplotlib inline\n",
    "%run \"/home/ibis/gregor.sturm/nanopore/own/notebooks/05_MAP006-basecaller/lib/analysis_lib.ipynb\"\n",
    "%run \"/home/ibis/gregor.sturm/nanopore/own/notebooks/05_MAP006-basecaller/lib/context_lib.ipynb\"\n",
    "sns.set_style(\"ticks\", {\"axes.grid\" : True, \"grid.color\" : \".95\"})\n",
    "matplotlib.rcParams.update({'font.size': 16})\n",
    "logger = logging.getLogger(\"log\")\n",
    "logger.setLevel(logging.INFO)"
   ]
  },
  {
   "cell_type": "code",
   "execution_count": 2,
   "metadata": {
    "collapsed": false
   },
   "outputs": [],
   "source": [
    "args = {\n",
    "    \"true_events\": \"/home/ibis/gregor.sturm/nanopore/own/notebooks/05_MAP006-basecaller/loman006-1_100.alignment_true_events.pickle\",\n",
    "     \"ref\": \"/home/ibis/gregor.sturm/nanopore/NanoporeData/PublicData/LomanLab_MAP-006/ecoli_mg1655.fa\",\n",
    "    \"model\" : \"/home/ibis/gregor.sturm/nanopore/own/notebooks/05_MAP006-basecaller/loman006-1.model.computed.pickle\",\n",
    "    \"ncores\": 64\n",
    "#     \"model\" : \"/home/ibis/gregor.sturm/nanopore/own/notebooks/05_MAP006-basecaller/ibislambda.model.pickle\"\n",
    "#     \"ref\": \"/home/sturm/Downloads/lambda_ref.fasta\"\n",
    "}"
   ]
  },
  {
   "cell_type": "code",
   "execution_count": 3,
   "metadata": {
    "collapsed": true
   },
   "outputs": [],
   "source": [
    "NMER = 6"
   ]
  },
  {
   "cell_type": "code",
   "execution_count": 4,
   "metadata": {
    "collapsed": false
   },
   "outputs": [
    {
     "name": "stdout",
     "output_type": "stream",
     "text": [
      "/home/ibis/gregor.sturm/nanopore/own/notebooks\r\n"
     ]
    }
   ],
   "source": [
    "!pwd"
   ]
  },
  {
   "cell_type": "code",
   "execution_count": 5,
   "metadata": {
    "collapsed": false
   },
   "outputs": [],
   "source": [
    "true_events = pickle.load(open(args[\"true_events\"], 'rb'))"
   ]
  },
  {
   "cell_type": "code",
   "execution_count": 6,
   "metadata": {
    "collapsed": false,
    "run_control": {
     "breakpoint": false
    }
   },
   "outputs": [],
   "source": [
    "HMM_PARAMS = pickle.load(open(args[\"model\"], 'rb'))\n",
    "HMM_PARAMS = HMM_PARAMS[\"/opt/chimaera/model/r7.3_e6_70bps_6mer/template_median68pA.model\"]"
   ]
  },
  {
   "cell_type": "code",
   "execution_count": 7,
   "metadata": {
    "collapsed": false,
    "scrolled": true
   },
   "outputs": [
    {
     "name": "stdout",
     "output_type": "stream",
     "text": [
      "['>gi|556503834|ref|NC_000913.3| Escherichia coli str. K-12 substr. MG1655, complete genome']\n",
      "AGCTTTTCATTCTGACTGCAACGGGCAATATGTCTCTGTGTGGATTAAAAAAAGAGTGTCTGATAGCAGCTTCTGAACTGGTTACCTGCCGTGAGTAAAT\n"
     ]
    }
   ],
   "source": [
    "ref = load_ref(args[\"ref\"])"
   ]
  },
  {
   "cell_type": "code",
   "execution_count": 8,
   "metadata": {
    "collapsed": false
   },
   "outputs": [
    {
     "name": "stdout",
     "output_type": "stream",
     "text": [
      "CGCAGG CGCAGG\n"
     ]
    }
   ],
   "source": [
    "test_event = true_events[2000]\n",
    "print(test_event['kmer'], _get_context(test_event, 0,6))\n",
    "assert test_event['kmer'] == _get_context(test_event, 0, 6), \"invalid reference\"\n",
    "assert (get_context_before(test_event, 20) \n",
    "        + test_event['kmer'] \n",
    "        + get_context_after(test_event, 20)) == (\n",
    "    _get_context(test_event, -20, 26))"
   ]
  },
  {
   "cell_type": "markdown",
   "metadata": {
    "collapsed": false
   },
   "source": [
    "## Make Data"
   ]
  },
  {
   "cell_type": "code",
   "execution_count": 9,
   "metadata": {
    "collapsed": true,
    "run_control": {
     "breakpoint": false
    }
   },
   "outputs": [],
   "source": [
    "CONTEXT = (-10, 20)"
   ]
  },
  {
   "cell_type": "code",
   "execution_count": 10,
   "metadata": {
    "collapsed": false,
    "run_control": {
     "breakpoint": false
    }
   },
   "outputs": [],
   "source": [
    "all_kmers = mk_kmer_dict(NMER)\n",
    "kmer_means = {kmer : float(HMM_PARAMS[HMM_PARAMS[\"kmer\"] == kmer][\"level_mean\"]) for kmer in all_kmers}"
   ]
  },
  {
   "cell_type": "code",
   "execution_count": 11,
   "metadata": {
    "collapsed": true,
    "run_control": {
     "breakpoint": false
    }
   },
   "outputs": [],
   "source": [
    "template_events = [ev for ev in true_events if not np.isnan(ev[\"template.mean\"])]\n",
    "template_events = [ev for ev in template_events if \n",
    "               ev[\"ref_position\"] > abs(CONTEXT[0]) and ev[\"ref_position\"] < len(ref)-CONTEXT[1]-1]\n",
    "template_events = np.array(template_events)"
   ]
  },
  {
   "cell_type": "markdown",
   "metadata": {
    "run_control": {
     "breakpoint": false
    }
   },
   "source": [
    "### Stratify"
   ]
  },
  {
   "cell_type": "code",
   "execution_count": 12,
   "metadata": {
    "collapsed": true,
    "run_control": {
     "breakpoint": false
    }
   },
   "outputs": [],
   "source": [
    "def stratify_events(events):\n",
    "    \"\"\"for each genomic position, only return the median event\"\"\"\n",
    "    group_by = lambda x: x[\"ref_position\"]\n",
    "    sort_by = lambda x: x[\"template.mean\"]\n",
    "    events = sorted(events, key=group_by)\n",
    "    events_strat = []\n",
    "    for pos, group in groupby(events, key=group_by):\n",
    "        group = list(group)\n",
    "        group = sorted(group, key=sort_by)\n",
    "        events_strat.append(group[int(len(group)/2)])\n",
    "    return events_strat"
   ]
  },
  {
   "cell_type": "code",
   "execution_count": 13,
   "metadata": {
    "collapsed": false,
    "run_control": {
     "breakpoint": false
    }
   },
   "outputs": [
    {
     "data": {
      "text/plain": [
       "(177924, 216348, 0.8223972488768095)"
      ]
     },
     "execution_count": 13,
     "metadata": {},
     "output_type": "execute_result"
    }
   ],
   "source": [
    "events_strat = stratify_events(template_events)\n",
    "len(events_strat), len(template_events), len(events_strat)/len(template_events)"
   ]
  },
  {
   "cell_type": "markdown",
   "metadata": {
    "run_control": {
     "breakpoint": false
    }
   },
   "source": [
    "### Analyse"
   ]
  },
  {
   "cell_type": "code",
   "execution_count": 14,
   "metadata": {
    "collapsed": false,
    "run_control": {
     "breakpoint": false
    }
   },
   "outputs": [],
   "source": [
    "def dwelltime(ev):\n",
    "    return ev[\"template.length\"] \n",
    "\n",
    "def mean_diff(ev): \n",
    "    return ev[\"template.mean\"] - kmer_means[ev[\"kmer\"]]\n",
    "\n",
    "def ev_stdv(ev):\n",
    "    return ev[\"template.stdv\"]"
   ]
  },
  {
   "cell_type": "code",
   "execution_count": 15,
   "metadata": {
    "collapsed": true,
    "run_control": {
     "breakpoint": false
    }
   },
   "outputs": [],
   "source": [
    "def analyse_feat(target_function, plot=False):\n",
    "    values = [target_function(ev) for ev in template_events]\n",
    "    if plot:\n",
    "        sns.distplot(values, label=str(target_function))\n",
    "        legend()\n",
    "    return np.percentile(values, 1), np.percentile(values, 99)\n",
    "    \n",
    "    "
   ]
  },
  {
   "cell_type": "code",
   "execution_count": 16,
   "metadata": {
    "collapsed": false,
    "run_control": {
     "breakpoint": false
    }
   },
   "outputs": [
    {
     "data": {
      "text/plain": [
       "0.75165734272637852"
      ]
     },
     "execution_count": 16,
     "metadata": {},
     "output_type": "execute_result"
    }
   ],
   "source": [
    "mean([abs(mean_diff(ev)) for ev in template_events])"
   ]
  },
  {
   "cell_type": "code",
   "execution_count": 17,
   "metadata": {
    "collapsed": false,
    "run_control": {
     "breakpoint": false
    }
   },
   "outputs": [
    {
     "data": {
      "text/plain": [
       "(-2.8495201330184319, 2.8556196116705381)"
      ]
     },
     "execution_count": 17,
     "metadata": {},
     "output_type": "execute_result"
    }
   ],
   "source": [
    "quantile_diff = analyse_feat(mean_diff)\n",
    "quantile_diff"
   ]
  },
  {
   "cell_type": "code",
   "execution_count": 18,
   "metadata": {
    "collapsed": false,
    "run_control": {
     "breakpoint": false
    }
   },
   "outputs": [
    {
     "data": {
      "text/plain": [
       "(0.0029880478087649402, 0.12284196547144755)"
      ]
     },
     "execution_count": 18,
     "metadata": {},
     "output_type": "execute_result"
    }
   ],
   "source": [
    "quantile_dwell = analyse_feat(dwelltime)\n",
    "quantile_dwell"
   ]
  },
  {
   "cell_type": "code",
   "execution_count": 19,
   "metadata": {
    "collapsed": false,
    "run_control": {
     "breakpoint": false
    }
   },
   "outputs": [
    {
     "data": {
      "text/plain": [
       "(0.40073177992794412, 2.6375458797784583)"
      ]
     },
     "execution_count": 19,
     "metadata": {},
     "output_type": "execute_result"
    }
   ],
   "source": [
    "quantile_stdv = analyse_feat(ev_stdv)\n",
    "quantile_stdv"
   ]
  },
  {
   "cell_type": "markdown",
   "metadata": {
    "run_control": {
     "breakpoint": false
    }
   },
   "source": [
    "### Filter\n",
    "remove outliers"
   ]
  },
  {
   "cell_type": "code",
   "execution_count": 20,
   "metadata": {
    "collapsed": false,
    "run_control": {
     "breakpoint": false
    }
   },
   "outputs": [],
   "source": [
    "def filter_event_ids(event_ids, all_events):\n",
    "    fevent_ids = event_ids[:]\n",
    "    fevent_ids = [evid for evid in  fevent_ids\n",
    "                       if quantile_diff[0] <= mean_diff(all_events[evid]) <= quantile_diff[1]]\n",
    "    fevent_ids = [evid for evid in fevent_ids \n",
    "                       if quantile_dwell[0] <= dwelltime(all_events[evid]) <= quantile_dwell[1]]\n",
    "    fevent_ids = [evid for evid in fevent_ids \n",
    "                       if ev_stdv(all_events[evid]) <= quantile_stdv[1]]\n",
    "    logger.info(\"events removed: {0}\".format(abs(len(fevent_ids) - len(event_ids))))\n",
    "    return fevent_ids\n"
   ]
  },
  {
   "cell_type": "markdown",
   "metadata": {
    "run_control": {
     "breakpoint": false
    }
   },
   "source": [
    "### prepare"
   ]
  },
  {
   "cell_type": "code",
   "execution_count": 21,
   "metadata": {
    "collapsed": true,
    "run_control": {
     "breakpoint": false
    }
   },
   "outputs": [],
   "source": [
    "def make_target(ev): \n",
    "    return ev[\"template.mean\"] - kmer_means[ev[\"kmer\"]]"
   ]
  },
  {
   "cell_type": "code",
   "execution_count": 22,
   "metadata": {
    "collapsed": true,
    "run_control": {
     "breakpoint": false
    }
   },
   "outputs": [],
   "source": [
    "def make_features(event):\n",
    "    feat = []\n",
    "    # 2 nt before and 2 after the 6mer\n",
    "    ntconvert = mltools.seq2binvec\n",
    "    all_nts = ntconvert(_get_context(event, -20, 26))\n",
    "#     conj_nts = []\n",
    "#     for i in range(0, len(all_nts), 4): \n",
    "#         a = all_nts[i:i+4]\n",
    "#         for j in range(0, len(all_nts), 4):\n",
    "#             b = all_nts[j:j+4]\n",
    "#             c = [a[k] & b[k] for k in range(4)]\n",
    "#             conj_nts.append(c)\n",
    "    mean = event[\"template.mean\"]\n",
    "    stdv = event[\"template.stdv\"]    \n",
    "#     feat.extend(conj_nts)\n",
    "    feat.append(mean)\n",
    "    feat.append(stdv)\n",
    "    feat.extend(all_nts)\n",
    "    return feat"
   ]
  },
  {
   "cell_type": "code",
   "execution_count": 23,
   "metadata": {
    "collapsed": false
   },
   "outputs": [],
   "source": [
    "def mk_features_manual(event): \n",
    "    feat = []\n",
    "    feat.append(event[\"template.mean\"])\n",
    "    feat.append(event[\"template.stdv\"])\n",
    "    feat.extend(mltools.seq2binvec([nt for i, nt in enumerate(_get_context(event, -5, 20))\n",
    "                                    if i in [0,3,4,11,12,21,22]]))\n",
    "    return feat"
   ]
  },
  {
   "cell_type": "code",
   "execution_count": 24,
   "metadata": {
    "collapsed": true
   },
   "outputs": [],
   "source": [
    "def normalize_col(features, col): \n",
    "    col_data = [f[col] for f in features]\n",
    "    col_data = mltools.normalize(col_data)\n",
    "    for i, f in enumerate(features): \n",
    "        f[col] = col_data[i]\n",
    "    return features"
   ]
  },
  {
   "cell_type": "code",
   "execution_count": 25,
   "metadata": {
    "collapsed": true,
    "run_control": {
     "breakpoint": false
    }
   },
   "outputs": [],
   "source": [
    "def make_data(events):    \n",
    "    p = Pool(args[\"ncores\"])\n",
    "    print(\"mk features: \")\n",
    "    results = []\n",
    "#     results = [mk_features_manual(e) for e in events]\n",
    "    try:\n",
    "        for i, res in enumerate(p.imap_unordered(make_features, events, chunksize=200), 1):\n",
    "            results.append(res)\n",
    "            sys.stdout.write('\\rdone {0:%}'.format(i/float(len(events))))\n",
    "        p.close()\n",
    "        p.join()\n",
    "    except KeyboardInterrupt:\n",
    "        p.terminate()\n",
    "    features = results\n",
    "    features = normalize_col(features, 0)\n",
    "    features = normalize_col(features, 1)\n",
    "    features = np.array(features)\n",
    "    target = np.array([make_target(ev) for ev in events])\n",
    "    return features, target"
   ]
  },
  {
   "cell_type": "code",
   "execution_count": 48,
   "metadata": {
    "collapsed": false,
    "run_control": {
     "breakpoint": false
    }
   },
   "outputs": [
    {
     "name": "stdout",
     "output_type": "stream",
     "text": [
      "mk features: \n",
      "done 100.000000%"
     ]
    }
   ],
   "source": [
    "features, target = make_data(events_strat)"
   ]
  },
  {
   "cell_type": "code",
   "execution_count": 49,
   "metadata": {
    "collapsed": true
   },
   "outputs": [],
   "source": [
    "k = 3"
   ]
  },
  {
   "cell_type": "code",
   "execution_count": 50,
   "metadata": {
    "collapsed": false
   },
   "outputs": [
    {
     "data": {
      "text/plain": [
       "array([ 0.16371419,  0.0717978 ,  0.        ,  0.        ,  1.        ,\n",
       "        0.        ,  0.        ,  0.        ,  1.        ,  0.        ,\n",
       "        0.        ,  1.        ,  0.        ,  0.        ,  0.        ,\n",
       "        0.        ,  1.        ,  0.        ,  0.        ,  1.        ,\n",
       "        0.        ,  0.        ,  0.        ,  0.        ,  0.        ,\n",
       "        1.        ,  1.        ,  0.        ,  0.        ,  0.        ,\n",
       "        1.        ,  0.        ,  0.        ,  0.        ,  1.        ,\n",
       "        0.        ,  0.        ,  0.        ,  1.        ,  0.        ,\n",
       "        0.        ,  0.        ,  1.        ,  0.        ,  0.        ,\n",
       "        0.        ,  0.        ,  0.        ,  1.        ,  0.        ,\n",
       "        0.        ,  1.        ,  0.        ,  0.        ,  0.        ,\n",
       "        0.        ,  0.        ,  1.        ,  0.        ,  1.        ,\n",
       "        0.        ,  0.        ,  0.        ,  0.        ,  1.        ,\n",
       "        0.        ,  0.        ,  1.        ,  0.        ,  0.        ,\n",
       "        0.        ,  0.        ,  0.        ,  1.        ,  0.        ,\n",
       "        1.        ,  0.        ,  0.        ,  1.        ,  0.        ,\n",
       "        0.        ,  0.        ,  1.        ,  0.        ,  0.        ,\n",
       "        0.        ,  0.        ,  1.        ,  0.        ,  0.        ,\n",
       "        0.        ,  0.        ,  1.        ,  0.        ,  0.        ,\n",
       "        0.        ,  0.        ,  1.        ,  0.        ,  0.        ,\n",
       "        1.        ,  0.        ,  0.        ,  1.        ,  0.        ,\n",
       "        0.        ,  0.        ,  0.        ,  0.        ,  1.        ,\n",
       "        0.        ,  0.        ,  1.        ,  0.        ,  0.        ,\n",
       "        0.        ,  1.        ,  0.        ,  0.        ,  1.        ,\n",
       "        0.        ,  0.        ,  0.        ,  1.        ,  0.        ,\n",
       "        0.        ,  0.        ,  1.        ,  0.        ,  0.        ,\n",
       "        0.        ,  1.        ,  0.        ,  0.        ,  0.        ,\n",
       "        0.        ,  1.        ,  0.        ,  0.        ,  0.        ,\n",
       "        1.        ,  0.        ,  0.        ,  0.        ,  1.        ,\n",
       "        0.        ,  0.        ,  0.        ,  0.        ,  1.        ,\n",
       "        0.        ,  0.        ,  1.        ,  0.        ,  0.        ,\n",
       "        0.        ,  1.        ,  0.        ,  0.        ,  0.        ,\n",
       "        1.        ,  0.        ,  0.        ,  1.        ,  0.        ,\n",
       "        0.        ,  0.        ,  0.        ,  1.        ,  0.        ,\n",
       "        0.        ,  0.        ,  1.        ,  0.        ,  0.        ,\n",
       "        1.        ,  0.        ,  0.        ,  0.        ,  0.        ,\n",
       "        0.        ,  1.        ,  0.        ,  0.        ,  0.        ,  1.        ])"
      ]
     },
     "execution_count": 50,
     "metadata": {},
     "output_type": "execute_result"
    }
   ],
   "source": [
    "features[k]"
   ]
  },
  {
   "cell_type": "markdown",
   "metadata": {},
   "source": [
    "# Target reference plots"
   ]
  },
  {
   "cell_type": "code",
   "execution_count": 29,
   "metadata": {
    "collapsed": false
   },
   "outputs": [
    {
     "data": {
      "text/plain": [
       "0.71082873662821955"
      ]
     },
     "execution_count": 29,
     "metadata": {},
     "output_type": "execute_result"
    }
   ],
   "source": [
    "np.mean([abs(x) for x in target])"
   ]
  },
  {
   "cell_type": "code",
   "execution_count": 30,
   "metadata": {
    "collapsed": false
   },
   "outputs": [
    {
     "data": {
      "text/plain": [
       "0.9907398047580569"
      ]
     },
     "execution_count": 30,
     "metadata": {},
     "output_type": "execute_result"
    }
   ],
   "source": [
    "np.mean([abs(x)**2 for x in target])"
   ]
  },
  {
   "cell_type": "code",
   "execution_count": 31,
   "metadata": {
    "collapsed": false
   },
   "outputs": [
    {
     "data": {
      "text/plain": [
       "(-5, 5)"
      ]
     },
     "execution_count": 31,
     "metadata": {},
     "output_type": "execute_result"
    },
    {
     "data": {
      "image/png": "[encoded data removed]",
      "text/plain": [
       "<matplotlib.figure.Figure at 0x7f14d5fd8c88>"
      ]
     },
     "metadata": {},
     "output_type": "display_data"
    }
   ],
   "source": [
    "fig, ax = subplots()\n",
    "sns.distplot(target, ax=ax)\n",
    "ax.set_xlim(-5,5)"
   ]
  },
  {
   "cell_type": "markdown",
   "metadata": {
    "collapsed": true,
    "run_control": {
     "breakpoint": false
    }
   },
   "source": [
    "## Machine Learning"
   ]
  },
  {
   "cell_type": "code",
   "execution_count": 32,
   "metadata": {
    "collapsed": false
   },
   "outputs": [],
   "source": [
    "from sklearn import svm\n",
    "from sklearn import neural_network\n",
    "from sklearn.cross_validation import KFold\n",
    "from sklearn import naive_bayes\n",
    "from sklearn import linear_model\n",
    "from sklearn import ensemble\n",
    "from sklearn import metrics as skmetrics\n",
    "from scipy import stats\n",
    "import sklearn"
   ]
  },
  {
   "cell_type": "code",
   "execution_count": 33,
   "metadata": {
    "collapsed": false
   },
   "outputs": [],
   "source": [
    "fs = sklearn.feature_selection.SelectKBest(k=25)"
   ]
  },
  {
   "cell_type": "code",
   "execution_count": 34,
   "metadata": {
    "collapsed": false
   },
   "outputs": [
    {
     "data": {
      "text/plain": [
       "177924"
      ]
     },
     "execution_count": 34,
     "metadata": {},
     "output_type": "execute_result"
    }
   ],
   "source": [
    "len(features)"
   ]
  },
  {
   "cell_type": "code",
   "execution_count": 55,
   "metadata": {
    "collapsed": false
   },
   "outputs": [
    {
     "data": {
      "text/plain": [
       "[(0, 0.18595058314174059),\n",
       " (1, 0.052828360734198089),\n",
       " (2, 0.0),\n",
       " (3, 0.0),\n",
       " (4, 1.0),\n",
       " (5, 0.0),\n",
       " (6, 1.0),\n",
       " (7, 0.0),\n",
       " (8, 0.0),\n",
       " (9, 0.0),\n",
       " (10, 0.0),\n",
       " (11, 1.0),\n",
       " (12, 0.0),\n",
       " (13, 0.0),\n",
       " (14, 0.0),\n",
       " (15, 1.0),\n",
       " (16, 0.0),\n",
       " (17, 0.0),\n",
       " (18, 1.0),\n",
       " (19, 0.0),\n",
       " (20, 0.0),\n",
       " (21, 0.0),\n",
       " (22, 1.0),\n",
       " (23, 0.0),\n",
       " (24, 0.0),\n",
       " (25, 0.0),\n",
       " (26, 0.0),\n",
       " (27, 1.0),\n",
       " (28, 0.0),\n",
       " (29, 0.0),\n",
       " (30, 0.0),\n",
       " (31, 0.0),\n",
       " (32, 1.0),\n",
       " (33, 0.0),\n",
       " (34, 0.0),\n",
       " (35, 0.0),\n",
       " (36, 1.0),\n",
       " (37, 0.0),\n",
       " (38, 1.0),\n",
       " (39, 0.0),\n",
       " (40, 0.0),\n",
       " (41, 0.0),\n",
       " (42, 1.0),\n",
       " (43, 0.0),\n",
       " (44, 0.0),\n",
       " (45, 0.0),\n",
       " (46, 1.0),\n",
       " (47, 0.0),\n",
       " (48, 0.0),\n",
       " (49, 0.0),\n",
       " (50, 0.0),\n",
       " (51, 0.0),\n",
       " (52, 0.0),\n",
       " (53, 1.0),\n",
       " (54, 1.0),\n",
       " (55, 0.0),\n",
       " (56, 0.0),\n",
       " (57, 0.0),\n",
       " (58, 0.0),\n",
       " (59, 0.0),\n",
       " (60, 0.0),\n",
       " (61, 1.0),\n",
       " (62, 0.0),\n",
       " (63, 0.0),\n",
       " (64, 0.0),\n",
       " (65, 1.0),\n",
       " (66, 1.0),\n",
       " (67, 0.0),\n",
       " (68, 0.0),\n",
       " (69, 0.0),\n",
       " (70, 1.0),\n",
       " (71, 0.0),\n",
       " (72, 0.0),\n",
       " (73, 0.0),\n",
       " (74, 1.0),\n",
       " (75, 0.0),\n",
       " (76, 0.0),\n",
       " (77, 0.0),\n",
       " (78, 1.0),\n",
       " (79, 0.0),\n",
       " (80, 0.0),\n",
       " (81, 0.0),\n",
       " (82, 0.0),\n",
       " (83, 1.0),\n",
       " (84, 0.0),\n",
       " (85, 0.0),\n",
       " (86, 0.0),\n",
       " (87, 0.0),\n",
       " (88, 1.0),\n",
       " (89, 0.0),\n",
       " (90, 0.0),\n",
       " (91, 0.0),\n",
       " (92, 0.0),\n",
       " (93, 1.0),\n",
       " (94, 0.0),\n",
       " (95, 0.0),\n",
       " (96, 0.0),\n",
       " (97, 1.0),\n",
       " (98, 0.0),\n",
       " (99, 1.0),\n",
       " (100, 0.0),\n",
       " (101, 0.0),\n",
       " (102, 1.0),\n",
       " (103, 0.0),\n",
       " (104, 0.0),\n",
       " (105, 0.0),\n",
       " (106, 1.0),\n",
       " (107, 0.0),\n",
       " (108, 0.0),\n",
       " (109, 0.0),\n",
       " (110, 0.0),\n",
       " (111, 1.0),\n",
       " (112, 0.0),\n",
       " (113, 0.0),\n",
       " (114, 0.0),\n",
       " (115, 0.0),\n",
       " (116, 1.0),\n",
       " (117, 0.0),\n",
       " (118, 0.0),\n",
       " (119, 0.0),\n",
       " (120, 1.0),\n",
       " (121, 0.0),\n",
       " (122, 0.0),\n",
       " (123, 1.0),\n",
       " (124, 0.0),\n",
       " (125, 0.0),\n",
       " (126, 1.0),\n",
       " (127, 0.0),\n",
       " (128, 0.0),\n",
       " (129, 0.0),\n",
       " (130, 0.0),\n",
       " (131, 0.0),\n",
       " (132, 1.0),\n",
       " (133, 0.0),\n",
       " (134, 0.0),\n",
       " (135, 1.0),\n",
       " (136, 0.0),\n",
       " (137, 0.0),\n",
       " (138, 1.0),\n",
       " (139, 0.0),\n",
       " (140, 0.0),\n",
       " (141, 0.0),\n",
       " (142, 0.0),\n",
       " (143, 0.0),\n",
       " (144, 0.0),\n",
       " (145, 1.0),\n",
       " (146, 0.0),\n",
       " (147, 1.0),\n",
       " (148, 0.0),\n",
       " (149, 0.0),\n",
       " (150, 1.0),\n",
       " (151, 0.0),\n",
       " (152, 0.0),\n",
       " (153, 0.0),\n",
       " (154, 0.0),\n",
       " (155, 0.0),\n",
       " (156, 0.0),\n",
       " (157, 1.0),\n",
       " (158, 0.0),\n",
       " (159, 1.0),\n",
       " (160, 0.0),\n",
       " (161, 0.0),\n",
       " (162, 1.0),\n",
       " (163, 0.0),\n",
       " (164, 0.0),\n",
       " (165, 0.0),\n",
       " (166, 0.0),\n",
       " (167, 0.0),\n",
       " (168, 0.0),\n",
       " (169, 1.0),\n",
       " (170, 1.0),\n",
       " (171, 0.0),\n",
       " (172, 0.0),\n",
       " (173, 0.0),\n",
       " (174, 0.0),\n",
       " (175, 0.0),\n",
       " (176, 0.0),\n",
       " (177, 1.0),\n",
       " (178, 1.0),\n",
       " (179, 0.0),\n",
       " (180, 0.0),\n",
       " (181, 0.0),\n",
       " (182, 0.0),\n",
       " (183, 0.0),\n",
       " (184, 0.0),\n",
       " (185, 1.0)]"
      ]
     },
     "execution_count": 55,
     "metadata": {},
     "output_type": "execute_result"
    }
   ],
   "source": [
    "[x for x in enumerate(features[0])]"
   ]
  },
  {
   "cell_type": "code",
   "execution_count": 39,
   "metadata": {
    "collapsed": false,
    "run_control": {
     "breakpoint": false
    }
   },
   "outputs": [],
   "source": [
    "reg = svm.LinearSVR()\n",
    "reg = ensemble.RandomForestRegressor(n_estimators=25, n_jobs=-1)\n",
    "# reg = svm.SVR()\n",
    "kf = KFold(len(features), n_folds=3)"
   ]
  },
  {
   "cell_type": "code",
   "execution_count": 51,
   "metadata": {
    "collapsed": false,
    "run_control": {
     "breakpoint": false
    }
   },
   "outputs": [
    {
     "name": "stderr",
     "output_type": "stream",
     "text": [
      "INFO:log:events removed: 2770\n",
      "INFO:log:events removed: 2135\n",
      "INFO:log:events removed: 2347\n"
     ]
    },
    {
     "data": {
      "text/plain": [
       "{'mae': 0.60664371747828683,\n",
       " 'mse': 0.74309392503165628,\n",
       " 'pearson': 0.50002302114910446}"
      ]
     },
     "execution_count": 51,
     "metadata": {},
     "output_type": "execute_result"
    }
   ],
   "source": [
    "metrics = {\n",
    "    \"pearson\": lambda x,y: stats.pearsonr(x,y)[0],\n",
    "    \"mae\": skmetrics.mean_absolute_error,\n",
    "    \"mse\": skmetrics.mean_squared_error\n",
    "}\n",
    "metrics_result = {m: [] for m in metrics}\n",
    "for test, train in kf: \n",
    "    train = filter_event_ids(train, template_events)\n",
    "    f_train, f_test = features[train], features[test]\n",
    "    t_train, t_test = target[train], target[test]\n",
    "    reg.fit(f_train, t_train)\n",
    "    t_predicted= reg.predict(f_test)\n",
    "    for m, f in metrics.items(): \n",
    "        metrics_result[m].append(f(t_test, t_predicted))\n",
    "\n",
    "{m: mean(v) for (m, v) in metrics_result.items()}"
   ]
  },
  {
   "cell_type": "code",
   "execution_count": 52,
   "metadata": {
    "collapsed": false,
    "run_control": {
     "breakpoint": false
    }
   },
   "outputs": [
    {
     "data": {
      "text/plain": [
       "RandomForestRegressor(bootstrap=True, criterion='mse', max_depth=None,\n",
       "           max_features='auto', max_leaf_nodes=None, min_samples_leaf=1,\n",
       "           min_samples_split=2, min_weight_fraction_leaf=0.0,\n",
       "           n_estimators=25, n_jobs=-1, oob_score=False, random_state=None,\n",
       "           verbose=0, warm_start=False)"
      ]
     },
     "execution_count": 52,
     "metadata": {},
     "output_type": "execute_result"
    }
   ],
   "source": [
    "reg.fit(features, target)"
   ]
  },
  {
   "cell_type": "code",
   "execution_count": 53,
   "metadata": {
    "collapsed": false
   },
   "outputs": [],
   "source": [
    "import joblib"
   ]
  },
  {
   "cell_type": "code",
   "execution_count": 56,
   "metadata": {
    "collapsed": false
   },
   "outputs": [
    {
     "data": {
      "text/plain": [
       "['/home/ibis/gregor.sturm/nanopore/own/notebooks/05_MAP006-basecaller/context_prediction/model-test2.pickle',\n",
       " '/home/ibis/gregor.sturm/nanopore/own/notebooks/05_MAP006-basecaller/context_prediction/model-test2.pickle_01.npy',\n",
       " '/home/ibis/gregor.sturm/nanopore/own/notebooks/05_MAP006-basecaller/context_prediction/model-test2.pickle_02.npy',\n",
       " '/home/ibis/gregor.sturm/nanopore/own/notebooks/05_MAP006-basecaller/context_prediction/model-test2.pickle_03.npy',\n",
       " '/home/ibis/gregor.sturm/nanopore/own/notebooks/05_MAP006-basecaller/context_prediction/model-test2.pickle_04.npy',\n",
       " '/home/ibis/gregor.sturm/nanopore/own/notebooks/05_MAP006-basecaller/context_prediction/model-test2.pickle_05.npy',\n",
       " '/home/ibis/gregor.sturm/nanopore/own/notebooks/05_MAP006-basecaller/context_prediction/model-test2.pickle_06.npy',\n",
       " '/home/ibis/gregor.sturm/nanopore/own/notebooks/05_MAP006-basecaller/context_prediction/model-test2.pickle_07.npy',\n",
       " '/home/ibis/gregor.sturm/nanopore/own/notebooks/05_MAP006-basecaller/context_prediction/model-test2.pickle_08.npy',\n",
       " '/home/ibis/gregor.sturm/nanopore/own/notebooks/05_MAP006-basecaller/context_prediction/model-test2.pickle_09.npy',\n",
       " '/home/ibis/gregor.sturm/nanopore/own/notebooks/05_MAP006-basecaller/context_prediction/model-test2.pickle_10.npy',\n",
       " '/home/ibis/gregor.sturm/nanopore/own/notebooks/05_MAP006-basecaller/context_prediction/model-test2.pickle_11.npy',\n",
       " '/home/ibis/gregor.sturm/nanopore/own/notebooks/05_MAP006-basecaller/context_prediction/model-test2.pickle_12.npy',\n",
       " '/home/ibis/gregor.sturm/nanopore/own/notebooks/05_MAP006-basecaller/context_prediction/model-test2.pickle_13.npy',\n",
       " '/home/ibis/gregor.sturm/nanopore/own/notebooks/05_MAP006-basecaller/context_prediction/model-test2.pickle_14.npy',\n",
       " '/home/ibis/gregor.sturm/nanopore/own/notebooks/05_MAP006-basecaller/context_prediction/model-test2.pickle_15.npy',\n",
       " '/home/ibis/gregor.sturm/nanopore/own/notebooks/05_MAP006-basecaller/context_prediction/model-test2.pickle_16.npy',\n",
       " '/home/ibis/gregor.sturm/nanopore/own/notebooks/05_MAP006-basecaller/context_prediction/model-test2.pickle_17.npy',\n",
       " '/home/ibis/gregor.sturm/nanopore/own/notebooks/05_MAP006-basecaller/context_prediction/model-test2.pickle_18.npy',\n",
       " '/home/ibis/gregor.sturm/nanopore/own/notebooks/05_MAP006-basecaller/context_prediction/model-test2.pickle_19.npy',\n",
       " '/home/ibis/gregor.sturm/nanopore/own/notebooks/05_MAP006-basecaller/context_prediction/model-test2.pickle_20.npy',\n",
       " '/home/ibis/gregor.sturm/nanopore/own/notebooks/05_MAP006-basecaller/context_prediction/model-test2.pickle_21.npy',\n",
       " '/home/ibis/gregor.sturm/nanopore/own/notebooks/05_MAP006-basecaller/context_prediction/model-test2.pickle_22.npy',\n",
       " '/home/ibis/gregor.sturm/nanopore/own/notebooks/05_MAP006-basecaller/context_prediction/model-test2.pickle_23.npy',\n",
       " '/home/ibis/gregor.sturm/nanopore/own/notebooks/05_MAP006-basecaller/context_prediction/model-test2.pickle_24.npy',\n",
       " '/home/ibis/gregor.sturm/nanopore/own/notebooks/05_MAP006-basecaller/context_prediction/model-test2.pickle_25.npy',\n",
       " '/home/ibis/gregor.sturm/nanopore/own/notebooks/05_MAP006-basecaller/context_prediction/model-test2.pickle_26.npy',\n",
       " '/home/ibis/gregor.sturm/nanopore/own/notebooks/05_MAP006-basecaller/context_prediction/model-test2.pickle_27.npy',\n",
       " '/home/ibis/gregor.sturm/nanopore/own/notebooks/05_MAP006-basecaller/context_prediction/model-test2.pickle_28.npy',\n",
       " '/home/ibis/gregor.sturm/nanopore/own/notebooks/05_MAP006-basecaller/context_prediction/model-test2.pickle_29.npy',\n",
       " '/home/ibis/gregor.sturm/nanopore/own/notebooks/05_MAP006-basecaller/context_prediction/model-test2.pickle_30.npy',\n",
       " '/home/ibis/gregor.sturm/nanopore/own/notebooks/05_MAP006-basecaller/context_prediction/model-test2.pickle_31.npy',\n",
       " '/home/ibis/gregor.sturm/nanopore/own/notebooks/05_MAP006-basecaller/context_prediction/model-test2.pickle_32.npy',\n",
       " '/home/ibis/gregor.sturm/nanopore/own/notebooks/05_MAP006-basecaller/context_prediction/model-test2.pickle_33.npy',\n",
       " '/home/ibis/gregor.sturm/nanopore/own/notebooks/05_MAP006-basecaller/context_prediction/model-test2.pickle_34.npy',\n",
       " '/home/ibis/gregor.sturm/nanopore/own/notebooks/05_MAP006-basecaller/context_prediction/model-test2.pickle_35.npy',\n",
       " '/home/ibis/gregor.sturm/nanopore/own/notebooks/05_MAP006-basecaller/context_prediction/model-test2.pickle_36.npy',\n",
       " '/home/ibis/gregor.sturm/nanopore/own/notebooks/05_MAP006-basecaller/context_prediction/model-test2.pickle_37.npy',\n",
       " '/home/ibis/gregor.sturm/nanopore/own/notebooks/05_MAP006-basecaller/context_prediction/model-test2.pickle_38.npy',\n",
       " '/home/ibis/gregor.sturm/nanopore/own/notebooks/05_MAP006-basecaller/context_prediction/model-test2.pickle_39.npy',\n",
       " '/home/ibis/gregor.sturm/nanopore/own/notebooks/05_MAP006-basecaller/context_prediction/model-test2.pickle_40.npy',\n",
       " '/home/ibis/gregor.sturm/nanopore/own/notebooks/05_MAP006-basecaller/context_prediction/model-test2.pickle_41.npy',\n",
       " '/home/ibis/gregor.sturm/nanopore/own/notebooks/05_MAP006-basecaller/context_prediction/model-test2.pickle_42.npy',\n",
       " '/home/ibis/gregor.sturm/nanopore/own/notebooks/05_MAP006-basecaller/context_prediction/model-test2.pickle_43.npy',\n",
       " '/home/ibis/gregor.sturm/nanopore/own/notebooks/05_MAP006-basecaller/context_prediction/model-test2.pickle_44.npy',\n",
       " '/home/ibis/gregor.sturm/nanopore/own/notebooks/05_MAP006-basecaller/context_prediction/model-test2.pickle_45.npy',\n",
       " '/home/ibis/gregor.sturm/nanopore/own/notebooks/05_MAP006-basecaller/context_prediction/model-test2.pickle_46.npy',\n",
       " '/home/ibis/gregor.sturm/nanopore/own/notebooks/05_MAP006-basecaller/context_prediction/model-test2.pickle_47.npy',\n",
       " '/home/ibis/gregor.sturm/nanopore/own/notebooks/05_MAP006-basecaller/context_prediction/model-test2.pickle_48.npy',\n",
       " '/home/ibis/gregor.sturm/nanopore/own/notebooks/05_MAP006-basecaller/context_prediction/model-test2.pickle_49.npy',\n",
       " '/home/ibis/gregor.sturm/nanopore/own/notebooks/05_MAP006-basecaller/context_prediction/model-test2.pickle_50.npy',\n",
       " '/home/ibis/gregor.sturm/nanopore/own/notebooks/05_MAP006-basecaller/context_prediction/model-test2.pickle_51.npy',\n",
       " '/home/ibis/gregor.sturm/nanopore/own/notebooks/05_MAP006-basecaller/context_prediction/model-test2.pickle_52.npy',\n",
       " '/home/ibis/gregor.sturm/nanopore/own/notebooks/05_MAP006-basecaller/context_prediction/model-test2.pickle_53.npy',\n",
       " '/home/ibis/gregor.sturm/nanopore/own/notebooks/05_MAP006-basecaller/context_prediction/model-test2.pickle_54.npy',\n",
       " '/home/ibis/gregor.sturm/nanopore/own/notebooks/05_MAP006-basecaller/context_prediction/model-test2.pickle_55.npy',\n",
       " '/home/ibis/gregor.sturm/nanopore/own/notebooks/05_MAP006-basecaller/context_prediction/model-test2.pickle_56.npy',\n",
       " '/home/ibis/gregor.sturm/nanopore/own/notebooks/05_MAP006-basecaller/context_prediction/model-test2.pickle_57.npy',\n",
       " '/home/ibis/gregor.sturm/nanopore/own/notebooks/05_MAP006-basecaller/context_prediction/model-test2.pickle_58.npy',\n",
       " '/home/ibis/gregor.sturm/nanopore/own/notebooks/05_MAP006-basecaller/context_prediction/model-test2.pickle_59.npy',\n",
       " '/home/ibis/gregor.sturm/nanopore/own/notebooks/05_MAP006-basecaller/context_prediction/model-test2.pickle_60.npy',\n",
       " '/home/ibis/gregor.sturm/nanopore/own/notebooks/05_MAP006-basecaller/context_prediction/model-test2.pickle_61.npy',\n",
       " '/home/ibis/gregor.sturm/nanopore/own/notebooks/05_MAP006-basecaller/context_prediction/model-test2.pickle_62.npy',\n",
       " '/home/ibis/gregor.sturm/nanopore/own/notebooks/05_MAP006-basecaller/context_prediction/model-test2.pickle_63.npy',\n",
       " '/home/ibis/gregor.sturm/nanopore/own/notebooks/05_MAP006-basecaller/context_prediction/model-test2.pickle_64.npy',\n",
       " '/home/ibis/gregor.sturm/nanopore/own/notebooks/05_MAP006-basecaller/context_prediction/model-test2.pickle_65.npy',\n",
       " '/home/ibis/gregor.sturm/nanopore/own/notebooks/05_MAP006-basecaller/context_prediction/model-test2.pickle_66.npy',\n",
       " '/home/ibis/gregor.sturm/nanopore/own/notebooks/05_MAP006-basecaller/context_prediction/model-test2.pickle_67.npy',\n",
       " '/home/ibis/gregor.sturm/nanopore/own/notebooks/05_MAP006-basecaller/context_prediction/model-test2.pickle_68.npy',\n",
       " '/home/ibis/gregor.sturm/nanopore/own/notebooks/05_MAP006-basecaller/context_prediction/model-test2.pickle_69.npy',\n",
       " '/home/ibis/gregor.sturm/nanopore/own/notebooks/05_MAP006-basecaller/context_prediction/model-test2.pickle_70.npy',\n",
       " '/home/ibis/gregor.sturm/nanopore/own/notebooks/05_MAP006-basecaller/context_prediction/model-test2.pickle_71.npy',\n",
       " '/home/ibis/gregor.sturm/nanopore/own/notebooks/05_MAP006-basecaller/context_prediction/model-test2.pickle_72.npy',\n",
       " '/home/ibis/gregor.sturm/nanopore/own/notebooks/05_MAP006-basecaller/context_prediction/model-test2.pickle_73.npy',\n",
       " '/home/ibis/gregor.sturm/nanopore/own/notebooks/05_MAP006-basecaller/context_prediction/model-test2.pickle_74.npy',\n",
       " '/home/ibis/gregor.sturm/nanopore/own/notebooks/05_MAP006-basecaller/context_prediction/model-test2.pickle_75.npy']"
      ]
     },
     "execution_count": 56,
     "metadata": {},
     "output_type": "execute_result"
    }
   ],
   "source": [
    "joblib.dump(reg, '/home/ibis/gregor.sturm/nanopore/own/notebooks/05_MAP006-basecaller/context_prediction/model-test2.pickle', protocol=2)"
   ]
  },
  {
   "cell_type": "code",
   "execution_count": null,
   "metadata": {
    "collapsed": true
   },
   "outputs": [],
   "source": []
  }
 ],
 "metadata": {
  "kernelspec": {
   "display_name": "SSH fonsi ipython",
   "language": "",
   "name": "rik_ssh_fonsi_ipython"
  },
  "language_info": {
   "codemirror_mode": {
    "name": "ipython",
    "version": 3
   },
   "file_extension": ".py",
   "mimetype": "text/x-python",
   "name": "python",
   "nbconvert_exporter": "python",
   "pygments_lexer": "ipython3",
   "version": "3.4.3"
  }
 },
 "nbformat": 4,
 "nbformat_minor": 0
}
