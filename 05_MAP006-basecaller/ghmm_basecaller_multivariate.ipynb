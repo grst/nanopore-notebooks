{
 "cells": [
  {
   "cell_type": "code",
   "execution_count": 1,
   "metadata": {
    "collapsed": false
   },
   "outputs": [],
   "source": [
    "import ghmm\n",
    "from collections import OrderedDict\n",
    "import cPickle as pickle\n",
    "import numpy as np\n",
    "from itertools import product as iterproduct, chain\n",
    "from pprint import pprint\n",
    "import pysam\n",
    "import os\n",
    "import pandas\n",
    "from copy import deepcopy\n",
    "import re\n",
    "import editdistance\n",
    "import sys\n",
    "import random\n",
    "from nbwrapper import getargs\n",
    "from multiprocessing import Pool\n",
    "%run \"/home/ibis/gregor.sturm/nanopore/own/notebooks/03_pipeline/alignment_validation.ipynb\"\n",
    "%run \"/home/ibis/gregor.sturm/nanopore/own/notebooks/03_pipeline/alignment_lib.ipynb\"\n",
    "%run \"/home/ibis/gregor.sturm/nanopore/own/notebooks/03_pipeline/analysis_lib.ipynb\""
   ]
  },
  {
   "cell_type": "code",
   "execution_count": 2,
   "metadata": {
    "collapsed": false
   },
   "outputs": [
    {
     "name": "stderr",
     "output_type": "stream",
     "text": [
      "/home/ibis/gregor.sturm/bin/anaconda/lib/python2.7/site-packages/nbwrapper.py:31: RuntimeWarning: no arguments passed!\n",
      "  warnings.warn(\"no arguments passed!\", RuntimeWarning)\n"
     ]
    }
   ],
   "source": [
    "args = getargs()"
   ]
  },
  {
   "cell_type": "code",
   "execution_count": 3,
   "metadata": {
    "collapsed": true,
    "run_control": {
     "breakpoint": false
    }
   },
   "outputs": [],
   "source": [
    "NMERS = 5"
   ]
  },
  {
   "cell_type": "code",
   "execution_count": 4,
   "metadata": {
    "collapsed": false
   },
   "outputs": [],
   "source": [
    "# args = {\n",
    "#     \"events\" : \"/home/ibis/gregor.sturm/nanopore/own/notebooks/03_pipeline/david_events.template.pickle\",\n",
    "#     \"out_basename\" : \"/home/ibis/gregor.sturm/nanopore/own/notebooks/03_pipeline/david_calling\",\n",
    "#     \"ref\": \"/home/ibis/gregor.sturm/nanopore/david_eccles_bc_ideas/mouse_ref.fa\",\n",
    "#     \"hmm_params\": \"/home/ibis/gregor.sturm/nanopore/own/notebooks/03_pipeline/david_hmm_params_3mer.pickle\",\n",
    "#     \"ncores\": 4,\n",
    "#     \"nmers\": 3,\n",
    "#     \"multivariate\": True\n",
    "# }\n",
    "\n",
    "args = {\n",
    "    \"events\" : \"/home/ibis/gregor.sturm/nanopore/own/notebooks/03_pipeline/lambda_events.template.62pA.pickle\",\n",
    "    \"out_basename\" : \"/home/ibis/gregor.sturm/nanopore/own/notebooks/03_pipeline/lambda_calling\",\n",
    "    \"ref\": \"/home/ibis/gregor.sturm/nanopore/own/notebooks/03_pipeline/lambda_ref.fasta\",\n",
    "    \"hmm_params\": \"/home/ibis/gregor.sturm/nanopore/own/notebooks/03_pipeline/lambda_hmm_params.62pA.{0}mer.pickle\".format(NMERS),\n",
    "    \"ncores\": 62,\n",
    "    \"nmers\": NMERS,\n",
    "    \"multivariate\": False\n",
    "}"
   ]
  },
  {
   "cell_type": "code",
   "execution_count": 5,
   "metadata": {
    "collapsed": false
   },
   "outputs": [],
   "source": [
    "NMERS = int(args[\"nmers\"])\n",
    "NSTATES = 4**NMERS\n",
    "MULTIVARIATE = bool(int(args[\"multivariate\"]))\n",
    "args[\"ncores\"] = int(args[\"ncores\"])"
   ]
  },
  {
   "cell_type": "code",
   "execution_count": 6,
   "metadata": {
    "collapsed": false
   },
   "outputs": [],
   "source": [
    "HMM_PARAMS = pickle.load(open(args[\"hmm_params\"], 'rb'))\n",
    "HMM_PARAMS = OrderedDict(HMM_PARAMS)\n",
    "ALL_KMERS = [\"\".join(x) for x in iterproduct(\"ACGT\", repeat=NMERS)]\n",
    "assert HMM_PARAMS.keys() == ALL_KMERS"
   ]
  },
  {
   "cell_type": "markdown",
   "metadata": {},
   "source": [
    "# Train Model "
   ]
  },
  {
   "cell_type": "code",
   "execution_count": 7,
   "metadata": {
    "collapsed": true
   },
   "outputs": [],
   "source": [
    "def mk_transmat1(nmers):\n",
    "    \"\"\"make a transition matrix assuming move=1\"\"\"\n",
    "    n_components = len(ALL_KMERS)\n",
    "    transmat = np.empty((n_components, n_components))\n",
    "    for j, from_kmer in enumerate(ALL_KMERS):\n",
    "        for i, to_kmer in enumerate(ALL_KMERS):\n",
    "            p = 1/4. if from_kmer[-(NMERS-1):] == to_kmer[:(NMERS-1)] else 0.\n",
    "            transmat[j, i] = p          \n",
    "            \n",
    "    return transmat.tolist()"
   ]
  },
  {
   "cell_type": "code",
   "execution_count": 8,
   "metadata": {
    "collapsed": true
   },
   "outputs": [],
   "source": [
    "def mk_transmat0(nmers):\n",
    "    \"\"\"make a transition matrix assuming move=0 or move=1\"\"\"\n",
    "    n_components = len(ALL_KMERS)\n",
    "    transmat = np.empty((n_components, n_components))\n",
    "    for j, from_kmer in enumerate(ALL_KMERS):\n",
    "        for i, to_kmer in enumerate(ALL_KMERS):\n",
    "            p = 0\n",
    "            if from_kmer[-(NMERS-1):] == to_kmer[:(NMERS-1)]:\n",
    "                \"\"\"move=1\"\"\"\n",
    "                p = (9/10.) * (1/4.) \n",
    "            elif from_kmer == to_kmer:\n",
    "                \"\"\"move=0\"\"\"\n",
    "                p = (1/10.) * 1\n",
    "            transmat[j, i] = p          \n",
    "            \n",
    "    return transmat.tolist()"
   ]
  },
  {
   "cell_type": "code",
   "execution_count": 9,
   "metadata": {
    "collapsed": true
   },
   "outputs": [],
   "source": [
    "def mk_transmat2(nmers):\n",
    "    \"\"\"make a transition matrix assuming move=0 or move=1 or move=2\"\"\"\n",
    "    n_components = len(ALL_KMERS)\n",
    "    transmat = np.empty((n_components, n_components))\n",
    "    for j, from_kmer in enumerate(ALL_KMERS):\n",
    "        for i, to_kmer in enumerate(ALL_KMERS):\n",
    "            p = 0\n",
    "            if from_kmer[-(NMERS-2):] == to_kmer[:(NMERS-2)]:\n",
    "                \"\"\"move=2\"\"\"\n",
    "                p = (2/50.) * (1/16.)\n",
    "            elif from_kmer[-(NMERS-1):] == to_kmer[:(NMERS-1)]:\n",
    "                \"\"\"move=1\"\"\"\n",
    "                p = (47/50.) * (1/4.) \n",
    "            elif from_kmer == to_kmer:\n",
    "                \"\"\"move=0\"\"\"\n",
    "                p = (1/50.) * 1\n",
    "            transmat[j, i] = p          \n",
    "            \n",
    "    return transmat.tolist()"
   ]
  },
  {
   "cell_type": "code",
   "execution_count": 10,
   "metadata": {
    "collapsed": true
   },
   "outputs": [],
   "source": [
    "mk_transmat = mk_transmat2"
   ]
  },
  {
   "cell_type": "code",
   "execution_count": 11,
   "metadata": {
    "collapsed": false
   },
   "outputs": [],
   "source": [
    "F = ghmm.Float()  # emission domain of this model\n",
    "\n",
    "def mk_model_multivariate():\n",
    "    # example code for a continuous HMM with gaussian emissions\n",
    "\n",
    "    A = mk_transmat(NMERS)\n",
    "    B = [ [ \n",
    "            [float(df[['mean']].mean()), float(df[['stdv']].mean())], #mu1, mu2\n",
    "            [x for x in chain(*df[['mean', 'stdv']].cov().values.tolist())], #covariance matrix\n",
    "        ] for df in HMM_PARAMS.values()]   # parameters of emission distributions in pairs of (mu, sigma)\n",
    "    pi = [1/float(NSTATES)] * NSTATES   # initial probabilities per state\n",
    "\n",
    "    # generate model from parameters\n",
    "    model = ghmm.HMMFromMatrices(F,ghmm.MultivariateGaussianDistribution(F), A, B, pi)\n",
    "    return model"
   ]
  },
  {
   "cell_type": "code",
   "execution_count": 12,
   "metadata": {
    "collapsed": false
   },
   "outputs": [],
   "source": [
    "def mk_model_simple(): \n",
    "    \"\"\" simple model, only taking the means into account. \"\"\"\n",
    "    A = mk_transmat(NMERS)\n",
    "    B = [ [float(df[['mean']].mean()), float(df[['mean']].std())] #mu1, stdv\n",
    "            for df in HMM_PARAMS.values()]   # parameters of emission distributions in pairs of (mu, sigma)\n",
    "    pi = [1/float(NSTATES)] * NSTATES   # initial probabilities per state\n",
    "\n",
    "    # generate model from parameters\n",
    "    model = ghmm.HMMFromMatrices(F,ghmm.GaussianDistribution(F), A, B, pi)\n",
    "    return model"
   ]
  },
  {
   "cell_type": "code",
   "execution_count": 13,
   "metadata": {
    "collapsed": true
   },
   "outputs": [],
   "source": [
    "def mk_model():\n",
    "    if MULTIVARIATE: \n",
    "        return mk_model_multivariate()\n",
    "    else: \n",
    "        return mk_model_simple()"
   ]
  },
  {
   "cell_type": "code",
   "execution_count": 14,
   "metadata": {
    "collapsed": false
   },
   "outputs": [
    {
     "name": "stdout",
     "output_type": "stream",
     "text": [
      "GaussianEmissionHMM(N=1024)\n",
      "  state 0 (initial=0.00, mu=65.44, sigma=1.18)\n",
      "    Transitions: ->0 (0.00), ->1 (0.00), ->2 (0.00), ->3 (0.00), ->4 (0.00), ->5 (0.00), ->6 (0.00), ->7 (0.00), ->8 (0.00), ->9 (0.00), ->10 (0.00), ->11 (0.00), ->12 (0.00), ->13 (0.00), ->14 (0.00), ->15 (0.00)\n",
      "  state 1 (initial=0.00, mu=61.47, sigma=1.08)\n",
      "    Transitions: ->1 (0.02), ->4 (0.23), ->5 (0.23), ->6 (0.23), ->7 (0.23), ->16 (0.00), ->17 (0.00), ->18 (0.00), ->19 (0.00), ->20 (0.00), ->21 (0.00), ->22 (0.00), ->23 (0.00), ->24 (0.00), ->25 (0.00), ->26 (0.00), ->27 (0.00), ->28 (0.00), ->29 (0.00), ->30 (0.00), ->31 (0.00)\n",
      "\n",
      "  ...\n",
      "\n",
      "  state 1022 (initial=0.00, mu=47.86, sigma=0.81)\n",
      "    Transitions: ->992 (0.00), ->993 (0.00), ->994 (0.00), ->995 (0.00), ->996 (0.00), ->997 (0.00), ->998 (0.00), ->999 (0.00), ->1000 (0.00), ->1001 (0.00), ->1002 (0.00), ->1003 (0.00), ->1004 (0.00), ->1005 (0.00), ->1006 (0.00), ->1007 (0.00), ->1016 (0.23), ->1017 (0.23), ->1018 (0.23), ->1019 (0.23), ->1022 (0.02)\n",
      "  state 1023 (initial=0.00, mu=46.03, sigma=1.10)\n",
      "    Transitions: ->1008 (0.00), ->1009 (0.00), ->1010 (0.00), ->1011 (0.00), ->1012 (0.00), ->1013 (0.00), ->1014 (0.00), ->1015 (0.00), ->1016 (0.00), ->1017 (0.00), ->1018 (0.00), ->1019 (0.00), ->1020 (0.00), ->1021 (0.00), ->1022 (0.00), ->1023 (0.00)\n",
      "\n"
     ]
    }
   ],
   "source": [
    "model = mk_model()\n",
    "s = str(model)\n",
    "print(s)"
   ]
  },
  {
   "cell_type": "code",
   "execution_count": 15,
   "metadata": {
    "collapsed": false
   },
   "outputs": [],
   "source": [
    "def result_to_seq(result):\n",
    "    states = result[0]\n",
    "    kmers = [ALL_KMERS[x] for x in states]\n",
    "    seq = [kmer[NMERS/2] for kmer in kmers]\n",
    "    return \"\".join(seq)"
   ]
  },
  {
   "cell_type": "code",
   "execution_count": 16,
   "metadata": {
    "collapsed": true
   },
   "outputs": [],
   "source": [
    "def predict(mixed):\n",
    "    \"\"\"mixed is a set of tuples (event_mean, event_stdv)\"\"\"\n",
    "    if MULTIVARIATE: \n",
    "        emissions = [x for x in chain(*mixed)]    \n",
    "    else: \n",
    "        emissions = [x[0] for x in mixed]\n",
    "    seq = ghmm.EmissionSequence(F, emissions)\n",
    "    result = model.viterbi(seq)\n",
    "    return result_to_seq(result)"
   ]
  },
  {
   "cell_type": "code",
   "execution_count": 17,
   "metadata": {
    "collapsed": false
   },
   "outputs": [],
   "source": [
    "s = model.sampleSingle(10)\n",
    "s = [x for x in s]\n",
    "seq = zip([s[i] for i in range(0, len(s), 2)], [s[i] for i in range(1, len(s), 2)])"
   ]
  },
  {
   "cell_type": "code",
   "execution_count": 18,
   "metadata": {
    "collapsed": false
   },
   "outputs": [
    {
     "data": {
      "text/plain": [
       "'ATCTG'"
      ]
     },
     "execution_count": 18,
     "metadata": {},
     "output_type": "execute_result"
    }
   ],
   "source": [
    "predict(seq)"
   ]
  },
  {
   "cell_type": "markdown",
   "metadata": {},
   "source": [
    "# Validate Model "
   ]
  },
  {
   "cell_type": "code",
   "execution_count": 19,
   "metadata": {
    "collapsed": false
   },
   "outputs": [
    {
     "name": "stdout",
     "output_type": "stream",
     "text": [
      "/home/ibis/gregor.sturm/nanopore/own/notebooks\r\n"
     ]
    }
   ],
   "source": [
    "!pwd"
   ]
  },
  {
   "cell_type": "code",
   "execution_count": 20,
   "metadata": {
    "collapsed": false
   },
   "outputs": [],
   "source": [
    "assert os.path.isfile(args[\"events\"])"
   ]
  },
  {
   "cell_type": "code",
   "execution_count": 21,
   "metadata": {
    "collapsed": false
   },
   "outputs": [
    {
     "name": "stdout",
     "output_type": "stream",
     "text": [
      "['>burn-in lambda_ref']\n",
      "GGGCGGCGACCTCGCGGGTTTTCGCTATTTATGAAAATTTTCCGGTTTAAGGCGTTTCCGTTCTTCTTCGTCATAACTTAATGTTTTTATTTAAAATACC\n"
     ]
    }
   ],
   "source": [
    "ref_file = args[\"ref\"]\n",
    "test = !cat {ref_file} | grep \">\"\n",
    "print(test)\n",
    "ref = !cat {ref_file} | grep -v \">\"\n",
    "ref = ref[0]\n",
    "print(ref[:100])"
   ]
  },
  {
   "cell_type": "code",
   "execution_count": 22,
   "metadata": {
    "collapsed": false
   },
   "outputs": [],
   "source": [
    "file_data = pickle.load(open(args[\"events\"], 'rb'))\n",
    "file_data = [f for f in file_data if f is not None]"
   ]
  },
  {
   "cell_type": "code",
   "execution_count": 23,
   "metadata": {
    "collapsed": false
   },
   "outputs": [],
   "source": [
    "prepare_filemap(file_data)"
   ]
  },
  {
   "cell_type": "code",
   "execution_count": 24,
   "metadata": {
    "collapsed": true
   },
   "outputs": [],
   "source": [
    "def train_read(file_obj):    \n",
    "    events = [x[\"mean\"] for x in file_obj[\"events\"].to_dict(\"records\")]\n",
    "    seq = ghmm.EmissionSequence(F, events)\n",
    "    model.baumWelch(seq)\n",
    "    "
   ]
  },
  {
   "cell_type": "code",
   "execution_count": 25,
   "metadata": {
    "collapsed": false,
    "scrolled": true
   },
   "outputs": [],
   "source": [
    "def basecall_read(file_obj):\n",
    "    events = [(x[\"mean\"], x[\"stdv\"]) for x in file_obj[\"events\"].to_dict(\"records\")]\n",
    "    called_seq = predict(events)\n",
    "    return (file_obj[\"channel\"], file_obj[\"file_id\"], called_seq)"
   ]
  },
  {
   "cell_type": "code",
   "execution_count": 26,
   "metadata": {
    "collapsed": false
   },
   "outputs": [],
   "source": [
    "# \"\"\" train with baum-welch \"\"\"\n",
    "# for i, file_obj in enumerate(file_data): \n",
    "#     sys.stdout.write('\\rdone {0:%}'.format(i/float(len(file_data))))\n",
    "#     train_read(file_obj)"
   ]
  },
  {
   "cell_type": "code",
   "execution_count": 27,
   "metadata": {
    "collapsed": false
   },
   "outputs": [],
   "source": [
    "p = Pool(args[\"ncores\"])"
   ]
  },
  {
   "cell_type": "code",
   "execution_count": 28,
   "metadata": {
    "collapsed": false
   },
   "outputs": [
    {
     "name": "stdout",
     "output_type": "stream",
     "text": [
      "Prediction: \n",
      "done 100.000000%"
     ]
    }
   ],
   "source": [
    "print(\"Prediction: \")\n",
    "results = []\n",
    "try:\n",
    "    for i, res in enumerate(p.imap_unordered(basecall_read, file_data), 1):\n",
    "        results.append(res)\n",
    "        sys.stdout.write('\\rdone {0:%}'.format(i/float(len(file_data))))\n",
    "    p.close()\n",
    "    p.join()\n",
    "except KeyboardInterrupt:\n",
    "    p.terminate()"
   ]
  },
  {
   "cell_type": "markdown",
   "metadata": {},
   "source": [
    "### Stats"
   ]
  },
  {
   "cell_type": "code",
   "execution_count": 29,
   "metadata": {
    "collapsed": true
   },
   "outputs": [],
   "source": [
    "types = [\"metrichor\", \"called\", \"random\"]\n",
    "fasta_files = {t: \"{0}.{1}.fa\".format(args[\"out_basename\"], t) for t in types}"
   ]
  },
  {
   "cell_type": "code",
   "execution_count": 30,
   "metadata": {
    "collapsed": true
   },
   "outputs": [],
   "source": [
    "## metrichor fasta\n",
    "with open(fasta_files[\"metrichor\"], 'w') as f: \n",
    "    for file_obj in file_data: \n",
    "        f.write(\">ch{0}_file{1}_metrichor\".format(file_obj[\"channel\"], file_obj[\"file_id\"])+ \"\\n\")\n",
    "        f.write(file_obj[\"fastq\"].split(\"\\n\")[1] + \"\\n\")"
   ]
  },
  {
   "cell_type": "code",
   "execution_count": 31,
   "metadata": {
    "collapsed": false
   },
   "outputs": [],
   "source": [
    "## called fasta/random fasta\n",
    "with open(fasta_files[\"called\"], 'w') as f: \n",
    "    with open(fasta_files[\"random\"], 'w') as fr:\n",
    "        for channel, file_id, seq in results: \n",
    "            f.write(\">ch{0}_file{1}_called\".format(file_obj[\"channel\"], file_obj[\"file_id\"])+ \"\\n\")\n",
    "            fr.write(\">ch{0}_file{1}_random\".format(file_obj[\"channel\"], file_obj[\"file_id\"])+ \"\\n\")\n",
    "            f.write(seq + \"\\n\")\n",
    "            fr.write(\"\".join([random.choice(\"ACGT\") for _ in range(len(seq))]))"
   ]
  },
  {
   "cell_type": "code",
   "execution_count": 32,
   "metadata": {
    "collapsed": false,
    "scrolled": true
   },
   "outputs": [
    {
     "name": "stdout",
     "output_type": "stream",
     "text": [
      "[Index 16:38:25] Running in fast and sensitive mode. Two indexes will be used (double memory consumption).\n",
      "[Index 16:38:25] Index already exists. Loading from file.\n",
      "[Index 16:38:26] Secondary index already exists. Loading from file.\n",
      "[Index 16:38:27] Index loaded in 0.62 sec.\n",
      "[Index 16:38:27] Memory consumption: [currentRSS = 516 MB, peakRSS = 4501 MB]\n",
      "\n",
      "[Run 16:38:27] Automatically setting the maximum allowed number of regions: max. 500, attempt to reduce after 100\n",
      "[Run 16:38:27] Reference genome is assumed to be linear.\n",
      "[Run 16:38:27] Only one alignment will be reported per mapped read.\n",
      "[ProcessReads 16:38:27] Reads will be loaded in batches of up to 200 MB in size.\n",
      "[ProcessReads 16:38:27] Batch of 1802 reads (9 MiB) loaded in 0.08 sec. (34505912 bases)\n",
      "[ProcessReads 16:38:27] Memory consumption: [currentRSS = 526 MB, peakRSS = 4501 MB]\n",
      "[ProcessReads 16:38:27] Using 62 threads.\n",
      "[ProcessReads 16:38:43] [CPU time: 586.27 sec, RSS: 571 MB] Read: 1802/1802 (100.00%) [m: 1731, u: 71]                                                             \n",
      "\n",
      "[ProcessReads 16:38:43] Memory consumption: [currentRSS = 571 MB, peakRSS = 4501 MB]\n",
      "\n",
      "[ProcessReads 16:38:43] All reads processed in 586.33 sec (or 9.77 CPU min).\n",
      "[Index 16:38:49] Running in fast and sensitive mode. Two indexes will be used (double memory consumption).\n",
      "[Index 16:38:49] Index already exists. Loading from file.\n",
      "[Index 16:38:50] Secondary index already exists. Loading from file.\n",
      "[Index 16:38:50] Index loaded in 0.47 sec.\n",
      "[Index 16:38:50] Memory consumption: [currentRSS = 516 MB, peakRSS = 4501 MB]\n",
      "\n",
      "[Run 16:38:50] Automatically setting the maximum allowed number of regions: max. 500, attempt to reduce after 100\n",
      "[Run 16:38:50] Reference genome is assumed to be linear.\n",
      "[Run 16:38:50] Only one alignment will be reported per mapped read.\n",
      "[ProcessReads 16:38:50] Reads will be loaded in batches of up to 200 MB in size.\n",
      "[ProcessReads 16:38:50] Batch of 1802 reads (10 MiB) loaded in 0.09 sec. (31679656 bases)\n",
      "[ProcessReads 16:38:50] Memory consumption: [currentRSS = 527 MB, peakRSS = 4501 MB]\n",
      "[ProcessReads 16:38:50] Using 62 threads.\n",
      "[ProcessReads 16:39:09] [CPU time: 690.15 sec, RSS: 589 MB] Read: 1802/1802 (100.00%) [m: 1718, u: 84]                                                             \n",
      "\n",
      "[ProcessReads 16:39:09] Memory consumption: [currentRSS = 589 MB, peakRSS = 4501 MB]\n",
      "\n",
      "[ProcessReads 16:39:09] All reads processed in 690.16 sec (or 11.50 CPU min).\n",
      "[Index 16:39:16] Running in fast and sensitive mode. Two indexes will be used (double memory consumption).\n",
      "[Index 16:39:16] Index already exists. Loading from file.\n",
      "[Index 16:39:16] Secondary index already exists. Loading from file.\n",
      "[Index 16:39:17] Index loaded in 0.48 sec.\n",
      "[Index 16:39:17] Memory consumption: [currentRSS = 516 MB, peakRSS = 4501 MB]\n",
      "\n",
      "[Run 16:39:17] Automatically setting the maximum allowed number of regions: max. 500, attempt to reduce after 100\n",
      "[Run 16:39:17] Reference genome is assumed to be linear.\n",
      "[Run 16:39:17] Only one alignment will be reported per mapped read.\n",
      "[ProcessReads 16:39:17] Reads will be loaded in batches of up to 200 MB in size.\n",
      "[ProcessReads 16:39:17] Batch of 1802 reads (10 MiB) loaded in 0.09 sec. (37418152 bases)\n",
      "[ProcessReads 16:39:17] Memory consumption: [currentRSS = 527 MB, peakRSS = 4501 MB]\n",
      "[ProcessReads 16:39:17] Using 62 threads.\n",
      "[ProcessReads 16:39:37] [CPU time: 693.85 sec, RSS: 595 MB] Read: 1802/1802 (100.00%) [m: 1528, u: 274]                                                            \n",
      "\n",
      "[ProcessReads 16:39:37] Memory consumption: [currentRSS = 595 MB, peakRSS = 4501 MB]\n",
      "\n",
      "[ProcessReads 16:39:37] All reads processed in 693.85 sec (or 11.56 CPU min).\n"
     ]
    }
   ],
   "source": [
    "for t in types: \n",
    "    sam_file = \"{0}.{1}.sam\".format(args[\"out_basename\"], t)\n",
    "    graphmap(ref_file, fasta_files[t], sam_file, args[\"ncores\"])\n",
    "    prepare_sam(\"{0}.{1}\".format(args[\"out_basename\"], t))"
   ]
  },
  {
   "cell_type": "code",
   "execution_count": 33,
   "metadata": {
    "collapsed": false
   },
   "outputs": [],
   "source": [
    "def mk_stat(t):\n",
    "    samfile = \"{0}.{1}.sorted.bam\".format(args[\"out_basename\"], t)\n",
    "    sst = samstats(samfile, ref, ncores=args[\"ncores\"])\n",
    "    return pandas.DataFrame(sst.print_summary())"
   ]
  },
  {
   "cell_type": "code",
   "execution_count": 34,
   "metadata": {
    "collapsed": false
   },
   "outputs": [
    {
     "name": "stdout",
     "output_type": "stream",
     "text": [
      "['metrichor', 'called', 'random']\n"
     ]
    },
    {
     "data": {
      "text/html": [
       "<div style='float: left;'><div>\n",
       "<table border=\"1\" class=\"dataframe\">\n",
       "  <thead>\n",
       "    <tr style=\"text-align: right;\">\n",
       "      <th></th>\n",
       "      <th>0</th>\n",
       "      <th>1</th>\n",
       "      <th>2</th>\n",
       "      <th>3</th>\n",
       "    </tr>\n",
       "  </thead>\n",
       "  <tbody>\n",
       "    <tr>\n",
       "      <th>0</th>\n",
       "      <td>mapped_reads/total_reads</td>\n",
       "      <td>1731</td>\n",
       "      <td>1802</td>\n",
       "      <td>96.059933%</td>\n",
       "    </tr>\n",
       "    <tr>\n",
       "      <th>1</th>\n",
       "      <td>significant_reads/total_reads</td>\n",
       "      <td>1531</td>\n",
       "      <td>1802</td>\n",
       "      <td>84.961154%</td>\n",
       "    </tr>\n",
       "    <tr>\n",
       "      <th>2</th>\n",
       "      <td>mapped_nts/total_nts</td>\n",
       "      <td>9181212</td>\n",
       "      <td>10421081</td>\n",
       "      <td>88.102300%</td>\n",
       "    </tr>\n",
       "    <tr>\n",
       "      <th>3</th>\n",
       "      <td>editdistance/alignment_length</td>\n",
       "      <td>4188258</td>\n",
       "      <td>10465915</td>\n",
       "      <td>40.018078%</td>\n",
       "    </tr>\n",
       "    <tr>\n",
       "      <th>4</th>\n",
       "      <td>alignment_score/alignment_length</td>\n",
       "      <td>11856757</td>\n",
       "      <td>10465915</td>\n",
       "      <td>113.289254%</td>\n",
       "    </tr>\n",
       "    <tr>\n",
       "      <th>5</th>\n",
       "      <td>SNPs/mapped_nts</td>\n",
       "      <td>1731521</td>\n",
       "      <td>9181212</td>\n",
       "      <td>18.859395%</td>\n",
       "    </tr>\n",
       "    <tr>\n",
       "      <th>6</th>\n",
       "      <td>ins/mapped_nts</td>\n",
       "      <td>1169947</td>\n",
       "      <td>9181212</td>\n",
       "      <td>12.742838%</td>\n",
       "    </tr>\n",
       "    <tr>\n",
       "      <th>7</th>\n",
       "      <td>del/mapped_nts</td>\n",
       "      <td>1284703</td>\n",
       "      <td>9181212</td>\n",
       "      <td>13.992739%</td>\n",
       "    </tr>\n",
       "  </tbody>\n",
       "</table>\n",
       "</div></div><div style='float: left;'><div>\n",
       "<table border=\"1\" class=\"dataframe\">\n",
       "  <thead>\n",
       "    <tr style=\"text-align: right;\">\n",
       "      <th></th>\n",
       "      <th>0</th>\n",
       "      <th>1</th>\n",
       "      <th>2</th>\n",
       "      <th>3</th>\n",
       "    </tr>\n",
       "  </thead>\n",
       "  <tbody>\n",
       "    <tr>\n",
       "      <th>0</th>\n",
       "      <td>mapped_reads/total_reads</td>\n",
       "      <td>1718</td>\n",
       "      <td>1802</td>\n",
       "      <td>95.338513%</td>\n",
       "    </tr>\n",
       "    <tr>\n",
       "      <th>1</th>\n",
       "      <td>significant_reads/total_reads</td>\n",
       "      <td>1261</td>\n",
       "      <td>1802</td>\n",
       "      <td>69.977802%</td>\n",
       "    </tr>\n",
       "    <tr>\n",
       "      <th>2</th>\n",
       "      <td>mapped_nts/total_nts</td>\n",
       "      <td>9358461</td>\n",
       "      <td>11168721</td>\n",
       "      <td>83.791698%</td>\n",
       "    </tr>\n",
       "    <tr>\n",
       "      <th>3</th>\n",
       "      <td>editdistance/alignment_length</td>\n",
       "      <td>5092585</td>\n",
       "      <td>10579899</td>\n",
       "      <td>48.134533%</td>\n",
       "    </tr>\n",
       "    <tr>\n",
       "      <th>4</th>\n",
       "      <td>alignment_score/alignment_length</td>\n",
       "      <td>5361829</td>\n",
       "      <td>10579899</td>\n",
       "      <td>50.679397%</td>\n",
       "    </tr>\n",
       "    <tr>\n",
       "      <th>5</th>\n",
       "      <td>SNPs/mapped_nts</td>\n",
       "      <td>2164056</td>\n",
       "      <td>9358461</td>\n",
       "      <td>23.124059%</td>\n",
       "    </tr>\n",
       "    <tr>\n",
       "      <th>6</th>\n",
       "      <td>ins/mapped_nts</td>\n",
       "      <td>1705380</td>\n",
       "      <td>9358461</td>\n",
       "      <td>18.222868%</td>\n",
       "    </tr>\n",
       "    <tr>\n",
       "      <th>7</th>\n",
       "      <td>del/mapped_nts</td>\n",
       "      <td>1221438</td>\n",
       "      <td>9358461</td>\n",
       "      <td>13.051697%</td>\n",
       "    </tr>\n",
       "  </tbody>\n",
       "</table>\n",
       "</div></div><div style='float: left;'><div>\n",
       "<table border=\"1\" class=\"dataframe\">\n",
       "  <thead>\n",
       "    <tr style=\"text-align: right;\">\n",
       "      <th></th>\n",
       "      <th>0</th>\n",
       "      <th>1</th>\n",
       "      <th>2</th>\n",
       "      <th>3</th>\n",
       "    </tr>\n",
       "  </thead>\n",
       "  <tbody>\n",
       "    <tr>\n",
       "      <th>0</th>\n",
       "      <td>mapped_reads/total_reads</td>\n",
       "      <td>1528</td>\n",
       "      <td>1802</td>\n",
       "      <td>84.794673%</td>\n",
       "    </tr>\n",
       "    <tr>\n",
       "      <th>1</th>\n",
       "      <td>significant_reads/total_reads</td>\n",
       "      <td>0</td>\n",
       "      <td>1802</td>\n",
       "      <td>0.000000%</td>\n",
       "    </tr>\n",
       "    <tr>\n",
       "      <th>2</th>\n",
       "      <td>mapped_nts/total_nts</td>\n",
       "      <td>7947781</td>\n",
       "      <td>11168721</td>\n",
       "      <td>71.161067%</td>\n",
       "    </tr>\n",
       "    <tr>\n",
       "      <th>3</th>\n",
       "      <td>editdistance/alignment_length</td>\n",
       "      <td>5081182</td>\n",
       "      <td>8453947</td>\n",
       "      <td>60.104257%</td>\n",
       "    </tr>\n",
       "    <tr>\n",
       "      <th>4</th>\n",
       "      <td>alignment_score/alignment_length</td>\n",
       "      <td>-1497406</td>\n",
       "      <td>8453947</td>\n",
       "      <td>-17.712508%</td>\n",
       "    </tr>\n",
       "    <tr>\n",
       "      <th>5</th>\n",
       "      <td>SNPs/mapped_nts</td>\n",
       "      <td>2203411</td>\n",
       "      <td>7947781</td>\n",
       "      <td>27.723600%</td>\n",
       "    </tr>\n",
       "    <tr>\n",
       "      <th>6</th>\n",
       "      <td>ins/mapped_nts</td>\n",
       "      <td>2370508</td>\n",
       "      <td>7947781</td>\n",
       "      <td>29.826036%</td>\n",
       "    </tr>\n",
       "    <tr>\n",
       "      <th>7</th>\n",
       "      <td>del/mapped_nts</td>\n",
       "      <td>506166</td>\n",
       "      <td>7947781</td>\n",
       "      <td>6.368646%</td>\n",
       "    </tr>\n",
       "  </tbody>\n",
       "</table>\n",
       "</div></div>"
      ],
      "text/plain": [
       "<__main__.side_by_side instance at 0x7fda2e68d050>"
      ]
     },
     "execution_count": 34,
     "metadata": {},
     "output_type": "execute_result"
    }
   ],
   "source": [
    "stats = map(mk_stat, types)\n",
    "print(types)\n",
    "side_by_side(*stats)"
   ]
  },
  {
   "cell_type": "code",
   "execution_count": 35,
   "metadata": {
    "collapsed": false
   },
   "outputs": [],
   "source": [
    "for t, df in zip(types, stats):\n",
    "    with open(\"{0}.stats.{1}.html\".format(args[\"out_basename\"], t), 'w') as f:\n",
    "        f.write(df.to_html())"
   ]
  },
  {
   "cell_type": "code",
   "execution_count": 36,
   "metadata": {
    "collapsed": false
   },
   "outputs": [],
   "source": [
    "# def score_consensus(t):\n",
    "#     consensus = mk_consensus(\"{0}.{1}.sorted.bam\".format(args[\"out_basename\"], t), ref_file)\n",
    "#     return(consensus)\n",
    "#     consensus = consensus.split(\"\\n\")[1].to_upper()\n",
    "#     score = needle(ref, consensus)\n",
    "#     return (consensus, score)"
   ]
  },
  {
   "cell_type": "code",
   "execution_count": 37,
   "metadata": {
    "collapsed": false
   },
   "outputs": [],
   "source": [
    "# p = Pool(args[\"ncores\"])\n",
    "# try:\n",
    "#     consensus = p.map(score_consensus, types)\n",
    "#     p.close()\n",
    "# except KeyboardInterrupt:\n",
    "#     p.terminate()"
   ]
  },
  {
   "cell_type": "code",
   "execution_count": 38,
   "metadata": {
    "collapsed": false
   },
   "outputs": [],
   "source": [
    "# consensus"
   ]
  },
  {
   "cell_type": "code",
   "execution_count": 39,
   "metadata": {
    "collapsed": false
   },
   "outputs": [],
   "source": [
    "# mk_consensus(\"{0}.{1}.sorted.bam\".format(args[\"out_basename\"], \"metrichor\"), ref_file)"
   ]
  },
  {
   "cell_type": "code",
   "execution_count": null,
   "metadata": {
    "collapsed": true
   },
   "outputs": [],
   "source": []
  }
 ],
 "metadata": {
  "kernelspec": {
   "display_name": "SSH einser ipython2",
   "language": "",
   "name": "rik_ssh_einser_python2"
  },
  "language_info": {
   "codemirror_mode": {
    "name": "ipython",
    "version": 2
   },
   "file_extension": ".py",
   "mimetype": "text/x-python",
   "name": "python",
   "nbconvert_exporter": "python",
   "pygments_lexer": "ipython2",
   "version": "2.7.10"
  }
 },
 "nbformat": 4,
 "nbformat_minor": 0
}
