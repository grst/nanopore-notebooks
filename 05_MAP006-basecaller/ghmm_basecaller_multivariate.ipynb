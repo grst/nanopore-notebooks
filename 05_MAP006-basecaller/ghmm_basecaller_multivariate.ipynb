{
 "cells": [
  {
   "cell_type": "code",
   "execution_count": 2,
   "metadata": {
    "collapsed": false
   },
   "outputs": [],
   "source": [
    "import ghmm\n",
    "from collections import OrderedDict\n",
    "import cPickle as pickle\n",
    "import numpy as np\n",
    "from itertools import product as iterproduct, chain\n",
    "from pprint import pprint\n",
    "import pysam\n",
    "import os\n",
    "import pandas\n",
    "from copy import deepcopy\n",
    "import re\n",
    "import editdistance\n",
    "import sys\n",
    "import math\n",
    "import random\n",
    "from nbwrapper import getargs\n",
    "from multiprocessing import Pool\n",
    "%run \"/home/ibis/gregor.sturm/nanopore/own/notebooks/05_MAP006-basecaller/lib/alignment_validation.ipynb\"\n",
    "%run \"/home/ibis/gregor.sturm/nanopore/own/notebooks/05_MAP006-basecaller/lib/alignment_lib.ipynb\"\n",
    "%run \"/home/ibis/gregor.sturm/nanopore/own/notebooks/05_MAP006-basecaller/lib/analysis_lib.ipynb\""
   ]
  },
  {
   "cell_type": "code",
   "execution_count": 3,
   "metadata": {
    "collapsed": false
   },
   "outputs": [
    {
     "name": "stderr",
     "output_type": "stream",
     "text": [
      "/home/ibis/gregor.sturm/bin/anaconda/lib/python2.7/site-packages/nbwrapper.py:31: RuntimeWarning: no arguments passed!\n",
      "  warnings.warn(\"no arguments passed!\", RuntimeWarning)\n"
     ]
    }
   ],
   "source": [
    "args = getargs()"
   ]
  },
  {
   "cell_type": "code",
   "execution_count": 4,
   "metadata": {
    "collapsed": true,
    "run_control": {
     "breakpoint": false
    }
   },
   "outputs": [],
   "source": [
    "NMERS = 6"
   ]
  },
  {
   "cell_type": "code",
   "execution_count": 5,
   "metadata": {
    "collapsed": false
   },
   "outputs": [],
   "source": [
    "# args = {\n",
    "#     \"events\" : \"/home/ibis/gregor.sturm/nanopore/own/notebooks/05_MAP006-basecaller/loman006-1_100.events.template.pickle\",\n",
    "#     \"out_basename\" : \"/home/ibis/gregor.sturm/nanopore/own/notebooks/05_MAP006-basecaller/loman006-1_100.called\",\n",
    "#     \"ref\": \"/home/ibis/gregor.sturm/nanopore/NanoporeData/PublicData/LomanLab_MAP-006/ecoli_mg1655.fa\",\n",
    "#     \"hmm_params\": \"/home/ibis/gregor.sturm/nanopore/own/notebooks/05_MAP006-basecaller/loman006-1.model.pickle\",\n",
    "#     \"ncores\": 62,\n",
    "#     \"nmers\": NMERS,\n",
    "#     \"multivariate\": False\n",
    "# }\n",
    "args = {\n",
    "    \"events\" : \"/home/ibis/gregor.sturm/nanopore/own/notebooks/05_MAP006-basecaller/wouter_lambda006_100.events.template.pickle\",\n",
    "    \"out_basename\" : \"/home/ibis/gregor.sturm/nanopore/own/notebooks/05_MAP006-basecaller/loman006-1_100.called\",\n",
    "    \"ref\": \"/home/ibis/gregor.sturm/nanopore/own/notebooks/03_pipeline/lambda_ref.fasta\",\n",
    "    \"hmm_params\": \"/home/ibis/gregor.sturm/nanopore/own/notebooks/05_MAP006-basecaller/loman006-1.model.pickle\",\n",
    "    \"ncores\": 62,\n",
    "    \"nmers\": NMERS,\n",
    "    \"multivariate\": False\n",
    "}"
   ]
  },
  {
   "cell_type": "code",
   "execution_count": 6,
   "metadata": {
    "collapsed": false
   },
   "outputs": [],
   "source": [
    "NMERS = int(args[\"nmers\"])\n",
    "NSTATES = 4**NMERS\n",
    "MULTIVARIATE = bool(int(args[\"multivariate\"]))\n",
    "args[\"ncores\"] = int(args[\"ncores\"])"
   ]
  },
  {
   "cell_type": "code",
   "execution_count": 7,
   "metadata": {
    "collapsed": false
   },
   "outputs": [],
   "source": [
    "HMM_PARAMS = pickle.load(open(args[\"hmm_params\"], 'rb'))\n",
    "HMM_PARAMS = HMM_PARAMS[\"/opt/chimaera/model/r7.3_e6_70bps_6mer/template_median68pA.model\"]\n",
    "ALL_KMERS = [\"\".join(x) for x in iterproduct(\"ACGT\", repeat=NMERS)]\n",
    "assert HMM_PARAMS[\"kmer\"].tolist() == ALL_KMERS"
   ]
  },
  {
   "cell_type": "markdown",
   "metadata": {},
   "source": [
    "# Train Model "
   ]
  },
  {
   "cell_type": "code",
   "execution_count": 8,
   "metadata": {
    "collapsed": true
   },
   "outputs": [],
   "source": [
    "def mk_transmat1(nmers):\n",
    "    \"\"\"make a transition matrix assuming move=1\"\"\"\n",
    "    n_components = len(ALL_KMERS)\n",
    "    transmat = np.empty((n_components, n_components))\n",
    "    for j, from_kmer in enumerate(ALL_KMERS):\n",
    "        for i, to_kmer in enumerate(ALL_KMERS):\n",
    "            p = 1/4. if from_kmer[-(NMERS-1):] == to_kmer[:(NMERS-1)] else 0.\n",
    "            transmat[j, i] = p          \n",
    "            \n",
    "    return transmat.tolist()"
   ]
  },
  {
   "cell_type": "code",
   "execution_count": 9,
   "metadata": {
    "collapsed": true
   },
   "outputs": [],
   "source": [
    "def mk_transmat0(nmers):\n",
    "    \"\"\"make a transition matrix assuming move=0 or move=1\"\"\"\n",
    "    n_components = len(ALL_KMERS)\n",
    "    transmat = np.empty((n_components, n_components))\n",
    "    for j, from_kmer in enumerate(ALL_KMERS):\n",
    "        for i, to_kmer in enumerate(ALL_KMERS):\n",
    "            p = 0\n",
    "            if from_kmer[-(NMERS-1):] == to_kmer[:(NMERS-1)]:\n",
    "                \"\"\"move=1\"\"\"\n",
    "                p = (9/10.) * (1/4.) \n",
    "            elif from_kmer == to_kmer:\n",
    "                \"\"\"move=0\"\"\"\n",
    "                p = (1/10.) * 1\n",
    "            transmat[j, i] = p          \n",
    "            \n",
    "    return transmat.tolist()"
   ]
  },
  {
   "cell_type": "code",
   "execution_count": 10,
   "metadata": {
    "collapsed": true
   },
   "outputs": [],
   "source": [
    "def mk_transmat2(nmers):\n",
    "    \"\"\"make a transition matrix assuming move=0 or move=1 or move=2\"\"\"\n",
    "    n_components = len(ALL_KMERS)\n",
    "    transmat = np.empty((n_components, n_components))\n",
    "    for j, from_kmer in enumerate(ALL_KMERS):\n",
    "        for i, to_kmer in enumerate(ALL_KMERS):\n",
    "            p = 0\n",
    "            if from_kmer[-(NMERS-2):] == to_kmer[:(NMERS-2)]:\n",
    "                \"\"\"move=2\"\"\"\n",
    "                p = (2/50.) * (1/16.)\n",
    "            elif from_kmer[-(NMERS-1):] == to_kmer[:(NMERS-1)]:\n",
    "                \"\"\"move=1\"\"\"\n",
    "                p = (47/50.) * (1/4.) \n",
    "            elif from_kmer == to_kmer:\n",
    "                \"\"\"move=0\"\"\"\n",
    "                p = (1/50.) * 1\n",
    "            transmat[j, i] = p          \n",
    "            \n",
    "    return transmat.tolist()"
   ]
  },
  {
   "cell_type": "code",
   "execution_count": 11,
   "metadata": {
    "collapsed": true
   },
   "outputs": [],
   "source": [
    "mk_transmat = mk_transmat2"
   ]
  },
  {
   "cell_type": "code",
   "execution_count": 12,
   "metadata": {
    "collapsed": false
   },
   "outputs": [],
   "source": [
    "def mk_model_simple(): \n",
    "    \"\"\" simple model, only taking the means into account. \"\"\"\n",
    "    A = mk_transmat(NMERS)\n",
    "    B = HMM_PARAMS[[\"level_mean\", \"level_stdv\"]].values.tolist() #mu, std of each state\n",
    "    pi = [1/float(NSTATES)] * NSTATES   # initial probabilities per state\n",
    "    # generate model from parameters\n",
    "    model = ghmm.HMMFromMatrices(F,ghmm.GaussianDistribution(F), A, B, pi)\n",
    "    return model"
   ]
  },
  {
   "cell_type": "code",
   "execution_count": 13,
   "metadata": {
    "collapsed": true
   },
   "outputs": [],
   "source": [
    "F = ghmm.Float()  # emission domain of this model\n",
    "def mk_model():\n",
    "    if MULTIVARIATE: \n",
    "        return mk_model_multivariate()\n",
    "    else: \n",
    "        return mk_model_simple()"
   ]
  },
  {
   "cell_type": "code",
   "execution_count": 14,
   "metadata": {
    "collapsed": false
   },
   "outputs": [
    {
     "name": "stdout",
     "output_type": "stream",
     "text": [
      "GaussianEmissionHMM(N=4096)\n",
      "  state 0 (initial=0.00, mu=62.78, sigma=0.84)\n",
      "    Transitions: ->0 (0.00), ->1 (0.00), ->2 (0.00), ->3 (0.00), ->4 (0.00), ->5 (0.00), ->6 (0.00), ->7 (0.00), ->8 (0.00), ->9 (0.00), ->10 (0.00), ->11 (0.00), ->12 (0.00), ->13 (0.00), ->14 (0.00), ->15 (0.00)\n",
      "  state 1 (initial=0.00, mu=58.02, sigma=0.66)\n",
      "    Transitions: ->1 (0.02), ->4 (0.23), ->5 (0.23), ->6 (0.23), ->7 (0.23), ->16 (0.00), ->17 (0.00), ->18 (0.00), ->19 (0.00), ->20 (0.00), ->21 (0.00), ->22 (0.00), ->23 (0.00), ->24 (0.00), ->25 (0.00), ->26 (0.00), ->27 (0.00), ->28 (0.00), ->29 (0.00), ->30 (0.00), ->31 (0.00)\n",
      "\n",
      "  ...\n",
      "\n",
      "  state 4094 (initial=0.00, mu=45.36, sigma=0.64)\n",
      "    Transitions: ->4064 (0.00), ->4065 (0.00), ->4066 (0.00), ->4067 (0.00), ->4068 (0.00), ->4069 (0.00), ->4070 (0.00), ->4071 (0.00), ->4072 (0.00), ->4073 (0.00), ->4074 (0.00), ->4075 (0.00), ->4076 (0.00), ->4077 (0.00), ->4078 (0.00), ->4079 (0.00), ->4088 (0.23), ->4089 (0.23), ->4090 (0.23), ->4091 (0.23), ->4094 (0.02)\n",
      "  state 4095 (initial=0.00, mu=43.74, sigma=0.95)\n",
      "    Transitions: ->4080 (0.00), ->4081 (0.00), ->4082 (0.00), ->4083 (0.00), ->4084 (0.00), ->4085 (0.00), ->4086 (0.00), ->4087 (0.00), ->4088 (0.00), ->4089 (0.00), ->4090 (0.00), ->4091 (0.00), ->4092 (0.00), ->4093 (0.00), ->4094 (0.00), ->4095 (0.00)\n",
      "\n"
     ]
    }
   ],
   "source": [
    "model = mk_model()\n",
    "s = str(model)\n",
    "print(s)"
   ]
  },
  {
   "cell_type": "code",
   "execution_count": 15,
   "metadata": {
    "collapsed": false
   },
   "outputs": [],
   "source": [
    "def result_to_seq(result):\n",
    "    states = result[0]\n",
    "    kmers = [ALL_KMERS[x] for x in states]\n",
    "    seq = [kmer[0] for kmer in kmers] + [kmers[-1][1:]]\n",
    "    return \"\".join(seq)"
   ]
  },
  {
   "cell_type": "code",
   "execution_count": 16,
   "metadata": {
    "collapsed": true
   },
   "outputs": [],
   "source": [
    "def predict(mixed):\n",
    "    \"\"\"mixed is a set of tuples (event_mean, event_stdv)\"\"\"\n",
    "    if MULTIVARIATE: \n",
    "        emissions = [x for x in chain(*mixed)]    \n",
    "    else: \n",
    "        emissions = [x[0] for x in mixed]\n",
    "    seq = ghmm.EmissionSequence(F, emissions)\n",
    "    result = model.viterbi(seq)\n",
    "    return result_to_seq(result)"
   ]
  },
  {
   "cell_type": "code",
   "execution_count": 17,
   "metadata": {
    "collapsed": false
   },
   "outputs": [],
   "source": [
    "s = model.sampleSingle(10)\n",
    "s = [x for x in s]\n",
    "seq = zip([s[i] for i in range(0, len(s), 2)], [s[i] for i in range(1, len(s), 2)])"
   ]
  },
  {
   "cell_type": "code",
   "execution_count": 18,
   "metadata": {
    "collapsed": false
   },
   "outputs": [
    {
     "data": {
      "text/plain": [
       "'AAGCTGCTTT'"
      ]
     },
     "execution_count": 18,
     "metadata": {},
     "output_type": "execute_result"
    }
   ],
   "source": [
    "predict(seq)"
   ]
  },
  {
   "cell_type": "code",
   "execution_count": 19,
   "metadata": {
    "collapsed": false,
    "run_control": {
     "breakpoint": false
    }
   },
   "outputs": [
    {
     "data": {
      "text/plain": [
       "<ghmm.GaussianEmissionHMM at 0x7f2663599ad0>"
      ]
     },
     "execution_count": 19,
     "metadata": {},
     "output_type": "execute_result"
    }
   ],
   "source": [
    "model"
   ]
  },
  {
   "cell_type": "markdown",
   "metadata": {},
   "source": [
    "# Validate Model "
   ]
  },
  {
   "cell_type": "code",
   "execution_count": 20,
   "metadata": {
    "collapsed": false
   },
   "outputs": [
    {
     "name": "stdout",
     "output_type": "stream",
     "text": [
      "/home/ibis/gregor.sturm/nanopore/own/notebooks\r\n"
     ]
    }
   ],
   "source": [
    "!pwd"
   ]
  },
  {
   "cell_type": "code",
   "execution_count": 21,
   "metadata": {
    "collapsed": false
   },
   "outputs": [],
   "source": [
    "assert os.path.isfile(args[\"events\"])"
   ]
  },
  {
   "cell_type": "code",
   "execution_count": 22,
   "metadata": {
    "collapsed": false
   },
   "outputs": [
    {
     "name": "stdout",
     "output_type": "stream",
     "text": [
      "['>burn-in lambda_ref']\n",
      "GGGCGGCGACCTCGCGGGTTTTCGCTATTTATGAAAATTTTCCGGTTTAAGGCGTTTCCGTTCTTCTTCGTCATAACTTAATGTTTTTATTTAAAATACC\n"
     ]
    }
   ],
   "source": [
    "ref = load_ref(args[\"ref\"])"
   ]
  },
  {
   "cell_type": "code",
   "execution_count": 23,
   "metadata": {
    "collapsed": false
   },
   "outputs": [],
   "source": [
    "file_data = pickle.load(open(args[\"events\"], 'rb'))\n",
    "file_data = [f for f in file_data if f is not None]"
   ]
  },
  {
   "cell_type": "code",
   "execution_count": 24,
   "metadata": {
    "collapsed": false
   },
   "outputs": [],
   "source": [
    "prepare_filemap(file_data)"
   ]
  },
  {
   "cell_type": "code",
   "execution_count": 25,
   "metadata": {
    "collapsed": true
   },
   "outputs": [],
   "source": [
    "def train_read(file_obj):    \n",
    "    events = [x[\"mean\"] for x in file_obj[\"events\"].to_dict(\"records\")]\n",
    "    seq = ghmm.EmissionSequence(F, events)\n",
    "    model.baumWelch(seq)\n",
    "    "
   ]
  },
  {
   "cell_type": "code",
   "execution_count": 26,
   "metadata": {
    "collapsed": false,
    "scrolled": true
   },
   "outputs": [],
   "source": [
    "def basecall_read(file_obj):\n",
    "    file_obj = correct_read(file_obj, col=\"mean\")\n",
    "    events = [(x[\"mean\"], x[\"stdv\"]) for x in file_obj[\"events\"].to_dict(\"records\")]\n",
    "    called_seq = predict(events)\n",
    "    return (file_obj[\"channel\"], file_obj[\"file_id\"], called_seq)"
   ]
  },
  {
   "cell_type": "code",
   "execution_count": 27,
   "metadata": {
    "collapsed": false
   },
   "outputs": [],
   "source": [
    "# \"\"\" train with baum-welch \"\"\"\n",
    "# for i, file_obj in enumerate(file_data): \n",
    "#     sys.stdout.write('\\rdone {0:%}'.format(i/float(len(file_data))))\n",
    "#     train_read(file_obj)"
   ]
  },
  {
   "cell_type": "code",
   "execution_count": 28,
   "metadata": {
    "collapsed": true,
    "run_control": {
     "breakpoint": false
    }
   },
   "outputs": [],
   "source": [
    "p = Pool(args[\"ncores\"])"
   ]
  },
  {
   "cell_type": "code",
   "execution_count": 29,
   "metadata": {
    "collapsed": false
   },
   "outputs": [
    {
     "name": "stdout",
     "output_type": "stream",
     "text": [
      "Prediction: \n",
      "done 100.000000%"
     ]
    }
   ],
   "source": [
    "print(\"Prediction: \")\n",
    "results = []\n",
    "try:\n",
    "    for i, res in enumerate(p.imap_unordered(basecall_read, file_data), 1):\n",
    "        results.append(res)\n",
    "        sys.stdout.write('\\rdone {0:%}'.format(i/float(len(file_data))))\n",
    "    p.close()\n",
    "    p.join()\n",
    "except KeyboardInterrupt:\n",
    "    p.terminate()"
   ]
  },
  {
   "cell_type": "markdown",
   "metadata": {},
   "source": [
    "### Stats"
   ]
  },
  {
   "cell_type": "code",
   "execution_count": 30,
   "metadata": {
    "collapsed": true
   },
   "outputs": [],
   "source": [
    "types = [\"metrichor\", \"called\", \"random\"]\n",
    "fasta_files = {t: \"{0}.{1}.fa\".format(args[\"out_basename\"], t) for t in types}"
   ]
  },
  {
   "cell_type": "code",
   "execution_count": 31,
   "metadata": {
    "collapsed": true
   },
   "outputs": [],
   "source": [
    "## metrichor fasta\n",
    "with open(fasta_files[\"metrichor\"], 'w') as f: \n",
    "    for file_obj in file_data: \n",
    "        f.write(\">ch{0}_file{1}_metrichor\".format(file_obj[\"channel\"], file_obj[\"file_id\"])+ \"\\n\")\n",
    "        f.write(file_obj[\"fastq\"].split(\"\\n\")[1] + \"\\n\")"
   ]
  },
  {
   "cell_type": "code",
   "execution_count": 32,
   "metadata": {
    "collapsed": false
   },
   "outputs": [],
   "source": [
    "## called fasta/random fasta\n",
    "with open(fasta_files[\"called\"], 'w') as f: \n",
    "    with open(fasta_files[\"random\"], 'w') as fr:\n",
    "        for channel, file_id, seq in results: \n",
    "            f.write(\">ch{0}_file{1}_called\".format(channel, file_id)+ \"\\n\")\n",
    "            fr.write(\">ch{0}_file{1}_random\".format(channel, file_id)+ \"\\n\")\n",
    "            f.write(seq + \"\\n\")\n",
    "            fr.write(\"\".join([random.choice(\"ACGT\") for _ in range(len(seq))]))"
   ]
  },
  {
   "cell_type": "code",
   "execution_count": 33,
   "metadata": {
    "collapsed": false,
    "scrolled": true
   },
   "outputs": [
    {
     "name": "stdout",
     "output_type": "stream",
     "text": [
      "[Index 14:36:33] Running in fast and sensitive mode. Two indexes will be used (double memory consumption).\n",
      "[Index 14:36:33] Index already exists. Loading from file.\n",
      "[Index 14:36:35] Secondary index already exists. Loading from file.\n",
      "[Index 14:36:36] Index loaded in 0.78 sec.\n",
      "[Index 14:36:36] Memory consumption: [currentRSS = 516 MB, peakRSS = 759 MB]\n",
      "\n",
      "[Run 14:36:36] Automatically setting the maximum allowed number of regions: max. 500, attempt to reduce after 100\n",
      "[Run 14:36:36] Reference genome is assumed to be linear.\n",
      "[Run 14:36:36] Only one alignment will be reported per mapped read.\n",
      "[ProcessReads 14:36:36] Reads will be loaded in batches of up to 200 MB in size.\n",
      "[ProcessReads 14:36:36] Batch of 99 reads (0 MiB) loaded in 0.01 sec. (26817752 bases)\n",
      "[ProcessReads 14:36:36] Memory consumption: [currentRSS = 517 MB, peakRSS = 759 MB]\n",
      "[ProcessReads 14:36:36] Using 62 threads.\n",
      "[ProcessReads 14:36:38] [CPU time: 9.61 sec, RSS: 533 MB] Read: 99/99 (100.00%) [m: 95, u: 4]                                                                      \n",
      "\n",
      "[ProcessReads 14:36:38] Memory consumption: [currentRSS = 533 MB, peakRSS = 837 MB]\n",
      "\n",
      "[ProcessReads 14:36:38] All reads processed in 9.62 sec (or 0.16 CPU min).\n",
      "[Index 14:36:39] Running in fast and sensitive mode. Two indexes will be used (double memory consumption).\n",
      "[Index 14:36:39] Index already exists. Loading from file.\n",
      "[Index 14:36:40] Secondary index already exists. Loading from file.\n",
      "[Index 14:36:40] Index loaded in 0.66 sec.\n",
      "[Index 14:36:40] Memory consumption: [currentRSS = 516 MB, peakRSS = 759 MB]\n",
      "\n",
      "[Run 14:36:40] Automatically setting the maximum allowed number of regions: max. 500, attempt to reduce after 100\n",
      "[Run 14:36:40] Reference genome is assumed to be linear.\n",
      "[Run 14:36:40] Only one alignment will be reported per mapped read.\n",
      "[ProcessReads 14:36:40] Reads will be loaded in batches of up to 200 MB in size.\n",
      "[ProcessReads 14:36:40] Batch of 99 reads (0 MiB) loaded in 0.00 sec. (25478344 bases)\n",
      "[ProcessReads 14:36:40] Memory consumption: [currentRSS = 517 MB, peakRSS = 759 MB]\n",
      "[ProcessReads 14:36:40] Using 62 threads.\n",
      "[ProcessReads 14:36:42] [CPU time: 7.55 sec, RSS: 529 MB] Read: 99/99 (100.00%) [m: 95, u: 4]                                                                      \n",
      "\n",
      "[ProcessReads 14:36:42] Memory consumption: [currentRSS = 529 MB, peakRSS = 759 MB]\n",
      "\n",
      "[ProcessReads 14:36:42] All reads processed in 7.58 sec (or 0.13 CPU min).\n",
      "[Index 14:36:43] Running in fast and sensitive mode. Two indexes will be used (double memory consumption).\n",
      "[Index 14:36:43] Index already exists. Loading from file.\n",
      "[Index 14:36:43] Secondary index already exists. Loading from file.\n",
      "[Index 14:36:44] Index loaded in 0.70 sec.\n",
      "[Index 14:36:44] Memory consumption: [currentRSS = 516 MB, peakRSS = 759 MB]\n",
      "\n",
      "[Run 14:36:44] Automatically setting the maximum allowed number of regions: max. 500, attempt to reduce after 100\n",
      "[Run 14:36:44] Reference genome is assumed to be linear.\n",
      "[Run 14:36:44] Only one alignment will be reported per mapped read.\n",
      "[ProcessReads 14:36:44] Reads will be loaded in batches of up to 200 MB in size.\n",
      "[ProcessReads 14:36:44] Batch of 99 reads (0 MiB) loaded in 0.00 sec. (22787272 bases)\n",
      "[ProcessReads 14:36:44] Memory consumption: [currentRSS = 517 MB, peakRSS = 759 MB]\n",
      "[ProcessReads 14:36:44] Using 62 threads.\n",
      "[ProcessReads 14:36:45] [CPU time: 7.80 sec, RSS: 531 MB] Read: 99/99 (100.00%) [m: 85, u: 14]                                                                     \n",
      "\n",
      "[ProcessReads 14:36:45] Memory consumption: [currentRSS = 531 MB, peakRSS = 759 MB]\n",
      "\n",
      "[ProcessReads 14:36:45] All reads processed in 7.81 sec (or 0.13 CPU min).\n"
     ]
    }
   ],
   "source": [
    "for t in types: \n",
    "    sam_file = \"{0}.{1}.sam\".format(args[\"out_basename\"], t)\n",
    "    graphmap(args[\"ref\"], fasta_files[t], sam_file, args[\"ncores\"])\n",
    "    prepare_sam(\"{0}.{1}\".format(args[\"out_basename\"], t))"
   ]
  },
  {
   "cell_type": "code",
   "execution_count": 34,
   "metadata": {
    "collapsed": false
   },
   "outputs": [],
   "source": [
    "def mk_stat(t):\n",
    "    samfile = \"{0}.{1}.sorted.bam\".format(args[\"out_basename\"], t)\n",
    "    sst = samstats(samfile, ref, ncores=args[\"ncores\"])\n",
    "    return pandas.DataFrame(sst.print_summary())"
   ]
  },
  {
   "cell_type": "code",
   "execution_count": 35,
   "metadata": {
    "collapsed": false
   },
   "outputs": [
    {
     "name": "stdout",
     "output_type": "stream",
     "text": [
      "['metrichor', 'called', 'random']\n"
     ]
    },
    {
     "data": {
      "text/html": [
       "<div style='float: left;'><div>\n",
       "<table border=\"1\" class=\"dataframe\">\n",
       "  <thead>\n",
       "    <tr style=\"text-align: right;\">\n",
       "      <th></th>\n",
       "      <th>0</th>\n",
       "      <th>1</th>\n",
       "      <th>2</th>\n",
       "      <th>3</th>\n",
       "    </tr>\n",
       "  </thead>\n",
       "  <tbody>\n",
       "    <tr>\n",
       "      <th>0</th>\n",
       "      <td>mapped_reads/total_reads</td>\n",
       "      <td>95</td>\n",
       "      <td>99</td>\n",
       "      <td>95.959596%</td>\n",
       "    </tr>\n",
       "    <tr>\n",
       "      <th>1</th>\n",
       "      <td>significant_reads/total_reads</td>\n",
       "      <td>53</td>\n",
       "      <td>99</td>\n",
       "      <td>53.535354%</td>\n",
       "    </tr>\n",
       "    <tr>\n",
       "      <th>2</th>\n",
       "      <td>mapped_nts/total_nts</td>\n",
       "      <td>464639</td>\n",
       "      <td>561714</td>\n",
       "      <td>82.718074%</td>\n",
       "    </tr>\n",
       "    <tr>\n",
       "      <th>3</th>\n",
       "      <td>editdistance/alignment_length</td>\n",
       "      <td>253427</td>\n",
       "      <td>518049</td>\n",
       "      <td>48.919504%</td>\n",
       "    </tr>\n",
       "    <tr>\n",
       "      <th>4</th>\n",
       "      <td>alignment_score/alignment_length</td>\n",
       "      <td>262873</td>\n",
       "      <td>518049</td>\n",
       "      <td>50.742883%</td>\n",
       "    </tr>\n",
       "    <tr>\n",
       "      <th>5</th>\n",
       "      <td>SNPs/mapped_nts</td>\n",
       "      <td>107812</td>\n",
       "      <td>464639</td>\n",
       "      <td>23.203390%</td>\n",
       "    </tr>\n",
       "    <tr>\n",
       "      <th>6</th>\n",
       "      <td>ins/mapped_nts</td>\n",
       "      <td>92122</td>\n",
       "      <td>464639</td>\n",
       "      <td>19.826575%</td>\n",
       "    </tr>\n",
       "    <tr>\n",
       "      <th>7</th>\n",
       "      <td>del/mapped_nts</td>\n",
       "      <td>53410</td>\n",
       "      <td>464639</td>\n",
       "      <td>11.494946%</td>\n",
       "    </tr>\n",
       "  </tbody>\n",
       "</table>\n",
       "</div></div><div style='float: left;'><div>\n",
       "<table border=\"1\" class=\"dataframe\">\n",
       "  <thead>\n",
       "    <tr style=\"text-align: right;\">\n",
       "      <th></th>\n",
       "      <th>0</th>\n",
       "      <th>1</th>\n",
       "      <th>2</th>\n",
       "      <th>3</th>\n",
       "    </tr>\n",
       "  </thead>\n",
       "  <tbody>\n",
       "    <tr>\n",
       "      <th>0</th>\n",
       "      <td>mapped_reads/total_reads</td>\n",
       "      <td>95</td>\n",
       "      <td>99</td>\n",
       "      <td>95.959596%</td>\n",
       "    </tr>\n",
       "    <tr>\n",
       "      <th>1</th>\n",
       "      <td>significant_reads/total_reads</td>\n",
       "      <td>25</td>\n",
       "      <td>99</td>\n",
       "      <td>25.252525%</td>\n",
       "    </tr>\n",
       "    <tr>\n",
       "      <th>2</th>\n",
       "      <td>mapped_nts/total_nts</td>\n",
       "      <td>390421</td>\n",
       "      <td>493623</td>\n",
       "      <td>79.092952%</td>\n",
       "    </tr>\n",
       "    <tr>\n",
       "      <th>3</th>\n",
       "      <td>editdistance/alignment_length</td>\n",
       "      <td>235884</td>\n",
       "      <td>427613</td>\n",
       "      <td>55.162963%</td>\n",
       "    </tr>\n",
       "    <tr>\n",
       "      <th>4</th>\n",
       "      <td>alignment_score/alignment_length</td>\n",
       "      <td>40026</td>\n",
       "      <td>427613</td>\n",
       "      <td>9.360333%</td>\n",
       "    </tr>\n",
       "    <tr>\n",
       "      <th>5</th>\n",
       "      <td>SNPs/mapped_nts</td>\n",
       "      <td>100035</td>\n",
       "      <td>390421</td>\n",
       "      <td>25.622341%</td>\n",
       "    </tr>\n",
       "    <tr>\n",
       "      <th>6</th>\n",
       "      <td>ins/mapped_nts</td>\n",
       "      <td>98599</td>\n",
       "      <td>390421</td>\n",
       "      <td>25.254533%</td>\n",
       "    </tr>\n",
       "    <tr>\n",
       "      <th>7</th>\n",
       "      <td>del/mapped_nts</td>\n",
       "      <td>37192</td>\n",
       "      <td>390421</td>\n",
       "      <td>9.526127%</td>\n",
       "    </tr>\n",
       "  </tbody>\n",
       "</table>\n",
       "</div></div><div style='float: left;'><div>\n",
       "<table border=\"1\" class=\"dataframe\">\n",
       "  <thead>\n",
       "    <tr style=\"text-align: right;\">\n",
       "      <th></th>\n",
       "      <th>0</th>\n",
       "      <th>1</th>\n",
       "      <th>2</th>\n",
       "      <th>3</th>\n",
       "    </tr>\n",
       "  </thead>\n",
       "  <tbody>\n",
       "    <tr>\n",
       "      <th>0</th>\n",
       "      <td>mapped_reads/total_reads</td>\n",
       "      <td>85</td>\n",
       "      <td>99</td>\n",
       "      <td>85.858586%</td>\n",
       "    </tr>\n",
       "    <tr>\n",
       "      <th>1</th>\n",
       "      <td>significant_reads/total_reads</td>\n",
       "      <td>0</td>\n",
       "      <td>99</td>\n",
       "      <td>0.000000%</td>\n",
       "    </tr>\n",
       "    <tr>\n",
       "      <th>2</th>\n",
       "      <td>mapped_nts/total_nts</td>\n",
       "      <td>341501</td>\n",
       "      <td>493623</td>\n",
       "      <td>69.182554%</td>\n",
       "    </tr>\n",
       "    <tr>\n",
       "      <th>3</th>\n",
       "      <td>editdistance/alignment_length</td>\n",
       "      <td>218353</td>\n",
       "      <td>362902</td>\n",
       "      <td>60.168585%</td>\n",
       "    </tr>\n",
       "    <tr>\n",
       "      <th>4</th>\n",
       "      <td>alignment_score/alignment_length</td>\n",
       "      <td>-64620</td>\n",
       "      <td>362902</td>\n",
       "      <td>-17.806460%</td>\n",
       "    </tr>\n",
       "    <tr>\n",
       "      <th>5</th>\n",
       "      <td>SNPs/mapped_nts</td>\n",
       "      <td>94701</td>\n",
       "      <td>341501</td>\n",
       "      <td>27.730812%</td>\n",
       "    </tr>\n",
       "    <tr>\n",
       "      <th>6</th>\n",
       "      <td>ins/mapped_nts</td>\n",
       "      <td>102187</td>\n",
       "      <td>341501</td>\n",
       "      <td>29.922899%</td>\n",
       "    </tr>\n",
       "    <tr>\n",
       "      <th>7</th>\n",
       "      <td>del/mapped_nts</td>\n",
       "      <td>21401</td>\n",
       "      <td>341501</td>\n",
       "      <td>6.266746%</td>\n",
       "    </tr>\n",
       "  </tbody>\n",
       "</table>\n",
       "</div></div>"
      ],
      "text/plain": [
       "<__main__.side_by_side instance at 0x7f26410b7050>"
      ]
     },
     "execution_count": 35,
     "metadata": {},
     "output_type": "execute_result"
    }
   ],
   "source": [
    "stats = map(mk_stat, types)\n",
    "print(types)\n",
    "side_by_side(*stats)"
   ]
  },
  {
   "cell_type": "code",
   "execution_count": 36,
   "metadata": {
    "collapsed": false
   },
   "outputs": [],
   "source": [
    "# for t, df in zip(types, stats):\n",
    "#     with open(\"{0}.stats.{1}.html\".format(args[\"out_basename\"], t), 'w') as f:\n",
    "#         f.write(df.to_html())"
   ]
  },
  {
   "cell_type": "code",
   "execution_count": 37,
   "metadata": {
    "collapsed": false
   },
   "outputs": [],
   "source": [
    "# def score_consensus(t):\n",
    "#     consensus = mk_consensus(\"{0}.{1}.sorted.bam\".format(args[\"out_basename\"], t), ref_file)\n",
    "#     return(consensus)\n",
    "#     consensus = consensus.split(\"\\n\")[1].to_upper()\n",
    "#     score = needle(ref, consensus)\n",
    "#     return (consensus, score)"
   ]
  },
  {
   "cell_type": "code",
   "execution_count": 38,
   "metadata": {
    "collapsed": false
   },
   "outputs": [],
   "source": [
    "# p = Pool(args[\"ncores\"])\n",
    "# try:\n",
    "#     consensus = p.map(score_consensus, types)\n",
    "#     p.close()\n",
    "# except KeyboardInterrupt:\n",
    "#     p.terminate()"
   ]
  },
  {
   "cell_type": "code",
   "execution_count": 39,
   "metadata": {
    "collapsed": false
   },
   "outputs": [],
   "source": [
    "# consensus"
   ]
  },
  {
   "cell_type": "code",
   "execution_count": 40,
   "metadata": {
    "collapsed": false
   },
   "outputs": [],
   "source": [
    "# mk_consensus(\"{0}.{1}.sorted.bam\".format(args[\"out_basename\"], \"metrichor\"), ref_file)"
   ]
  },
  {
   "cell_type": "code",
   "execution_count": null,
   "metadata": {
    "collapsed": true
   },
   "outputs": [],
   "source": []
  }
 ],
 "metadata": {
  "kernelspec": {
   "display_name": "SSH einser ipython2",
   "language": "",
   "name": "rik_ssh_einser_python2"
  },
  "language_info": {
   "codemirror_mode": {
    "name": "ipython",
    "version": 2
   },
   "file_extension": ".py",
   "mimetype": "text/x-python",
   "name": "python",
   "nbconvert_exporter": "python",
   "pygments_lexer": "ipython2",
   "version": "2.7.10"
  }
 },
 "nbformat": 4,
 "nbformat_minor": 0
}
