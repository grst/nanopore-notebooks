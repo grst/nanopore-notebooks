{
 "cells": [
  {
   "cell_type": "code",
   "execution_count": 19,
   "metadata": {
    "collapsed": false
   },
   "outputs": [],
   "source": [
    "import pickle\n",
    "from collections import OrderedDict\n",
    "import scipy.stats\n",
    "from pylab import * \n",
    "import seaborn as sns\n",
    "from IPython.display import display\n",
    "import pandas\n",
    "from skbio.sequence import DNA\n",
    "%matplotlib inline\n",
    "%run \"/home/ibis/gregor.sturm/nanopore/own/notebooks/05_MAP006-basecaller/lib/analysis_lib.ipynb\""
   ]
  },
  {
   "cell_type": "code",
   "execution_count": 20,
   "metadata": {
    "collapsed": false
   },
   "outputs": [
    {
     "name": "stdout",
     "output_type": "stream",
     "text": [
      "/home/ibis/gregor.sturm/nanopore/own/notebooks\r\n"
     ]
    }
   ],
   "source": [
    "!pwd"
   ]
  },
  {
   "cell_type": "code",
   "execution_count": 21,
   "metadata": {
    "collapsed": true
   },
   "outputs": [],
   "source": [
    "NMER = 6"
   ]
  },
  {
   "cell_type": "code",
   "execution_count": 22,
   "metadata": {
    "collapsed": false
   },
   "outputs": [],
   "source": [
    "args = {\n",
    "    \"true_events\": \"/home/ibis/gregor.sturm/nanopore/own/notebooks/05_MAP006-basecaller/loman006-1_100.alignment_true_events.pickle\",\n",
    "    \"model_out\": \"/home/ibis/gregor.sturm/nanopore/own/notebooks/05_MAP006-basecaller/loman006-1.model.computed.pickle\"\n",
    "}"
   ]
  },
  {
   "cell_type": "code",
   "execution_count": 23,
   "metadata": {
    "collapsed": false
   },
   "outputs": [],
   "source": [
    "true_events = pickle.load(open(args[\"true_events\"], 'rb'))"
   ]
  },
  {
   "cell_type": "markdown",
   "metadata": {},
   "source": [
    "### make dict with all kmers "
   ]
  },
  {
   "cell_type": "code",
   "execution_count": 24,
   "metadata": {
    "collapsed": false
   },
   "outputs": [],
   "source": [
    "all_kmers = mk_kmer_dict(NMER)\n",
    "ev_map = mk_event_map(true_events, all_kmers)"
   ]
  },
  {
   "cell_type": "markdown",
   "metadata": {},
   "source": [
    "# Analysis"
   ]
  },
  {
   "cell_type": "markdown",
   "metadata": {
    "collapsed": true
   },
   "source": [
    "## compare features"
   ]
  },
  {
   "cell_type": "code",
   "execution_count": 25,
   "metadata": {
    "collapsed": true
   },
   "outputs": [],
   "source": [
    "def sorted_boxplot(ordered_dict, ylim=None):\n",
    "    sns.set_context(\"notebook\", font_scale=1.5, rc={\"lines.linewidth\": 1})\n",
    "    map2 = OrderedDict(sorted(ordered_dict.items(), key=lambda x : 0 if len(x[1]) == 0 else np.mean(x[1])))\n",
    "    fig, ax = subplots(figsize = (15, 5))\n",
    "    boxplot(list(map2.values()))\n",
    "    ax.set_xticklabels(list(map2.keys()), rotation=90, fontsize=8)\n",
    "    if ylim is not None:\n",
    "        ax.set_ylim(ylim)\n",
    "    fig.show()"
   ]
  },
  {
   "cell_type": "code",
   "execution_count": 26,
   "metadata": {
    "collapsed": false
   },
   "outputs": [],
   "source": [
    "def make_feature_map(process_event, ev_map):\n",
    "    \"\"\"\n",
    "    Args:\n",
    "        process_events: function(strand, event) with \n",
    "            strand in [\"template\", \"complement\"] and \n",
    "            event containing the event features\n",
    "        ev_map: dict kmer -> list of correct events\n",
    "            \n",
    "    Returns: \n",
    "        dict kmer -> list_with_features\n",
    "    \"\"\"\n",
    "    fmap = {kmer: [] for kmer in ev_map.keys()}\n",
    "    for kmer, events in ev_map.items():\n",
    "        kmer_c = str(DNA(kmer).reverse_complement())\n",
    "        d = {\"template\" : [], \"complement\" : []}\n",
    "        for ev in events: \n",
    "            for t in d.keys():\n",
    "                feature = process_event(t, ev)\n",
    "                if not np.isnan(feature): \n",
    "                    d[t].append(feature)\n",
    "\n",
    "        fmap[kmer].extend(d[\"template\"])\n",
    "        #fmap[kmer_c].extend(d[\"complement\"])\n",
    "    return fmap"
   ]
  },
  {
   "cell_type": "markdown",
   "metadata": {},
   "source": [
    "### mean pA"
   ]
  },
  {
   "cell_type": "code",
   "execution_count": 27,
   "metadata": {
    "collapsed": false
   },
   "outputs": [],
   "source": [
    "def feature_pa(t, ev): \n",
    "    return ev[\"{0}.mean\".format(t)]\n",
    "\n",
    "pa_map = make_feature_map(feature_pa, ev_map)"
   ]
  },
  {
   "cell_type": "code",
   "execution_count": 28,
   "metadata": {
    "collapsed": false,
    "scrolled": true
   },
   "outputs": [
    {
     "name": "stderr",
     "output_type": "stream",
     "text": [
      "/home/ibis/gregor.sturm/bin/anaconda3/lib/python3.4/site-packages/matplotlib/figure.py:387: UserWarning: matplotlib is currently using a non-GUI backend, so cannot show the figure\n",
      "  \"matplotlib is currently using a non-GUI backend, \"\n"
     ]
    },
    {
     "data": {
      "image/png": "[encoded data removed]",
      "text/plain": [
       "<matplotlib.figure.Figure at 0x7ff21a3774e0>"
      ]
     },
     "metadata": {},
     "output_type": "display_data"
    }
   ],
   "source": [
    "sorted_boxplot(pa_map)"
   ]
  },
  {
   "cell_type": "markdown",
   "metadata": {},
   "source": [
    "### mean stdev"
   ]
  },
  {
   "cell_type": "code",
   "execution_count": 29,
   "metadata": {
    "collapsed": false
   },
   "outputs": [],
   "source": [
    "def feature_stdv(t, ev): \n",
    "    return ev[\"{0}.stdv\".format(t)]\n",
    "\n",
    "stdv_map = make_feature_map(feature_stdv, ev_map)"
   ]
  },
  {
   "cell_type": "code",
   "execution_count": 30,
   "metadata": {
    "collapsed": false
   },
   "outputs": [],
   "source": [
    "# sorted_boxplot(stdv_map)"
   ]
  },
  {
   "cell_type": "markdown",
   "metadata": {},
   "source": [
    "### mean length"
   ]
  },
  {
   "cell_type": "code",
   "execution_count": 31,
   "metadata": {
    "collapsed": false
   },
   "outputs": [],
   "source": [
    "def length_feature(t, ev):\n",
    "    return ev[\"{0}.length\".format(t)]\n",
    "\n",
    "len_map = make_feature_map(length_feature, ev_map)"
   ]
  },
  {
   "cell_type": "code",
   "execution_count": 32,
   "metadata": {
    "collapsed": false
   },
   "outputs": [],
   "source": [
    "# mean([mean(x) for x in len_map.values()])"
   ]
  },
  {
   "cell_type": "code",
   "execution_count": 33,
   "metadata": {
    "collapsed": false
   },
   "outputs": [],
   "source": [
    "# sorted_boxplot(len_map, ylim=(0,600))"
   ]
  },
  {
   "cell_type": "markdown",
   "metadata": {
    "collapsed": true
   },
   "source": [
    "## outputs for hmm"
   ]
  },
  {
   "cell_type": "code",
   "execution_count": 34,
   "metadata": {
    "collapsed": false,
    "run_control": {
     "breakpoint": false
    }
   },
   "outputs": [
    {
     "name": "stderr",
     "output_type": "stream",
     "text": [
      "/home/ibis/gregor.sturm/bin/anaconda3/lib/python3.4/site-packages/numpy/core/_methods.py:59: RuntimeWarning: Mean of empty slice.\n",
      "  warnings.warn(\"Mean of empty slice.\", RuntimeWarning)\n",
      "/home/ibis/gregor.sturm/bin/anaconda3/lib/python3.4/site-packages/numpy/core/_methods.py:83: RuntimeWarning: Degrees of freedom <= 0 for slice\n",
      "  warnings.warn(\"Degrees of freedom <= 0 for slice\", RuntimeWarning)\n"
     ]
    }
   ],
   "source": [
    "model = []\n",
    "for kmer in all_kmers: \n",
    "    entry = {\n",
    "        \"kmer\": kmer,\n",
    "        \"level_mean\": mean(pa_map[kmer]),\n",
    "        \"level_stdv\": std(pa_map[kmer]),\n",
    "        \"sd_mean\": mean(stdv_map[kmer]),\n",
    "        \"sd_stdv\": std(stdv_map[kmer]),\n",
    "        \"weight\": 1.\n",
    "    }\n",
    "    model.append(entry)\n",
    "model = pandas.DataFrame(model)"
   ]
  },
  {
   "cell_type": "code",
   "execution_count": 35,
   "metadata": {
    "collapsed": true,
    "run_control": {
     "breakpoint": false
    }
   },
   "outputs": [],
   "source": [
    "models = {}\n",
    "models[\"/opt/chimaera/model/r7.3_e6_70bps_6mer/template_median68pA.model\"] = model"
   ]
  },
  {
   "cell_type": "code",
   "execution_count": 36,
   "metadata": {
    "collapsed": false
   },
   "outputs": [],
   "source": [
    "pickle.dump(models, open(args[\"model_out\"], 'wb'), protocol=2)"
   ]
  },
  {
   "cell_type": "code",
   "execution_count": null,
   "metadata": {
    "collapsed": true
   },
   "outputs": [],
   "source": []
  }
 ],
 "metadata": {
  "kernelspec": {
   "display_name": "SSH einser ipython",
   "language": "",
   "name": "rik_ssh_einser_ipython"
  },
  "language_info": {
   "codemirror_mode": {
    "name": "ipython",
    "version": 3
   },
   "file_extension": ".py",
   "mimetype": "text/x-python",
   "name": "python",
   "nbconvert_exporter": "python",
   "pygments_lexer": "ipython3",
   "version": "3.4.3"
  }
 },
 "nbformat": 4,
 "nbformat_minor": 0
}
