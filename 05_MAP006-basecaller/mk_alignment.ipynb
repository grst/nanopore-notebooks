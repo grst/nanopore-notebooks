{
 "cells": [
  {
   "cell_type": "code",
   "execution_count": 13,
   "metadata": {
    "collapsed": false
   },
   "outputs": [],
   "source": [
    "from nbwrapper import getargs\n",
    "from pprint import pprint\n",
    "from multiprocessing import Pool, Value\n",
    "\n",
    "import re\n",
    "import numpy as np\n",
    "import pickle\n",
    "from itertools import repeat, count, product, chain\n",
    "import sys\n",
    "import pysam\n",
    "from math import floor\n",
    "import os.path\n",
    "\n",
    "%run \"/home/ibis/gregor.sturm/nanopore/own/notebooks/05_MAP006-basecaller/lib/alignment_lib.ipynb\"\n",
    "%run \"/home/ibis/gregor.sturm/nanopore/own/notebooks/05_MAP006-basecaller/lib/analysis_lib.ipynb\""
   ]
  },
  {
   "cell_type": "code",
   "execution_count": 4,
   "metadata": {
    "collapsed": false
   },
   "outputs": [
    {
     "name": "stderr",
     "output_type": "stream",
     "text": [
      "/home/ibis/gregor.sturm/bin/anaconda3/lib/python3.4/site-packages/nbwrapper.py:31: RuntimeWarning: no arguments passed!\n",
      "  warnings.warn(\"no arguments passed!\", RuntimeWarning)\n"
     ]
    }
   ],
   "source": [
    "args = getargs()"
   ]
  },
  {
   "cell_type": "code",
   "execution_count": 5,
   "metadata": {
    "collapsed": false
   },
   "outputs": [],
   "source": [
    "## for testing only\n",
    "# args = {\n",
    "#     \"events\": \"/home/ibis/gregor.sturm/nanopore/own/notebooks/03_pipeline/david_events.2D.pickle\",\n",
    "#     \"ref\": \"/home/ibis/gregor.sturm/nanopore/NanoporeData/PublicData/david_eccles_bc_ideas/mouse_ref.fa\",\n",
    "#     \"out_basename\": \"/home/ibis/gregor.sturm/nanopore/own/notebooks/03_pipeline/david_alignment\",\n",
    "#     \"ncores\": 24,\n",
    "#     \"nmer\": 5\n",
    "# }\n",
    "\n",
    "# args = {\n",
    "#     \"events\": \"/home/ibis/gregor.sturm/nanopore/own/notebooks/03_pipeline/lambda_events.2D.62pA.pickle\",\n",
    "#     \"ref\": \"/home/ibis/gregor.sturm/nanopore/own/notebooks/03_pipeline/lambda_ref.fasta\",\n",
    "#     \"out_basename\": \"/home/ibis/gregor.sturm/nanopore/own/notebooks/03_pipeline/lambda_alignment.62pA\",\n",
    "#     \"ncores\": 62\n",
    "# }\n",
    "\n",
    "args = {\n",
    "    \"events\": \"/home/ibis/gregor.sturm/nanopore/own/notebooks/05_MAP006-basecaller/loman006-1_100.events.2D.pickle\",\n",
    "    \"ref\": \"/home/ibis/gregor.sturm/nanopore/NanoporeData/PublicData/LomanLab_MAP-006/ecoli_mg1655.fa\",\n",
    "    \"out_basename\": \"/home/ibis/gregor.sturm/nanopore/own/notebooks/05_MAP006-basecaller/loman006-1_100.alignment\",\n",
    "    \"models\": \"/home/ibis/gregor.sturm/nanopore/own/notebooks/05_MAP006-basecaller/loman006-1.model.pickle\",\n",
    "    \"ncores\": 62,\n",
    "    \"nmer\": 6\n",
    "}\n",
    "\n",
    "# args = {\n",
    "#     \"events\": \"/home/ibis/gregor.sturm/nanopore/own/notebooks/05_MAP006-basecaller/loman006-1_5000.events.2D.pickle\",\n",
    "#     \"ref\": \"/home/ibis/gregor.sturm/nanopore/NanoporeData/PublicData/LomanLab_MAP-006/ecoli_mg1655.fa\",\n",
    "#     \"out_basename\": \"/home/ibis/gregor.sturm/nanopore/own/notebooks/05_MAP006-basecaller/loman006-1_5000.alignment\",\n",
    "#     \"ncores\": 62,\n",
    "#     \"nmer\": 6\n",
    "# }"
   ]
  },
  {
   "cell_type": "code",
   "execution_count": 6,
   "metadata": {
    "collapsed": false
   },
   "outputs": [],
   "source": [
    "NMER = args[\"nmer\"]"
   ]
  },
  {
   "cell_type": "code",
   "execution_count": 7,
   "metadata": {
    "collapsed": false
   },
   "outputs": [
    {
     "name": "stdout",
     "output_type": "stream",
     "text": [
      "/home/ibis/gregor.sturm/nanopore/own/notebooks\r\n"
     ]
    }
   ],
   "source": [
    "!pwd"
   ]
  },
  {
   "cell_type": "code",
   "execution_count": 8,
   "metadata": {
    "collapsed": false
   },
   "outputs": [],
   "source": [
    "assert os.path.isfile(args[\"events\"])\n",
    "assert os.path.isfile(args[\"ref\"])\n",
    "assert args[\"ncores\"]"
   ]
  },
  {
   "cell_type": "markdown",
   "metadata": {
    "run_control": {
     "breakpoint": false
    }
   },
   "source": [
    "### Prepare File Data"
   ]
  },
  {
   "cell_type": "code",
   "execution_count": 9,
   "metadata": {
    "collapsed": true,
    "run_control": {
     "breakpoint": false
    }
   },
   "outputs": [],
   "source": [
    "def prepare_file_data(file_obj):\n",
    "    \"\"\"normalize events and save generated called_seq (instead of some metrichor magic)\"\"\"\n",
    "    file_obj = correct_read(file_obj)\n",
    "    called_seq = events2seq(file_obj[\"events\"].to_dict(\"records\"))\n",
    "    file_obj[\"fastq\"] = \"\\n\".join([file_obj[\"fastq\"].split(\"\\n\")[0], called_seq])\n",
    "    return file_obj"
   ]
  },
  {
   "cell_type": "code",
   "execution_count": 10,
   "metadata": {
    "collapsed": false
   },
   "outputs": [],
   "source": [
    "file_data = pickle.load(open(args[\"events\"], 'rb'))\n",
    "file_data = [f for f in file_data if f is not None]"
   ]
  },
  {
   "cell_type": "code",
   "execution_count": 11,
   "metadata": {
    "collapsed": false,
    "run_control": {
     "breakpoint": false
    }
   },
   "outputs": [
    {
     "name": "stdout",
     "output_type": "stream",
     "text": [
      "Prepare file data: \n",
      "done 100.000000%"
     ]
    }
   ],
   "source": [
    "p = Pool(args[\"ncores\"])\n",
    "print(\"Prepare file data: \")\n",
    "results = []\n",
    "try:\n",
    "    for i, res in enumerate(p.imap_unordered(prepare_file_data, file_data), 1):\n",
    "        results.append(res)\n",
    "        sys.stdout.write('\\rdone {0:%}'.format(i/float(len(file_data))))\n",
    "    p.close()\n",
    "    p.join()\n",
    "except KeyboardInterrupt:\n",
    "    p.terminate()\n",
    "file_data = results"
   ]
  },
  {
   "cell_type": "markdown",
   "metadata": {
    "run_control": {
     "breakpoint": false
    }
   },
   "source": [
    "### Align to reference"
   ]
  },
  {
   "cell_type": "code",
   "execution_count": 15,
   "metadata": {
    "collapsed": false
   },
   "outputs": [
    {
     "name": "stdout",
     "output_type": "stream",
     "text": [
      "['>gi|556503834|ref|NC_000913.3| Escherichia coli str. K-12 substr. MG1655, complete genome']\n",
      "AGCTTTTCATTCTGACTGCAACGGGCAATATGTCTCTGTGTGGATTAAAAAAAGAGTGTCTGATAGCAGCTTCTGAACTGGTTACCTGCCGTGAGTAAAT\n"
     ]
    }
   ],
   "source": [
    "ref = load_ref(args[\"ref\"])"
   ]
  },
  {
   "cell_type": "code",
   "execution_count": 16,
   "metadata": {
    "collapsed": false
   },
   "outputs": [],
   "source": [
    "fastq_file = \"{0}.fastq\".format(args[\"out_basename\"])\n",
    "mk_fastq(fastq_file, file_data)"
   ]
  },
  {
   "cell_type": "code",
   "execution_count": 17,
   "metadata": {
    "collapsed": false
   },
   "outputs": [
    {
     "name": "stdout",
     "output_type": "stream",
     "text": [
      "[Index 14:31:57] Running in fast and sensitive mode. Two indexes will be used (double memory consumption).\n",
      "[Index 14:31:57] Index already exists. Loading from file.\n",
      "[Index 14:31:58] Secondary index already exists. Loading from file.\n",
      "[Index 14:31:58] Index loaded in 0.82 sec.\n",
      "[Index 14:31:58] Memory consumption: [currentRSS = 674 MB, peakRSS = 674 MB]\n",
      "\n",
      "[Run 14:31:58] Automatically setting the maximum allowed number of regions: max. 500, attempt to reduce after 100\n",
      "[Run 14:31:58] Reference genome is assumed to be linear.\n",
      "[Run 14:31:58] Only one alignment will be reported per mapped read.\n",
      "[ProcessReads 14:31:58] Reads will be loaded in batches of up to 200 MB in size.\n",
      "[ProcessReads 14:31:58] Batch of 100 reads (0 MiB) loaded in 0.01 sec. (18380008 bases)\n",
      "[ProcessReads 14:31:58] Memory consumption: [currentRSS = 675 MB, peakRSS = 675 MB]\n",
      "[ProcessReads 14:31:58] Using 62 threads.\n",
      "[ProcessReads 14:32:01] [CPU time: 34.14 sec, RSS: 690 MB] Read: 100/100 (100.00%) [m: 100, u: 0]                                                                  \n",
      "\n",
      "[ProcessReads 14:32:01] Memory consumption: [currentRSS = 690 MB, peakRSS = 1779 MB]\n",
      "\n",
      "[ProcessReads 14:32:01] All reads processed in 34.20 sec (or 0.57 CPU min).\n"
     ]
    }
   ],
   "source": [
    "sam_file = \"{0}.sam\".format(args[\"out_basename\"])\n",
    "graphmap(args[\"ref\"], fastq_file, sam_file, args[\"ncores\"])"
   ]
  },
  {
   "cell_type": "code",
   "execution_count": 18,
   "metadata": {
    "collapsed": false
   },
   "outputs": [
    {
     "data": {
      "text/plain": [
       "'/home/ibis/gregor.sturm/nanopore/own/notebooks/05_MAP006-basecaller/loman006-1_100.alignment.sorted.bam'"
      ]
     },
     "execution_count": 18,
     "metadata": {},
     "output_type": "execute_result"
    }
   ],
   "source": [
    "prepare_sam(args[\"out_basename\"])"
   ]
  },
  {
   "cell_type": "code",
   "execution_count": 19,
   "metadata": {
    "collapsed": false
   },
   "outputs": [],
   "source": [
    "samfile = pysam.AlignmentFile(\"{0}.sorted.bam\".format(args[\"out_basename\"]))\n",
    "samreads = {}"
   ]
  },
  {
   "cell_type": "code",
   "execution_count": 20,
   "metadata": {
    "collapsed": false,
    "scrolled": false
   },
   "outputs": [
    {
     "name": "stdout",
     "output_type": "stream",
     "text": [
      "100\n"
     ]
    }
   ],
   "source": [
    "print(len(file_data))"
   ]
  },
  {
   "cell_type": "code",
   "execution_count": 21,
   "metadata": {
    "collapsed": false
   },
   "outputs": [],
   "source": [
    "prepare_filemap(file_data)"
   ]
  },
  {
   "cell_type": "code",
   "execution_count": 22,
   "metadata": {
    "collapsed": false
   },
   "outputs": [
    {
     "data": {
      "text/plain": [
       "100"
      ]
     },
     "execution_count": 22,
     "metadata": {},
     "output_type": "execute_result"
    }
   ],
   "source": [
    "reads  = [x for x in samfile.fetch()]\n",
    "len(reads)"
   ]
  },
  {
   "cell_type": "code",
   "execution_count": 23,
   "metadata": {
    "collapsed": false
   },
   "outputs": [],
   "source": [
    "class AlignmentEndException(Exception):\n",
    "    pass\n",
    "\n",
    "def event_indexes(pairing_seq, offset):\n",
    "    \"\"\" get the next entries from the pairing array\n",
    "    such that k non-gap characters are contained\"\"\"\n",
    "    count = 0\n",
    "    kmer = []\n",
    "    for i in range(offset, len(pairing_seq)): \n",
    "        if count == NMER: break\n",
    "        if pairing_seq[i] is not None:\n",
    "            count += 1\n",
    "            kmer.append(i)\n",
    "    if len(kmer) != NMER: \n",
    "        raise AlignmentEndException\n",
    "    return kmer\n",
    "    \n",
    "    "
   ]
  },
  {
   "cell_type": "code",
   "execution_count": 24,
   "metadata": {
    "collapsed": false
   },
   "outputs": [],
   "source": [
    "def gapmove(to_move, seq, offset):\n",
    "    \"\"\"move by 'move' (from metrichor) in the aligned sequence. \n",
    "    additionally increase index to compensate for each gap\n",
    "    \"\"\"\n",
    "    move = to_move\n",
    "    for i in seq[offset:]: \n",
    "        if i is None: \n",
    "            move += 1\n",
    "        else:\n",
    "            to_move -= 1\n",
    "            if to_move <= 0:\n",
    "                return move"
   ]
  },
  {
   "cell_type": "code",
   "execution_count": 25,
   "metadata": {
    "collapsed": true
   },
   "outputs": [],
   "source": [
    "def get_nt_kmer(index, pairs, seq): \n",
    "    \"\"\"convert sequence indexes into the corresponding nucleotides. \n",
    "    gaps are converted into '' \n",
    "    \"\"\"\n",
    "    seq_index = [pairs[x] for x in index]\n",
    "    nt_kmer = [seq[x] for x in seq_index]\n",
    "    return \"\".join(nt_kmer)\n"
   ]
  },
  {
   "cell_type": "code",
   "execution_count": 26,
   "metadata": {
    "collapsed": true
   },
   "outputs": [],
   "source": [
    "def is_consecutive_seq(seq):\n",
    "    \"\"\"check if the sequence 'seq' consists of consecutive numbers\"\"\"\n",
    "    return len(set(list(map(lambda ix:ix[1]-ix[0], enumerate(seq))))) <= 1"
   ]
  },
  {
   "cell_type": "code",
   "execution_count": 27,
   "metadata": {
    "collapsed": false
   },
   "outputs": [],
   "source": [
    "def is_correct_kmer(ev_index, pairs, read, ref):\n",
    "    \"\"\"check if a kmer corresponds completely wit the reference. \n",
    "    This is the case if: \n",
    "        * the read positions are consecutive (no indels)\n",
    "        * the ref positions are consecutive (no indels)\n",
    "        * the nucleotides are idential (no substitutions)\n",
    "    \"\"\"\n",
    "    assert(len(ev_index) == NMER), \"invalid event index\"\n",
    "    read_index = [pairs[0][x] for x in ev_index]\n",
    "    ref_index = [pairs[1][x] for x in ev_index]\n",
    "    \n",
    "    if None in read_index or not is_consecutive_seq(read_index): \n",
    "        \"\"\"indel in read\"\"\"\n",
    "        return False\n",
    "             \n",
    "    if None in ref_index or not is_consecutive_seq(ref_index): \n",
    "        \"\"\"indel in ref\"\"\"\n",
    "        return False\n",
    "             \n",
    "    read_seq = [read[x] for x in read_index]\n",
    "    ref_seq = [ref[x] for x in ref_index]\n",
    "    if read_seq == ref_seq:\n",
    "        \"\"\"full_match\"\"\"\n",
    "        return True\n",
    "    else: \n",
    "        \"\"\"substitution\"\"\"\n",
    "        return False\n",
    "    "
   ]
  },
  {
   "cell_type": "code",
   "execution_count": 28,
   "metadata": {
    "collapsed": true
   },
   "outputs": [],
   "source": [
    "def process_events(pairs, file_obj):\n",
    "    event_list = file_obj[\"events\"].to_dict(\"records\")\n",
    "    called_seq = file_obj[\"fastq\"].split(\"\\n\")[1]\n",
    "    i_seq = 0\n",
    "    correct = []\n",
    "    for ev in event_list:\n",
    "        ev[\"channel\"] = file_obj[\"channel\"]\n",
    "        ev[\"file_id\"] = file_obj[\"file_id\"]\n",
    "        ev_kmer = ev[\"kmer\"]\n",
    "        i_seq += gapmove(ev[\"move\"], pairs[0], i_seq)\n",
    "\n",
    "        try:\n",
    "            ev_index = event_indexes(pairs[0], i_seq)\n",
    "        except AlignmentEndException:\n",
    "            \"\"\"not the whole read is aligned\"\"\"\n",
    "            break\n",
    "        read_kmer = get_nt_kmer(ev_index, pairs[0], called_seq)\n",
    "        assert(read_kmer == ev_kmer), (i_seq, ev, read_kmer, ev_index)\n",
    "        if is_correct_kmer(ev_index, pairs, called_seq, ref):\n",
    "            ev[\"ref_position\"] = pairs[1][ev_index[0]] #first position of kmer in reference\n",
    "            correct.append(ev)\n",
    "    return correct"
   ]
  },
  {
   "cell_type": "code",
   "execution_count": 29,
   "metadata": {
    "collapsed": false,
    "scrolled": true
   },
   "outputs": [
    {
     "name": "stdout",
     "output_type": "stream",
     "text": [
      "0 62 101 ch101_file62_read\n",
      "1 57 101 ch101_file57_read\n",
      "2 13 100 ch100_file13_read\n",
      "3 103 102 ch102_file103_read\n",
      "4 29 100 ch100_file29_read\n",
      "5 49 101 ch101_file49_read\n",
      "6 47 100 ch100_file47_read\n",
      "7 38 100 ch100_file38_read\n",
      "8 53 100 ch100_file53_read\n",
      "9 34 100 ch100_file34_read\n",
      "10 13 101 ch101_file13_read\n",
      "11 17 101 ch101_file17_read\n",
      "12 24 100 ch100_file24_read\n",
      "13 44 101 ch101_file44_read\n",
      "14 33 100 ch100_file33_read\n",
      "15 10 101 ch101_file10_read\n",
      "16 32 101 ch101_file32_read\n",
      "17 24 101 ch101_file24_read\n",
      "18 31 100 ch100_file31_read\n",
      "19 66 100 ch100_file66_read\n",
      "20 19 101 ch101_file19_read\n",
      "21 58 101 ch101_file58_read\n",
      "22 36 101 ch101_file36_read\n",
      "23 72 100 ch100_file72_read\n",
      "24 6 101 ch101_file6_read\n",
      "25 102 102 ch102_file102_read\n",
      "26 8 101 ch101_file8_read\n",
      "27 11 101 ch101_file11_read\n",
      "28 69 100 ch100_file69_read\n",
      "29 62 100 ch100_file62_read\n",
      "30 42 101 ch101_file42_read\n",
      "31 116 102 ch102_file116_read\n",
      "32 6 100 ch100_file6_read\n",
      "33 25 101 ch101_file25_read\n",
      "34 9 100 ch100_file9_read\n",
      "35 111 102 ch102_file111_read\n",
      "36 51 100 ch100_file51_read\n",
      "37 0 102 ch102_file0_read\n",
      "38 63 101 ch101_file63_read\n",
      "39 46 101 ch101_file46_read\n",
      "40 28 100 ch100_file28_read\n",
      "41 12 101 ch101_file12_read\n",
      "42 63 100 ch100_file63_read\n",
      "43 1 101 ch101_file1_read\n",
      "44 56 100 ch100_file56_read\n",
      "45 59 101 ch101_file59_read\n",
      "46 64 101 ch101_file64_read\n",
      "47 31 101 ch101_file31_read\n",
      "48 59 100 ch100_file59_read\n",
      "49 45 100 ch100_file45_read\n",
      "50 15 101 ch101_file15_read\n",
      "51 2 100 ch100_file2_read\n",
      "52 14 100 ch100_file14_read\n",
      "53 39 100 ch100_file39_read\n",
      "54 14 101 ch101_file14_read\n",
      "55 10 102 ch102_file10_read\n",
      "56 33 101 ch101_file33_read\n",
      "57 18 101 ch101_file18_read\n",
      "58 12 100 ch100_file12_read\n",
      "59 40 100 ch100_file40_read\n",
      "60 117 102 ch102_file117_read\n",
      "61 65 101 ch101_file65_read\n",
      "62 40 101 ch101_file40_read\n",
      "63 16 100 ch100_file16_read\n",
      "64 20 101 ch101_file20_read\n",
      "65 110 102 ch102_file110_read\n",
      "66 3 100 ch100_file3_read\n",
      "67 5 100 ch100_file5_read\n",
      "68 26 100 ch100_file26_read\n",
      "69 37 101 ch101_file37_read\n",
      "70 0 100 ch100_file0_read\n",
      "71 60 101 ch101_file60_read\n",
      "72 38 101 ch101_file38_read\n",
      "73 56 101 ch101_file56_read\n",
      "74 28 101 ch101_file28_read\n",
      "75 43 101 ch101_file43_read\n",
      "76 107 102 ch102_file107_read\n",
      "77 26 101 ch101_file26_read\n",
      "78 52 100 ch100_file52_read\n",
      "79 30 100 ch100_file30_read\n",
      "80 53 101 ch101_file53_read\n",
      "81 70 100 ch100_file70_read\n",
      "82 106 102 ch102_file106_read\n",
      "83 4 101 ch101_file4_read\n",
      "84 15 100 ch100_file15_read\n",
      "85 30 101 ch101_file30_read\n",
      "86 20 100 ch100_file20_read\n",
      "87 35 100 ch100_file35_read\n",
      "88 42 100 ch100_file42_read\n",
      "89 10 100 ch100_file10_read\n",
      "90 8 100 ch100_file8_read\n",
      "91 54 101 ch101_file54_read\n",
      "92 48 100 ch100_file48_read\n",
      "93 100 102 ch102_file100_read\n",
      "94 7 100 ch100_file7_read\n",
      "95 37 100 ch100_file37_read\n",
      "96 41 101 ch101_file41_read\n",
      "97 11 100 ch100_file11_read\n",
      "98 16 101 ch101_file16_read\n",
      "99 108 102 ch102_file108_read\n"
     ]
    }
   ],
   "source": [
    "total_events = 0\n",
    "\n",
    "p = Pool(args[\"ncores\"])\n",
    "\n",
    "result = []\n",
    "try:\n",
    "    for i, read in enumerate(reads):\n",
    "        file_id, channel_id = get_file_and_channel(read.query_name)\n",
    "        print(i, file_id, channel_id, read.query_name)\n",
    "        pairs = [list(t) for t in zip(*read.get_aligned_pairs())]\n",
    "        file_obj = get_file(channel_id, file_id)\n",
    "        assert(pairs[0][0] == 0), \"alignment is not null-indexed.\"\n",
    "\n",
    "        ## map read to events\n",
    "        total_events += len(file_obj[\"events\"].index)\n",
    "    #     total_events += len(file_obj[\"events\"])\n",
    "\n",
    "\n",
    "        result.append(p.apply_async(process_events,[pairs, file_obj]))\n",
    "#         result.append(process_events(pairs, file_obj))\n",
    "\n",
    "except KeyboardInterrupt:\n",
    "    p.terminate()    \n",
    "    "
   ]
  },
  {
   "cell_type": "code",
   "execution_count": 30,
   "metadata": {
    "collapsed": false
   },
   "outputs": [],
   "source": [
    "true_events = list(chain.from_iterable([r.get() for r in result]))"
   ]
  },
  {
   "cell_type": "code",
   "execution_count": 31,
   "metadata": {
    "collapsed": false
   },
   "outputs": [
    {
     "data": {
      "text/plain": [
       "259289"
      ]
     },
     "execution_count": 31,
     "metadata": {},
     "output_type": "execute_result"
    }
   ],
   "source": [
    "len(true_events)"
   ]
  },
  {
   "cell_type": "code",
   "execution_count": 32,
   "metadata": {
    "collapsed": false
   },
   "outputs": [
    {
     "name": "stdout",
     "output_type": "stream",
     "text": [
      "1176881\n"
     ]
    }
   ],
   "source": [
    "print(total_events)"
   ]
  },
  {
   "cell_type": "code",
   "execution_count": 33,
   "metadata": {
    "collapsed": false
   },
   "outputs": [
    {
     "name": "stdout",
     "output_type": "stream",
     "text": [
      "0.22031879178948424\n"
     ]
    }
   ],
   "source": [
    "print(len(true_events)/total_events)"
   ]
  },
  {
   "cell_type": "code",
   "execution_count": 34,
   "metadata": {
    "collapsed": false
   },
   "outputs": [],
   "source": [
    "pickle.dump(true_events,\n",
    "            open(\"{0}_true_events.pickle\".format(args[\"out_basename\"]), 'wb'))"
   ]
  },
  {
   "cell_type": "code",
   "execution_count": null,
   "metadata": {
    "collapsed": true
   },
   "outputs": [],
   "source": []
  }
 ],
 "metadata": {
  "kernelspec": {
   "display_name": "SSH einser ipython",
   "language": "",
   "name": "rik_ssh_einser_ipython"
  },
  "language_info": {
   "codemirror_mode": {
    "name": "ipython",
    "version": 3
   },
   "file_extension": ".py",
   "mimetype": "text/x-python",
   "name": "python",
   "nbconvert_exporter": "python",
   "pygments_lexer": "ipython3",
   "version": "3.4.3"
  }
 },
 "nbformat": 4,
 "nbformat_minor": 0
}
