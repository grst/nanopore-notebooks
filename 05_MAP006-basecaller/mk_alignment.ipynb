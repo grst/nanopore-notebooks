{
 "cells": [
  {
   "cell_type": "code",
   "execution_count": null,
   "metadata": {
    "collapsed": false
   },
   "outputs": [],
   "source": [
    "from nbwrapper import getargs\n",
    "from pprint import pprint\n",
    "from multiprocessing import Pool, Value\n",
    "\n",
    "import re\n",
    "import numpy as np\n",
    "import pickle\n",
    "from itertools import repeat, count, product, chain\n",
    "import sys\n",
    "import pysam\n",
    "from math import floor\n",
    "import os.path\n",
    "%run \"/home/ibis/gregor.sturm/nanopore/own/notebooks/05_MAP006-basecaller/lib/alignment_lib.ipynb\"\n",
    "%run \"/home/ibis/gregor.sturm/nanopore/own/notebooks/05_MAP006-basecaller/lib/analysis_lib.ipynb\""
   ]
  },
  {
   "cell_type": "code",
   "execution_count": null,
   "metadata": {
    "collapsed": false
   },
   "outputs": [],
   "source": [
    "args = getargs()"
   ]
  },
  {
   "cell_type": "code",
   "execution_count": null,
   "metadata": {
    "collapsed": false
   },
   "outputs": [],
   "source": [
    "## for testing only\n",
    "# args = {\n",
    "#     \"events\": \"/home/ibis/gregor.sturm/nanopore/own/notebooks/03_pipeline/david_events.2D.pickle\",\n",
    "#     \"ref\": \"/home/ibis/gregor.sturm/nanopore/NanoporeData/PublicData/david_eccles_bc_ideas/mouse_ref.fa\",\n",
    "#     \"out_basename\": \"/home/ibis/gregor.sturm/nanopore/own/notebooks/03_pipeline/david_alignment\",\n",
    "#     \"ncores\": 24,\n",
    "#     \"nmer\": 5\n",
    "# }\n",
    "\n",
    "# args = {\n",
    "#     \"events\": \"/home/ibis/gregor.sturm/nanopore/own/notebooks/03_pipeline/lambda_events.2D.62pA.pickle\",\n",
    "#     \"ref\": \"/home/ibis/gregor.sturm/nanopore/own/notebooks/03_pipeline/lambda_ref.fasta\",\n",
    "#     \"out_basename\": \"/home/ibis/gregor.sturm/nanopore/own/notebooks/03_pipeline/lambda_alignment.62pA\",\n",
    "#     \"ncores\": 62\n",
    "# }\n",
    "\n",
    "\n",
    "args = {\n",
    "    \"events\": \"/home/ibis/gregor.sturm/nanopore/own/notebooks/05_MAP006-basecaller/loman006-1_5000.events.2D.pickle\",\n",
    "    \"ref\": \"/home/ibis/gregor.sturm/nanopore/NanoporeData/PublicData/LomanLab_MAP-006/ecoli_mg1655.fa\",\n",
    "    \"out_basename\": \"/home/ibis/gregor.sturm/nanopore/own/notebooks/05_MAP006-basecaller/loman006-1_5000.alignment\",\n",
    "    \"ncores\": 62,\n",
    "    \"nmer\": 6\n",
    "}"
   ]
  },
  {
   "cell_type": "code",
   "execution_count": null,
   "metadata": {
    "collapsed": false
   },
   "outputs": [],
   "source": [
    "NMER = args[\"nmer\"]"
   ]
  },
  {
   "cell_type": "code",
   "execution_count": null,
   "metadata": {
    "collapsed": false
   },
   "outputs": [],
   "source": [
    "!pwd"
   ]
  },
  {
   "cell_type": "code",
   "execution_count": null,
   "metadata": {
    "collapsed": false
   },
   "outputs": [],
   "source": [
    "assert os.path.isfile(args[\"events\"])\n",
    "assert os.path.isfile(args[\"ref\"])\n",
    "assert args[\"ncores\"]"
   ]
  },
  {
   "cell_type": "code",
   "execution_count": null,
   "metadata": {
    "collapsed": false
   },
   "outputs": [],
   "source": [
    "file_data = pickle.load(open(args[\"events\"], 'rb'))\n",
    "file_data = [f for f in file_data if f is not None]"
   ]
  },
  {
   "cell_type": "code",
   "execution_count": null,
   "metadata": {
    "collapsed": false
   },
   "outputs": [],
   "source": [
    "ref = load_ref(args[\"ref\"])"
   ]
  },
  {
   "cell_type": "code",
   "execution_count": null,
   "metadata": {
    "collapsed": false
   },
   "outputs": [],
   "source": [
    "fastq_file = \"{0}.fastq\".format(args[\"out_basename\"])\n",
    "mk_fastq(fastq_file, file_data)"
   ]
  },
  {
   "cell_type": "code",
   "execution_count": null,
   "metadata": {
    "collapsed": false
   },
   "outputs": [],
   "source": [
    "sam_file = \"{0}.sam\".format(args[\"out_basename\"])\n",
    "graphmap(args[\"ref\"], fastq_file, sam_file, args[\"ncores\"])"
   ]
  },
  {
   "cell_type": "code",
   "execution_count": null,
   "metadata": {
    "collapsed": false
   },
   "outputs": [],
   "source": [
    "prepare_sam(args[\"out_basename\"])"
   ]
  },
  {
   "cell_type": "code",
   "execution_count": null,
   "metadata": {
    "collapsed": false
   },
   "outputs": [],
   "source": [
    "samfile = pysam.AlignmentFile(\"{0}.sorted.bam\".format(args[\"out_basename\"]))\n",
    "samreads = {}"
   ]
  },
  {
   "cell_type": "code",
   "execution_count": null,
   "metadata": {
    "collapsed": false,
    "scrolled": false
   },
   "outputs": [],
   "source": [
    "print(len(file_data))"
   ]
  },
  {
   "cell_type": "code",
   "execution_count": null,
   "metadata": {
    "collapsed": false
   },
   "outputs": [],
   "source": [
    "prepare_filemap(file_data)"
   ]
  },
  {
   "cell_type": "code",
   "execution_count": null,
   "metadata": {
    "collapsed": false
   },
   "outputs": [],
   "source": [
    "reads  = [x for x in samfile.fetch()]\n",
    "len(reads)"
   ]
  },
  {
   "cell_type": "code",
   "execution_count": null,
   "metadata": {
    "collapsed": false
   },
   "outputs": [],
   "source": [
    "class AlignmentEndException(Exception):\n",
    "    pass\n",
    "\n",
    "def event_indexes(pairing_seq, offset):\n",
    "    \"\"\" get the next entries from the pairing array\n",
    "    such that k non-gap characters are contained\"\"\"\n",
    "    count = 0\n",
    "    kmer = []\n",
    "    for i in range(offset, len(pairing_seq)): \n",
    "        if count == NMER: break\n",
    "        if pairing_seq[i] is not None:\n",
    "            count += 1\n",
    "            kmer.append(i)\n",
    "    if len(kmer) != NMER: \n",
    "        raise AlignmentEndException\n",
    "    return kmer\n",
    "    \n",
    "    "
   ]
  },
  {
   "cell_type": "code",
   "execution_count": null,
   "metadata": {
    "collapsed": false
   },
   "outputs": [],
   "source": [
    "def gapmove(to_move, seq, offset):\n",
    "    \"\"\"move by 'move' (from metrichor) in the aligned sequence. \n",
    "    additionally increase index to compensate for each gap\n",
    "    \"\"\"\n",
    "    move = to_move\n",
    "    for i in seq[offset:]: \n",
    "        if i is None: \n",
    "            move += 1\n",
    "        else:\n",
    "            to_move -= 1\n",
    "            if to_move <= 0:\n",
    "                return move"
   ]
  },
  {
   "cell_type": "code",
   "execution_count": null,
   "metadata": {
    "collapsed": true
   },
   "outputs": [],
   "source": [
    "def get_nt_kmer(index, pairs, seq): \n",
    "    \"\"\"convert sequence indexes into the corresponding nucleotides. \n",
    "    gaps are converted into '' \n",
    "    \"\"\"\n",
    "    seq_index = [pairs[x] for x in index]\n",
    "    nt_kmer = [seq[x] for x in seq_index]\n",
    "    return \"\".join(nt_kmer)\n"
   ]
  },
  {
   "cell_type": "code",
   "execution_count": null,
   "metadata": {
    "collapsed": true
   },
   "outputs": [],
   "source": [
    "def is_consecutive_seq(seq):\n",
    "    \"\"\"check if the sequence 'seq' consists of consecutive numbers\"\"\"\n",
    "    return len(set(list(map(lambda ix:ix[1]-ix[0], enumerate(seq))))) <= 1"
   ]
  },
  {
   "cell_type": "code",
   "execution_count": null,
   "metadata": {
    "collapsed": false
   },
   "outputs": [],
   "source": [
    "def is_correct_kmer(ev_index, pairs, read, ref):\n",
    "    \"\"\"check if a kmer corresponds completely wit the reference. \n",
    "    This is the case if: \n",
    "        * the read positions are consecutive (no indels)\n",
    "        * the ref positions are consecutive (no indels)\n",
    "        * the nucleotides are idential (no substitutions)\n",
    "    \"\"\"\n",
    "    assert(len(ev_index) == NMER), \"invalid event index\"\n",
    "    read_index = [pairs[0][x] for x in ev_index]\n",
    "    ref_index = [pairs[1][x] for x in ev_index]\n",
    "    \n",
    "    if None in read_index or not is_consecutive_seq(read_index): \n",
    "        \"\"\"indel in read\"\"\"\n",
    "        return False\n",
    "             \n",
    "    if None in ref_index or not is_consecutive_seq(ref_index): \n",
    "        \"\"\"indel in ref\"\"\"\n",
    "        return False\n",
    "             \n",
    "    read_seq = [read[x] for x in read_index]\n",
    "    ref_seq = [ref[x] for x in ref_index]\n",
    "    if read_seq == ref_seq:\n",
    "        \"\"\"full_match\"\"\"\n",
    "        return True\n",
    "    else: \n",
    "        \"\"\"substitution\"\"\"\n",
    "        return False\n",
    "    "
   ]
  },
  {
   "cell_type": "code",
   "execution_count": null,
   "metadata": {
    "collapsed": true
   },
   "outputs": [],
   "source": [
    "def process_events(pairs, file_obj):\n",
    "    event_list = file_obj[\"events\"].to_dict(\"records\")\n",
    "#     event_list = file_obj[\"events\"]\n",
    "    called_seq = file_obj[\"fastq\"].split(\"\\n\")[1]\n",
    "    i_seq = 0\n",
    "    correct = []\n",
    "    for ev in event_list:\n",
    "        ev[\"channel\"] = file_obj[\"channel\"]\n",
    "        ev[\"file_id\"] = file_obj[\"file_id\"]\n",
    "        ev_kmer = ev[\"kmer\"]\n",
    "        i_seq += gapmove(ev[\"move\"], pairs[0], i_seq)\n",
    "\n",
    "        try:\n",
    "            ev_index = event_indexes(pairs[0], i_seq)\n",
    "        except AlignmentEndException:\n",
    "            \"\"\"not the whole read is aligned\"\"\"\n",
    "            break\n",
    "#         read_kmer = get_nt_kmer(ev_index, pairs[0], called_seq)\n",
    "#         assert(read_kmer == ev_kmer), (i_seq, ev, read_kmer, ev_index)\n",
    "        if is_correct_kmer(ev_index, pairs, called_seq, ref):\n",
    "            ev[\"ref_position\"] = pairs[1][ev_index[floor(NMER/2)]] #first position of kmer in reference\n",
    "            correct.append(ev)\n",
    "    return correct"
   ]
  },
  {
   "cell_type": "code",
   "execution_count": null,
   "metadata": {
    "collapsed": false,
    "scrolled": true
   },
   "outputs": [],
   "source": [
    "total_events = 0\n",
    "\n",
    "p = Pool(args[\"ncores\"])\n",
    "\n",
    "result = []\n",
    "try:\n",
    "    for i, read in enumerate(reads):\n",
    "        file_id, channel_id = get_file_and_channel(read.query_name)\n",
    "        print(i, file_id, channel_id, read.query_name)\n",
    "        pairs = [list(t) for t in zip(*read.get_aligned_pairs())]\n",
    "        file_obj = get_file(channel_id, file_id)\n",
    "        assert(pairs[0][0] == 0), \"alignment is not null-indexed.\"\n",
    "\n",
    "        ## map read to events\n",
    "        total_events += len(file_obj[\"events\"].index)\n",
    "    #     total_events += len(file_obj[\"events\"])\n",
    "\n",
    "\n",
    "        result.append(p.apply_async(process_events,[pairs, file_obj]))\n",
    "#         result.append(process_events(pairs, file_obj))\n",
    "\n",
    "except KeyboardInterrupt:\n",
    "    p.terminate()    \n",
    "    "
   ]
  },
  {
   "cell_type": "code",
   "execution_count": null,
   "metadata": {
    "collapsed": false
   },
   "outputs": [],
   "source": [
    "true_events = list(chain.from_iterable([r.get() for r in result]))"
   ]
  },
  {
   "cell_type": "code",
   "execution_count": null,
   "metadata": {
    "collapsed": false
   },
   "outputs": [],
   "source": [
    "len(true_events)"
   ]
  },
  {
   "cell_type": "code",
   "execution_count": null,
   "metadata": {
    "collapsed": false
   },
   "outputs": [],
   "source": [
    "print(total_events)"
   ]
  },
  {
   "cell_type": "code",
   "execution_count": null,
   "metadata": {
    "collapsed": false
   },
   "outputs": [],
   "source": [
    "print(len(true_events)/total_events)"
   ]
  },
  {
   "cell_type": "code",
   "execution_count": null,
   "metadata": {
    "collapsed": false
   },
   "outputs": [],
   "source": [
    "pickle.dump(true_events,\n",
    "            open(\"{0}_true_events.pickle\".format(args[\"out_basename\"]), 'wb'))"
   ]
  },
  {
   "cell_type": "code",
   "execution_count": null,
   "metadata": {
    "collapsed": true
   },
   "outputs": [],
   "source": []
  }
 ],
 "metadata": {
  "kernelspec": {
   "display_name": "SSH fonsi ipython",
   "language": "",
   "name": "rik_ssh_fonsi_ipython"
  },
  "language_info": {
   "codemirror_mode": {
    "name": "ipython",
    "version": 3
   },
   "file_extension": ".py",
   "mimetype": "text/x-python",
   "name": "python",
   "nbconvert_exporter": "python",
   "pygments_lexer": "ipython3",
   "version": "3.4.3"
  }
 },
 "nbformat": 4,
 "nbformat_minor": 0
}
