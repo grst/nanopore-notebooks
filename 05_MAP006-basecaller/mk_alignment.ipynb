{
 "cells": [
  {
   "cell_type": "code",
   "execution_count": 9,
   "metadata": {
    "collapsed": false
   },
   "outputs": [],
   "source": [
    "from nbwrapper import getargs\n",
    "from pprint import pprint\n",
    "from multiprocessing import Pool, Value\n",
    "\n",
    "import re\n",
    "import numpy as np\n",
    "import pickle\n",
    "from itertools import repeat, count, product, chain\n",
    "import sys\n",
    "import pysam\n",
    "from math import floor\n",
    "import os.path\n",
    "%run \"/home/ibis/gregor.sturm/nanopore/own/notebooks/05_MAP006-basecaller/lib/alignment_lib.ipynb\"\n",
    "%run \"/home/ibis/gregor.sturm/nanopore/own/notebooks/05_MAP006-basecaller/lib/analysis_lib.ipynb\""
   ]
  },
  {
   "cell_type": "code",
   "execution_count": 10,
   "metadata": {
    "collapsed": false
   },
   "outputs": [
    {
     "name": "stderr",
     "output_type": "stream",
     "text": [
      "/home/ibis/gregor.sturm/bin/anaconda3/lib/python3.4/site-packages/nbwrapper.py:31: RuntimeWarning: no arguments passed!\n",
      "  warnings.warn(\"no arguments passed!\", RuntimeWarning)\n"
     ]
    }
   ],
   "source": [
    "args = getargs()"
   ]
  },
  {
   "cell_type": "code",
   "execution_count": 11,
   "metadata": {
    "collapsed": false
   },
   "outputs": [],
   "source": [
    "## for testing only\n",
    "# args = {\n",
    "#     \"events\": \"/home/ibis/gregor.sturm/nanopore/own/notebooks/03_pipeline/david_events.2D.pickle\",\n",
    "#     \"ref\": \"/home/ibis/gregor.sturm/nanopore/david_eccles_bc_ideas/mouse_ref.fa\",\n",
    "#     \"out_basename\": \"/home/ibis/gregor.sturm/nanopore/own/notebooks/03_pipeline/david_alignment\",\n",
    "#     \"ncores\": 24\n",
    "# }\n",
    "\n",
    "# args = {\n",
    "#     \"events\": \"/home/ibis/gregor.sturm/nanopore/own/notebooks/03_pipeline/lambda_events.2D.62pA.pickle\",\n",
    "#     \"ref\": \"/home/ibis/gregor.sturm/nanopore/own/notebooks/03_pipeline/lambda_ref.fasta\",\n",
    "#     \"out_basename\": \"/home/ibis/gregor.sturm/nanopore/own/notebooks/03_pipeline/lambda_alignment.62pA\",\n",
    "#     \"ncores\": 62\n",
    "# }\n",
    "\n",
    "\n",
    "args = {\n",
    "    \"events\": \"/home/ibis/gregor.sturm/nanopore/own/notebooks/05_MAP006-basecaller/loman006.events.2D.pickle\",\n",
    "    \"ref\": \"/home/ibis/gregor.sturm/nanopore/NanoporeData/PublicData/LomanLab_MAP-006/ecoli_mg1655.fa\",\n",
    "    \"out_basename\": \"/home/ibis/gregor.sturm/nanopore/own/notebooks/05_MAP006-basecaller/loman006.alignment\",\n",
    "    \"ncores\": 62,\n",
    "    \"nmer\": 6\n",
    "}"
   ]
  },
  {
   "cell_type": "code",
   "execution_count": 12,
   "metadata": {
    "collapsed": true
   },
   "outputs": [],
   "source": [
    "NMER = args[\"nmer\"]"
   ]
  },
  {
   "cell_type": "code",
   "execution_count": 13,
   "metadata": {
    "collapsed": false
   },
   "outputs": [
    {
     "name": "stdout",
     "output_type": "stream",
     "text": [
      "/home/ibis/gregor.sturm/nanopore/own/notebooks\r\n"
     ]
    }
   ],
   "source": [
    "!pwd"
   ]
  },
  {
   "cell_type": "code",
   "execution_count": 14,
   "metadata": {
    "collapsed": false
   },
   "outputs": [],
   "source": [
    "assert os.path.isfile(args[\"events\"])\n",
    "assert os.path.isfile(args[\"ref\"])\n",
    "assert args[\"ncores\"]"
   ]
  },
  {
   "cell_type": "code",
   "execution_count": 15,
   "metadata": {
    "collapsed": false
   },
   "outputs": [],
   "source": [
    "file_data = pickle.load(open(args[\"events\"], 'rb'))\n",
    "file_data = [f for f in file_data if f is not None]"
   ]
  },
  {
   "cell_type": "code",
   "execution_count": 16,
   "metadata": {
    "collapsed": false
   },
   "outputs": [
    {
     "name": "stdout",
     "output_type": "stream",
     "text": [
      "['>gi|556503834|ref|NC_000913.3| Escherichia coli str. K-12 substr. MG1655, complete genome']\n",
      "AGCTTTTCATTCTGACTGCAACGGGCAATATGTCTCTGTGTGGATTAAAAAAAGAGTGTCTGATAGCAGCTTCTGAACTGGTTACCTGCCGTGAGTAAAT\n"
     ]
    }
   ],
   "source": [
    "ref = load_ref(args[\"ref\"])"
   ]
  },
  {
   "cell_type": "code",
   "execution_count": 17,
   "metadata": {
    "collapsed": false
   },
   "outputs": [],
   "source": [
    "fastq_file = \"{0}.fastq\".format(args[\"out_basename\"])\n",
    "mk_fastq(fastq_file, file_data)"
   ]
  },
  {
   "cell_type": "code",
   "execution_count": 18,
   "metadata": {
    "collapsed": false
   },
   "outputs": [
    {
     "name": "stdout",
     "output_type": "stream",
     "text": [
      "[Index 16:54:37] Running in fast and sensitive mode. Two indexes will be used (double memory consumption).\n",
      "[Index 16:54:37] Index already exists. Loading from file.\n",
      "[Index 16:54:39] Secondary index already exists. Loading from file.\n",
      "[Index 16:54:42] Index loaded in 1.38 sec.\n",
      "[Index 16:54:42] Memory consumption: [currentRSS = 674 MB, peakRSS = 1616 MB]\n",
      "\n",
      "[Run 16:54:42] Automatically setting the maximum allowed number of regions: max. 500, attempt to reduce after 100\n",
      "[Run 16:54:42] Reference genome is assumed to be linear.\n",
      "[Run 16:54:42] Only one alignment will be reported per mapped read.\n",
      "[ProcessReads 16:54:42] Reads will be loaded in batches of up to 200 MB in size.\n",
      "[ProcessReads 16:54:42] Batch of 394 reads (7 MiB) loaded in 0.05 sec. (32711896 bases)\n",
      "[ProcessReads 16:54:42] Memory consumption: [currentRSS = 681 MB, peakRSS = 1616 MB]\n",
      "[ProcessReads 16:54:42] Using 62 threads.\n",
      "[ProcessReads 16:54:48] [CPU time: 102.17 sec, RSS: 717 MB] Read: 394/394 (100.00%) [m: 394, u: 0]                                                                 \n",
      "\n",
      "[ProcessReads 16:54:48] Memory consumption: [currentRSS = 717 MB, peakRSS = 2694 MB]\n",
      "\n",
      "[ProcessReads 16:54:48] All reads processed in 102.17 sec (or 1.70 CPU min).\n"
     ]
    }
   ],
   "source": [
    "sam_file = \"{0}.sam\".format(args[\"out_basename\"])\n",
    "graphmap(args[\"ref\"], fastq_file, sam_file, args[\"ncores\"])"
   ]
  },
  {
   "cell_type": "code",
   "execution_count": 19,
   "metadata": {
    "collapsed": false
   },
   "outputs": [
    {
     "name": "stdout",
     "output_type": "stream",
     "text": [
      "[samopen] SAM header is present: 1 sequences.\r\n"
     ]
    },
    {
     "data": {
      "text/plain": [
       "'/home/ibis/gregor.sturm/nanopore/own/notebooks/05_MAP006-basecaller/loman006.alignment.sorted.bam'"
      ]
     },
     "execution_count": 19,
     "metadata": {},
     "output_type": "execute_result"
    }
   ],
   "source": [
    "prepare_sam(args[\"out_basename\"])"
   ]
  },
  {
   "cell_type": "code",
   "execution_count": 20,
   "metadata": {
    "collapsed": false
   },
   "outputs": [],
   "source": [
    "samfile = pysam.AlignmentFile(\"{0}.sorted.bam\".format(args[\"out_basename\"]))\n",
    "samreads = {}"
   ]
  },
  {
   "cell_type": "code",
   "execution_count": 21,
   "metadata": {
    "collapsed": false,
    "scrolled": false
   },
   "outputs": [
    {
     "name": "stdout",
     "output_type": "stream",
     "text": [
      "394\n"
     ]
    }
   ],
   "source": [
    "print(len(file_data))"
   ]
  },
  {
   "cell_type": "code",
   "execution_count": 22,
   "metadata": {
    "collapsed": false
   },
   "outputs": [],
   "source": [
    "prepare_filemap(file_data)"
   ]
  },
  {
   "cell_type": "code",
   "execution_count": 23,
   "metadata": {
    "collapsed": false
   },
   "outputs": [
    {
     "data": {
      "text/plain": [
       "394"
      ]
     },
     "execution_count": 23,
     "metadata": {},
     "output_type": "execute_result"
    }
   ],
   "source": [
    "reads  = [x for x in samfile.fetch()]\n",
    "len(reads)"
   ]
  },
  {
   "cell_type": "code",
   "execution_count": 24,
   "metadata": {
    "collapsed": false
   },
   "outputs": [],
   "source": [
    "class AlignmentEndException(Exception):\n",
    "    pass\n",
    "\n",
    "def event_indexes(pairing_seq, offset):\n",
    "    \"\"\" get the next entries from the pairing array\n",
    "    such that k non-gap characters are contained\"\"\"\n",
    "    count = 0\n",
    "    kmer = []\n",
    "    for i in range(offset, len(pairing_seq)): \n",
    "        if count == NMER: break\n",
    "        if pairing_seq[i] is not None:\n",
    "            count += 1\n",
    "            kmer.append(i)\n",
    "    if len(kmer) != NMER: \n",
    "        raise AlignmentEndException\n",
    "    return kmer\n",
    "    \n",
    "    "
   ]
  },
  {
   "cell_type": "code",
   "execution_count": 25,
   "metadata": {
    "collapsed": false
   },
   "outputs": [],
   "source": [
    "def gapmove(to_move, seq, offset):\n",
    "    \"\"\"move by 'move' (from metrichor) in the aligned sequence. \n",
    "    additionally increase index to compensate for each gap\n",
    "    \"\"\"\n",
    "    move = to_move\n",
    "    for i in seq[offset:]: \n",
    "        if i is None: \n",
    "            move += 1\n",
    "        else:\n",
    "            to_move -= 1\n",
    "            if to_move <= 0:\n",
    "                return move"
   ]
  },
  {
   "cell_type": "code",
   "execution_count": 26,
   "metadata": {
    "collapsed": true
   },
   "outputs": [],
   "source": [
    "def get_nt_kmer(index, pairs, seq): \n",
    "    \"\"\"convert sequence indexes into the corresponding nucleotides. \n",
    "    gaps are converted into '' \n",
    "    \"\"\"\n",
    "    seq_index = [pairs[x] for x in index]\n",
    "    nt_kmer = [seq[x] for x in seq_index]\n",
    "    return \"\".join(nt_kmer)\n"
   ]
  },
  {
   "cell_type": "code",
   "execution_count": 27,
   "metadata": {
    "collapsed": true
   },
   "outputs": [],
   "source": [
    "def is_consecutive_seq(seq):\n",
    "    \"\"\"check if the sequence 'seq' consists of consecutive numbers\"\"\"\n",
    "    return len(set(list(map(lambda ix:ix[1]-ix[0], enumerate(seq))))) <= 1"
   ]
  },
  {
   "cell_type": "code",
   "execution_count": 28,
   "metadata": {
    "collapsed": false
   },
   "outputs": [],
   "source": [
    "def is_correct_kmer(ev_index, pairs, read, ref):\n",
    "    \"\"\"check if a kmer corresponds completely wit the reference. \n",
    "    This is the case if: \n",
    "        * the read positions are consecutive (no indels)\n",
    "        * the ref positions are consecutive (no indels)\n",
    "        * the nucleotides are idential (no substitutions)\n",
    "    \"\"\"\n",
    "    assert(len(ev_index) == NMER), \"invalid event index\"\n",
    "    read_index = [pairs[0][x] for x in ev_index]\n",
    "    ref_index = [pairs[1][x] for x in ev_index]\n",
    "    \n",
    "    if None in read_index or not is_consecutive_seq(read_index): \n",
    "        \"\"\"indel in read\"\"\"\n",
    "        return False\n",
    "             \n",
    "    if None in ref_index or not is_consecutive_seq(ref_index): \n",
    "        \"\"\"indel in ref\"\"\"\n",
    "        return False\n",
    "             \n",
    "    read_seq = [read[x] for x in read_index]\n",
    "    ref_seq = [ref[x] for x in ref_index]\n",
    "    if read_seq == ref_seq:\n",
    "        \"\"\"full_match\"\"\"\n",
    "        return True\n",
    "    else: \n",
    "        \"\"\"substitution\"\"\"\n",
    "        return False\n",
    "    "
   ]
  },
  {
   "cell_type": "code",
   "execution_count": 29,
   "metadata": {
    "collapsed": true
   },
   "outputs": [],
   "source": [
    "def process_events(pairs, file_obj):\n",
    "    event_list = file_obj[\"events\"].to_dict(\"records\")\n",
    "#     event_list = file_obj[\"events\"]\n",
    "    called_seq = file_obj[\"fastq\"].split(\"\\n\")[1]\n",
    "    i_seq = 0\n",
    "    correct = []\n",
    "    for ev in event_list:\n",
    "        ev[\"channel\"] = file_obj[\"channel\"]\n",
    "        ev[\"file_id\"] = file_obj[\"file_id\"]\n",
    "        ev_kmer = ev[\"kmer\"]\n",
    "        i_seq += gapmove(ev[\"move\"], pairs[0], i_seq)\n",
    "\n",
    "        try:\n",
    "            ev_index = event_indexes(pairs[0], i_seq)\n",
    "        except AlignmentEndException:\n",
    "            \"\"\"not the whole read is aligned\"\"\"\n",
    "            break\n",
    "        read_kmer = get_nt_kmer(ev_index, pairs[0], called_seq)       \n",
    "        assert(read_kmer == ev_kmer), (ev, read_kmer, ev_index)\n",
    "        if is_correct_kmer(ev_index, pairs, called_seq, ref):\n",
    "            ev[\"ref_position\"] = pairs[1][ev_index[floor(NMER/2)]] #first position of kmer in reference\n",
    "            correct.append(ev)\n",
    "    return correct"
   ]
  },
  {
   "cell_type": "code",
   "execution_count": 33,
   "metadata": {
    "collapsed": false,
    "scrolled": true
   },
   "outputs": [
    {
     "name": "stdout",
     "output_type": "stream",
     "text": [
      "0 1 300 ch300_file1_read\n"
     ]
    },
    {
     "ename": "AssertionError",
     "evalue": "({'complement.start': 3058020.0, 'kmer': 'GCTCAA', 'file_id': 1, 'template.end': 680089.0, 'channel': 300, 'complement.stdv': 1.9621631028396693, 'complement.mean': 69.5374955026727, 'complement.end': 3058050.0, 'template.start': 680018.0, 'move': 1, 'template.mean': 69.20588168831759, 'template.stdv': 0.706223850282534}, 'GCTCAG', [1066, 1067, 1068, 1069, 1070, 1071])",
     "output_type": "error",
     "traceback": [
      "\u001b[1;31m---------------------------------------------------------------------------\u001b[0m",
      "\u001b[1;31mAssertionError\u001b[0m                            Traceback (most recent call last)",
      "\u001b[1;32m<ipython-input-33-9de84d2427c1>\u001b[0m in \u001b[0;36m<module>\u001b[1;34m()\u001b[0m\n\u001b[0;32m     19\u001b[0m \u001b[1;31m#         result.append(p.apply_async(process_events,\u001b[0m\u001b[1;33m\u001b[0m\u001b[1;33m\u001b[0m\u001b[0m\n\u001b[0;32m     20\u001b[0m \u001b[1;31m#                                          [pairs, file_obj]))\u001b[0m\u001b[1;33m\u001b[0m\u001b[1;33m\u001b[0m\u001b[0m\n\u001b[1;32m---> 21\u001b[1;33m         \u001b[0mresult\u001b[0m\u001b[1;33m.\u001b[0m\u001b[0mappend\u001b[0m\u001b[1;33m(\u001b[0m\u001b[0mprocess_events\u001b[0m\u001b[1;33m(\u001b[0m\u001b[0mpairs\u001b[0m\u001b[1;33m,\u001b[0m \u001b[0mfile_obj\u001b[0m\u001b[1;33m)\u001b[0m\u001b[1;33m)\u001b[0m\u001b[1;33m\u001b[0m\u001b[0m\n\u001b[0m\u001b[0;32m     22\u001b[0m \u001b[1;33m\u001b[0m\u001b[0m\n\u001b[0;32m     23\u001b[0m \u001b[1;32mexcept\u001b[0m \u001b[0mKeyboardInterrupt\u001b[0m\u001b[1;33m:\u001b[0m\u001b[1;33m\u001b[0m\u001b[0m\n",
      "\u001b[1;32m<ipython-input-29-fa4da2350949>\u001b[0m in \u001b[0;36mprocess_events\u001b[1;34m(pairs, file_obj)\u001b[0m\n\u001b[0;32m     17\u001b[0m             \u001b[1;32mbreak\u001b[0m\u001b[1;33m\u001b[0m\u001b[0m\n\u001b[0;32m     18\u001b[0m         \u001b[0mread_kmer\u001b[0m \u001b[1;33m=\u001b[0m \u001b[0mget_nt_kmer\u001b[0m\u001b[1;33m(\u001b[0m\u001b[0mev_index\u001b[0m\u001b[1;33m,\u001b[0m \u001b[0mpairs\u001b[0m\u001b[1;33m[\u001b[0m\u001b[1;36m0\u001b[0m\u001b[1;33m]\u001b[0m\u001b[1;33m,\u001b[0m \u001b[0mcalled_seq\u001b[0m\u001b[1;33m)\u001b[0m\u001b[1;33m\u001b[0m\u001b[0m\n\u001b[1;32m---> 19\u001b[1;33m         \u001b[1;32massert\u001b[0m\u001b[1;33m(\u001b[0m\u001b[0mread_kmer\u001b[0m \u001b[1;33m==\u001b[0m \u001b[0mev_kmer\u001b[0m\u001b[1;33m)\u001b[0m\u001b[1;33m,\u001b[0m \u001b[1;33m(\u001b[0m\u001b[0mev\u001b[0m\u001b[1;33m,\u001b[0m \u001b[0mread_kmer\u001b[0m\u001b[1;33m,\u001b[0m \u001b[0mev_index\u001b[0m\u001b[1;33m)\u001b[0m\u001b[1;33m\u001b[0m\u001b[0m\n\u001b[0m\u001b[0;32m     20\u001b[0m         \u001b[1;32mif\u001b[0m \u001b[0mis_correct_kmer\u001b[0m\u001b[1;33m(\u001b[0m\u001b[0mev_index\u001b[0m\u001b[1;33m,\u001b[0m \u001b[0mpairs\u001b[0m\u001b[1;33m,\u001b[0m \u001b[0mcalled_seq\u001b[0m\u001b[1;33m,\u001b[0m \u001b[0mref\u001b[0m\u001b[1;33m)\u001b[0m\u001b[1;33m:\u001b[0m\u001b[1;33m\u001b[0m\u001b[0m\n\u001b[0;32m     21\u001b[0m             \u001b[0mev\u001b[0m\u001b[1;33m[\u001b[0m\u001b[1;34m\"ref_position\"\u001b[0m\u001b[1;33m]\u001b[0m \u001b[1;33m=\u001b[0m \u001b[0mpairs\u001b[0m\u001b[1;33m[\u001b[0m\u001b[1;36m1\u001b[0m\u001b[1;33m]\u001b[0m\u001b[1;33m[\u001b[0m\u001b[0mev_index\u001b[0m\u001b[1;33m[\u001b[0m\u001b[0mfloor\u001b[0m\u001b[1;33m(\u001b[0m\u001b[0mNMER\u001b[0m\u001b[1;33m/\u001b[0m\u001b[1;36m2\u001b[0m\u001b[1;33m)\u001b[0m\u001b[1;33m]\u001b[0m\u001b[1;33m]\u001b[0m \u001b[1;31m#first position of kmer in reference\u001b[0m\u001b[1;33m\u001b[0m\u001b[0m\n",
      "\u001b[1;31mAssertionError\u001b[0m: ({'complement.start': 3058020.0, 'kmer': 'GCTCAA', 'file_id': 1, 'template.end': 680089.0, 'channel': 300, 'complement.stdv': 1.9621631028396693, 'complement.mean': 69.5374955026727, 'complement.end': 3058050.0, 'template.start': 680018.0, 'move': 1, 'template.mean': 69.20588168831759, 'template.stdv': 0.706223850282534}, 'GCTCAG', [1066, 1067, 1068, 1069, 1070, 1071])"
     ]
    }
   ],
   "source": [
    "total_events = 0\n",
    "\n",
    "p = Pool(args[\"ncores\"])\n",
    "\n",
    "result = []\n",
    "try:\n",
    "    for i, read in enumerate(reads[1:]):\n",
    "        file_id, channel_id = get_file_and_channel(read.query_name)\n",
    "        print(i, file_id, channel_id, read.query_name)\n",
    "        pairs = [list(t) for t in zip(*read.get_aligned_pairs())]\n",
    "        file_obj = get_file(channel_id, file_id)\n",
    "        assert(pairs[0][0] == 0), \"alignment is not null-indexed.\"\n",
    "\n",
    "        ## map read to events\n",
    "        total_events += len(file_obj[\"events\"].index)\n",
    "    #     total_events += len(file_obj[\"events\"])\n",
    "\n",
    "\n",
    "#         result.append(p.apply_async(process_events,\n",
    "#                                          [pairs, file_obj]))\n",
    "        result.append(process_events(pairs, file_obj))\n",
    "\n",
    "except KeyboardInterrupt:\n",
    "    p.terminate()    \n",
    "    "
   ]
  },
  {
   "cell_type": "code",
   "execution_count": 31,
   "metadata": {
    "collapsed": false
   },
   "outputs": [
    {
     "ename": "AssertionError",
     "evalue": "({'complement.start': 29029685.0, 'kmer': 'CAGCAT', 'template.end': nan, 'complement.mean': 104.10528866975204, 'file_id': 18, 'complement.stdv': 3.8284694588482404, 'channel': 110, 'complement.end': 29029760.0, 'template.start': nan, 'move': 1, 'template.stdv': nan, 'template.mean': nan}, 'CAGCAC', [1292, 1293, 1294, 1295, 1296, 1297])",
     "output_type": "error",
     "traceback": [
      "\u001b[1;31m---------------------------------------------------------------------------\u001b[0m",
      "\u001b[1;31mRemoteTraceback\u001b[0m                           Traceback (most recent call last)",
      "\u001b[1;31mRemoteTraceback\u001b[0m: \n\"\"\"\nTraceback (most recent call last):\n  File \"/home/ibis/gregor.sturm/bin/anaconda3/lib/python3.4/multiprocessing/pool.py\", line 119, in worker\n    result = (True, func(*args, **kwds))\n  File \"<ipython-input-29-fa4da2350949>\", line 19, in process_events\n    assert(read_kmer == ev_kmer), (ev, read_kmer, ev_index)\nAssertionError: ({'complement.start': 29029685.0, 'kmer': 'CAGCAT', 'file_id': 18, 'template.end': nan, 'channel': 110, 'complement.stdv': 3.8284694588482404, 'complement.mean': 104.10528866975204, 'complement.end': 29029760.0, 'template.start': nan, 'move': 1, 'template.mean': nan, 'template.stdv': nan}, 'CAGCAC', [1292, 1293, 1294, 1295, 1296, 1297])\n\"\"\"",
      "\nThe above exception was the direct cause of the following exception:\n",
      "\u001b[1;31mAssertionError\u001b[0m                            Traceback (most recent call last)",
      "\u001b[1;32m<ipython-input-31-26e42bf76549>\u001b[0m in \u001b[0;36m<module>\u001b[1;34m()\u001b[0m\n\u001b[1;32m----> 1\u001b[1;33m \u001b[0mtrue_events\u001b[0m \u001b[1;33m=\u001b[0m \u001b[0mlist\u001b[0m\u001b[1;33m(\u001b[0m\u001b[0mchain\u001b[0m\u001b[1;33m.\u001b[0m\u001b[0mfrom_iterable\u001b[0m\u001b[1;33m(\u001b[0m\u001b[1;33m[\u001b[0m\u001b[0mr\u001b[0m\u001b[1;33m.\u001b[0m\u001b[0mget\u001b[0m\u001b[1;33m(\u001b[0m\u001b[1;33m)\u001b[0m \u001b[1;32mfor\u001b[0m \u001b[0mr\u001b[0m \u001b[1;32min\u001b[0m \u001b[0mresult\u001b[0m\u001b[1;33m]\u001b[0m\u001b[1;33m)\u001b[0m\u001b[1;33m)\u001b[0m\u001b[1;33m\u001b[0m\u001b[0m\n\u001b[0m",
      "\u001b[1;32m<ipython-input-31-26e42bf76549>\u001b[0m in \u001b[0;36m<listcomp>\u001b[1;34m(.0)\u001b[0m\n\u001b[1;32m----> 1\u001b[1;33m \u001b[0mtrue_events\u001b[0m \u001b[1;33m=\u001b[0m \u001b[0mlist\u001b[0m\u001b[1;33m(\u001b[0m\u001b[0mchain\u001b[0m\u001b[1;33m.\u001b[0m\u001b[0mfrom_iterable\u001b[0m\u001b[1;33m(\u001b[0m\u001b[1;33m[\u001b[0m\u001b[0mr\u001b[0m\u001b[1;33m.\u001b[0m\u001b[0mget\u001b[0m\u001b[1;33m(\u001b[0m\u001b[1;33m)\u001b[0m \u001b[1;32mfor\u001b[0m \u001b[0mr\u001b[0m \u001b[1;32min\u001b[0m \u001b[0mresult\u001b[0m\u001b[1;33m]\u001b[0m\u001b[1;33m)\u001b[0m\u001b[1;33m)\u001b[0m\u001b[1;33m\u001b[0m\u001b[0m\n\u001b[0m",
      "\u001b[1;32m/home/ibis/gregor.sturm/bin/anaconda3/lib/python3.4/multiprocessing/pool.py\u001b[0m in \u001b[0;36mget\u001b[1;34m(self, timeout)\u001b[0m\n\u001b[0;32m    597\u001b[0m             \u001b[1;32mreturn\u001b[0m \u001b[0mself\u001b[0m\u001b[1;33m.\u001b[0m\u001b[0m_value\u001b[0m\u001b[1;33m\u001b[0m\u001b[0m\n\u001b[0;32m    598\u001b[0m         \u001b[1;32melse\u001b[0m\u001b[1;33m:\u001b[0m\u001b[1;33m\u001b[0m\u001b[0m\n\u001b[1;32m--> 599\u001b[1;33m             \u001b[1;32mraise\u001b[0m \u001b[0mself\u001b[0m\u001b[1;33m.\u001b[0m\u001b[0m_value\u001b[0m\u001b[1;33m\u001b[0m\u001b[0m\n\u001b[0m\u001b[0;32m    600\u001b[0m \u001b[1;33m\u001b[0m\u001b[0m\n\u001b[0;32m    601\u001b[0m     \u001b[1;32mdef\u001b[0m \u001b[0m_set\u001b[0m\u001b[1;33m(\u001b[0m\u001b[0mself\u001b[0m\u001b[1;33m,\u001b[0m \u001b[0mi\u001b[0m\u001b[1;33m,\u001b[0m \u001b[0mobj\u001b[0m\u001b[1;33m)\u001b[0m\u001b[1;33m:\u001b[0m\u001b[1;33m\u001b[0m\u001b[0m\n",
      "\u001b[1;31mAssertionError\u001b[0m: ({'complement.start': 29029685.0, 'kmer': 'CAGCAT', 'template.end': nan, 'complement.mean': 104.10528866975204, 'file_id': 18, 'complement.stdv': 3.8284694588482404, 'channel': 110, 'complement.end': 29029760.0, 'template.start': nan, 'move': 1, 'template.stdv': nan, 'template.mean': nan}, 'CAGCAC', [1292, 1293, 1294, 1295, 1296, 1297])"
     ]
    }
   ],
   "source": [
    "true_events = list(chain.from_iterable([r.get() for r in result]))"
   ]
  },
  {
   "cell_type": "code",
   "execution_count": null,
   "metadata": {
    "collapsed": false
   },
   "outputs": [],
   "source": [
    "len(true_events)"
   ]
  },
  {
   "cell_type": "code",
   "execution_count": null,
   "metadata": {
    "collapsed": false
   },
   "outputs": [],
   "source": [
    "print(total_events)"
   ]
  },
  {
   "cell_type": "code",
   "execution_count": null,
   "metadata": {
    "collapsed": false
   },
   "outputs": [],
   "source": [
    "print(len(true_events)/total_events)"
   ]
  },
  {
   "cell_type": "code",
   "execution_count": null,
   "metadata": {
    "collapsed": false
   },
   "outputs": [],
   "source": [
    "pickle.dump(true_events,\n",
    "            open(\"{0}_true_events.pickle\".format(args[\"out_basename\"]), 'wb'))"
   ]
  },
  {
   "cell_type": "code",
   "execution_count": null,
   "metadata": {
    "collapsed": true
   },
   "outputs": [],
   "source": []
  }
 ],
 "metadata": {
  "kernelspec": {
   "display_name": "SSH fonsi ipython",
   "language": "",
   "name": "rik_ssh_fonsi_ipython"
  },
  "language_info": {
   "codemirror_mode": {
    "name": "ipython",
    "version": 3
   },
   "file_extension": ".py",
   "mimetype": "text/x-python",
   "name": "python",
   "nbconvert_exporter": "python",
   "pygments_lexer": "ipython3",
   "version": "3.4.3"
  }
 },
 "nbformat": 4,
 "nbformat_minor": 0
}
