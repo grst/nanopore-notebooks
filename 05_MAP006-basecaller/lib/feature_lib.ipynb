{
 "cells": [
  {
   "cell_type": "code",
   "execution_count": 2,
   "metadata": {
    "collapsed": true
   },
   "outputs": [],
   "source": [
    "import mltools"
   ]
  },
  {
   "cell_type": "code",
   "execution_count": 4,
   "metadata": {
    "collapsed": true
   },
   "outputs": [],
   "source": [
    "def normalize_col(features, col): \n",
    "    col_data = [f[col] for f in features]\n",
    "    col_data = mltools.normalize(col_data)\n",
    "    for i, f in enumerate(features): \n",
    "        f[col] = col_data[i]\n",
    "    return features"
   ]
  },
  {
   "cell_type": "code",
   "execution_count": 5,
   "metadata": {
    "collapsed": true
   },
   "outputs": [],
   "source": [
    "## abstract scheme:\n",
    "def mk_feature(mean, stdv, context): \n",
    "    \"\"\"\n",
    "    make feature vector for a given event.\n",
    "    Args:\n",
    "        mean\n",
    "        stdv\n",
    "        context: -20 before kmer, -20 after kmer ==> 46nts in total\n",
    "    \n",
    "    \"\"\"\n",
    "    return [f1, f2, f3]"
   ]
  },
  {
   "cell_type": "code",
   "execution_count": 6,
   "metadata": {
    "collapsed": true
   },
   "outputs": [],
   "source": [
    "def mk_feature_all(mean, stdv, context):\n",
    "    feat = []\n",
    "    feat.append(mean)\n",
    "    feat.append(stdv)\n",
    "    feat.extend(mltools.seq2binvec(context))\n",
    "    return feat"
   ]
  },
  {
   "cell_type": "code",
   "execution_count": 8,
   "metadata": {
    "collapsed": true
   },
   "outputs": [],
   "source": [
    "def postprocess_features(features):\n",
    "    features = normalize_col(features, 0)\n",
    "    features = normalize_col(features, 1)\n",
    "    return features"
   ]
  },
  {
   "cell_type": "code",
   "execution_count": null,
   "metadata": {
    "collapsed": true
   },
   "outputs": [],
   "source": []
  }
 ],
 "metadata": {
  "kernelspec": {
   "display_name": "Python 3",
   "language": "python",
   "name": "python3"
  },
  "language_info": {
   "codemirror_mode": {
    "name": "ipython",
    "version": 3
   },
   "file_extension": ".py",
   "mimetype": "text/x-python",
   "name": "python",
   "nbconvert_exporter": "python",
   "pygments_lexer": "ipython3",
   "version": "3.4.3"
  }
 },
 "nbformat": 4,
 "nbformat_minor": 0
}
