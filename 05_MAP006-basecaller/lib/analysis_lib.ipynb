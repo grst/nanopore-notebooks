{
 "cells": [
  {
   "cell_type": "code",
   "execution_count": 1,
   "metadata": {
    "collapsed": true
   },
   "outputs": [],
   "source": [
    "from collections import OrderedDict\n",
    "NTS = \"ACGT\"\n",
    "NT_MAP = {nt: i for i, nt in enumerate(\"ACGT\")}\n",
    "NT_RMAP = {i: nt for i, nt in enumerate(\"ACGT\")}\n",
    "NT_COLORS = {\n",
    "    \"A\": \"#64F73F\",\n",
    "    \"C\": \"#FFB340\",\n",
    "    \"G\": \"#EB413C\",\n",
    "    \"T\": \"#3C88EE\",\n",
    "    \"U\": \"#3C88EE\"\n",
    "}"
   ]
  },
  {
   "cell_type": "code",
   "execution_count": 1,
   "metadata": {
    "collapsed": true
   },
   "outputs": [],
   "source": [
    "def mk_kmer_dict(nmer):\n",
    "    from itertools import product\n",
    "    return [''.join(i) for i in product(\"ACGT\",repeat=nmer)]"
   ]
  },
  {
   "cell_type": "code",
   "execution_count": null,
   "metadata": {
    "collapsed": true
   },
   "outputs": [],
   "source": [
    "def mk_event_map(events, kmers):\n",
    "    \"\"\"sort all events into kmer-buckets according to their \n",
    "    kmer attribute.\n",
    "    \n",
    "    Returns:\n",
    "        dict (kmer => [list_of_events])\n",
    "    \"\"\"\n",
    "    ev_map = OrderedDict((k,[]) for k in kmers)\n",
    "    for ev in true_events: \n",
    "        ev_map[ev[\"kmer\"][:]].append(ev)\n",
    "    return ev_map"
   ]
  },
  {
   "cell_type": "code",
   "execution_count": 2,
   "metadata": {
    "collapsed": true
   },
   "outputs": [],
   "source": [
    "class side_by_side():\n",
    "    def __init__(self, *frames):\n",
    "        self.frames = frames\n",
    "\n",
    "    def _repr_html_(self):\n",
    "        width = 100. / len(self.frames)\n",
    "\n",
    "        s = \"\"\n",
    "        for f in self.frames:\n",
    "            s += \"<div style='float: left;'>%s</div>\" % f._repr_html_()\n",
    "\n",
    "        return s"
   ]
  },
  {
   "cell_type": "code",
   "execution_count": 1,
   "metadata": {
    "collapsed": true
   },
   "outputs": [],
   "source": [
    "def load_ref(ref_file): \n",
    "    ref_file = args[\"ref\"]\n",
    "    header = !cat {ref_file} | grep \">\"\n",
    "    print(header)\n",
    "    ref = !cat {ref_file} | grep -v \">\" | tr -d \"\\n\" \n",
    "    ref = ref[0]\n",
    "    print(ref[:100])\n",
    "    return ref"
   ]
  },
  {
   "cell_type": "code",
   "execution_count": 1,
   "metadata": {
    "collapsed": true,
    "run_control": {
     "breakpoint": false
    }
   },
   "outputs": [],
   "source": [
    "def normalize_read(file_obj, target_median=59):\n",
    "    tmp_median = file_obj[\"events\"][\"mean\"].median()\n",
    "    factor = target_median/tmp_median\n",
    "    file_obj[\"events\"][\"mean\"] = file_obj[\"events\"][\"mean\"].map(lambda x: x*factor)\n",
    "    return file_obj"
   ]
  },
  {
   "cell_type": "code",
   "execution_count": 2,
   "metadata": {
    "collapsed": true,
    "run_control": {
     "breakpoint": false
    }
   },
   "outputs": [],
   "source": [
    "def normalize_read2(file_obj, target_median=59):\n",
    "    \"\"\"gradient normalisation (first half/second half)\"\"\"\n",
    "    size = len(file_obj[\"events\"][\"mean\"])\n",
    "    median1 = file_obj[\"events\"][\"mean\"][:size/2].median()\n",
    "    x1 = size/4.\n",
    "    x2 = (3*size)/4. \n",
    "    median2 = file_obj[\"events\"][\"mean\"][size/2:].median()\n",
    "    m = (median2 - median1)/(x2 - x1)\n",
    "    t = median1 - m * x1\n",
    "    f_median = lambda x: m*x + t    \n",
    "    file_obj[\"events\"][\"mean\"] = file_obj[\"events\"][\"mean\"].map(lambda x: x*(target_median / f_median(x)))\n",
    "    return file_obj"
   ]
  },
  {
   "cell_type": "code",
   "execution_count": null,
   "metadata": {
    "collapsed": true,
    "run_control": {
     "breakpoint": false
    }
   },
   "outputs": [],
   "source": []
  }
 ],
 "metadata": {
  "kernelspec": {
   "display_name": "Python 3",
   "language": "python",
   "name": "python3"
  },
  "language_info": {
   "codemirror_mode": {
    "name": "ipython",
    "version": 3
   },
   "file_extension": ".py",
   "mimetype": "text/x-python",
   "name": "python",
   "nbconvert_exporter": "python",
   "pygments_lexer": "ipython3",
   "version": "3.4.3"
  }
 },
 "nbformat": 4,
 "nbformat_minor": 0
}
