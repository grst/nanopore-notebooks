{
 "cells": [
  {
   "cell_type": "code",
   "execution_count": 1,
   "metadata": {
    "collapsed": true
   },
   "outputs": [],
   "source": [
    "from collections import OrderedDict\n",
    "NTS = \"ACGT\"\n",
    "NT_MAP = {nt: i for i, nt in enumerate(\"ACGT\")}\n",
    "NT_RMAP = {i: nt for i, nt in enumerate(\"ACGT\")}\n",
    "NT_COLORS = {\n",
    "    \"A\": \"#64F73F\",\n",
    "    \"C\": \"#FFB340\",\n",
    "    \"G\": \"#EB413C\",\n",
    "    \"T\": \"#3C88EE\",\n",
    "    \"U\": \"#3C88EE\"\n",
    "}"
   ]
  },
  {
   "cell_type": "code",
   "execution_count": 1,
   "metadata": {
    "collapsed": true
   },
   "outputs": [],
   "source": [
    "def mk_kmer_dict(nmer):\n",
    "    from itertools import product\n",
    "    return [''.join(i) for i in product(\"ACGT\",repeat=nmer)]"
   ]
  },
  {
   "cell_type": "code",
   "execution_count": null,
   "metadata": {
    "collapsed": true
   },
   "outputs": [],
   "source": [
    "def mk_event_map(events, kmers):\n",
    "    \"\"\"sort all events into kmer-buckets according to their \n",
    "    kmer attribute.\n",
    "    \n",
    "    Returns:\n",
    "        dict (kmer => [list_of_events])\n",
    "    \"\"\"\n",
    "    ev_map = OrderedDict((k,[]) for k in all_5mers)\n",
    "    for ev in true_events: \n",
    "        if(NMER == 1):\n",
    "            ev_map[ev[\"kmer\"][2]].append(ev)\n",
    "        elif(NMER == 3):\n",
    "            ev_map[ev[\"kmer\"][1:4]].append(ev)\n",
    "        elif(NMER == 5):\n",
    "            ev_map[ev[\"kmer\"][:]].append(ev)\n",
    "        else:\n",
    "            assert False, \"not implemented\"\n",
    "    return ev_map"
   ]
  },
  {
   "cell_type": "code",
   "execution_count": 2,
   "metadata": {
    "collapsed": true
   },
   "outputs": [],
   "source": [
    "class side_by_side():\n",
    "    def __init__(self, *frames):\n",
    "        self.frames = frames\n",
    "\n",
    "    def _repr_html_(self):\n",
    "        width = 100. / len(self.frames)\n",
    "\n",
    "        s = \"\"\n",
    "        for f in self.frames:\n",
    "            s += \"<div style='float: left;'>%s</div>\" % f._repr_html_()\n",
    "\n",
    "        return s"
   ]
  },
  {
   "cell_type": "code",
   "execution_count": 1,
   "metadata": {
    "collapsed": true
   },
   "outputs": [],
   "source": [
    "def load_ref(ref_file): \n",
    "    ref_file = args[\"ref\"]\n",
    "    header = !cat {ref_file} | grep \">\"\n",
    "    print(header)\n",
    "    ref = !cat {ref_file} | grep -v \">\" | tr -d \"\\n\" \n",
    "    ref = ref[0]\n",
    "    print(ref[:100])\n",
    "    return ref"
   ]
  },
  {
   "cell_type": "code",
   "execution_count": null,
   "metadata": {
    "collapsed": true,
    "run_control": {
     "breakpoint": false
    }
   },
   "outputs": [],
   "source": []
  }
 ],
 "metadata": {
  "kernelspec": {
   "display_name": "Python 3",
   "language": "python",
   "name": "python3"
  },
  "language_info": {
   "codemirror_mode": {
    "name": "ipython",
    "version": 3
   },
   "file_extension": ".py",
   "mimetype": "text/x-python",
   "name": "python",
   "nbconvert_exporter": "python",
   "pygments_lexer": "ipython3",
   "version": "3.4.3"
  }
 },
 "nbformat": 4,
 "nbformat_minor": 0
}
