{
 "cells": [
  {
   "cell_type": "code",
   "execution_count": 1,
   "metadata": {
    "collapsed": true
   },
   "outputs": [],
   "source": [
    "from collections import OrderedDict\n",
    "NTS = \"ACGT\"\n",
    "NT_MAP = {nt: i for i, nt in enumerate(\"ACGT\")}\n",
    "NT_RMAP = {i: nt for i, nt in enumerate(\"ACGT\")}\n",
    "# NT_COLORS = {\n",
    "#     \"A\": \"#64F73F\",\n",
    "#     \"C\": \"#FFB340\",\n",
    "#     \"G\": \"#EB413C\",\n",
    "#     \"T\": \"#3C88EE\",\n",
    "#     \"U\": \"#3C88EE\"\n",
    "# }\n",
    "NT_COLORS = { ## as used by metrichor\n",
    "    \"G\": \"#64F73F\",\n",
    "    \"T\": \"#FFB340\",\n",
    "    \"A\": \"#EB413C\",\n",
    "    \"C\": \"#3C88EE\",\n",
    "    \"U\": \"#FFB340\"\n",
    "}"
   ]
  },
  {
   "cell_type": "code",
   "execution_count": 1,
   "metadata": {
    "collapsed": true
   },
   "outputs": [],
   "source": [
    "def mk_kmer_dict(nmer):\n",
    "    from itertools import product\n",
    "    return [''.join(i) for i in product(\"ACGT\",repeat=nmer)]"
   ]
  },
  {
   "cell_type": "code",
   "execution_count": null,
   "metadata": {
    "collapsed": true
   },
   "outputs": [],
   "source": [
    "def mk_event_map(events, kmers):\n",
    "    \"\"\"sort all events into kmer-buckets according to their \n",
    "    kmer attribute.\n",
    "    \n",
    "    Returns:\n",
    "        dict (kmer => [list_of_events])\n",
    "    \"\"\"\n",
    "    ev_map = OrderedDict((k,[]) for k in kmers)\n",
    "    for ev in true_events: \n",
    "        ev_map[ev[\"kmer\"][:]].append(ev)\n",
    "    return ev_map"
   ]
  },
  {
   "cell_type": "code",
   "execution_count": 2,
   "metadata": {
    "collapsed": true
   },
   "outputs": [],
   "source": [
    "class side_by_side():\n",
    "    def __init__(self, *frames):\n",
    "        self.frames = frames\n",
    "\n",
    "    def _repr_html_(self):\n",
    "        width = 100. / len(self.frames)\n",
    "\n",
    "        s = \"\"\n",
    "        for f in self.frames:\n",
    "            s += \"<div style='float: left;'>%s</div>\" % f._repr_html_()\n",
    "\n",
    "        return s"
   ]
  },
  {
   "cell_type": "code",
   "execution_count": 1,
   "metadata": {
    "collapsed": true
   },
   "outputs": [],
   "source": [
    "def load_ref(ref_file): \n",
    "    ref_file = args[\"ref\"]\n",
    "    header = !cat {ref_file} | grep \">\"\n",
    "    print(header)\n",
    "    ref = !cat {ref_file} | grep -v \">\" | tr -d \"\\n\" \n",
    "    ref = ref[0]\n",
    "    print(ref[:100])\n",
    "    return ref"
   ]
  },
  {
   "cell_type": "code",
   "execution_count": 1,
   "metadata": {
    "collapsed": true,
    "run_control": {
     "breakpoint": false
    }
   },
   "outputs": [],
   "source": [
    "def normalize_read(file_obj, target_median=59):\n",
    "    tmp_median = file_obj[\"events\"][\"mean\"].median()\n",
    "    factor = target_median/tmp_median\n",
    "    file_obj[\"events\"][\"mean\"] = file_obj[\"events\"][\"mean\"].map(lambda x: x*factor)\n",
    "    return file_obj"
   ]
  },
  {
   "cell_type": "code",
   "execution_count": null,
   "metadata": {
    "collapsed": true
   },
   "outputs": [],
   "source": [
    "def calculate(s):\n",
    "    a = s['path'] + 2*s['row'] # Simple calc for example\n",
    "    b = s['path'] * 0.153\n",
    "    return (a, b)"
   ]
  },
  {
   "cell_type": "code",
   "execution_count": null,
   "metadata": {
    "collapsed": true,
    "run_control": {
     "breakpoint": false
    }
   },
   "outputs": [],
   "source": [
    "def correct_read(file_obj, col=\"template.mean\"): \n",
    "    \n",
    "    def correct_drift(mean, start): \n",
    "        return mean - (start * file_obj[\"drift_template\"])  \n",
    "    \n",
    "\n",
    "    file_obj[\"events\"][col] = file_obj[\"events\"][col].map(lambda x: x-file_obj[\"shift_template\"])  \n",
    "    \n",
    "    file_obj[\"events\"][col] = file_obj[\"events\"][col].map(lambda x: x/file_obj[\"scale_template\"])\n",
    "    \n",
    "    file_obj[\"events\"][col] = [x for x in map(correct_drift, file_obj[\"events\"][col],\n",
    "                                      file_obj[\"events\"][col])]\n",
    "\n",
    "    \n",
    "    return file_obj"
   ]
  }
 ],
 "metadata": {
  "kernelspec": {
   "display_name": "Python 3",
   "language": "python",
   "name": "python3"
  },
  "language_info": {
   "codemirror_mode": {
    "name": "ipython",
    "version": 3
   },
   "file_extension": ".py",
   "mimetype": "text/x-python",
   "name": "python",
   "nbconvert_exporter": "python",
   "pygments_lexer": "ipython3",
   "version": "3.4.3"
  }
 },
 "nbformat": 4,
 "nbformat_minor": 0
}
