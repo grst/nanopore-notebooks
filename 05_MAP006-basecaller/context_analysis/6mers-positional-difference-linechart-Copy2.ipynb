{
 "cells": [
  {
   "cell_type": "code",
   "execution_count": 1,
   "metadata": {
    "collapsed": false
   },
   "outputs": [],
   "source": [
    "import pickle\n",
    "from math import floor\n",
    "from IPython.display import display, clear_output\n",
    "import scipy.stats\n",
    "from pylab import * \n",
    "from collections import OrderedDict\n",
    "import numpy as np\n",
    "import seaborn as sns\n",
    "from multiprocessing import Pool\n",
    "import pandas\n",
    "from itertools import product as iterproduct, groupby, chain, repeat\n",
    "%matplotlib inline\n",
    "%run \"/home/ibis/gregor.sturm/nanopore/own/notebooks/05_MAP006-basecaller/lib/analysis_lib.ipynb\"\n",
    "sns.set_style(\"ticks\", {\"axes.grid\" : True, \"grid.color\" : \".95\"})\n",
    "matplotlib.rcParams.update({'font.size': 16})"
   ]
  },
  {
   "cell_type": "code",
   "execution_count": 2,
   "metadata": {
    "collapsed": true
   },
   "outputs": [],
   "source": [
    "# args = {\n",
    "#     \"true_events\": \"/home/ibis/gregor.sturm/nanopore/own/notebooks/03_pipeline/david_alignment_true_events.pickle\",\n",
    "#     \"ref\": \"/home/ibis/gregor.sturm/nanopore/david_eccles_bc_ideas/mouse_ref.fa\",\n",
    "# }\n",
    "\n",
    "# args = {\n",
    "#     \"true_events\": \"/home/ibis/gregor.sturm/nanopore/own/notebooks/03_pipeline/lambda_alignment.62pA_true_events.pickle\",\n",
    "#      \"ref\": \"/home/ibis/gregor.sturm/nanopore/own/notebooks/03_pipeline/lambda_ref.fasta\",\n",
    "# #     \"ref\": \"/home/sturm/Downloads/lambda_ref.fasta\"\n",
    "# }\n",
    "\n",
    "args = {\n",
    "    \"true_events\": \"/home/ibis/gregor.sturm/nanopore/own/notebooks/05_MAP006-basecaller/loman006-1_5000.alignment_true_events.pickle\",\n",
    "     \"ref\": \"/home/ibis/gregor.sturm/nanopore/NanoporeData/PublicData/LomanLab_MAP-006/ecoli_mg1655.fa\",\n",
    "    \"model\" : \"/home/ibis/gregor.sturm/nanopore/own/notebooks/05_MAP006-basecaller/loman006-1.model.computed.pickle\",\n",
    "    \"ncores\" : 24\n",
    "#     \"ref\": \"/home/sturm/Downloads/lambda_ref.fasta\"\n",
    "}"
   ]
  },
  {
   "cell_type": "code",
   "execution_count": 3,
   "metadata": {
    "collapsed": true
   },
   "outputs": [],
   "source": [
    "NMER = 6\n",
    "CONTEXT = 100\n",
    "MEAN = 59"
   ]
  },
  {
   "cell_type": "code",
   "execution_count": 4,
   "metadata": {
    "collapsed": false
   },
   "outputs": [
    {
     "name": "stdout",
     "output_type": "stream",
     "text": [
      "/home/ibis/gregor.sturm/nanopore/own/notebooks\r\n"
     ]
    }
   ],
   "source": [
    "!pwd"
   ]
  },
  {
   "cell_type": "code",
   "execution_count": 5,
   "metadata": {
    "collapsed": false
   },
   "outputs": [],
   "source": [
    "true_events = pickle.load(open(args[\"true_events\"], 'rb'))"
   ]
  },
  {
   "cell_type": "code",
   "execution_count": 6,
   "metadata": {
    "collapsed": false,
    "run_control": {
     "breakpoint": false
    }
   },
   "outputs": [],
   "source": [
    "HMM_PARAMS = pickle.load(open(args[\"model\"], 'rb'))\n",
    "HMM_PARAMS = HMM_PARAMS[\"/opt/chimaera/model/r7.3_e6_70bps_6mer/template_median68pA.model\"]"
   ]
  },
  {
   "cell_type": "code",
   "execution_count": 7,
   "metadata": {
    "collapsed": false,
    "run_control": {
     "breakpoint": false
    }
   },
   "outputs": [
    {
     "data": {
      "text/html": [
       "<div>\n",
       "<table border=\"1\" class=\"dataframe\">\n",
       "  <thead>\n",
       "    <tr style=\"text-align: right;\">\n",
       "      <th></th>\n",
       "      <th>kmer</th>\n",
       "      <th>level_mean</th>\n",
       "      <th>level_stdv</th>\n",
       "      <th>sd_mean</th>\n",
       "      <th>sd_stdv</th>\n",
       "      <th>weight</th>\n",
       "    </tr>\n",
       "  </thead>\n",
       "  <tbody>\n",
       "    <tr>\n",
       "      <th>0</th>\n",
       "      <td>AAAAAA</td>\n",
       "      <td>62.962374</td>\n",
       "      <td>0.845662</td>\n",
       "      <td>0.681821</td>\n",
       "      <td>0.173284</td>\n",
       "      <td>1</td>\n",
       "    </tr>\n",
       "  </tbody>\n",
       "</table>\n",
       "</div>"
      ],
      "text/plain": [
       "     kmer  level_mean  level_stdv   sd_mean   sd_stdv  weight\n",
       "0  AAAAAA   62.962374    0.845662  0.681821  0.173284       1"
      ]
     },
     "execution_count": 7,
     "metadata": {},
     "output_type": "execute_result"
    }
   ],
   "source": [
    "HMM_PARAMS[HMM_PARAMS[\"kmer\"] == \"AAAAAA\"]"
   ]
  },
  {
   "cell_type": "code",
   "execution_count": 8,
   "metadata": {
    "collapsed": false
   },
   "outputs": [
    {
     "name": "stdout",
     "output_type": "stream",
     "text": [
      "['>gi|556503834|ref|NC_000913.3| Escherichia coli str. K-12 substr. MG1655, complete genome']\n",
      "AGCTTTTCATTCTGACTGCAACGGGCAATATGTCTCTGTGTGGATTAAAAAAAGAGTGTCTGATAGCAGCTTCTGAACTGGTTACCTGCCGTGAGTAAAT\n"
     ]
    }
   ],
   "source": [
    "ref = load_ref(args[\"ref\"])"
   ]
  },
  {
   "cell_type": "code",
   "execution_count": 9,
   "metadata": {
    "collapsed": false
   },
   "outputs": [],
   "source": [
    "def _get_context(event, start, end):\n",
    "    \"\"\"get the nt-context around the kmer. \n",
    "    E.g. start=-20: get context 20nt before the reference point\n",
    "    (mid of kmer)\"\"\"\n",
    "    ref_pos = event[\"ref_position\"]\n",
    "    start = ref_pos + start\n",
    "    end = ref_pos + end\n",
    "    context = ref[start:end]\n",
    "    \n",
    "    if len(context) != end-start:\n",
    "        print(start, end, len(ref), len(context), end-start)\n",
    "        raise IndexError\n",
    "    else: return context\n",
    "\n",
    "def get_context_before(event, n):\n",
    "    \"\"\"get n nucleotides before the start of the kmer\"\"\"\n",
    "    length = len(event[\"kmer\"])\n",
    "    offset = 0\n",
    "    return _get_context(event, -n+offset, offset)\n",
    "    \n",
    "def get_context_after(event, n):\n",
    "    length = len(event[\"kmer\"])\n",
    "    offset = length\n",
    "    return _get_context(event, offset, offset+n)"
   ]
  },
  {
   "cell_type": "code",
   "execution_count": 10,
   "metadata": {
    "collapsed": false
   },
   "outputs": [
    {
     "name": "stdout",
     "output_type": "stream",
     "text": [
      "TGCTCA TGCTCA\n"
     ]
    }
   ],
   "source": [
    "test_event = true_events[2000]\n",
    "print(test_event['kmer'], _get_context(test_event, 0,6))\n",
    "assert test_event['kmer'] == _get_context(test_event, 0, 6), \"invalid reference\"\n",
    "assert (get_context_before(test_event, 20) \n",
    "        + test_event['kmer'] \n",
    "        + get_context_after(test_event, 20)) == (\n",
    "    _get_context(test_event, -20, 26))"
   ]
  },
  {
   "cell_type": "markdown",
   "metadata": {
    "collapsed": false
   },
   "source": [
    "## Analysis "
   ]
  },
  {
   "cell_type": "code",
   "execution_count": 11,
   "metadata": {
    "collapsed": false
   },
   "outputs": [],
   "source": [
    "all_kmers = mk_kmer_dict(NMER)\n",
    "ev_map = mk_event_map(true_events, all_kmers)"
   ]
  },
  {
   "cell_type": "code",
   "execution_count": 12,
   "metadata": {
    "collapsed": false,
    "scrolled": false
   },
   "outputs": [],
   "source": [
    "def prepare_events(kmer):\n",
    "    template_events = [ev for ev in ev_map[kmer] if not np.isnan(ev[\"template.mean\"])]\n",
    "    template_events = [ev for ev in template_events if \n",
    "                   ev[\"ref_position\"] > CONTEXT+NMER+1 and ev[\"ref_position\"] < len(ref)-CONTEXT-NMER-1]\n",
    "    print(\"kmer {0}\".format(kmer))\n",
    "    print(\">>genomic_positions {0}\".format(len(set([ev[\"ref_position\"] for ev in template_events]))))\n",
    "    print(\">>total_events {0}\".format(len(template_events)))\n",
    "    return template_events"
   ]
  },
  {
   "cell_type": "code",
   "execution_count": 13,
   "metadata": {
    "collapsed": false,
    "run_control": {
     "breakpoint": false
    }
   },
   "outputs": [],
   "source": [
    "%%capture\n",
    "template_events = [prepare_events(kmer) for kmer in all_kmers]"
   ]
  },
  {
   "cell_type": "code",
   "execution_count": 14,
   "metadata": {
    "collapsed": true,
    "run_control": {
     "breakpoint": false
    }
   },
   "outputs": [],
   "source": [
    "context = (-20, 26)\n",
    "context_buckets = [{nt: [] for nt in NTS} for _ in range(*context)]"
   ]
  },
  {
   "cell_type": "code",
   "execution_count": 15,
   "metadata": {
    "collapsed": false,
    "run_control": {
     "breakpoint": false
    }
   },
   "outputs": [
    {
     "name": "stdout",
     "output_type": "stream",
     "text": [
      "done 99.975586%"
     ]
    }
   ],
   "source": [
    "for k, kmer_evs in enumerate(template_events): \n",
    "    if len(kmer_evs) == 0: continue\n",
    "    param_mean = float(HMM_PARAMS[HMM_PARAMS[\"kmer\"] == kmer_evs[0][\"kmer\"]][\"level_mean\"])\n",
    "    for ev in kmer_evs:\n",
    "        nt_context = _get_context(ev, *context)\n",
    "        for i, pos in enumerate(range(*context)): \n",
    "            diff = ev[\"template.mean\"] - param_mean\n",
    "            if not np.isnan(diff):\n",
    "                context_buckets[i][nt_context[i]].append(diff)\n",
    "    sys.stdout.write(\"\\rdone {0:%}\".format(k/len(template_events)))"
   ]
  },
  {
   "cell_type": "code",
   "execution_count": 16,
   "metadata": {
    "collapsed": false,
    "run_control": {
     "breakpoint": false
    }
   },
   "outputs": [
    {
     "data": {
      "image/png": "[encoded data removed]",
      "text/plain": [
       "<matplotlib.figure.Figure at 0x7ff3da13aa58>"
      ]
     },
     "metadata": {},
     "output_type": "display_data"
    }
   ],
   "source": [
    "fig, ax = subplots(figsize=(15, 5))\n",
    "for nt in NTS:\n",
    "    ax.plot(range(*context), [median(pos[nt]) for pos in context_buckets], color=NT_COLORS[nt], label=nt)\n",
    "ax.legend()\n",
    "ax.minorticks_on()"
   ]
  },
  {
   "cell_type": "code",
   "execution_count": null,
   "metadata": {
    "collapsed": true,
    "run_control": {
     "breakpoint": false
    }
   },
   "outputs": [],
   "source": [
    "context = (-20, 26)\n",
    "context_buckets = [{nt: [] for nt in NTS} for _ in range(*context)]"
   ]
  },
  {
   "cell_type": "code",
   "execution_count": null,
   "metadata": {
    "collapsed": false,
    "run_control": {
     "breakpoint": false
    }
   },
   "outputs": [
    {
     "name": "stdout",
     "output_type": "stream",
     "text": [
      "done 1.098633%"
     ]
    }
   ],
   "source": [
    "for i, kmer_evs in enumerate(template_events):     \n",
    "    if len(kmer_evs) == 0: continue\n",
    "    for ev in kmer_evs:\n",
    "        nt_context = _get_context(ev, *context)\n",
    "        for i, pos in enumerate(range(*context)): \n",
    "            diff = ev[\"template.end\"] - ev[\"template.start\"]\n",
    "            if not np.isnan(diff):\n",
    "                context_buckets[i][nt_context[i]].append(diff)\n",
    "    sys.stdout.write(\"\\rdone {0:%}\".format(i/len(template_events)))"
   ]
  },
  {
   "cell_type": "code",
   "execution_count": null,
   "metadata": {
    "collapsed": true,
    "run_control": {
     "breakpoint": false
    }
   },
   "outputs": [],
   "source": [
    "fig, ax = subplots(figsize=(15, 5))\n",
    "for nt in NTS:\n",
    "    ax.plot(range(*context), [median(pos[nt]) for pos in context_buckets], color=NT_COLORS[nt], label=nt)\n",
    "ax.legend()\n",
    "ax.minorticks_on()"
   ]
  },
  {
   "cell_type": "code",
   "execution_count": null,
   "metadata": {
    "collapsed": true,
    "run_control": {
     "breakpoint": false
    }
   },
   "outputs": [],
   "source": []
  }
 ],
 "metadata": {
  "kernelspec": {
   "display_name": "SSH fonsi ipython",
   "language": "",
   "name": "rik_ssh_fonsi_ipython"
  },
  "language_info": {
   "codemirror_mode": {
    "name": "ipython",
    "version": 3
   },
   "file_extension": ".py",
   "mimetype": "text/x-python",
   "name": "python",
   "nbconvert_exporter": "python",
   "pygments_lexer": "ipython3",
   "version": "3.4.3"
  }
 },
 "nbformat": 4,
 "nbformat_minor": 0
}
