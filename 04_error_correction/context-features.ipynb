{
 "cells": [
  {
   "cell_type": "code",
   "execution_count": 26,
   "metadata": {
    "collapsed": true
   },
   "outputs": [],
   "source": [
    "import pickle\n",
    "from math import floor"
   ]
  },
  {
   "cell_type": "code",
   "execution_count": 8,
   "metadata": {
    "collapsed": true
   },
   "outputs": [],
   "source": [
    "args = {\n",
    "    \"true_events\": \"/home/ibis/gregor.sturm/nanopore/own/notebooks/03_pipeline/david_alignment_true_events.pickle\",\n",
    "    \"ref\": \"/home/ibis/gregor.sturm/nanopore/david_eccles_bc_ideas/mouse_ref.fa\",\n",
    "}\n",
    "\n",
    "# args = {\n",
    "#     \"true_events\": \"/home/ibis/gregor.sturm/nanopore/own/notebooks/03_pipeline/lambda_alignment_true_events.pickle\",\n",
    "#     \"ref\": \"/home/ibis/gregor.sturm/nanopore/own/notebooks/03_pipeline/lambda_ref.fasta\",\n",
    "# }"
   ]
  },
  {
   "cell_type": "code",
   "execution_count": 9,
   "metadata": {
    "collapsed": true
   },
   "outputs": [],
   "source": [
    "NMER = 3"
   ]
  },
  {
   "cell_type": "code",
   "execution_count": 10,
   "metadata": {
    "collapsed": false
   },
   "outputs": [
    {
     "name": "stdout",
     "output_type": "stream",
     "text": [
      "/home/ibis/gregor.sturm/nanopore/own/notebooks/04_error_correction\r\n"
     ]
    }
   ],
   "source": [
    "!pwd"
   ]
  },
  {
   "cell_type": "code",
   "execution_count": 11,
   "metadata": {
    "collapsed": true
   },
   "outputs": [],
   "source": [
    "true_events = pickle.load(open(args[\"true_events\"], 'rb'))"
   ]
  },
  {
   "cell_type": "code",
   "execution_count": 12,
   "metadata": {
    "collapsed": false
   },
   "outputs": [
    {
     "name": "stdout",
     "output_type": "stream",
     "text": [
      "['>mmusMT_PCR1']\n",
      "GTTAATGTAGCTTAATAACAAAGCAAAGCACTGAAAATGCTTAGATGGATAATTGTATCCCATAAACACAAAGGTTTGGTCCTGGCCTTATAATTAATTA\n"
     ]
    }
   ],
   "source": [
    "ref_file = args[\"ref\"]\n",
    "test = !cat {ref_file} | grep \">\"\n",
    "print(test)\n",
    "ref = !cat {ref_file} | grep -v \">\"\n",
    "ref = ref[0]\n",
    "print(ref[:100])"
   ]
  },
  {
   "cell_type": "code",
   "execution_count": 46,
   "metadata": {
    "collapsed": true
   },
   "outputs": [],
   "source": [
    "def get_context(event, start, end):\n",
    "    \"\"\"get the nt-context around the kmer. \n",
    "    E.g. start=-20: get context 20nt before the reference point\n",
    "    (mid of kmer)\"\"\"\n",
    "    ref_pos = event[\"ref_position\"]\n",
    "    start = ref_pos + start\n",
    "    end = ref_pos + end\n",
    "    return ref[start:end]\n",
    "\n",
    "def get_context_before(event, n):\n",
    "    \"\"\"get n nucleotides before the start of the kmer\"\"\"\n",
    "    length = len(event[\"kmer\"])\n",
    "    offset = -floor(length/2)\n",
    "    return get_context(event, -n+offset, offset)\n",
    "    \n",
    "def get_context_after(event, n):\n",
    "    length = len(event[\"kmer\"])\n",
    "    offset = floor(length/2) + 1\n",
    "    return get_context(event, offset, offset+n)"
   ]
  },
  {
   "cell_type": "code",
   "execution_count": 50,
   "metadata": {
    "collapsed": false
   },
   "outputs": [],
   "source": [
    "test_event = true_events[0]\n",
    "assert test_event['kmer'] == get_context(test_event, -2, 2+1), \"invalid reference\"\n",
    "assert (get_context_before(test_event, 20) \n",
    "        + test_event['kmer'] \n",
    "        + get_context_after(test_event, 20)) == (\n",
    "    get_context(test_event, -22, 22+1))"
   ]
  },
  {
   "cell_type": "code",
   "execution_count": 51,
   "metadata": {
    "collapsed": false
   },
   "outputs": [
    {
     "name": "stdout",
     "output_type": "stream",
     "text": [
      "                    TAAAT\n",
      "GTTATACCTCTTAGGGTTGG\n",
      "GTTATACCTCTTAGGGTTGGTAAATTTCGTGCCAGCCACCGCGGT\n",
      "                         TTCGTGCCAGCCACCGCGGT\n"
     ]
    }
   ],
   "source": [
    "# print(\" \" * 20 + test_event[\"kmer\"])\n",
    "# print(get_context_before(test_event, 20))\n",
    "# print(get_context(test_event, -22, 22+1))\n",
    "# print(\" \" * 25 + get_context_after(test_event, 20))"
   ]
  },
  {
   "cell_type": "code",
   "execution_count": 33,
   "metadata": {
    "collapsed": false
   },
   "outputs": [
    {
     "data": {
      "text/plain": [
       "'TATACCTCTTAGGGTTGGTAAATTTCGTGCCAGCCACCGC'"
      ]
     },
     "execution_count": 33,
     "metadata": {},
     "output_type": "execute_result"
    }
   ],
   "source": []
  },
  {
   "cell_type": "code",
   "execution_count": null,
   "metadata": {
    "collapsed": true
   },
   "outputs": [],
   "source": []
  }
 ],
 "metadata": {
  "kernelspec": {
   "display_name": "Python 3",
   "language": "python",
   "name": "python3"
  },
  "language_info": {
   "codemirror_mode": {
    "name": "ipython",
    "version": 3
   },
   "file_extension": ".py",
   "mimetype": "text/x-python",
   "name": "python",
   "nbconvert_exporter": "python",
   "pygments_lexer": "ipython3",
   "version": "3.4.3"
  }
 },
 "nbformat": 4,
 "nbformat_minor": 0
}
