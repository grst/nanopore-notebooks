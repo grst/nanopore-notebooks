{
 "cells": [
  {
   "cell_type": "code",
   "execution_count": 3,
   "metadata": {
    "collapsed": false
   },
   "outputs": [],
   "source": [
    "import pickle\n",
    "from math import floor\n",
    "from IPython.display import display, clear_output\n",
    "import scipy.stats\n",
    "from pylab import * \n",
    "import numpy as np\n",
    "import seaborn as sns\n",
    "import pandas\n",
    "from itertools import product as iterproduct, groupby\n",
    "%matplotlib inline\n",
    "%run \"/home/ibis/gregor.sturm/nanopore/own/notebooks/03_pipeline/analysis_lib.ipynb\"\n",
    "sns.set_style(\"ticks\", {\"axes.grid\" : True, \"grid.color\" : \".95\"})\n",
    "matplotlib.rcParams.update({'font.size': 16})"
   ]
  },
  {
   "cell_type": "code",
   "execution_count": 4,
   "metadata": {
    "collapsed": true
   },
   "outputs": [],
   "source": [
    "# args = {\n",
    "#     \"true_events\": \"/home/ibis/gregor.sturm/nanopore/own/notebooks/03_pipeline/david_alignment_true_events.pickle\",\n",
    "#     \"ref\": \"/home/ibis/gregor.sturm/nanopore/david_eccles_bc_ideas/mouse_ref.fa\",\n",
    "# }\n",
    "\n",
    "args = {\n",
    "    \"true_events\": \"/home/ibis/gregor.sturm/nanopore/own/notebooks/03_pipeline/lambda_alignment_true_events.pickle\",\n",
    "    \"ref\": \"/home/ibis/gregor.sturm/nanopore/own/notebooks/03_pipeline/lambda_ref.fasta\",\n",
    "}"
   ]
  },
  {
   "cell_type": "code",
   "execution_count": 5,
   "metadata": {
    "collapsed": true
   },
   "outputs": [],
   "source": [
    "NMER = 3\n",
    "CONTEXT = 200"
   ]
  },
  {
   "cell_type": "code",
   "execution_count": 6,
   "metadata": {
    "collapsed": false
   },
   "outputs": [
    {
     "name": "stdout",
     "output_type": "stream",
     "text": [
      "/home/ibis/gregor.sturm/nanopore/own/notebooks/04_error_correction\r\n"
     ]
    }
   ],
   "source": [
    "!pwd"
   ]
  },
  {
   "cell_type": "code",
   "execution_count": 7,
   "metadata": {
    "collapsed": true
   },
   "outputs": [],
   "source": [
    "true_events = pickle.load(open(args[\"true_events\"], 'rb'))"
   ]
  },
  {
   "cell_type": "code",
   "execution_count": 8,
   "metadata": {
    "collapsed": false
   },
   "outputs": [
    {
     "name": "stdout",
     "output_type": "stream",
     "text": [
      "['>burn-in lambda_ref']\n",
      "GGGCGGCGACCTCGCGGGTTTTCGCTATTTATGAAAATTTTCCGGTTTAAGGCGTTTCCGTTCTTCTTCGTCATAACTTAATGTTTTTATTTAAAATACC\n"
     ]
    }
   ],
   "source": [
    "ref_file = args[\"ref\"]\n",
    "test = !cat {ref_file} | grep \">\"\n",
    "print(test)\n",
    "ref = !cat {ref_file} | grep -v \">\"\n",
    "ref = ref[0]\n",
    "print(ref[:100])"
   ]
  },
  {
   "cell_type": "code",
   "execution_count": 9,
   "metadata": {
    "collapsed": false
   },
   "outputs": [],
   "source": [
    "def get_context(event, start, end):\n",
    "    \"\"\"get the nt-context around the kmer. \n",
    "    E.g. start=-20: get context 20nt before the reference point\n",
    "    (mid of kmer)\"\"\"\n",
    "    ref_pos = event[\"ref_position\"]\n",
    "    start = ref_pos + start\n",
    "    end = ref_pos + end\n",
    "    context = ref[start:end]\n",
    "    if len(context) != end-start:\n",
    "        raise IndexError\n",
    "    else: return context\n",
    "\n",
    "def get_context_before(event, n):\n",
    "    \"\"\"get n nucleotides before the start of the kmer\"\"\"\n",
    "    length = len(event[\"kmer\"])\n",
    "    offset = int(-floor(length/2))\n",
    "    return get_context(event, -n+offset, offset)\n",
    "    \n",
    "def get_context_after(event, n):\n",
    "    length = len(event[\"kmer\"])\n",
    "    offset = int(floor(length/2) + 1)\n",
    "    return get_context(event, offset, offset+n)"
   ]
  },
  {
   "cell_type": "code",
   "execution_count": 10,
   "metadata": {
    "collapsed": false
   },
   "outputs": [],
   "source": [
    "test_event = true_events[0]\n",
    "assert test_event['kmer'] == get_context(test_event, -2, 2+1), \"invalid reference\"\n",
    "assert (get_context_before(test_event, 20) \n",
    "        + test_event['kmer'] \n",
    "        + get_context_after(test_event, 20)) == (\n",
    "    get_context(test_event, -22, 22+1))"
   ]
  },
  {
   "cell_type": "markdown",
   "metadata": {
    "collapsed": false
   },
   "source": [
    "## Analysis "
   ]
  },
  {
   "cell_type": "code",
   "execution_count": 11,
   "metadata": {
    "collapsed": false
   },
   "outputs": [],
   "source": [
    "all_5mers = mk_kmer_dict(NMER)\n",
    "ev_map = mk_event_map(true_events, all_5mers)"
   ]
  },
  {
   "cell_type": "code",
   "execution_count": 42,
   "metadata": {
    "collapsed": false,
    "scrolled": false
   },
   "outputs": [],
   "source": [
    "template_events = [ev for ev in ev_map[\"CGT\"] if not np.isnan(ev[\"template.mean\"])]\n",
    "template_events = [ev for ev in template_events if \n",
    "                   ev[\"ref_position\"] > CONTEXT and ev[\"ref_position\"] < len(ref)-CONTEXT]\n",
    "means = [ev[\"template.mean\"] for ev in template_events]\n",
    "stdvs = [ev[\"template.stdv\"] for ev in template_events]"
   ]
  },
  {
   "cell_type": "markdown",
   "metadata": {},
   "source": [
    "### stratify by genomic position to remove sequence bias"
   ]
  },
  {
   "cell_type": "code",
   "execution_count": 43,
   "metadata": {
    "collapsed": false
   },
   "outputs": [
    {
     "name": "stdout",
     "output_type": "stream",
     "text": [
      "708\n",
      "59425\n"
     ]
    }
   ],
   "source": [
    "print(len(set([ev[\"ref_position\"] for ev in template_events])))\n",
    "print(len(template_events))"
   ]
  },
  {
   "cell_type": "code",
   "execution_count": 44,
   "metadata": {
    "collapsed": false,
    "scrolled": false
   },
   "outputs": [
    {
     "name": "stdout",
     "output_type": "stream",
     "text": [
      "skipped 18640\n",
      "skipped 4016\n",
      "skipped 28633\n"
     ]
    }
   ],
   "source": [
    "template_events = sorted(template_events, key=lambda x: x[\"ref_position\"])\n",
    "groups = {key: [x for x in group] for key, group in groupby(template_events, lambda x: x[\"ref_position\"])}\n",
    "genomic_pos = OrderedDict()\n",
    "for key, group in groups.items():\n",
    "    means = [x[\"template.mean\"] for x in group]\n",
    "    if(len(means) < 10): \n",
    "        print(\"skipped {0}\".format(key))\n",
    "        continue\n",
    "    else:\n",
    "        assert get_context_before(group[0], CONTEXT) == get_context_before(group[-1], CONTEXT)\n",
    "        genomic_pos[key] = {\n",
    "            \"event_means\" : means,\n",
    "            \"mean\" : np.mean(means),\n",
    "            \"stdv\" : np.std(means),\n",
    "            \"context_before\": get_context_before(group[0], CONTEXT),\n",
    "            \"context_after\": get_context_after(group[0], CONTEXT)\n",
    "        }"
   ]
  },
  {
   "cell_type": "code",
   "execution_count": 64,
   "metadata": {
    "collapsed": false
   },
   "outputs": [],
   "source": [
    "sort_heatmap = lambda x: (x[\"context_before\"][0], x[\"context_after\"][0])\n",
    "occurences = sorted(genomic_pos.values(), key=sort_heatmap)\n",
    "heatmap = {nt: {} for nt in NT_MAP.keys()}\n",
    "for (nt_b, nt_a), group in groupby(occurences, sort_heatmap):\n",
    "    heatmap[nt_b][nt_a] = mean([x[\"mean\"] for x in group])"
   ]
  },
  {
   "cell_type": "code",
   "execution_count": 65,
   "metadata": {
    "collapsed": false
   },
   "outputs": [
    {
     "data": {
      "text/plain": [
       "{'A': {'A': 57.460632995988441,\n",
       "  'C': 56.465783146258445,\n",
       "  'G': 56.757920040430001,\n",
       "  'T': 56.763295885287476},\n",
       " 'C': {'A': 57.073982212946177,\n",
       "  'C': 55.335179098992334,\n",
       "  'G': 56.04120815955622,\n",
       "  'T': 56.628844364168387},\n",
       " 'G': {'A': 56.631830393098461,\n",
       "  'C': 56.266916827124412,\n",
       "  'G': 56.847779011396156,\n",
       "  'T': 57.115875796867776},\n",
       " 'T': {'A': 57.036616054382755,\n",
       "  'C': 55.837800034856194,\n",
       "  'G': 55.60168190663164,\n",
       "  'T': 56.938667244602769}}"
      ]
     },
     "execution_count": 65,
     "metadata": {},
     "output_type": "execute_result"
    }
   ],
   "source": [
    "heatmap"
   ]
  },
  {
   "cell_type": "code",
   "execution_count": 62,
   "metadata": {
    "collapsed": false
   },
   "outputs": [
    {
     "data": {
      "text/plain": [
       "<matplotlib.axes._subplots.AxesSubplot at 0x7f48aeba3438>"
      ]
     },
     "execution_count": 62,
     "metadata": {},
     "output_type": "execute_result"
    },
    {
     "data": {
      "image/png": "[encoded data removed]",
      "text/plain": [
       "<matplotlib.figure.Figure at 0x7f4848c77be0>"
      ]
     },
     "metadata": {},
     "output_type": "display_data"
    }
   ],
   "source": [
    "sns.heatmap(pandas.DataFrame(heatmap))"
   ]
  },
  {
   "cell_type": "code",
   "execution_count": 71,
   "metadata": {
    "collapsed": false
   },
   "outputs": [],
   "source": [
    "sort_heatmap = lambda x: (x[\"context_before\"][0:2], x[\"context_after\"][:2])\n",
    "occurences = sorted(genomic_pos.values(), key=sort_heatmap)\n",
    "heatmap = {\"\".join(nt): {} for nt in iterproduct(NT_MAP.keys(), repeat=2)}\n",
    "for (nt_b, nt_a), group in groupby(occurences, sort_heatmap):\n",
    "    heatmap[nt_b][nt_a] = mean([x[\"mean\"] for x in group])"
   ]
  },
  {
   "cell_type": "code",
   "execution_count": 72,
   "metadata": {
    "collapsed": false
   },
   "outputs": [
    {
     "data": {
      "text/plain": [
       "<matplotlib.axes._subplots.AxesSubplot at 0x7f4848829860>"
      ]
     },
     "execution_count": 72,
     "metadata": {},
     "output_type": "execute_result"
    },
    {
     "data": {
      "image/png": "[encoded data removed]",
      "text/plain": [
       "<matplotlib.figure.Figure at 0x7f4848829208>"
      ]
     },
     "metadata": {},
     "output_type": "display_data"
    }
   ],
   "source": [
    "sns.heatmap(pandas.DataFrame(heatmap))"
   ]
  },
  {
   "cell_type": "code",
   "execution_count": null,
   "metadata": {
    "collapsed": true
   },
   "outputs": [],
   "source": []
  }
 ],
 "metadata": {
  "kernelspec": {
   "display_name": "Python 3",
   "language": "python",
   "name": "python3"
  },
  "language_info": {
   "codemirror_mode": {
    "name": "ipython",
    "version": 3
   },
   "file_extension": ".py",
   "mimetype": "text/x-python",
   "name": "python",
   "nbconvert_exporter": "python",
   "pygments_lexer": "ipython3",
   "version": "3.4.3"
  }
 },
 "nbformat": 4,
 "nbformat_minor": 0
}
