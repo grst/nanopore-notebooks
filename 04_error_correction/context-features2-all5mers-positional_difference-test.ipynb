{
 "cells": [
  {
   "cell_type": "code",
   "execution_count": 53,
   "metadata": {
    "collapsed": false
   },
   "outputs": [],
   "source": [
    "import pickle\n",
    "from math import floor\n",
    "from IPython.display import display, clear_output\n",
    "import scipy.stats\n",
    "from pylab import * \n",
    "from collections import OrderedDict\n",
    "import numpy as np\n",
    "import seaborn as sns\n",
    "import pandas\n",
    "from itertools import product as iterproduct, groupby\n",
    "%matplotlib inline\n",
    "%run \"/home/ibis/gregor.sturm/nanopore/own/notebooks/03_pipeline/analysis_lib.ipynb\"\n",
    "sns.set_style(\"ticks\", {\"axes.grid\" : True, \"grid.color\" : \".95\"})\n",
    "matplotlib.rcParams.update({'font.size': 16})"
   ]
  },
  {
   "cell_type": "code",
   "execution_count": 54,
   "metadata": {
    "collapsed": true
   },
   "outputs": [],
   "source": [
    "# args = {\n",
    "#     \"true_events\": \"/home/ibis/gregor.sturm/nanopore/own/notebooks/03_pipeline/david_alignment_true_events.pickle\",\n",
    "#     \"ref\": \"/home/ibis/gregor.sturm/nanopore/david_eccles_bc_ideas/mouse_ref.fa\",\n",
    "# }\n",
    "\n",
    "args = {\n",
    "    \"true_events\": \"/home/ibis/gregor.sturm/nanopore/own/notebooks/03_pipeline/lambda_alignment_true_events.pickle\",\n",
    "     \"ref\": \"/home/ibis/gregor.sturm/nanopore/own/notebooks/03_pipeline/lambda_ref.fasta\",\n",
    "#     \"ref\": \"/home/sturm/Downloads/lambda_ref.fasta\"\n",
    "}"
   ]
  },
  {
   "cell_type": "code",
   "execution_count": 55,
   "metadata": {
    "collapsed": true
   },
   "outputs": [],
   "source": [
    "NMER = 5\n",
    "CONTEXT = 200"
   ]
  },
  {
   "cell_type": "code",
   "execution_count": 56,
   "metadata": {
    "collapsed": false
   },
   "outputs": [
    {
     "name": "stdout",
     "output_type": "stream",
     "text": [
      "/home/ibis/gregor.sturm/nanopore/own/notebooks\r\n"
     ]
    }
   ],
   "source": [
    "!pwd"
   ]
  },
  {
   "cell_type": "code",
   "execution_count": 57,
   "metadata": {
    "collapsed": true
   },
   "outputs": [],
   "source": [
    "true_events = pickle.load(open(args[\"true_events\"], 'rb'))"
   ]
  },
  {
   "cell_type": "code",
   "execution_count": 58,
   "metadata": {
    "collapsed": false
   },
   "outputs": [
    {
     "name": "stdout",
     "output_type": "stream",
     "text": [
      "['>burn-in lambda_ref']\n",
      "GGGCGGCGACCTCGCGGGTTTTCGCTATTTATGAAAATTTTCCGGTTTAAGGCGTTTCCGTTCTTCTTCGTCATAACTTAATGTTTTTATTTAAAATACC\n"
     ]
    }
   ],
   "source": [
    "ref_file = args[\"ref\"]\n",
    "test = !cat {ref_file} | grep \">\"\n",
    "print(test)\n",
    "ref = !cat {ref_file} | grep -v \">\"\n",
    "ref = ref[0]\n",
    "print(ref[:100])"
   ]
  },
  {
   "cell_type": "code",
   "execution_count": 59,
   "metadata": {
    "collapsed": false
   },
   "outputs": [],
   "source": [
    "def get_context(event, start, end):\n",
    "    \"\"\"get the nt-context around the kmer. \n",
    "    E.g. start=-20: get context 20nt before the reference point\n",
    "    (mid of kmer)\"\"\"\n",
    "    ref_pos = event[\"ref_position\"]\n",
    "    start = ref_pos + start\n",
    "    end = ref_pos + end\n",
    "    context = ref[start:end]\n",
    "    if len(context) != end-start:\n",
    "        print(start, end, len(ref), len(context), end-start)\n",
    "        raise IndexError\n",
    "    else: return context\n",
    "\n",
    "def get_context_before(event, n):\n",
    "    \"\"\"get n nucleotides before the start of the kmer\"\"\"\n",
    "    length = len(event[\"kmer\"])\n",
    "    offset = int(-floor(length/2))\n",
    "    return get_context(event, -n+offset, offset)\n",
    "    \n",
    "def get_context_after(event, n):\n",
    "    length = len(event[\"kmer\"])\n",
    "    offset = int(floor(length/2) + 1)\n",
    "    return get_context(event, offset, offset+n)"
   ]
  },
  {
   "cell_type": "code",
   "execution_count": 60,
   "metadata": {
    "collapsed": false
   },
   "outputs": [],
   "source": [
    "test_event = true_events[1024]\n",
    "assert test_event['kmer'] == get_context(test_event, -2, 2+1), \"invalid reference\"\n",
    "assert (get_context_before(test_event, 20) \n",
    "        + test_event['kmer'] \n",
    "        + get_context_after(test_event, 20)) == (\n",
    "    get_context(test_event, -22, 22+1))"
   ]
  },
  {
   "cell_type": "markdown",
   "metadata": {
    "collapsed": false
   },
   "source": [
    "## Analysis "
   ]
  },
  {
   "cell_type": "code",
   "execution_count": 61,
   "metadata": {
    "collapsed": false
   },
   "outputs": [],
   "source": [
    "all_5mers = mk_kmer_dict(NMER)\n",
    "ev_map = mk_event_map(true_events, all_5mers)"
   ]
  },
  {
   "cell_type": "code",
   "execution_count": 62,
   "metadata": {
    "collapsed": false,
    "scrolled": false
   },
   "outputs": [],
   "source": [
    "def prepare_events(kmer):\n",
    "    template_events = [ev for ev in ev_map[kmer] if not np.isnan(ev[\"mean\"])]\n",
    "    template_events = [ev for ev in template_events if \n",
    "                   ev[\"ref_position\"] > CONTEXT+NMER+1 and ev[\"ref_position\"] < len(ref)-CONTEXT-NMER-1]\n",
    "    print(\"kmer {0}\".format(kmer))\n",
    "    print(\">>genomic_positions {0}\".format(len(set([ev[\"ref_position\"] for ev in template_events]))))\n",
    "    print(\">>total_events {0}\".format(len(template_events)))\n",
    "    return template_events"
   ]
  },
  {
   "cell_type": "code",
   "execution_count": 63,
   "metadata": {
    "collapsed": false,
    "scrolled": false
   },
   "outputs": [],
   "source": [
    "def stratify_by_position(template_events, skip=10):\n",
    "    \"\"\"group events by genomic positions. \n",
    "    \n",
    "    Args: \n",
    "        template_events: list of events\n",
    "        skip: skip genomic positions with less than {skip} events. \n",
    "    \n",
    "    Returns: \n",
    "        dict pos => (mean, stdv, context_before, context_after) of the\n",
    "        given position. \n",
    "    \"\"\"\n",
    "    sort_position = lambda x: x[\"ref_position\"]\n",
    "    template_events = sorted(template_events, key=sort_position)\n",
    "    groups = {key: [x for x in group] for key, group in groupby(template_events, sort_position)}\n",
    "    genomic_pos = OrderedDict()\n",
    "    for key, group in groups.items():\n",
    "        means = [x[\"mean\"] for x in group]\n",
    "        if(len(means) < skip): \n",
    "#             print(\"skipped {0}\".format(key))\n",
    "            continue\n",
    "        else:\n",
    "            assert get_context_before(group[0], CONTEXT) == get_context_before(group[-1], CONTEXT)\n",
    "            genomic_pos[key] = {\n",
    "                \"event_means\" : means,\n",
    "                \"mean\" : np.mean(means),\n",
    "                \"stdv\" : np.std(means),\n",
    "                \"context_before\": get_context_before(group[0], CONTEXT),\n",
    "                \"context_after\": get_context_after(group[0], CONTEXT)\n",
    "        }\n",
    "    \n",
    "    return genomic_pos                                                       "
   ]
  },
  {
   "cell_type": "code",
   "execution_count": 64,
   "metadata": {
    "collapsed": false,
    "scrolled": false
   },
   "outputs": [
    {
     "ename": "KeyError",
     "evalue": "'mean'",
     "output_type": "error",
     "traceback": [
      "\u001b[1;31m---------------------------------------------------------------------------\u001b[0m",
      "\u001b[1;31mKeyError\u001b[0m                                  Traceback (most recent call last)",
      "\u001b[1;32m<ipython-input-64-3603b41db9fe>\u001b[0m in \u001b[0;36m<module>\u001b[1;34m()\u001b[0m\n\u001b[0;32m      1\u001b[0m \u001b[1;32mfor\u001b[0m \u001b[0mkmer\u001b[0m \u001b[1;32min\u001b[0m \u001b[1;33m[\u001b[0m\u001b[1;34m\"ACTGC\"\u001b[0m\u001b[1;33m]\u001b[0m\u001b[1;33m:\u001b[0m\u001b[1;33m\u001b[0m\u001b[0m\n\u001b[0;32m      2\u001b[0m     \u001b[0mfig\u001b[0m\u001b[1;33m,\u001b[0m \u001b[0max\u001b[0m \u001b[1;33m=\u001b[0m \u001b[0msubplots\u001b[0m\u001b[1;33m(\u001b[0m\u001b[0mfigsize\u001b[0m\u001b[1;33m=\u001b[0m\u001b[1;33m(\u001b[0m\u001b[1;36m15\u001b[0m\u001b[1;33m,\u001b[0m\u001b[1;36m5\u001b[0m\u001b[1;33m)\u001b[0m\u001b[1;33m)\u001b[0m\u001b[1;33m\u001b[0m\u001b[0m\n\u001b[1;32m----> 3\u001b[1;33m     \u001b[0mtemplate_events\u001b[0m \u001b[1;33m=\u001b[0m \u001b[0mprepare_events\u001b[0m\u001b[1;33m(\u001b[0m\u001b[0mkmer\u001b[0m\u001b[1;33m)\u001b[0m\u001b[1;33m\u001b[0m\u001b[0m\n\u001b[0m\u001b[0;32m      4\u001b[0m     \u001b[0mgenomic_pos\u001b[0m \u001b[1;33m=\u001b[0m \u001b[0mstratify_by_position\u001b[0m\u001b[1;33m(\u001b[0m\u001b[0mtemplate_events\u001b[0m\u001b[1;33m,\u001b[0m \u001b[0mskip\u001b[0m\u001b[1;33m=\u001b[0m\u001b[1;36m0\u001b[0m\u001b[1;33m)\u001b[0m\u001b[1;33m\u001b[0m\u001b[0m\n\u001b[0;32m      5\u001b[0m     \u001b[0mmlen\u001b[0m \u001b[1;33m=\u001b[0m \u001b[0mnp\u001b[0m\u001b[1;33m.\u001b[0m\u001b[0mmax\u001b[0m\u001b[1;33m(\u001b[0m\u001b[1;33m[\u001b[0m\u001b[0mlen\u001b[0m\u001b[1;33m(\u001b[0m\u001b[0mx\u001b[0m\u001b[1;33m[\u001b[0m\u001b[1;34m\"event_means\"\u001b[0m\u001b[1;33m]\u001b[0m\u001b[1;33m)\u001b[0m \u001b[1;32mfor\u001b[0m \u001b[0mx\u001b[0m \u001b[1;32min\u001b[0m \u001b[0mgenomic_pos\u001b[0m\u001b[1;33m.\u001b[0m\u001b[0mvalues\u001b[0m\u001b[1;33m(\u001b[0m\u001b[1;33m)\u001b[0m\u001b[1;33m]\u001b[0m\u001b[1;33m)\u001b[0m\u001b[1;33m\u001b[0m\u001b[0m\n",
      "\u001b[1;32m<ipython-input-62-a903f9fbd9ba>\u001b[0m in \u001b[0;36mprepare_events\u001b[1;34m(kmer)\u001b[0m\n\u001b[0;32m      1\u001b[0m \u001b[1;32mdef\u001b[0m \u001b[0mprepare_events\u001b[0m\u001b[1;33m(\u001b[0m\u001b[0mkmer\u001b[0m\u001b[1;33m)\u001b[0m\u001b[1;33m:\u001b[0m\u001b[1;33m\u001b[0m\u001b[0m\n\u001b[1;32m----> 2\u001b[1;33m     \u001b[0mtemplate_events\u001b[0m \u001b[1;33m=\u001b[0m \u001b[1;33m[\u001b[0m\u001b[0mev\u001b[0m \u001b[1;32mfor\u001b[0m \u001b[0mev\u001b[0m \u001b[1;32min\u001b[0m \u001b[0mev_map\u001b[0m\u001b[1;33m[\u001b[0m\u001b[0mkmer\u001b[0m\u001b[1;33m]\u001b[0m \u001b[1;32mif\u001b[0m \u001b[1;32mnot\u001b[0m \u001b[0mnp\u001b[0m\u001b[1;33m.\u001b[0m\u001b[0misnan\u001b[0m\u001b[1;33m(\u001b[0m\u001b[0mev\u001b[0m\u001b[1;33m[\u001b[0m\u001b[1;34m\"mean\"\u001b[0m\u001b[1;33m]\u001b[0m\u001b[1;33m)\u001b[0m\u001b[1;33m]\u001b[0m\u001b[1;33m\u001b[0m\u001b[0m\n\u001b[0m\u001b[0;32m      3\u001b[0m     template_events = [ev for ev in template_events if \n\u001b[0;32m      4\u001b[0m                    ev[\"ref_position\"] > CONTEXT+NMER+1 and ev[\"ref_position\"] < len(ref)-CONTEXT-NMER-1]\n\u001b[0;32m      5\u001b[0m     \u001b[0mprint\u001b[0m\u001b[1;33m(\u001b[0m\u001b[1;34m\"kmer {0}\"\u001b[0m\u001b[1;33m.\u001b[0m\u001b[0mformat\u001b[0m\u001b[1;33m(\u001b[0m\u001b[0mkmer\u001b[0m\u001b[1;33m)\u001b[0m\u001b[1;33m)\u001b[0m\u001b[1;33m\u001b[0m\u001b[0m\n",
      "\u001b[1;32m<ipython-input-62-a903f9fbd9ba>\u001b[0m in \u001b[0;36m<listcomp>\u001b[1;34m(.0)\u001b[0m\n\u001b[0;32m      1\u001b[0m \u001b[1;32mdef\u001b[0m \u001b[0mprepare_events\u001b[0m\u001b[1;33m(\u001b[0m\u001b[0mkmer\u001b[0m\u001b[1;33m)\u001b[0m\u001b[1;33m:\u001b[0m\u001b[1;33m\u001b[0m\u001b[0m\n\u001b[1;32m----> 2\u001b[1;33m     \u001b[0mtemplate_events\u001b[0m \u001b[1;33m=\u001b[0m \u001b[1;33m[\u001b[0m\u001b[0mev\u001b[0m \u001b[1;32mfor\u001b[0m \u001b[0mev\u001b[0m \u001b[1;32min\u001b[0m \u001b[0mev_map\u001b[0m\u001b[1;33m[\u001b[0m\u001b[0mkmer\u001b[0m\u001b[1;33m]\u001b[0m \u001b[1;32mif\u001b[0m \u001b[1;32mnot\u001b[0m \u001b[0mnp\u001b[0m\u001b[1;33m.\u001b[0m\u001b[0misnan\u001b[0m\u001b[1;33m(\u001b[0m\u001b[0mev\u001b[0m\u001b[1;33m[\u001b[0m\u001b[1;34m\"mean\"\u001b[0m\u001b[1;33m]\u001b[0m\u001b[1;33m)\u001b[0m\u001b[1;33m]\u001b[0m\u001b[1;33m\u001b[0m\u001b[0m\n\u001b[0m\u001b[0;32m      3\u001b[0m     template_events = [ev for ev in template_events if \n\u001b[0;32m      4\u001b[0m                    ev[\"ref_position\"] > CONTEXT+NMER+1 and ev[\"ref_position\"] < len(ref)-CONTEXT-NMER-1]\n\u001b[0;32m      5\u001b[0m     \u001b[0mprint\u001b[0m\u001b[1;33m(\u001b[0m\u001b[1;34m\"kmer {0}\"\u001b[0m\u001b[1;33m.\u001b[0m\u001b[0mformat\u001b[0m\u001b[1;33m(\u001b[0m\u001b[0mkmer\u001b[0m\u001b[1;33m)\u001b[0m\u001b[1;33m)\u001b[0m\u001b[1;33m\u001b[0m\u001b[0m\n",
      "\u001b[1;31mKeyError\u001b[0m: 'mean'"
     ]
    },
    {
     "data": {
      "image/png": "[encoded data removed]",
      "text/plain": [
       "<matplotlib.figure.Figure at 0x7f4dac2b6828>"
      ]
     },
     "metadata": {},
     "output_type": "display_data"
    }
   ],
   "source": [
    "for kmer in [\"ACTGC\"]:\n",
    "    fig, ax = subplots(figsize=(15,5))\n",
    "    template_events = prepare_events(kmer)\n",
    "    genomic_pos = stratify_by_position(template_events, skip=0)\n",
    "    mlen = np.max([len(x[\"event_means\"]) for x in genomic_pos.values()])\n",
    "    d = [(pos,\n",
    "          x[\"event_means\"] + [np.nan for _ in range(len(x[\"event_means\"]), mlen)],\n",
    "          x[\"context_after\"][0]) for pos, x in genomic_pos.items()]\n",
    "    d = sorted(d, key=lambda x: np.nanmean(x[0]))\n",
    "    data = pandas.DataFrame(OrderedDict((pos, means) for pos, means, _ in d[:10]))\n",
    "    colors = [NT_COLORS[nt] for _, _, nt in d]\n",
    "    sns.violinplot(data=data,\n",
    "                   bw=0.15, ax=ax, inner=\"sticks\", inner_kws={}, scale_hue=False, palette=sns.color_palette(colors))\n",
    "    display(fig)\n",
    "    plt.close()"
   ]
  },
  {
   "cell_type": "code",
   "execution_count": null,
   "metadata": {
    "collapsed": false
   },
   "outputs": [],
   "source": [
    "pos =[i+2 for i, _ in enumerate(ref) if ref[i:i+5] == \"ACTGC\"]"
   ]
  },
  {
   "cell_type": "code",
   "execution_count": null,
   "metadata": {
    "collapsed": false,
    "run_control": {
     "breakpoint": false
    }
   },
   "outputs": [],
   "source": [
    "template_events = prepare_events(\"ACTGC\")\n",
    "genomic_pos = stratify_by_position(template_events, skip=0)\n",
    "print(pos, sorted([x for x in genomic_pos.keys()]))\n",
    "assert sorted(genomic_pos.keys()) == sorted(pos)"
   ]
  },
  {
   "cell_type": "code",
   "execution_count": null,
   "metadata": {
    "collapsed": false
   },
   "outputs": [],
   "source": [
    "for i in range(len(pos) - 1): \n",
    "    print(pos[i], pos[i+1] - pos[i])"
   ]
  },
  {
   "cell_type": "code",
   "execution_count": null,
   "metadata": {
    "collapsed": true,
    "run_control": {
     "breakpoint": false
    }
   },
   "outputs": [],
   "source": []
  }
 ],
 "metadata": {
  "kernelspec": {
   "display_name": "SSH fonsi ipython",
   "language": "",
   "name": "rik_ssh_fonsi_ipython"
  },
  "language_info": {
   "codemirror_mode": {
    "name": "ipython",
    "version": 3
   },
   "file_extension": ".py",
   "mimetype": "text/x-python",
   "name": "python",
   "nbconvert_exporter": "python",
   "pygments_lexer": "ipython3",
   "version": "3.4.3"
  }
 },
 "nbformat": 4,
 "nbformat_minor": 0
}
