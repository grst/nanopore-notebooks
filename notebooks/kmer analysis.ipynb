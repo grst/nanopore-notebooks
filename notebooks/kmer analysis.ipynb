{
 "cells": [
  {
   "cell_type": "code",
   "execution_count": 1,
   "metadata": {
    "collapsed": true
   },
   "outputs": [],
   "source": [
    "import rpy2.robjects as robjects\n",
    "from rpy2.robjects import numpy2ri\n",
    "import rpy2\n",
    "from pprint import pprint\n",
    "import re\n",
    "import numpy as np\n",
    "import pickle\n",
    "from collections import OrderedDict\n",
    "from itertools import repeat, count, product\n",
    "from skbio.alignment import StripedSmithWaterman, local_pairwise_align_ssw\n",
    "%run lib.ipynb"
   ]
  },
  {
   "cell_type": "code",
   "execution_count": 2,
   "metadata": {
    "collapsed": true
   },
   "outputs": [],
   "source": [
    "path = \"../../david_eccles_bc_ideas/\"\n",
    "SRATE = 5000"
   ]
  },
  {
   "cell_type": "code",
   "execution_count": 3,
   "metadata": {
    "collapsed": false
   },
   "outputs": [
    {
     "data": {
      "text/plain": [
       "<StrVector - Python:0x7f9e07aeb548 / R:0x3910558>\n",
       "['nanopore.bundled']"
      ]
     },
     "execution_count": 3,
     "metadata": {},
     "output_type": "execute_result"
    }
   ],
   "source": [
    "robjects.r['load'](\"../../david_eccles_bc_ideas/mtDNA_mappable_called_with_rawSignal.Rdata\")"
   ]
  },
  {
   "cell_type": "code",
   "execution_count": 4,
   "metadata": {
    "collapsed": true
   },
   "outputs": [],
   "source": [
    "data = numpy2ri.ri2py(robjects.r['nanopore.bundled'])"
   ]
  },
  {
   "cell_type": "code",
   "execution_count": 5,
   "metadata": {
    "collapsed": false
   },
   "outputs": [],
   "source": [
    "files = !ls ../../david_eccles_bc_ideas/processed/ | grep fast5"
   ]
  },
  {
   "cell_type": "code",
   "execution_count": 6,
   "metadata": {
    "collapsed": false
   },
   "outputs": [],
   "source": [
    "def get_file_and_channel(filename):\n",
    "    result = re.search(r'_ch(\\d+)_file(\\d+)_', file)\n",
    "    file_id = int(result.group(2))\n",
    "    channel_id = int(result.group(1))\n",
    "    return file_id, channel_id"
   ]
  },
  {
   "cell_type": "markdown",
   "metadata": {},
   "source": [
    "### Get data from RData"
   ]
  },
  {
   "cell_type": "markdown",
   "metadata": {},
   "source": [
    "0 = reference\n",
    "1 = called\n",
    "3 = channel\n",
    "8 = metrichor results (events)\n",
    "9 = \"mux\"\n",
    "10 = signal range \n",
    "11 = signal"
   ]
  },
  {
   "cell_type": "code",
   "execution_count": 7,
   "metadata": {
    "collapsed": false
   },
   "outputs": [],
   "source": [
    "ref = data[0][0]\n",
    "channel_ids = [int(x) for x in data[3]]\n",
    "file_ids = [int(x) for x in data[5]]\n",
    "types = list(data[2].names) #template/2D/..."
   ]
  },
  {
   "cell_type": "code",
   "execution_count": 8,
   "metadata": {
    "collapsed": false
   },
   "outputs": [
    {
     "name": "stdout",
     "output_type": "stream",
     "text": [
      "{195: 4638530, 132: 69987497, 133: 12456817, 135: 62976700, 201: 4599826, 227: 18246574, 203: 6371298, 204: 13066295, 141: 29953471, 142: 53380406, 206: 55940501, 209: 25813234, 211: 62405297, 212: 35840257, 149: 57367518, 215: 59538461, 223: 67207073, 156: 63222798, 157: 7725489, 213: 35016383}\n"
     ]
    }
   ],
   "source": [
    "## channel coords from rdata\n",
    "coords = []\n",
    "all_raw = {}\n",
    "channel_max = dict(zip(channel_ids, repeat(0)))\n",
    "for i in range(0, len(data[10]), 2):\n",
    "    se = (round(data[10][i]), round(data[10][i+1]))\n",
    "    coords.append(se)\n",
    "    channel_max[channel_ids[int(i/2)]] = max(channel_max[channel_ids[int(i/2)]], se[1])\n",
    "    \n",
    "print (channel_max)\n",
    "\n",
    "for chid, chmax in channel_max.items():\n",
    "    all_raw[chid] = np.empty(chmax)\n",
    "    all_raw[chid].fill(-1)"
   ]
  },
  {
   "cell_type": "markdown",
   "metadata": {},
   "source": [
    "pack all the available raw signal for the given channel in one array. "
   ]
  },
  {
   "cell_type": "code",
   "execution_count": 9,
   "metadata": {
    "collapsed": false
   },
   "outputs": [
    {
     "name": "stdout",
     "output_type": "stream",
     "text": [
      "0 14263383\n",
      "1 14263383\n",
      "2 53054262\n",
      "3 55559668\n",
      "4 55763736\n",
      "5 55559668\n",
      "6 20841985\n",
      "7 21744018\n",
      "8 20841663\n",
      "9 58611017\n",
      "10 29733238\n",
      "11 30178940\n",
      "12 38452561\n",
      "13 68761506\n",
      "14 69336966\n",
      "15 39203872\n",
      "16 4338899\n",
      "17 10117943\n",
      "18 10111547\n",
      "19 1610262\n",
      "20 1610262\n",
      "21 437216\n",
      "22 1290055\n",
      "23 25820667\n",
      "24 28685564\n",
      "25 29586312\n",
      "26 28684851\n",
      "27 36094944\n",
      "28 36495057\n",
      "29 36094944\n",
      "30 38381291\n",
      "31 60958967\n",
      "32 60827554\n",
      "33 62183810\n",
      "34 13895041\n",
      "35 14282593\n",
      "36 14883605\n",
      "37 16839366\n",
      "38 17196412\n",
      "39 11116981\n",
      "40 12018853\n",
      "41 28113526\n",
      "42 50760609\n",
      "43 52030192\n",
      "44 11786742\n",
      "45 11971416\n",
      "46 4415895\n",
      "47 14826058\n",
      "48 15605747\n",
      "49 17611679\n",
      "50 15605747\n",
      "51 50100827\n",
      "52 50279488\n",
      "53 50100827\n",
      "54 54684243\n",
      "55 56708683\n",
      "56 62911375\n",
      "57 4682908\n",
      "58 9660018\n",
      "59 10549882\n",
      "60 9660018\n",
      "61 1262851\n",
      "62 2095322\n",
      "63 3367671\n",
      "64 5777375\n",
      "65 3310668\n",
      "66 4523542\n",
      "67 3724151\n",
      "68 2837075\n",
      "69 12054328\n",
      "70 2865115\n",
      "71 4214741\n",
      "72 5115935\n",
      "73 12445897\n",
      "74 13721867\n",
      "75 16388228\n",
      "76 15418914\n",
      "77 6253118\n",
      "78 6213608\n",
      "79 8839630\n",
      "80 9700201\n",
      "81 8839630\n",
      "82 27325701\n",
      "83 28050421\n",
      "84 27325701\n",
      "85 30627084\n",
      "86 55085511\n",
      "87 4550156\n",
      "88 7663002\n",
      "89 11397931\n",
      "90 23898427\n",
      "91 24776119\n",
      "92 23866775\n",
      "93 23866775\n",
      "94 27346457\n",
      "95 27346457\n",
      "96 61821237\n",
      "97 62122996\n",
      "98 35367400\n",
      "99 35367400\n",
      "100 43549673\n",
      "101 47221200\n",
      "102 48241865\n",
      "103 47221200\n",
      "104 53585905\n",
      "105 3742361\n",
      "106 4540664\n",
      "107 3742361\n",
      "108 21241658\n",
      "109 29893562\n",
      "110 32869982\n",
      "111 36749681\n",
      "112 37993252\n",
      "113 39107681\n",
      "114 37993252\n",
      "115 33792991\n",
      "116 41030598\n",
      "117 41411553\n",
      "118 54673976\n",
      "119 32977279\n",
      "120 34737624\n",
      "121 55353985\n",
      "122 57174444\n",
      "123 58154700\n",
      "124 3344251\n",
      "125 3668713\n",
      "126 28132973\n",
      "127 30091422\n",
      "128 30091422\n",
      "129 31790027\n",
      "130 31790027\n",
      "131 38320808\n",
      "132 39423326\n",
      "133 66243686\n",
      "134 14977849\n",
      "135 16506736\n",
      "136 14977849\n"
     ]
    }
   ],
   "source": [
    "for i, start_end in enumerate(coords):\n",
    "    start, end = start_end\n",
    "    print(i, start)\n",
    "    for k, sig in enumerate(data[11][i]):\n",
    "        all_raw[channel_ids[i]][start + k] = sig"
   ]
  },
  {
   "cell_type": "markdown",
   "metadata": {},
   "source": [
    "### Get events and sequence via poretools "
   ]
  },
  {
   "cell_type": "markdown",
   "metadata": {},
   "source": [
    "only look at the \"template\" seq for the beginning\n",
    "\n",
    "####Events-Table\n",
    "file\tstrand\tmean\tstart\tstdv\tlength\tmodel_state\tmodel_level\tmove\tp_model_state\tmp_model_state\tp_mp_model_state\tp_A\tp_C\tp_G\tp_T\traw_index"
   ]
  },
  {
   "cell_type": "code",
   "execution_count": 10,
   "metadata": {
    "collapsed": false
   },
   "outputs": [
    {
     "name": "stdout",
     "output_type": "stream",
     "text": [
      "file ch135-file25 skipped. No raw data available.\n",
      "file ch141-file19 skipped. No raw data available.\n",
      "file ch149-file12 skipped. No raw data available.\n",
      "file ch149-file14 skipped. No raw data available.\n",
      "file ch203-file1 skipped. No raw data available.\n",
      "file ch206-file10 skipped. No raw data available.\n",
      "file ch206-file34 skipped. No raw data available.\n",
      "file ch211-file29 skipped. No raw data available.\n"
     ]
    }
   ],
   "source": [
    "file_data = []\n",
    "for file in files: \n",
    "    f_obj = {}\n",
    "    file_id, ch_id = get_file_and_channel(file)\n",
    "    f_obj[\"channel\"] = ch_id\n",
    "    f_obj[\"file_id\"] = file_id\n",
    "    \n",
    "    called_seq = !poretools fasta {path+\"processed/\" + file} | grep template -A1 | grep -v \">\"\n",
    "    f_obj[\"called_seq\"] = called_seq[0]\n",
    "    \n",
    "    events = !poretools events {path+\"processed/\" + file} | grep template\n",
    "    events = [line.split(\"\\t\") for line in events]\n",
    "    \n",
    "    file_events = []\n",
    "    for ev in events: \n",
    "        r_ev = dict()\n",
    "        r_ev[\"start\"] = round(float(ev[3]) * SRATE)\n",
    "        r_ev[\"end\"] = round(r_ev[\"start\"] + float(ev[5]) * SRATE)\n",
    "        r_ev[\"mp_kmer\"] = ev[10] #maximum posterior\n",
    "        r_ev[\"kmer\"] = ev[6] #model state\n",
    "        r_ev[\"move\"] = int(ev[8])\n",
    "        file_events.append(r_ev)\n",
    "\n",
    "    ## check if raw data is available\n",
    "    file_id, ch_id = get_file_and_channel(file)\n",
    "    if (all_raw[ch_id][file_events[0][\"start\"]] < 0 or\n",
    "        all_raw[ch_id][file_events[-1][\"end\"]-1] < 0): \n",
    "        print(\"file ch{0}-file{1} skipped. No raw data available.\".format(ch_id, file_id))\n",
    "        continue\n",
    "        \n",
    "    f_obj[\"channel\"] = ch_id\n",
    "    f_obj[\"file_id\"] = file_id\n",
    "    f_obj[\"events\"] = file_events\n",
    "    file_data.append(f_obj)\n",
    "    \n",
    "    "
   ]
  },
  {
   "cell_type": "code",
   "execution_count": 11,
   "metadata": {
    "collapsed": true
   },
   "outputs": [],
   "source": [
    "from pylab import * \n",
    "import seaborn as sns\n",
    "%matplotlib inline\n",
    "sns.set_style(\"ticks\", {\"axes.grid\" : True, \"grid.color\" : \".95\"})"
   ]
  },
  {
   "cell_type": "markdown",
   "metadata": {
    "collapsed": true
   },
   "source": [
    "#Distribution of all events "
   ]
  },
  {
   "cell_type": "code",
   "execution_count": 12,
   "metadata": {
    "collapsed": false,
    "scrolled": true
   },
   "outputs": [],
   "source": [
    "props = {\n",
    "    \"mean\" : [], \n",
    "    \"length\" : [],\n",
    "    \"stdev\" : []\n",
    "}\n",
    "for file in file_data:\n",
    "    ch = file[\"channel\"]\n",
    "    for ev in file[\"events\"]:\n",
    "        l, r = ev[\"start\"], ev[\"end\"]\n",
    "        props[\"mean\"].append(np.mean(all_raw[ch][l:r]))        \n",
    "        props[\"stdev\"].append(np.std(all_raw[ch][l:r]))\n",
    "        props[\"length\"].append(r-l)"
   ]
  },
  {
   "cell_type": "code",
   "execution_count": 13,
   "metadata": {
    "collapsed": false,
    "scrolled": true
   },
   "outputs": [
    {
     "name": "stderr",
     "output_type": "stream",
     "text": [
      "/home/sturm/bin/anaconda3/lib/python3.4/site-packages/matplotlib/figure.py:387: UserWarning: matplotlib is currently using a non-GUI backend, so cannot show the figure\n",
      "  \"matplotlib is currently using a non-GUI backend, \"\n"
     ]
    },
    {
     "data": {
      "image/png": "[encoded data removed]",
      "text/plain": [
       "<matplotlib.figure.Figure at 0x7f9c70fb8a58>"
      ]
     },
     "metadata": {},
     "output_type": "display_data"
    }
   ],
   "source": [
    "fig, ax = subplots(figsize=(15,5))\n",
    "ax.hist(props[\"length\"], bins=range(0, 1000, 10))\n",
    "ax.set_title(\"length\")\n",
    "fig.show()"
   ]
  },
  {
   "cell_type": "code",
   "execution_count": 14,
   "metadata": {
    "collapsed": false
   },
   "outputs": [
    {
     "name": "stderr",
     "output_type": "stream",
     "text": [
      "/home/sturm/bin/anaconda3/lib/python3.4/site-packages/matplotlib/figure.py:387: UserWarning: matplotlib is currently using a non-GUI backend, so cannot show the figure\n",
      "  \"matplotlib is currently using a non-GUI backend, \"\n"
     ]
    },
    {
     "data": {
      "image/png": "[encoded data removed]",
      "text/plain": [
       "<matplotlib.figure.Figure at 0x7f9c70fb8588>"
      ]
     },
     "metadata": {},
     "output_type": "display_data"
    }
   ],
   "source": [
    "fig, ax = subplots(figsize=(15,5))\n",
    "ax.hist(props[\"mean\"], bins=500)\n",
    "ax.set_title(\"mean pA\")\n",
    "fig.show()"
   ]
  },
  {
   "cell_type": "code",
   "execution_count": 15,
   "metadata": {
    "collapsed": false
   },
   "outputs": [
    {
     "name": "stderr",
     "output_type": "stream",
     "text": [
      "/home/sturm/bin/anaconda3/lib/python3.4/site-packages/matplotlib/figure.py:387: UserWarning: matplotlib is currently using a non-GUI backend, so cannot show the figure\n",
      "  \"matplotlib is currently using a non-GUI backend, \"\n"
     ]
    },
    {
     "data": {
      "image/png": "[encoded data removed]",
      "text/plain": [
       "<matplotlib.figure.Figure at 0x7f9c6f6b4fd0>"
      ]
     },
     "metadata": {},
     "output_type": "display_data"
    }
   ],
   "source": [
    "fig, ax = subplots(figsize=(15,5))\n",
    "ax.hist(props[\"stdev\"], bins=500)\n",
    "ax.set_title(\"stdev pA\")\n",
    "fig.show()"
   ]
  },
  {
   "cell_type": "markdown",
   "metadata": {},
   "source": [
    "#find all correctly mapped 5-mers"
   ]
  },
  {
   "cell_type": "code",
   "execution_count": 16,
   "metadata": {
    "collapsed": true
   },
   "outputs": [],
   "source": [
    "align_ref = StripedSmithWaterman(ref, gap_open_penalty=3, gap_extend_penalty=3) #query"
   ]
  },
  {
   "cell_type": "code",
   "execution_count": 17,
   "metadata": {
    "collapsed": true
   },
   "outputs": [],
   "source": [
    "def find_seq_start(events, start):\n",
    "    \"\"\"find the kmer that corresponds to the first kmer of the aligned sequences\"\"\"\n",
    "    moved = 0\n",
    "    for i, ev in enumerate(events):\n",
    "        if moved + ev[\"move\"] >= start: \n",
    "            offset = moved - start\n",
    "            return i, offset\n",
    "        else:\n",
    "            moved += ev[\"move\"]"
   ]
  },
  {
   "cell_type": "code",
   "execution_count": 18,
   "metadata": {
    "collapsed": false
   },
   "outputs": [],
   "source": [
    "def gapmove(i_seq, ts, move):\n",
    "    \"\"\"moves by *move* steps, respecting gaps.\"\"\"\n",
    "    moved = 0\n",
    "    if i_seq < 0:\n",
    "        return move  \n",
    "    for i, c in enumerate(ts[i_seq:]): \n",
    "        if moved == move:\n",
    "            return i\n",
    "        if c != \"-\": moved +=1\n",
    "        \n",
    "            "
   ]
  },
  {
   "cell_type": "code",
   "execution_count": 19,
   "metadata": {
    "collapsed": false,
    "scrolled": true
   },
   "outputs": [
    {
     "name": "stdout",
     "output_type": "stream",
     "text": [
      "processing  132 10\n",
      "processing  132 17\n",
      "processing  132 23\n",
      "processing  132 25\n",
      "processing  132 26\n",
      "processing  132 35\n",
      "processing  132 36\n",
      "processing  132 38\n",
      "processing  132 3\n",
      "processing  132 44\n",
      "processing  133 11\n",
      "processing  133 2\n",
      "processing  135 0\n",
      "processing  135 17\n",
      "processing  135 19\n",
      "processing  135 23\n",
      "processing  135 32\n",
      "processing  135 33\n",
      "processing  141 12\n",
      "processing  141 13\n",
      "processing  141 15\n",
      "processing  141 8\n",
      "processing  142 18\n",
      "processing  142 3\n",
      "processing  149 3\n",
      "processing  156 10\n",
      "processing  156 11\n",
      "processing  156 15\n",
      "processing  156 23\n",
      "processing  156 3\n",
      "processing  156 6\n",
      "processing  157 0\n",
      "processing  157 1\n",
      "processing  195 3\n",
      "processing  201 1\n",
      "processing  203 2\n",
      "processing  204 4\n",
      "processing  204 5\n",
      "processing  204 8\n",
      "processing  206 12\n",
      "processing  206 20\n",
      "processing  206 21\n",
      "processing  206 4\n",
      "processing  206 7\n",
      "processing  206 9\n",
      "processing  209 14\n",
      "processing  211 12\n",
      "processing  211 17\n",
      "processing  211 20\n",
      "processing  211 26\n",
      "processing  211 28\n",
      "processing  211 35\n",
      "processing  211 3\n",
      "processing  212 21\n",
      "processing  212 24\n",
      "processing  212 27\n",
      "processing  213 3\n",
      "processing  215 10\n",
      "processing  215 12\n",
      "processing  215 14\n",
      "processing  215 15\n",
      "processing  215 16\n",
      "processing  215 17\n",
      "processing  215 23\n",
      "processing  215 25\n",
      "processing  215 27\n",
      "processing  215 4\n",
      "processing  215 9\n",
      "processing  223 11\n",
      "processing  223 21\n",
      "processing  223 4\n",
      "processing  223 6\n",
      "processing  227 5\n"
     ]
    }
   ],
   "source": [
    "true_events = []\n",
    "\n",
    "for file in file_data:\n",
    "    print(\"processing \", file[\"channel\"], file[\"file_id\"])\n",
    "    alignment = align_ref(file[\"called_seq\"]) #target\n",
    "    events = file[\"events\"]\n",
    "#     print(alignment.aligned_query_sequence[:100])\n",
    "#     print(alignment.aligned_target_sequence[:100])\n",
    "    pos_kmer, offset = find_seq_start(events, alignment.target_begin)\n",
    "    i_seq = offset #in case the last kmer was shifted by 2, i = sequence index of the target sequence with gaps\n",
    "    qs = alignment.aligned_query_sequence #the reference\n",
    "    ts = alignment.aligned_target_sequence #the called seq\n",
    "    for ev in events[pos_kmer:]:\n",
    "        i_seq += gapmove(i_seq, ts, ev[\"move\"])\n",
    "        \n",
    "        q_kmer = qs[i_seq:i_seq+5]\n",
    "        t_kmer = ts[i_seq:i_seq+5]\n",
    "        t_kmer_gapless = ts[i_seq:].replace(\"-\",\"\")[:5]\n",
    "            \n",
    "        if len(t_kmer_gapless) < 5:\n",
    "            \"\"\"end of sequence\"\"\"\n",
    "            break\n",
    "            \n",
    "        try:\n",
    "            assert ev[\"kmer\"] == t_kmer_gapless, \"kmer from event file does not match aligned target sequence. \"\n",
    "        except AssertionError: \n",
    "            print(i_seq)\n",
    "            print(len(ts))\n",
    "            print(\" \" * i_seq + t_kmer)\n",
    "            print(\" \" * i_seq + q_kmer)\n",
    "            print(\" \" * i_seq + t_kmer_gapless)\n",
    "            break\n",
    "        \n",
    "        if q_kmer == t_kmer:\n",
    "            true_events.append(ev)        \n",
    "    "
   ]
  },
  {
   "cell_type": "code",
   "execution_count": 20,
   "metadata": {
    "collapsed": false
   },
   "outputs": [
    {
     "data": {
      "text/plain": [
       "2321"
      ]
     },
     "execution_count": 20,
     "metadata": {},
     "output_type": "execute_result"
    }
   ],
   "source": [
    "len(true_events)"
   ]
  },
  {
   "cell_type": "markdown",
   "metadata": {},
   "source": [
    "well, that's not a lot!"
   ]
  },
  {
   "cell_type": "markdown",
   "metadata": {},
   "source": [
    "### make dict with all kmers "
   ]
  },
  {
   "cell_type": "code",
   "execution_count": 25,
   "metadata": {
    "collapsed": false
   },
   "outputs": [],
   "source": [
    "from itertools import product\n",
    "all_5mers = [''.join(i) for i in product(\"ACGT\",repeat=5)]\n",
    "ev_map = OrderedDict((k,[]) for k in all_5mers)"
   ]
  },
  {
   "cell_type": "code",
   "execution_count": 26,
   "metadata": {
    "collapsed": false
   },
   "outputs": [],
   "source": [
    "for ev in true_events: \n",
    "    ev_map[ev[\"kmer\"]].append(ev)"
   ]
  },
  {
   "cell_type": "markdown",
   "metadata": {},
   "source": [
    "#Analysis"
   ]
  },
  {
   "cell_type": "markdown",
   "metadata": {},
   "source": [
    "### compare with distributions in sequence\n",
    "\n",
    "* kmer-frequence\n",
    "* length (how many kmers were mapped correctly, at all) "
   ]
  },
  {
   "cell_type": "code",
   "execution_count": 27,
   "metadata": {
    "collapsed": false
   },
   "outputs": [],
   "source": [
    "from collections import OrderedDict\n",
    "import scipy as sp"
   ]
  },
  {
   "cell_type": "code",
   "execution_count": 28,
   "metadata": {
    "collapsed": false
   },
   "outputs": [],
   "source": [
    "kmer_freq = OrderedDict((k, 0) for k in all_5mers)\n",
    "for i in range(0, len(ref)-4):\n",
    "    kmer_freq[ref[i:i+5]] += 1"
   ]
  },
  {
   "cell_type": "code",
   "execution_count": 29,
   "metadata": {
    "collapsed": false
   },
   "outputs": [],
   "source": [
    "true_kmer_freq = OrderedDict((k, len(v)) for k, v in ev_map.items())"
   ]
  },
  {
   "cell_type": "code",
   "execution_count": 30,
   "metadata": {
    "collapsed": false
   },
   "outputs": [
    {
     "data": {
      "text/plain": [
       "(0.69704868551860544, 8.1041535619808629e-150)"
      ]
     },
     "execution_count": 30,
     "metadata": {},
     "output_type": "execute_result"
    }
   ],
   "source": [
    "sp.stats.pearsonr(list(true_kmer_freq.values()), list(kmer_freq.values()))"
   ]
  },
  {
   "cell_type": "code",
   "execution_count": 31,
   "metadata": {
    "collapsed": false
   },
   "outputs": [
    {
     "name": "stderr",
     "output_type": "stream",
     "text": [
      "/home/sturm/bin/anaconda3/lib/python3.4/site-packages/matplotlib/figure.py:387: UserWarning: matplotlib is currently using a non-GUI backend, so cannot show the figure\n",
      "  \"matplotlib is currently using a non-GUI backend, \"\n"
     ]
    },
    {
     "data": {
      "image/png": "[encoded data removed]",
      "text/plain": [
       "<matplotlib.figure.Figure at 0x7f9c6f0a7cc0>"
      ]
     },
     "metadata": {},
     "output_type": "display_data"
    }
   ],
   "source": [
    "fig, ax = subplots()\n",
    "ax.scatter(list(true_kmer_freq.values()), list(kmer_freq.values()))\n",
    "fig.show()"
   ]
  },
  {
   "cell_type": "code",
   "execution_count": 32,
   "metadata": {
    "collapsed": false
   },
   "outputs": [
    {
     "name": "stdout",
     "output_type": "stream",
     "text": [
      "true_kmers  2321\n",
      "total_kmers in reads 407165\n",
      "ratio 0.00570039173308\n"
     ]
    }
   ],
   "source": [
    "tr = sum(list(true_kmer_freq.values()))\n",
    "tot = sum([len(f[\"called_seq\"]) for f in file_data])\n",
    "print(\"true_kmers \", tr)\n",
    "print(\"total_kmers in reads\", tot)\n",
    "print(\"ratio\", tr/tot)"
   ]
  },
  {
   "cell_type": "markdown",
   "metadata": {},
   "source": [
    "### => Result\n",
    "\n",
    "* the number of reads that are *totally* correct is really low...\n",
    "    * (this is partly due to the fact, that the alignments are cropped)\n",
    "* there is a pretty strong correlation (pearson r = .7) between the frequency of kmers in the reference and the frequency of correctly predicted kmers\n",
    "    * this indicates that there is no direct evidence for specific base-pairs to be perdicted at low accuracy (there could be single ones, however)\n",
    "   "
   ]
  },
  {
   "cell_type": "code",
   "execution_count": null,
   "metadata": {
    "collapsed": true
   },
   "outputs": [],
   "source": []
  }
 ],
 "metadata": {
  "kernelspec": {
   "display_name": "Python 3",
   "language": "python",
   "name": "python3"
  },
  "language_info": {
   "codemirror_mode": {
    "name": "ipython",
    "version": 3
   },
   "file_extension": ".py",
   "mimetype": "text/x-python",
   "name": "python",
   "nbconvert_exporter": "python",
   "pygments_lexer": "ipython3",
   "version": "3.4.3"
  }
 },
 "nbformat": 4,
 "nbformat_minor": 0
}
