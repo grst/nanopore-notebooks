{
 "cells": [
  {
   "cell_type": "code",
   "execution_count": 155,
   "metadata": {
    "collapsed": true
   },
   "outputs": [],
   "source": [
    "import rpy2.robjects as robjects\n",
    "from rpy2.robjects import numpy2ri\n",
    "import rpy2\n",
    "from pprint import pprint\n",
    "import re\n",
    "import numpy as np\n",
    "import pickle\n",
    "from itertools import repeat, count\n",
    "from skbio.alignment import StripedSmithWaterman, local_pairwise_align_ssw\n",
    "%run lib.ipynb"
   ]
  },
  {
   "cell_type": "code",
   "execution_count": 9,
   "metadata": {
    "collapsed": true
   },
   "outputs": [],
   "source": [
    "path = \"../../david_eccles_bc_ideas/\"\n",
    "SRATE = 5000"
   ]
  },
  {
   "cell_type": "code",
   "execution_count": 10,
   "metadata": {
    "collapsed": false
   },
   "outputs": [
    {
     "data": {
      "text/plain": [
       "<StrVector - Python:0x7ff82ac01b48 / R:0x28941e8>\n",
       "['nanopore.bundled']"
      ]
     },
     "execution_count": 10,
     "metadata": {},
     "output_type": "execute_result"
    }
   ],
   "source": [
    "robjects.r['load'](\"../../david_eccles_bc_ideas/mtDNA_mappable_called_with_rawSignal.Rdata\")"
   ]
  },
  {
   "cell_type": "code",
   "execution_count": 11,
   "metadata": {
    "collapsed": true
   },
   "outputs": [],
   "source": [
    "data = numpy2ri.ri2py(robjects.r['nanopore.bundled'])"
   ]
  },
  {
   "cell_type": "code",
   "execution_count": 12,
   "metadata": {
    "collapsed": false
   },
   "outputs": [],
   "source": [
    "files = !ls ../../david_eccles_bc_ideas/processed/ | grep fast5"
   ]
  },
  {
   "cell_type": "code",
   "execution_count": 44,
   "metadata": {
    "collapsed": false
   },
   "outputs": [],
   "source": [
    "def get_file_and_channel(filename):\n",
    "    result = re.search(r'_ch(\\d+)_file(\\d+)_', file)\n",
    "    file_id = int(result.group(2))\n",
    "    channel_id = int(result.group(1))\n",
    "    return file_id, channel_id"
   ]
  },
  {
   "cell_type": "markdown",
   "metadata": {},
   "source": [
    "### Get data from RData"
   ]
  },
  {
   "cell_type": "markdown",
   "metadata": {},
   "source": [
    "0 = reference\n",
    "1 = called\n",
    "3 = channel\n",
    "8 = metrichor results (events)\n",
    "9 = \"mux\"\n",
    "10 = signal range \n",
    "11 = signal"
   ]
  },
  {
   "cell_type": "code",
   "execution_count": 45,
   "metadata": {
    "collapsed": false
   },
   "outputs": [],
   "source": [
    "ref = data[0][0]\n",
    "channel_ids = [int(x) for x in data[3]]\n",
    "file_ids = [int(x) for x in data[5]]\n",
    "types = list(data[2].names) #template/2D/..."
   ]
  },
  {
   "cell_type": "code",
   "execution_count": 56,
   "metadata": {
    "collapsed": false
   },
   "outputs": [
    {
     "name": "stdout",
     "output_type": "stream",
     "text": [
      "{195: 4638530, 132: 69987497, 133: 12456817, 135: 62976700, 201: 4599826, 227: 18246574, 203: 6371298, 204: 13066295, 141: 29953471, 142: 53380406, 206: 55940501, 209: 25813234, 211: 62405297, 212: 35840257, 149: 57367518, 215: 59538461, 223: 67207073, 156: 63222798, 157: 7725489, 213: 35016383}\n"
     ]
    }
   ],
   "source": [
    "## channel coords from rdata\n",
    "coords = []\n",
    "all_raw = {}\n",
    "channel_max = dict(zip(channel_ids, repeat(0)))\n",
    "for i in range(0, len(data[10]), 2):\n",
    "    se = (round(data[10][i]), round(data[10][i+1]))\n",
    "    coords.append(se)\n",
    "    channel_max[channel_ids[int(i/2)]] = max(channel_max[channel_ids[int(i/2)]], se[1])\n",
    "    \n",
    "print (channel_max)\n",
    "\n",
    "for chid, chmax in channel_max.items():\n",
    "    all_raw[chid] = np.empty(chmax)\n",
    "    all_raw[chid].fill(-1)"
   ]
  },
  {
   "cell_type": "markdown",
   "metadata": {},
   "source": [
    "pack all the available raw signal for the given channel in one array. "
   ]
  },
  {
   "cell_type": "code",
   "execution_count": 57,
   "metadata": {
    "collapsed": false
   },
   "outputs": [
    {
     "name": "stdout",
     "output_type": "stream",
     "text": [
      "0 14263383\n",
      "1 14263383\n",
      "2 53054262\n",
      "3 55559668\n",
      "4 55763736\n",
      "5 55559668\n",
      "6 20841985\n",
      "7 21744018\n",
      "8 20841663\n",
      "9 58611017\n",
      "10 29733238\n",
      "11 30178940\n",
      "12 38452561\n",
      "13 68761506\n",
      "14 69336966\n",
      "15 39203872\n",
      "16 4338899\n",
      "17 10117943\n",
      "18 10111547\n",
      "19 1610262\n",
      "20 1610262\n",
      "21 437216\n",
      "22 1290055\n",
      "23 25820667\n",
      "24 28685564\n",
      "25 29586312\n",
      "26 28684851\n",
      "27 36094944\n",
      "28 36495057\n",
      "29 36094944\n",
      "30 38381291\n",
      "31 60958967\n",
      "32 60827554\n",
      "33 62183810\n",
      "34 13895041\n",
      "35 14282593\n",
      "36 14883605\n",
      "37 16839366\n",
      "38 17196412\n",
      "39 11116981\n",
      "40 12018853\n",
      "41 28113526\n",
      "42 50760609\n",
      "43 52030192\n",
      "44 11786742\n",
      "45 11971416\n",
      "46 4415895\n",
      "47 14826058\n",
      "48 15605747\n",
      "49 17611679\n",
      "50 15605747\n",
      "51 50100827\n",
      "52 50279488\n",
      "53 50100827\n",
      "54 54684243\n",
      "55 56708683\n",
      "56 62911375\n",
      "57 4682908\n",
      "58 9660018\n",
      "59 10549882\n",
      "60 9660018\n",
      "61 1262851\n",
      "62 2095322\n",
      "63 3367671\n",
      "64 5777375\n",
      "65 3310668\n",
      "66 4523542\n",
      "67 3724151\n",
      "68 2837075\n",
      "69 12054328\n",
      "70 2865115\n",
      "71 4214741\n",
      "72 5115935\n",
      "73 12445897\n",
      "74 13721867\n",
      "75 16388228\n",
      "76 15418914\n",
      "77 6253118\n",
      "78 6213608\n",
      "79 8839630\n",
      "80 9700201\n",
      "81 8839630\n",
      "82 27325701\n",
      "83 28050421\n",
      "84 27325701\n",
      "85 30627084\n",
      "86 55085511\n",
      "87 4550156\n",
      "88 7663002\n",
      "89 11397931\n",
      "90 23898427\n",
      "91 24776119\n",
      "92 23866775\n",
      "93 23866775\n",
      "94 27346457\n",
      "95 27346457\n",
      "96 61821237\n",
      "97 62122996\n",
      "98 35367400\n",
      "99 35367400\n",
      "100 43549673\n",
      "101 47221200\n",
      "102 48241865\n",
      "103 47221200\n",
      "104 53585905\n",
      "105 3742361\n",
      "106 4540664\n",
      "107 3742361\n",
      "108 21241658\n",
      "109 29893562\n",
      "110 32869982\n",
      "111 36749681\n",
      "112 37993252\n",
      "113 39107681\n",
      "114 37993252\n",
      "115 33792991\n",
      "116 41030598\n",
      "117 41411553\n",
      "118 54673976\n",
      "119 32977279\n",
      "120 34737624\n",
      "121 55353985\n",
      "122 57174444\n",
      "123 58154700\n",
      "124 3344251\n",
      "125 3668713\n",
      "126 28132973\n",
      "127 30091422\n",
      "128 30091422\n",
      "129 31790027\n",
      "130 31790027\n",
      "131 38320808\n",
      "132 39423326\n",
      "133 66243686\n",
      "134 14977849\n",
      "135 16506736\n",
      "136 14977849\n"
     ]
    }
   ],
   "source": [
    "for i, start_end in enumerate(coords):\n",
    "    start, end = start_end\n",
    "    print(i, start)\n",
    "    for k, sig in enumerate(data[11][i]):\n",
    "        all_raw[channel_ids[i]][start + k] = sig"
   ]
  },
  {
   "cell_type": "markdown",
   "metadata": {},
   "source": [
    "### Get events and sequence via poretools "
   ]
  },
  {
   "cell_type": "markdown",
   "metadata": {},
   "source": [
    "only look at the \"template\" seq for the beginning\n",
    "\n",
    "####Events-Table\n",
    "file\tstrand\tmean\tstart\tstdv\tlength\tmodel_state\tmodel_level\tmove\tp_model_state\tmp_model_state\tp_mp_model_state\tp_A\tp_C\tp_G\tp_T\traw_index"
   ]
  },
  {
   "cell_type": "code",
   "execution_count": 101,
   "metadata": {
    "collapsed": false
   },
   "outputs": [
    {
     "name": "stdout",
     "output_type": "stream",
     "text": [
      "file ch135-file25 skipped. No raw data available.\n",
      "file ch141-file19 skipped. No raw data available.\n",
      "file ch149-file12 skipped. No raw data available.\n",
      "file ch149-file14 skipped. No raw data available.\n",
      "file ch203-file1 skipped. No raw data available.\n",
      "file ch206-file10 skipped. No raw data available.\n",
      "file ch206-file34 skipped. No raw data available.\n",
      "file ch211-file29 skipped. No raw data available.\n"
     ]
    }
   ],
   "source": [
    "file_data = []\n",
    "for file in files: \n",
    "    f_obj = {}\n",
    "    file_id, ch_id = get_file_and_channel(file)\n",
    "    f_obj[\"channel\"] = ch_id\n",
    "    f_obj[\"file_id\"] = file_id\n",
    "    \n",
    "    called_seq = !poretools fasta {path+\"processed/\" + file} | grep template -A1 | grep -v \">\"\n",
    "    f_obj[\"called_seq\"] = called_seq[0]\n",
    "    \n",
    "    events = !poretools events {path+\"processed/\" + file} | grep template\n",
    "    events = [line.split(\"\\t\") for line in events]\n",
    "    \n",
    "    file_events = []\n",
    "    for ev in events: \n",
    "        r_ev = dict()\n",
    "        r_ev[\"start\"] = round(float(ev[3]) * SRATE)\n",
    "        r_ev[\"end\"] = round(r_ev[\"start\"] + float(ev[5]) * SRATE)\n",
    "        r_ev[\"mp_kmer\"] = ev[10] #maximum posterior\n",
    "        r_ev[\"kmer\"] = ev[6] #model state\n",
    "        r_ev[\"move\"] = int(ev[8])\n",
    "        file_events.append(r_ev)\n",
    "\n",
    "    ## check if raw data is available\n",
    "    if (all_raw[ch_id][file_events[0][\"start\"]] < 0 or\n",
    "        all_raw[ch_id][file_events[-1][\"end\"]-1file_id, ch_id = get_file_and_channel(file)\n",
    "    f_obj[\"channel\"] = ch_id\n",
    "    f_obj[\"file_id\"] = file_id] < 0):\n",
    "        print(\"file ch{0}-file{1} skipped. No raw data available.\".format(ch_id, file_id))\n",
    "        continue\n",
    "\n",
    "    f_obj[\"events\"] = file_events\n",
    "    file_data.append(f_obj)\n",
    "    \n",
    "    "
   ]
  },
  {
   "cell_type": "code",
   "execution_count": 102,
   "metadata": {
    "collapsed": true
   },
   "outputs": [],
   "source": [
    "from pylab import * \n",
    "import seaborn as sns\n",
    "%matplotlib inline\n",
    "sns.set_style(\"ticks\", {\"axes.grid\" : True, \"grid.color\" : \".95\"})"
   ]
  },
  {
   "cell_type": "markdown",
   "metadata": {
    "collapsed": true
   },
   "source": [
    "#Distribution of all events "
   ]
  },
  {
   "cell_type": "code",
   "execution_count": 103,
   "metadata": {
    "collapsed": false,
    "scrolled": true
   },
   "outputs": [],
   "source": [
    "props = {\n",
    "    \"mean\" : [], \n",
    "    \"length\" : [],\n",
    "    \"stdev\" : []\n",
    "}\n",
    "for file in file_data:\n",
    "    ch = file[\"channel\"]\n",
    "    for ev in file[\"events\"]:\n",
    "        l, r = ev[\"start\"], ev[\"end\"]\n",
    "        props[\"mean\"].append(np.mean(all_raw[ch][l:r]))        \n",
    "        props[\"stdev\"].append(np.std(all_raw[ch][l:r]))\n",
    "        props[\"length\"].append(r-l)"
   ]
  },
  {
   "cell_type": "code",
   "execution_count": 108,
   "metadata": {
    "collapsed": false,
    "scrolled": true
   },
   "outputs": [
    {
     "name": "stderr",
     "output_type": "stream",
     "text": [
      "/home/sturm/bin/anaconda3/lib/python3.4/site-packages/matplotlib/figure.py:387: UserWarning: matplotlib is currently using a non-GUI backend, so cannot show the figure\n",
      "  \"matplotlib is currently using a non-GUI backend, \"\n"
     ]
    },
    {
     "data": {
      "image/png": "[encoded data removed]",
      "text/plain": [
       "<matplotlib.figure.Figure at 0x7ff6920bdda0>"
      ]
     },
     "metadata": {},
     "output_type": "display_data"
    }
   ],
   "source": [
    "fig, ax = subplots(figsize=(15,5))\n",
    "ax.hist(props[\"length\"], bins=range(0, 1000, 10))\n",
    "ax.set_title(\"length\")\n",
    "fig.show()"
   ]
  },
  {
   "cell_type": "code",
   "execution_count": 105,
   "metadata": {
    "collapsed": false
   },
   "outputs": [
    {
     "name": "stderr",
     "output_type": "stream",
     "text": [
      "/home/sturm/bin/anaconda3/lib/python3.4/site-packages/matplotlib/figure.py:387: UserWarning: matplotlib is currently using a non-GUI backend, so cannot show the figure\n",
      "  \"matplotlib is currently using a non-GUI backend, \"\n"
     ]
    },
    {
     "data": {
      "image/png": "[encoded data removed]",
      "text/plain": [
       "<matplotlib.figure.Figure at 0x7ff7dad78d30>"
      ]
     },
     "metadata": {},
     "output_type": "display_data"
    }
   ],
   "source": [
    "fig, ax = subplots(figsize=(15,5))\n",
    "ax.hist(props[\"mean\"], bins=500)\n",
    "ax.set_title(\"mean pA\")\n",
    "fig.show()"
   ]
  },
  {
   "cell_type": "code",
   "execution_count": 106,
   "metadata": {
    "collapsed": false
   },
   "outputs": [
    {
     "name": "stderr",
     "output_type": "stream",
     "text": [
      "/home/sturm/bin/anaconda3/lib/python3.4/site-packages/matplotlib/figure.py:387: UserWarning: matplotlib is currently using a non-GUI backend, so cannot show the figure\n",
      "  \"matplotlib is currently using a non-GUI backend, \"\n"
     ]
    },
    {
     "data": {
      "image/png": "[encoded data removed]",
      "text/plain": [
       "<matplotlib.figure.Figure at 0x7ff7db4d01d0>"
      ]
     },
     "metadata": {},
     "output_type": "display_data"
    }
   ],
   "source": [
    "fig, ax = subplots(figsize=(15,5))\n",
    "ax.hist(props[\"stdev\"], bins=500)\n",
    "ax.set_title(\"stdev pA\")\n",
    "fig.show()"
   ]
  },
  {
   "cell_type": "markdown",
   "metadata": {},
   "source": [
    "#find all correctly mapped 5-mers"
   ]
  },
  {
   "cell_type": "code",
   "execution_count": 148,
   "metadata": {
    "collapsed": true
   },
   "outputs": [],
   "source": [
    "align_ref = StripedSmithWaterman(ref, gap_open_penalty=3, gap_extend_penalty=3) #query"
   ]
  },
  {
   "cell_type": "code",
   "execution_count": 178,
   "metadata": {
    "collapsed": true
   },
   "outputs": [],
   "source": [
    "def find_seq_start(events, start):\n",
    "    \"\"\"find the kmer that corresponds to the first kmer of the aligned sequences\"\"\"\n",
    "    moved = 0\n",
    "    for i, ev in enumerate(events):\n",
    "        if moved + ev[\"move\"] >= start: \n",
    "            offset = moved - start\n",
    "            return i, offset\n",
    "        else:\n",
    "            moved += ev[\"move\"]"
   ]
  },
  {
   "cell_type": "code",
   "execution_count": 235,
   "metadata": {
    "collapsed": false
   },
   "outputs": [],
   "source": [
    "def gapmove(i_seq, ts, move):\n",
    "    \"\"\"moves by *move* steps, respecting gaps.\"\"\"\n",
    "    moved = 0\n",
    "    if i_seq < 0:\n",
    "        return move  \n",
    "    for i, c in enumerate(ts[i_seq:]): \n",
    "        if moved == move:\n",
    "            return i\n",
    "        if c != \"-\": moved +=1\n",
    "        \n",
    "            "
   ]
  },
  {
   "cell_type": "code",
   "execution_count": 245,
   "metadata": {
    "collapsed": false
   },
   "outputs": [
    {
     "ename": "AssertionError",
     "evalue": "kmer from event file does not match aligned target sequence. ",
     "output_type": "error",
     "traceback": [
      "\u001b[1;31m---------------------------------------------------------------------------\u001b[0m",
      "\u001b[1;31mAssertionError\u001b[0m                            Traceback (most recent call last)",
      "\u001b[1;32m<ipython-input-245-715949621ffd>\u001b[0m in \u001b[0;36m<module>\u001b[1;34m()\u001b[0m\n\u001b[0;32m     18\u001b[0m         \u001b[0mt_kmer_gapless\u001b[0m \u001b[1;33m=\u001b[0m \u001b[0mts\u001b[0m\u001b[1;33m[\u001b[0m\u001b[0mi_seq\u001b[0m\u001b[1;33m:\u001b[0m\u001b[1;33m]\u001b[0m\u001b[1;33m.\u001b[0m\u001b[0mreplace\u001b[0m\u001b[1;33m(\u001b[0m\u001b[1;34m\"-\"\u001b[0m\u001b[1;33m,\u001b[0m\u001b[1;34m\"\"\u001b[0m\u001b[1;33m)\u001b[0m\u001b[1;33m[\u001b[0m\u001b[1;33m:\u001b[0m\u001b[1;36m5\u001b[0m\u001b[1;33m]\u001b[0m\u001b[1;33m\u001b[0m\u001b[0m\n\u001b[0;32m     19\u001b[0m \u001b[1;33m\u001b[0m\u001b[0m\n\u001b[1;32m---> 20\u001b[1;33m         \u001b[1;32massert\u001b[0m \u001b[0mev\u001b[0m\u001b[1;33m[\u001b[0m\u001b[1;34m\"kmer\"\u001b[0m\u001b[1;33m]\u001b[0m \u001b[1;33m==\u001b[0m \u001b[0mt_kmer_gapless\u001b[0m\u001b[1;33m,\u001b[0m \u001b[1;34m\"kmer from event file does not match aligned target sequence. \"\u001b[0m\u001b[1;33m\u001b[0m\u001b[0m\n\u001b[0m\u001b[0;32m     21\u001b[0m \u001b[1;33m\u001b[0m\u001b[0m\n\u001b[0;32m     22\u001b[0m         \u001b[1;32mif\u001b[0m \u001b[0mq_kmer\u001b[0m \u001b[1;33m==\u001b[0m \u001b[0mt_kmer\u001b[0m\u001b[1;33m:\u001b[0m\u001b[1;33m\u001b[0m\u001b[0m\n",
      "\u001b[1;31mAssertionError\u001b[0m: kmer from event file does not match aligned target sequence. "
     ]
    }
   ],
   "source": [
    "true_events = []\n",
    "\n",
    "for file in file_data:\n",
    "    alignment = align_ref(file[\"called_seq\"]) #target\n",
    "    events = file[\"events\"]\n",
    "#     print(alignment.aligned_query_sequence[:100])\n",
    "#     print(alignment.aligned_target_sequence[:100])\n",
    "    pos_kmer, offset = find_seq_start(events, alignment.target_begin)\n",
    "    i_seq = offset #in case the last kmer was shifted by 2, i = sequence index of the target sequence with gaps\n",
    "    qs = alignment.aligned_query_sequence #the reference\n",
    "    ts = alignment.aligned_target_sequence #the called seq\n",
    "    for ev in events[pos_kmer:]:\n",
    "        i_seq += gapmove(i_seq, ts, ev[\"move\"])\n",
    "        if i_seq+5 > len(ts):\n",
    "            break\n",
    "        q_kmer = qs[i_seq:i_seq+5]\n",
    "        t_kmer = ts[i_seq:i_seq+5]\n",
    "        t_kmer_gapless = ts[i_seq:].replace(\"-\",\"\")[:5]\n",
    "            \n",
    "        assert ev[\"kmer\"] == t_kmer_gapless, \"kmer from event file does not match aligned target sequence. \"\n",
    "        \n",
    "        if q_kmer == t_kmer:\n",
    "            true_events.append(ev)        \n",
    "    "
   ]
  },
  {
   "cell_type": "code",
   "execution_count": 244,
   "metadata": {
    "collapsed": false
   },
   "outputs": [
    {
     "data": {
      "text/plain": [
       "[{'end': 21002346,\n",
       "  'kmer': 'AGTTT',\n",
       "  'move': 1,\n",
       "  'mp_kmer': 'AGTTT',\n",
       "  'start': 21002239},\n",
       " {'end': 21002551,\n",
       "  'kmer': 'GTTTG',\n",
       "  'move': 1,\n",
       "  'mp_kmer': 'GTTTG',\n",
       "  'start': 21002346},\n",
       " {'end': 21002576,\n",
       "  'kmer': 'TTTGA',\n",
       "  'move': 1,\n",
       "  'mp_kmer': 'TTTGA',\n",
       "  'start': 21002551},\n",
       " {'end': 21002605,\n",
       "  'kmer': 'TTGAC',\n",
       "  'move': 1,\n",
       "  'mp_kmer': 'TTGAC',\n",
       "  'start': 21002576},\n",
       " {'end': 21003353,\n",
       "  'kmer': 'TAAGT',\n",
       "  'move': 1,\n",
       "  'mp_kmer': 'ACGGT',\n",
       "  'start': 21003213},\n",
       " {'end': 21003371,\n",
       "  'kmer': 'AAGTT',\n",
       "  'move': 1,\n",
       "  'mp_kmer': 'CGGTT',\n",
       "  'start': 21003353},\n",
       " {'end': 21004639,\n",
       "  'kmer': 'TTAGG',\n",
       "  'move': 1,\n",
       "  'mp_kmer': 'TTAGG',\n",
       "  'start': 21004359},\n",
       " {'end': 21005796,\n",
       "  'kmer': 'TGGTA',\n",
       "  'move': 1,\n",
       "  'mp_kmer': 'TGGTA',\n",
       "  'start': 21005476},\n",
       " {'end': 21007993,\n",
       "  'kmer': 'GCCAC',\n",
       "  'move': 1,\n",
       "  'mp_kmer': 'GCCAC',\n",
       "  'start': 21007874},\n",
       " {'end': 21008192,\n",
       "  'kmer': 'CCACC',\n",
       "  'move': 1,\n",
       "  'mp_kmer': 'CCACC',\n",
       "  'start': 21007993},\n",
       " {'end': 21008300,\n",
       "  'kmer': 'CACCG',\n",
       "  'move': 1,\n",
       "  'mp_kmer': 'CGCCG',\n",
       "  'start': 21008192},\n",
       " {'end': 21008350,\n",
       "  'kmer': 'ACCGC',\n",
       "  'move': 1,\n",
       "  'mp_kmer': 'GCCGC',\n",
       "  'start': 21008300},\n",
       " {'end': 21009377,\n",
       "  'kmer': 'TCATA',\n",
       "  'move': 1,\n",
       "  'mp_kmer': 'TCATA',\n",
       "  'start': 21009121},\n",
       " {'end': 21009495,\n",
       "  'kmer': 'CATAC',\n",
       "  'move': 1,\n",
       "  'mp_kmer': 'CATAC',\n",
       "  'start': 21009377},\n",
       " {'end': 21009617,\n",
       "  'kmer': 'ATACG',\n",
       "  'move': 1,\n",
       "  'mp_kmer': 'ATACG',\n",
       "  'start': 21009495},\n",
       " {'end': 21009778,\n",
       "  'kmer': 'TACGA',\n",
       "  'move': 1,\n",
       "  'mp_kmer': 'TACGA',\n",
       "  'start': 21009617},\n",
       " {'end': 21011535,\n",
       "  'kmer': 'TTATC',\n",
       "  'move': 2,\n",
       "  'mp_kmer': 'TTATC',\n",
       "  'start': 21011465},\n",
       " {'end': 21015693,\n",
       "  'kmer': 'AAATC',\n",
       "  'move': 1,\n",
       "  'mp_kmer': 'AAATC',\n",
       "  'start': 21015651},\n",
       " {'end': 21015974,\n",
       "  'kmer': 'ACTTA',\n",
       "  'move': 1,\n",
       "  'mp_kmer': 'ACTTA',\n",
       "  'start': 21015935},\n",
       " {'end': 21016228,\n",
       "  'kmer': 'CTTAT',\n",
       "  'move': 1,\n",
       "  'mp_kmer': 'CTTAT',\n",
       "  'start': 21015974},\n",
       " {'end': 21016297,\n",
       "  'kmer': 'TTATA',\n",
       "  'move': 1,\n",
       "  'mp_kmer': 'TTATA',\n",
       "  'start': 21016228},\n",
       " {'end': 21016371,\n",
       "  'kmer': 'TATAT',\n",
       "  'move': 1,\n",
       "  'mp_kmer': 'TATAT',\n",
       "  'start': 21016297},\n",
       " {'end': 21016650,\n",
       "  'kmer': 'ATATG',\n",
       "  'move': 1,\n",
       "  'mp_kmer': 'ATATG',\n",
       "  'start': 21016371},\n",
       " {'end': 21016828,\n",
       "  'kmer': 'TATGT',\n",
       "  'move': 1,\n",
       "  'mp_kmer': 'TATGT',\n",
       "  'start': 21016650},\n",
       " {'end': 21016951,\n",
       "  'kmer': 'ATGTG',\n",
       "  'move': 1,\n",
       "  'mp_kmer': 'ATGTG',\n",
       "  'start': 21016828},\n",
       " {'end': 21016967,\n",
       "  'kmer': 'GTGAA',\n",
       "  'move': 2,\n",
       "  'mp_kmer': 'GTGAA',\n",
       "  'start': 21016951},\n",
       " {'end': 21017030,\n",
       "  'kmer': 'TGAAA',\n",
       "  'move': 1,\n",
       "  'mp_kmer': 'TGAAA',\n",
       "  'start': 21016967},\n",
       " {'end': 21041520,\n",
       "  'kmer': 'TTGGC',\n",
       "  'move': 2,\n",
       "  'mp_kmer': 'TTGGC',\n",
       "  'start': 21041339},\n",
       " {'end': 21041607,\n",
       "  'kmer': 'TGGCG',\n",
       "  'move': 1,\n",
       "  'mp_kmer': 'TGGCG',\n",
       "  'start': 21041520},\n",
       " {'end': 21041674,\n",
       "  'kmer': 'GGCGG',\n",
       "  'move': 1,\n",
       "  'mp_kmer': 'GGCGG',\n",
       "  'start': 21041607},\n",
       " {'end': 21041739,\n",
       "  'kmer': 'GCGGT',\n",
       "  'move': 1,\n",
       "  'mp_kmer': 'GCGGT',\n",
       "  'start': 21041674},\n",
       " {'end': 21112474,\n",
       "  'kmer': 'TGGAG',\n",
       "  'move': 1,\n",
       "  'mp_kmer': 'TGGAG',\n",
       "  'start': 21112382},\n",
       " {'end': 21112514,\n",
       "  'kmer': 'GGAGA',\n",
       "  'move': 1,\n",
       "  'mp_kmer': 'GGAGA',\n",
       "  'start': 21112474},\n",
       " {'end': 21112621,\n",
       "  'kmer': 'GAGAA',\n",
       "  'move': 1,\n",
       "  'mp_kmer': 'GAGAA',\n",
       "  'start': 21112514},\n",
       " {'end': 21119335,\n",
       "  'kmer': 'AAGAC',\n",
       "  'move': 1,\n",
       "  'mp_kmer': 'AAGAC',\n",
       "  'start': 21119037},\n",
       " {'end': 21198451,\n",
       "  'kmer': 'GAATG',\n",
       "  'move': 1,\n",
       "  'mp_kmer': 'GAATG',\n",
       "  'start': 21198331},\n",
       " {'end': 21198569,\n",
       "  'kmer': 'AATGC',\n",
       "  'move': 1,\n",
       "  'mp_kmer': 'AATGC',\n",
       "  'start': 21198451},\n",
       " {'end': 21198714,\n",
       "  'kmer': 'ATGCC',\n",
       "  'move': 1,\n",
       "  'mp_kmer': 'ATGCC',\n",
       "  'start': 21198569},\n",
       " {'end': 21224520,\n",
       "  'kmer': 'CTTTC',\n",
       "  'move': 1,\n",
       "  'mp_kmer': 'CTTTC',\n",
       "  'start': 21224442},\n",
       " {'end': 21382392,\n",
       "  'kmer': 'ACTAA',\n",
       "  'move': 1,\n",
       "  'mp_kmer': 'CTACT',\n",
       "  'start': 21382348},\n",
       " {'end': 21382460,\n",
       "  'kmer': 'CTAAC',\n",
       "  'move': 1,\n",
       "  'mp_kmer': 'ATAAC',\n",
       "  'start': 21382392},\n",
       " {'end': 21424156,\n",
       "  'kmer': 'AGTAA',\n",
       "  'move': 2,\n",
       "  'mp_kmer': 'AGTAA',\n",
       "  'start': 21423965},\n",
       " {'end': 21434427,\n",
       "  'kmer': 'TTGCC',\n",
       "  'move': 1,\n",
       "  'mp_kmer': 'TTGCC',\n",
       "  'start': 21434177},\n",
       " {'end': 21434500,\n",
       "  'kmer': 'TGCCA',\n",
       "  'move': 1,\n",
       "  'mp_kmer': 'TGCCA',\n",
       "  'start': 21434427},\n",
       " {'end': 21434558,\n",
       "  'kmer': 'GCCAT',\n",
       "  'move': 1,\n",
       "  'mp_kmer': 'GCCAT',\n",
       "  'start': 21434500},\n",
       " {'end': 21434632,\n",
       "  'kmer': 'CCATC',\n",
       "  'move': 1,\n",
       "  'mp_kmer': 'CCATC',\n",
       "  'start': 21434558},\n",
       " {'end': 21434853,\n",
       "  'kmer': 'CATCA',\n",
       "  'move': 1,\n",
       "  'mp_kmer': 'CATCA',\n",
       "  'start': 21434632},\n",
       " {'end': 21572649,\n",
       "  'kmer': 'AGTTA',\n",
       "  'move': 1,\n",
       "  'mp_kmer': 'AGTTA',\n",
       "  'start': 21572271},\n",
       " {'end': 21572680,\n",
       "  'kmer': 'GTTAA',\n",
       "  'move': 1,\n",
       "  'mp_kmer': 'GTTAA',\n",
       "  'start': 21572649},\n",
       " {'end': 21572808,\n",
       "  'kmer': 'TTAAC',\n",
       "  'move': 1,\n",
       "  'mp_kmer': 'TTAAC',\n",
       "  'start': 21572680},\n",
       " {'end': 21572853,\n",
       "  'kmer': 'TAACA',\n",
       "  'move': 1,\n",
       "  'mp_kmer': 'TAACA',\n",
       "  'start': 21572808},\n",
       " {'end': 21732446,\n",
       "  'kmer': 'AAGCC',\n",
       "  'move': 1,\n",
       "  'mp_kmer': 'AAGCC',\n",
       "  'start': 21731954},\n",
       " {'end': 21732516,\n",
       "  'kmer': 'AGCCC',\n",
       "  'move': 1,\n",
       "  'mp_kmer': 'GGCCC',\n",
       "  'start': 21732446},\n",
       " {'end': 21732580,\n",
       "  'kmer': 'GCCCA',\n",
       "  'move': 1,\n",
       "  'mp_kmer': 'GCCCA',\n",
       "  'start': 21732516},\n",
       " {'end': 21732620,\n",
       "  'kmer': 'CCCAC',\n",
       "  'move': 1,\n",
       "  'mp_kmer': 'CCCAC',\n",
       "  'start': 21732580},\n",
       " {'end': 21732696,\n",
       "  'kmer': 'CCACT',\n",
       "  'move': 1,\n",
       "  'mp_kmer': 'CCACT',\n",
       "  'start': 21732620},\n",
       " {'end': 21732820,\n",
       "  'kmer': 'CACTT',\n",
       "  'move': 1,\n",
       "  'mp_kmer': 'CACTT',\n",
       "  'start': 21732696},\n",
       " {'end': 21732872,\n",
       "  'kmer': 'ACTTC',\n",
       "  'move': 1,\n",
       "  'mp_kmer': 'ACTTC',\n",
       "  'start': 21732820}]"
      ]
     },
     "execution_count": 244,
     "metadata": {},
     "output_type": "execute_result"
    }
   ],
   "source": [
    "true_events"
   ]
  },
  {
   "cell_type": "code",
   "execution_count": 239,
   "metadata": {
    "collapsed": false
   },
   "outputs": [
    {
     "data": {
      "text/plain": [
       "{\n",
       "    'optimal_alignment_score': 2771,\n",
       "    'suboptimal_alignment_score': 0,\n",
       "    'query_begin': 266,\n",
       "    'query_end': 6568,\n",
       "    'target_begin': 1271,\n",
       "    'target_end_optimal': 6815,\n",
       "    'target_end_suboptimal': 0,\n",
       "    'cigar': '8M1D7M1I1M1I9M1I6M2I8M2D1M1D22M1I6M1I16M4I2M1D7M9I10M2I4M1I2M1D11M1I12M1I4M2I1M1D3M1I2M2I7M1I6M1I9M1I11M1I1M2I19M1D3M2I5M1I39M2I6M1I1M1I4M4I4M1D1M1I4M3I3M1I16M2I27M4I4M1D6M4I4M1D4M1I8M1I14M6I4M2I1M1D6M2I2M4I7M6I5M1D11M3I12M1I5M1I3M2I4M1D10M1I10M1I1M1D2M1I6M3I7M1I4M3I9M2D8M2I5M1D10M1I1M1D1M1I1M1D4M1I9M1I4M1I5M1D15M1I8M3I2M3I3M1D1M2I2M1I12M3I3M1D15M2D3M1I1M1I1M1I5M2I4M1I3M3I5M1I4M1I2M1D23M2I8M2I2M1D1M1I2M1I9M1I16M1I4M1I3M1I16M1D1M1I7M1I10M2I1M2I12M1D6M1I2M1I4M1D3M3I2M1I15M1I2M4I16M2I2M1I3M2D2M1I2M1D2M1I4M1I3M1D20M1I5M1I3M3I7M1D7M1I25M1I7M1I3M1I2M1I7M2I15M2I16M1I4M1D6M3I17M2I9M1D1M1I1M1D14M2I2M1I5M3I4M1D1M1I1M4I1M5I2M1I1M1I8M1D7M2D5M2I5M1D12M1I13M6I16M1D2M1D4M2I7M1I1M1I1M3I4M1I3M1D1M1I6M1I1M2I3M1I11M2D18M1I5M3I13M1I2M4I6M1I7M1I12M1I2M1D2M1D7M6D7M1I21M1D2M1I11M1I6M1D9M1I1M1I2M2D29M4I2M12I5M1I1M1I2M1I1M1I1M4I1M1I22M2I4M1D4M2D1M1D1M1D15M1D8M1I1M5I6M1D9M2I4M1I1M1I2M1D7M1I13M2I4M2I8M1I5M3I8M3I3M1D4M4I12M1D12M1I11M2I4M2D1M1D4M1I2M1I7M1D2M1I2M1D1M1D1M1I8M2I4M1D5M1I3M2I9M4I17M1I2M3I1M1D3M1D15M1D1M1I12M1I16M1I2M1D4M1D2M1I5M1D1M1I2M1I3M1D1M1I8M2I10M2I3M2I15M2I6M1I17M1I2M1D1M2I5M1D10M1I1M2I1M1I5M5I19M1D3M6I1M1I11M2I14M2I2M2I3M1I5M1I2M1D1M1I12M4I3M1I9M1I7M1I7M1D1M1I2M1D7M1D1M2I7M1I1M1D3M1I7M1I11M1I1M1D5M2I2M2I14M1I4M1I1M1D8M1I5M2I1M1D8M1I3M1I12M2I3M1D4M1I2M1I4M1D8M1I14M1I4M2I3M1I3M1I8M1I5M3I5M2I5M1I6M2I2M3I3M2I3M1I3M1D2M1I2M1I3M1I1M1D2M1I11M1I1M1D7M1D3M2I4M1I2M1I2M5I4M3I3M1I6M2I3M2I1M1D3M1I4M1I10M1D5M1D1M2D1M1I6M1D2M3I10M2I3M1I3M2I1M1D2M3I5M1I13M3I1M2I8M1I2M1D14M1I12M2I2M1I1M2I1M1D1M1I2M1D10M1D2M1I2M3I1M1I1M1I2M2I4M2I5M1D16M1D13M1I5M4I1M2I3M1I2M1D3M2D11M3I12M2I19M4D19M3I6M1D1M1I3M1I1M3I4M1I4M1I6M3I5M2I2M1I3M1I6M2D12M3I2M1D26M1I3M2I17M1I2M1I1M1I2M1D4M1I3M1D3M3I1M1I2M1I10M1I2M1I1M1D2M3I10M1I11M1I4M1I2M1D3M1I1M1D1M1D8M1I7M1I23M3D3M2I8M2I9M1I3M1D4M2I2M2I9M4I17M1I2M1I13M2I6M1D4M1D4M1D5M1I5M1D2M1I7M3D7M1D6M5D5M2D3M3D8M5D4M1I13M1D2M2I6M1I26M1I1M1I6M1D6M1I13M1D3M5I10M1I9M2I4M2I4M1I11M2I3M1I5M2D2M2I4M1I1M2I7M3I22M1I2M1D15M2I8M1I7M1D4M4I1M1I3M1D6M2I11M2I6M1I9M1D1M1I5M2I5M2D3M1D10M4I1M1I1M1D1M2I8M1I5M2I14M1I11M1D2M1D9M2D8M1I1M4I3M3I12M1I1M2I1M1I1M1D9M1D9M1I2M1D8M2I14M1I6M1I24M1I14M3I4M1D5M2I24M1D2M1I2M1I4M2I1M1D23M2I15M1D7M1I28M1I3M1I1M1D1M1I5M1I6M1I1M3I2M2I2M1D11M1I4M2I12M2I4M1D18M1I4M1D1M1I8M1I1M1D6M3I7M1D35M1I3M1I4M1D1M1I2M1I10M1I10M1I12M1D4M2I12M1I1M2I13M1D1M1I2M4I10M1I1M2I4M1D9M4I3M1D2M2I2M1D8M1D1M2I3M1D19M5I4M1I18M1I8M4I5M4I8M1I8M2I2M1I5M1I3M1I1M2D5M1I5M1I1M1I1M1I5M1D3M1D18M1I7M1I1M1I1M2I1M1D5M1I4M2I4M1I13M1I1M1I15M1I8M1I1M3I11M3I3M1D2M1I5M1D4M1I1M1D5M3I15M1I2M1I6M3I13M1I7M1I8M3I19M2I2M1I1M1D3M1I35M1D1M3I18M1D15M3I1M5I17M1I11M2I10M2I5M1I1M1D4M1I1M1D3M1I6M5I20M1I6M1I11M2I1M1I4M2I7M2I4M1I5M2I4M2I12M1I6M6I15M4I10M2I1M1I14M1I7M2I5M3I3M1D1M1D2M1I3M1I1M1I5M1I6M3I1M4I2M1I3M1D4M2I6M1I1M1D9M1I6M1D4M1I4M1D2M2D2M1I8M2I3M1I11M3I2M1I6M1I3M1D1M1I2M3D18M1I4M1D14M1I5M1I2M1D5M3I3M1I1M2I3M1I4M1D4M1I4M1I11M1I8M2I1M1I1M1D2M1D3M1I6M2I11M1D7M1I5M1I1M1D1M1I1M1D3M1I7M3I1M1I8M1I9M1D1M1D1M1D8M2I10M2I9M1I4M1I1M1D12M1D2M3I12M1D7M3D13M1I1M3I2M4I3M2I10M2I5M1D15M1D1M4I3M1I9M1I19M2I3M1I11M1I8M1I1M1I4M1I6M1I16M1I10M1D2M2I10M4I4M1I2M1D8M1D12M1I2M4I1M3I8M5I4M1D9M2I7M2I5M1I2M1I5M1I1M1D1M1I12M2I2M2I5M2I3M1I8M2I2M1I5M2I1M2I1M2I11M1I2M2I4M1I9M1I4M1I3M2D2M1I11M1I2M2D1M1I1M1D2M1I12M1I1M1D8M1I5M1I5M1I7M1I2M1D7M1I8M1D10M1I5M2I1M2I22M1I7M1D1M3D11M3I4M1D6M1D2M2I1M1I3M1I4M1I6M1D6M1D1M1D1M1D3M1I4M1D3M1I6M1I4M1D19M1I1M1D1M3I2M1I1M1I10M2D1M1I1M1D17M1I19M2I4M1I20M2I7M2I3M2I14M1D6M1I15M3I6M1I9M2I2M3I16M2I21M1I3M1I37M1I6M2D4M1I3M1I1M2I1M1I7M1I3M1D17M4D2M1D1M1I8M1D19M1I1M4I6M2I12M1D3M4I10M2I11M2I9M2D12M1D3M2D19M1I2M1D2M4I7M1I9M2I9M1D1M1I5M1I5M1D7M1I11M1I11M3I1M1I6M1I2M3I4M1I6M1I1M1D7M1I11M1D1M1I10M2D1M1I1M1D10M3I7M1I7M1I2M1D1M1D12M',\n",
       "    'query_sequence': 'GTTAATGTAGCTTAATAACAAAGCAAAGCACTGAAAATGCTTAGATGGATAATTGTATCCCATAAACACAAAGGTTTGGTCCTGGCCTTATAATTAATTAGAGGTAAAATTACACATGCAAACCTCCATAGACCGGTGTAAAATCCCTTAAACATTTACTTAAAATTTAAGGAGAGGGTATCAAGCACATTAAAATAGCTTAAGACACCTTGCCTAGCCACACCCCCACGGGACTCAGCAGTGATAAATATTAAGCAATAAACGAAAGTTTGACTAAGTTATACCTCTTAGGGTTGGTAAATTTCGTGCCAGCCACCGCGGTCATACGATTAACCCAAACTAATTATCTTCGGCGTAAAACGTGTCAACTATAAATAAATAAATAGAATTAAAATCCAACTTATATGTGAAAATTCATTGTTAGGACCTAAACTCAATAACGAAAGTAATTCTAGTCATTTATAATACACGACAGCTAAGACCCAAACTGGGATTAGATACCCCACTATGCTTAGCCATAAACCTAAATAATTAAATTTAACAAAACTATTTGCCAGAGAACTACTAGCCATAGCTTAAAACTCAAAGGACTTGGCGGTACTTTATATCCATCTAGAGGAGCCTGTTCTATAATCGATAAACCCCGCTCTACCTCACCATCTCTTGCTAATTCAGCCTATATACCGCCATCTTCAGCAAACCCTAAAAAGGTATTAAAGTAAGCAAAAGAATCAAACATAAAAACGTTAGGTCAAGGTGTAGCCAATGAAATGGGAAGAAATGGGCTACATTTTCTTATAAAAGAACATTACTATACCCTTTATGAAACTAAAGGACTAAGGAGGATTTAGTAGTAAATTAAGAATAGAGAGCTTAATTGAATTGAGCAATGAAGTACGCACACACCGCCCGTCACCCTCCTCAAATTAAATTAAACTTAACATAATTAATTTCTAGACATCCGTTTATGAGAGGAGATAAGTCGTAACAAGGTAAGCATACTGGAAAGTGTGCTTGGAATAATCATAGTGTAGCTTAATATTAAAGCATCTGGCCTACACCCAGAAGATTTCATGACCAATGAACACTCTGAACTAATCCTAGCCCTAGCCCTACACAAATATAATTATACTATTATATAAATCAAAACATTTATCCTACTAAAAGTATTGGAGAAAGAAATTCGTACATCTAGGAGCTATAGAACTAGTACCGCAAGGGAAAGATGAAAGACTAATTAAAAGTAAGAACAAGCAAAGATTAAACCTTGTACCTTTTGCATAATGAACTAACTAGAAAACTTCTAACTAAAAGAATTACAGCTAGAAACCCCGAAACCAAACGAGCTACCTAAAAACAATTTTATGAATCAACTCGTCTATGTGGCAAAATAGTGAGAAGATTTTTAGGTAGAGGTGAAAAGCCTAACGAGCTTGGTGATAGCTGGTTACCCAAAAAATGAATTTAAGTTCAATTTTAAACTTGCTAAAAAAACAACAAAATCAAAAAGTAAGTTTAGATTATAGCCAAAAGAGGGACAGCTCTTCTGGAACGGAAAAAACCTTTAATAGTGAATAATTAACAAAACAGCTTTTAACCATTGTAGGCCTAAAAGCAGCCACCAATAAAGAAAGCGTTCAAGCTCAACATAAAATTTCAATTAATTCCATAATTTACACCAACTTCCTAAACTTAAAATTGGGTTAATCTATAACTTTATAGATGCAACACTGTTAGTATGAGTAACAAGAATTCCAATTCTCCAGGCATACGCGTATAACAACTCGGATAACCATTGTTAGTTAATCAGACTATAGGCAATAATCACACTATAAATAATCCACCTATAACTTCTCTGTTAACCCAACACCGGAATGCCTAAAGGAAAGATCCAAAAAGATAAAAGGAACTCGGCAAACAAGAACCCCGCCTGTTTACCAAAAACATCACCTCTAGCATTACAAGTATTAGAGGCACTGCCTGCCCAGTGACTAAAGTTTAACGGCCGCGGTATCCTGACCGTGCAAAGGTAGCATAATCACTTGTTCCTTAATTAGGGACTAGCATGAACGGCTAAACGAGGGTCCAACTGTCTCTTATCTTTAATCAGTGAAATTGACCTTTCAGTGAAGAGGCTGAAATATAATAATAAGACGAGAAGACCCTATGGAGCTTAAATTATATAACTTATCTATTTAATTTATTAAACCTAATGGCCCAAAAACTATAGTATAAGTTTGAAATTTCGGTTGGGGTGACCTCGGAGAATAAAAAATCCTCCGAATGATTATAACCTAGACTTACAAGTCAAAGTAAAATCAACATATCTTATTGACCCAGATATATTTTGATCAACGGACCAAGTTACCCTAGGGATAACAGCGCAATCCTATTTAAGAGTTCATATCGACAATTAGGGTTTACGACCTCGATGTTGGATCAGGACATCCCAATGGTGTAGAAGCTATTAATGGTTCGTTTGTTCAACGATTAAAGTCCTACGTGATCTGAGTTCAGACCGGAGCAATCCAGGTCGGTTTCTATCTATTTACGATTTCTCCCAGTACGAAAGGACAAGAGAAATAGAGCCACCTTACAAATAAGCGCTCTCAACTTAATTTATGAATAAAATCTAAATAAAATATATACGTACACCCTCTAACCTAGAGAAGGTTATTAGGGTGGCAGAGCCAGGAAATTGCGTAAGACTTAAAACCTTGTTCCCAGAGGTTCAAATCCTCTCCCTAATAGTGTTCTTTATTAATATCCTAACACTCCTCGTCCCCATTCTAATCGCCATAGCCTTCCTAACATTAGTAGAACGCAAAATCTTAGGGTACATACAACTACGAAAAGGCCCTAACATTGTTGGTCCATACGGCATTTTACAACCATTTGCAGACGCCATAAAATTATTTATAAAAGAACCAATACGCCCTTTAACAACCTCTATATCCTTATTTATTATTGCACCTACCCTATCACTCACACTAGCATTAAGTCTATGAGTTCCCCTACCAATACCACACCCATTAATTAATTTAAACCTAGGGATTTTATTTATTTTAGCAACATCTAGCCTATCAGTTTACTCCATTCTATGATCAGGATGAGCCTCAAACTCCAAATACTCACTATTCGGAGCTTTACGAGCCGTAGCCCAAACAATTTCATATGAAGTAACCATAGCTATTATCCTTTTATCAGTTCTATTAATAAATGGATCCTACTCTCTACAAACACTTATTACAACCCAAGAACACATATGATTACTTCTGCCAGCCTGACCCATAGCCATAATATGATTTATCTCAACCCTAGCAGAAACAAACCGGGCCCCCTTCGACCTGACAGAAGGAGAATCAGAATTAGTATCAGGGTTTAACGTAGAATACGCAGCCGGCCCATTCGCGTTATTCTTTATAGCAGAGTACACTAACATTATTCTAATAAACGCCCTAACAACTATTATCTTCCTAGGACCCCTATACTATATCAATTTACCAGAACTCTACTCAACTAACTTCATAATAGAAGCTCTACTACTATCATCAACATTCCTATGGATCCGAGCATCTTATCCACGCTTCCGTTACGATCAACTTATACATCTTCTATGAAAAAACTTTCTACCCCTAACACTAGCATTATGTATGTGACATATTTCTTTACCAATTTTTACAGCGGGAGTACCACCATACATATAGAAATATGTCTGATAAAAGAATTACTTTGATAGAGTAAATTATAGAGGTTCAAGCCCTCTTATTTCTAGGACAATAGGAATTGAACCTACACTTAAGAATTCAAAATTCTCCGTGCTACCTAAACACCTTATCCTAATAGTAAGGTCAGCTAATTAAGCTATCGGGCCCATACCCCGAAAACGTTGGTTTAAATCCTTCCCGTACTAATAAATCCTATCACCCTTGCCATCATCTACTTCACAATCTTCTTAGGTCCTGTAATCACAATATCCAGCACCAACCTAATACTAATATGAGTAGGCCTGGAATTCAGCCTACTAGCAATTATCCCCATACTAATCAACAAAAAAAACCCACGATCAACTGAAGCAGCAACAAAATACTTCGTCACACAAGCAACAGCCTCAATAATTATCCTCCTGGCCATCGTACTCAACTATAAACAACTAGGAACATGAATATTTCAACAACAAACAAACGGTCTTATCCTTAACATAACATTAATAGCCCTATCCATAAAACTAGGCCTCGCCCCATTCCACTTCTGATTACCAGAAGTAACTCAAGGGATCCCACTGCACATAGGACTTATTCTTCTTACATGACAAAAAATTGCTCCCCTATCAATTTTAATTCAAATTTACCCGCTACTCAACTCTACTATCATTTTAATACTAGCAATTACTTCTATTTTCATAGGGGCATGAGGAGGACTTAACCAAACACAAATACGAAAAATTATAGCCTATTCATCAATTGCCCACATAGGATGAATATTAGCAATTCTTCCTTACAACCCATCCCTCACTCTACTCAACCTCATAATCTATATTATTCTTACAGCCCCTATATTCATAGCACTTATACTAAATAACTCTATAACCATCAACTCAATCTCACTTCTATGAAATAAAACTCCAGCAATACTAACTATAATCTCACTGATATTACTATCCCTAGGAGGCCTTCCACCACTAACAGGATTCTTACCAAAATGAATTATCATCACAGAACTTATAAAAAACAACTGTCTAATTATAGCAACACTCATAGCAATAATAGCTCTACTAAACCTATTCTTTTATACTCGCCTAATTTATTCCACTTCACTAACAATATTTCCAACCAACAATAACTCAAAAATAATAACTCACCAAACAAAAACTAAACCCAACCTAATATTTTCCACCCTAGCTATCATAAGCACAATAACCCTACCCCTAGCCCCCCAACTAATTACCTAGAAGTTTAGGATATACTAGTCCGCGAGCCTTCAAAGCCCTAAGAAAACACACAAGTTTAACTTCTGATAAGGACTGTAAGACTTCATCCTACATCTATTGAATGCAAATCAATTGCTTTAATTAAGCTAAGACCTCAACTAGATTGGCAGGAATTAAACCTACGAAAATTTAGTTAACAGCTAAATACCCTATTACTGGCTTCAATCTACTTCTACCGCCGAAAAAAAAAAATGGCGGTAGAAGTCTTAGTAGAGATTTCTCTACACCTTCGAATTTGCAATTCGACATGAATATCACCTTAAGACCTCTGGTAAAAAGAGGATTTAAACCTCTGTGTTTAGATTTACAGTCTAATGCTTACTCAGCCATTTTACCTATGTTCATTAATCGTTGATTATTCTCAACCAATCACAAAGATATCGGAACCCTCTATCTACTATTCGGAGCCTGAGCGGGAATAGTGGGTACTGCACTAAGTATTTTAATTCGAGCAGAATTAGGTCAACCAGGTGCACTTTTAGGAGATGACCAAATTTACAATGTTATCGTAACTGCCCATGCTTTTGTTATAATTTTCTTCATAGTAATACCAATAATAATTGGAGGCTTTGGAAACTGACTTGTCCCACTAATAATCGGAGCCCCAGATATAGCATTCCCACGAATAAATAATATAAGTTTTTGACTCCTACCACCATCATTTCTCCTTCTCCTAGCATCATCAATAGTAGAAGCAGGAGCAGGAACAGGATGAACAGTCTACCCACCTCTAGCCGGAAATCTAGCCCATGCAGGAGCATCAGTAGACCTAACAATTTTCTCCCTTCATTTAGCTGGAGTGTCATCTATTTTAGGTGCAATTAATTTTATTACCACTATTATCAACATGAAACCCCCAGCCATAACACAGTATCAAACTCCACTATTTGTCTGATCCGTACTTATTACAGCCGTACTGCTCCTATTATCACTACCAGTGCTAGCCGCAGGCATTACTATACTACTAACAGACCGCAACCTAAACACAACTTTCTTTGATCCCGCTGGAGGAGGGGACCCAATTCTCTACCAGCATCTGTTCTGATTCTTTGGGCACCCAGAAGTTTATATTCTTATCCTCCCAGGATTTGGAATTATTTCACATGTAGTTACTTACTACTCCGGAAAAAAAGAACCTTTCGGCTATATAGGAATAGTATGAGCAATAATGTCTATTGGCTTTCTAGGCTTTATTGTATGAGCCCACCACATATTCACAGTAGGATTAGATGTAGACACACGAGCTTACTTTACATCAGCCACTATAATTATCGCAATTCCTACCGGTGTCAAAGTATTTAGCTGACTTGCAACCCTACACGGAGGTAATATTAAATGATCTCCAGCTATACTATGAGCCTTAGGCTTTATTTTCTTATTTACAGTTGGTGGTCTAACCGGAATTGTTTTATCCAACTCATCCCTTGACATCGTGCTTCACGATACATACTATGTAGTAGCCCATTTCCACTATGTTCTATCAATGGGAGCAGTGTTTGCTATCATAGCAGGATTTGTTCACTGATTCCCATTATTTTCAGGCTTCACCCTAGATGACACATGAGCAAAAGCCCACTTCGCCATCATATTCGTAGGAGTAAACATAACATTCTTCCCTCAACATTTCCTGGGCCTTTCAGGAATACCACGACGCTACTCAGACTACCCAGATGCTTACACCACATGAAACACTGTCTCTTCTATAGGATCATTTATTTCACTAACAGCTGTTCTCATCATGATCTTTATAATTTGAGAGGCCTTTGCTTCAAAACGAGAAGTAATATCAGTATCGTATGCTTCAACAAATTTAGAATGACTTCATGGCTGCCCTCCACCATATCACACATTCGAGGAACCAACCTATGTAAAAGTAAAATAAGAAAGGAAGGAATCGAACCCCCTAAAATTGGTTTCAAGCCAATCTCATATCCTATATGTCTTTCTCAATAAGATATTAGTAAAATCAATTACATAACTTTGTCAAAGTTAAATTATAGATCAATAATCTATATATCTTATATGGCCTACCCATTCCAACTTGGTCTACAAGACGCCACATCCCCTATTATAGAAGAGCTAATAAATTTCCATGATCACACACTAATAATTGTTTTCCTAATTAGCTCCTTAGTCCTCTATATCATCTCGCTAATATTAACAACAAAACTAACACATACAAGCACAATAGATGCACAAGAAGTTGAAACCATTTGAACTATTCTACCAGCTGTAATCCTTATCATAATTGCTCTCCCCTCTCTACGCATTCTATATATAATAGACGAAATCAACAACCCCGTATTAACCGTTAAAACCATAGGGCACCAATGATACTGAAGCTACGAATATACTGACTATGAAGACCTATGCTTTGATTCATATATAATCCCAACAAACGACCTAAAACCTGGTGAACTACGACTGCTAGAAGTTGATAACCGAGTCGTTCTGCCAATAGAACTTCCAATCCGTATATTAATTTCATCTGAAGACGTCCTCCACTCATGAGCAGTCCCCTCCCTAGGACTTAAAACTGATGCCATCCCAGGCCGACTAAATCAAGCAACAGTAACATCAAACCGACCAGGGTTATTCTATGGCCAATGCTCTGAAATTTGTGGATCTAACCATAGCTTTATGCCCATTGTCCTAGAAATGGTTCCACTAAAATATTTCGAAAACTGATCTGCTTCAATAATTTAATTTCACTATGAAGCTAAGAGCGTTAACCTTTTAAGTTAAAGTTAGAGACCTTAAAATCTCCATAGTGATATGCCACAACTAGATACATCAACATGATTTATCACAATTATCTCATCAATAATTACCCTATTTATCTTATTTCAACTAAAAGTCTCATCACAAACATTCCCACTGGCACCTTCACCAAAATCACTAACAACCATAAAAGTAAAAACCCCTTGAGAATTAAAATGAACGAAAATCTATTTGCCTCATTCATTACCCCAACAATAATAGGATTCCCAATCGTTGTAGCCATCATTATATTTCCTTCAATCCTATTCCCATCCTCAAAACGCCTAATCAACAACCGTCTCCATTCTTTCCAACACTGACTAGTTAAACTTATTATCAAACAAATAATGCTAATCCACACACCAAAAGGACGAACATGAACCCTAATAATTGTTTCCCTAATCATATTTATTGGATCAACAAATCTCCTAGGCCTTTTACCACATACATTTACACCTACTACCCAACTATCCATAAATCTAAGTATAGCCATTCCACTATGAGCTGGAGCCGTAATTACAGGCTTCCGACACAAACTAAAAAGCTCACTTGCCCACTTCCTTCCACAAGGAACTCCAATTTCACTAATTCCAATACTTATTATTATTGAAACAATTAGCCTATTTATTCAACCAATGGCATTAGCAGTCCGGCTTACAGCTAACATTACTGCAGGACACTTATTAATACACCTAATCGGAGGAGCTACTCTAGTATTAATAAATATTAGCCCACCAACAGCTACCATTACATTTATTATTTTACTTCTACTCACAATTCTAGAATTTGCAGTAGCATTAATTCAAGCCTACGTATTCACCCTCCTAGTAAGCCTATATCTACATGATAATACATAATGACCCACCAAACTCATGCATATCACATAGTTAATCCAAGTCCATGACCATTAACTGGAGCCTTTTCAGCCCTCCTTCTAACATCAGGTCTAGTAATATGATTTCACTATAATTCAATTACACTATTAACCCTTGGCCTACTCACCAATATCCTCACAATATATCAATGATGACGAGACGTAATTCGTGAAGGAACCTACCAAGGCCACCACACTCCTATTGTACAAAAAGGACTACGATATGGTATAATTCTATTCATCGTCTCGGAAGTATTTTTCTTTGCAGGATTCTTCTGAGCGTTCTATCATTCTAGCCTCGTACCAACACATGATCTAGGAGGCTGCTGACCTCCAACAGGAATTTCACCACTTAACCCTCTAGAAGTCCCACTACTTAATACTTCAGTACTTCTAGCATCAGGTGTTTCAATTACATGAGCTCATCATAGCCTTATAGAAGGTAAACGAAACCACATAAATCAAGCCCTACTAATTACCATTATACTAGGACTTTACTTCACCATCCTCCAAGCTTCAGAATACTTTGAAACATCATTCTCCATTTCAGATGGTATCTATGGTTCTACATTCTTCATGGCTACTGGATTCCATGGACTCCATGTAATTATTGGATCAACATTCCTTATTGTTTGCCTACTACGACAACTAAAATTTCACTTCACATCAAAACATCACTTCGGATTTGAAGCCGCAGCATGATACTGACATTTTGTAGACGTAGTCTGACTTTTCCTATACGTCTCCATTTATTGATGAGGATCTTACTCCCTTAGTATAATTAATATAACTGACTTCCAATTAGTAGATTCTGAATAAACCCAGAAGAGAGTAATTAACCTGTACACTGTTATCTTCATTAATATTTTATTATCCCTAACGCTAATTCTAGTTGCATTCTGACTCCCCCAAATAAATCTGTACTCAGAAAAAGCAAATCCATATGAATGCGGATTCGACCCTACAAGCTCTGCACGTCTACCATTCTCAATAAAATTTTTCTTGGTAGCAATTACATTTCTATTATTTGACCTAGAAATTGCTCTTCTACTTCCACTACCATGAGCAATTCAAACAATTAAAACCTCTACTATAATAATTATAGCCTTTATTCTAGTCACAATTCTATCTCTAGGCCTAGCATATGAATGAACACAAAAAGGATTAGAATGAACAGAGTAAATGGTAATTAGTTTAAAAAAAATTAATGATTTCGACTCATTAGATTATGATGATGTTCATAATTACCAATATGCCATCTACCTTCTTCAACCTCACCATAGCCTTCTCACTATCACTTCTAGGGACACTTATATTTCGCTCTCACCTAATATCCACATTACTATGCCTGGAAGGCATAGTATTATCCTTATTTATTATAACTTCAGTAACTTCCCTAAACTCCAACTCCATAAGCTCCATACCAATCCCCATCACCATCTTAGTTTTCGCAGCCTGCGAAGCAGCTGTAGGACTAGCCCTACTAGTAAAAGTTTCAAACACGTACGGAACAGATTACGTCCAAAATCTCAACCTACTACAATGCTAAAAATTATTCTTCCCTCACTAATGCTACTACCACTAACCTGACTATCAAGCCCTAAAAAAACCTGAACAAACGTAACCTCATATAGTTTTCTAATTAGTTTAACCAGCCTAACACTTCTATGACAAACCGACGAAAATTATAAAAACTTTTCAAATATATTCTCCTCAGACCCCCTATCCACACCATTAATTATTTTAACAGCCTGATTACTGCCACTAATATTAATAGCTAGCCAAAACCACCTAAAAAAAGATAATAACGTACTACAAAAACTCTACATCTCAATACTAATCAGCTTACAAATTCTCCTAATCATAACCTTTTCAGCAACTGAACTAATTATATTTTATATTTTATTTGAAGCAACCTTAATCCCAACACTTATTATTATTACCCGATGAGGGAACCAAACTGAACGCCTAAACGCAGGGATTTATTTCCTATTTTATACCCTAATCGGTTCTATTCCACTGCTAATTGCCCTCATCTTAATCCAAAACCATGTAGGAACCCTAAACCTCATAATTTTATCATTCACAACACACACCTTAGACGCTTCATGATCTAACAACTTACTATGGTTGGCATGCATAATAGCATTTCTTATTAAAATACCATTATATGGAGTTCACCTATGACTACCAAAAGCCCATGTTGAAGCTCCAATTGCTGGGTCAATAATTCTAGCAGCTATTCTTCTAAAATTAGGTAGTTACGGAATAATTCGCATCTCCATTATTCTAGACCCACTAACAAAATATATAGCATACCCCTTCATCCTTCTCTCCCTATGAGGAATAATTATAACTAGCTCAATCTGCTTACGCCAAACAGATTTAAAATCACTAATCGCCTACTCCTCAGTTAGCCACATAGCACTTGTTATTGCATCAATCATAATCCAAACTCCATGAAGCTTCATAGGAGCAACAATACTAATAATCGCACATGGCCTCACATCATCACTCCTATTCTGCCTAGCAAACTCCAACTACGAACGGATCCACAGCCGTACTATAATCATGGCCCGAGGACTTCAAATGGTCTTCCCACTTATAGCCACATGATGACTGATAGCAAGTCTAGCTAATCTAGCTCTACCCCCTTCAATCAATCTAATAGGAGAATTATTCATTACCATATCATTATTTTCTTGATCAAACTTTACCATTATTCTTATAGGAATTAACATTATTATTACAGGTATATACTCAATATACATAATTATTACCACCCAACGCGGCAAACTAACCAACCATATAATTAACCTCCAACCCTCACACACACGAGAACTAACACTAATAGCCCTTCACATAATTCCACTTATTCTTCTAACTACCAGTCCAAAACTAATTACAGGCCTGACAATATGTGAATATAGTTTACAAAAAACATTAGACTGTGAATCTGACAACAGGAAATAAACCTCCTTATTCACCAAGAAAGATTGCAAGAACTGCTAATTCATGCTTCCATGTTTAAAAACATGGCTTTCTTACTTTTATAGGATAATAGTAATCCATTGGTCTTAGGAACCAAAAACCTTGGTGCAAATCCAAATAAAAGTAATCAATATTTTCACAACCTCAATCTTATTAATCTTCATTCTTCTACTATCCCCAATCCTAATTTCAATATCAAACCTAATTAAACACATCAACTTCCCACTGTACACCACCACATCAATCAAATTCTCCTTCATTATTAGCCTCTTACCCCTATTAATATTTTTCCACAATAATATAGAATATATAATTACAACCTGGCACTGAGTCACCATAAATTCAATAGAACTTAAAATAAGCTTCAAAACTGACTTTTTCTCTATCCTGTTTACATCTGTAGCCCTTTTTGTCACATGATCAATTATACAATTCTCTTCATGATATATACACTCAGACCCAAACATCAATCGATTCATTAAATATCTTACACTATTCCTGATTACCATGCTTATCCTCACCTCAGCCAACAACATATTTCAACTTTTCATTGGCTGAGAAGGGGTGGGAATTATATCTTTCCTACTAATTGGATGATGGTACGGACGAACAGACGCAAATACTGCAGCCCTACAAGCAATCCTCTATAACCGCATCGGAGACATCGGATTCATTTTAGCTATAGTTTGATTTTCCCTAAACATAAACTCATGAGAACTTCAACAGATTATATTCTCCAACAACAACGACAATCTAATTCCACTTATAGGCCTATTAATCGCAGCTACAGGAAAATCAGCACAATTTGGCCTCCACCCATGACTACCATCAGCAATAGAAGGCCCTACACCAGTTTCAGCACTACTACACTCAAGTACAATAGTAGTTGCAGGAATTTTCCTACTGGTCCGATTCCACCCCCTCACGACTAATAATAACTTTATTTTAACAACTATACTTTGCCTCGGAGCCCTAACCACATTATTTACAGCTATTTGTGCTCTCACCCAAAACGACATCAAAAAAATCATTGCCTTCTCTACATCAAGCCAACTAGGCCTGATAATAGTGACGCTAGGAATAAACCAACCACACCTAGCATTCCTACACATCTGTACCCACGCATTCTTCAAAGCTATACTCTTTATATGCTCTGGCTCAATCATTCATAGCCTGGCAGACGAACAAGACATCCGAAAAATAGGAAACATCACAAAAATCATACCATTCACATCATCATGCCTAGTAATCGGAAGCCTCGCCCTCACAGGAATACCATTCCTAACAGGGTTCTACTCAAAAGACCTAATTATTGAAGCAATTAATACCTGCAACACCAACGCCTGAGCCCTACTAATTACACTAATCGCCACTTCTATAACAGCTATGTACAGCATACGAATCATTTACTTCGTAACAATAACAAAACCGCGTTTTCCCCCCCTAATCTCCATTAACGAAAATGACCCAGACCTCATAAACCCAATCAAACGCCTAGCATTCGGAAGCATCTTTGCAGGATTTGTCATCTCATATAATATTCCACCAACCAGCATTCCAGTCCTCACAATACCATGATTTTTAAAAACCACAGCCCTAATTATTTCAGTATTAGGATTCCTAATCGCACTAGAACTAAACAACCTAACCATAAAACTATCAATAAATAAAGCAAATCCATATTCATCCTTCTCAACTTTACTGGGGTTTTTCCCATCTATTATTCACCGCATTACACCCATAAAATCTCTCAACCTAAGCCTAAAAACATCCCTAACTCTCCTAGACTTGATCTGGTTAGAAAAAACCATCCCAAAATCCACCTCAACTCTTCACACAAACATAACCACTTTAACAACCAACCAAAAAGGCTTAATTAAATTGTACTTTATATCATTCCTAATTAACATCATCTTAATTATTATCTTATACTCAATTAATCTCGAGTAATCTCGATAATAATAAAAATACCCGCAAACAAAGATCACCCAGCTACTACCATCATTCAAGTAGCACAACTATATATTGCCGCTACCCCAATCCCTCCTTCCAACATAACTCCAACATCATCAACCTCATACATCAACCAATCTCCCAAACCATCAAGATTAATTACTCCAACTTCATCATAATAATTAAGCACACAAATTAAAAAAACCTCTATAATCACCCCCAATACTAAAAAACCCAAAATTAATCAGTTAGATCCCCAAGTCTCTGGATATTCCTCAGTAGCTATAGCAGTCGTATATCCAAACACAACCAACATCCCCCCTAAATAAATTAAAAAAACTATTAAACCTAAAAACGATCCACCAAACCCTAAAACCATTAAACAACCAACAAACCCACTAACAATTAAACCTAAACCTCCATAAATAGGTGAAGGCTTTAATGCTAACCCAAGACAACCAACCAAAAATAATGAACTTAAAACAAAAATATAATTATTCATTATTTCTACACAGCATTCAACTGCGACCAATGACATGAAAAATCATCGTTGTAATTCAACTACAGAAACACCTAATGACAAACATACGAAAAACACACCCATTATTTAAAATTATTAACCACTCATTCATTGACCTACCTGCCCCATCCAACATTTCATCATGATGAAACTTTGGGTCCCTTCTAGGAGTCTGCCTAATAGTCCAAATCATTACAGGTCTTTTCTTAGCCATACACTACACATCAGATACAATAACAGCCTTTTCATCAGTAACACACATTTGTCGAGACGTAAATTACGGGTGACTAATCCGATATATACACGCAAACGGAGCCTCAATATTTTTTATTTGCTTATTCCTTCATGTCGGACGAGGCTTATATTATGGATCATATACATTTATAGAAACCTGAAACATTGGAGTACTTCTACTGTTCGCAGTCATAGCCACAGCATTTATAGGCTACGTCCTTCCATGAGGACAAATATCATTCTGAGGTGCCACAGTTATTACAAACCTCCTATCAGCCATCCCATATATTGGAACAACCCTAGTCGAATGAATTTGAGGGGGCTTCTCAGTAGACAAAGCCACCTTGACCCGATTCTTCGCTTTCCACTTCATCTTACCATTTATTATCGCGGCCCTAGCAATCGTTCACCTCCTCTTCCTCCACGAAACAGGATCAAACAACCCAACAGGATTAAACTCAGATGCAGATAAAATTCCATTTCACCCCTACTATACAATCAAAGATATCCTAGGTATCCTAATCATATTCTTAATTCTCATAACCCTAGTATTATTTTTCCCAGACATACTAGGAGACCCAGACAACTACATACCAGCTAATCCACTAAACACCCCACCCCATATTAAACCCGAATGATATTTCCTATTTGCATACGCCATTCTACGCTCAATCCCCAATAAACTAGGAGGTGTCCTAGCCTTAATCTTATCTATCCTAATTTTAGCCCTAATACCTTTCCTTCATACCTCAAAGCAACGAAGCCTAATATTCCGCCCAATCACACAAATTTTGTACTGAATCCTAGTAGCCAACCTACTTATCTTAACCTGAATTGGGGGCCAACCAGTAGAACACCCATTTATTATCATTGGCCAACTAGCCTCCATCTCATACTTCTCAATCATCTTAATTCTTATACCAATCTCAGGAATTATCGAAGACAAAATACTAAAATTATATCCATGTCTTGATAGTATAAACATTACTCTGGTCTTGTAAACCTGAAATGAAGATCTTCTCTTCTCAAGACATCAAGAAGAAGGAGCTACTCCCCACCACCAGCACCCAAAGCTGGTATTCTAATTAAACTACTTCTTGAGTACATAAATTTACATAGTACAACAGTACATTTATGTATATCGTACATTAAACTATTTTCCCCAAGCATATAAGCTAGTACATTAAATCAATGGTTCAGGTCATAAAATAATCATCAACATAAATCAATATATATACCATGAATATTATCTTAAACACATTAAACTAATGTTATAAGGACATATCTGTGTTATCTGACATACACCATACAGTCATAAACTCTTCTCTTCCATATGACTATCCCCTTCCCCATTTGGTCTATTAATCTACCATCCTCCGTGAAACCAACAACCCGCCCACCAATGCCCCTCTTCTCGCTCCGGGCCCATTAAACTTGGGGGTAGCTAAACTGAAACTTTATCAGACATCTGGTTCTTACTTCAGGGCCATCAAATGCGTTATCGCCCATACGTTCCCCTTAAATAAGACATCTCGATGGTATCGGGTCTAATCAGCCCATGACCAACATAACTGTGGTGTCATGCATTTGGTATCTTTTTATTTTGGCCTACTTTCATCAACATAGCCGTCAAGGCATGAAAGGACAGCACACAGTCTAGACGCACCTACGGTGAAGAATCATTAGTCCGCAAAACCCAATCACCTAAGGCTAATTATTCATGCTTGTTAGACATAAATGCTACTCAATACCAAATTTTAACTCTCCAAACCCCCCACCCCCTCCTCTTAATGCCAAACCCCAAAAACACTAAGAACTTGAAAGACATATAATATTAACTATCAAACCCTATGTCCTGATCAATTCTAGTAGTTCCCAAAATATGACTTATATTTTAGTACTTGTAAAAATTTTACAAAATCATGTTCCGTGAACCAAAACTCTAATCATACTCTATTACGCAATAAACATTAACAA',\n",
       "    'target_sequence': 'CAATTGGGGGCCATGAATCAGGCCCCATTCGTATCATTGGCCTGGATCGACCAACCACTCTTCTCAATCATCTTAGTTGGTTATACAATCCGGAAACCTCGAAGACAAATGGGAAAATTAACCATGTCTTAACTGGGAGTAAGCCTTGATAACGTGTGTAAACCTGAAATGGCGAACTTATCTTCTCTTCTCAGGTAGAGGAGACACTCCCCACCACCAGCACCAAGCTGATTCAATCCAATATACCTTCTTAGTACATAGTTACATAGTGACAGGCTGCTTTATGTATATGGTGGCTTACATCAACCTTTTCCCCAAGCAACATAGTACATTAATCATGGTTCCATATCCTCATACAATCATGGTAAAATCAATATATATACCATGAATGATCTGTAAGCCATTAAACAATGTTGGGACATATCTGTGTTATCTGGCTCACCATGAGTCATAAACCTTCTCTTCTAATACTATCCCCTTCTCGCATTTGGTTATTAATCACATCTGATTCCATGAACAACCCACAGGGACAATGCCTAATTCTCTAACCGGTAGGATTAAACTTGGGGGACTAATGGGCATCTTTATCTGCCGACATCTGGTTGTACTTCGCCTACATCAAATGCGTTAACACATACGTTCCCTTATCATGGCCTATGGGGTGTGGTTGGGTATTAGCTTGAGCCCATGGCCTGGGACTGTGGTGTCGGCGTTTATTATCTTTTATTTGGCCCTACTTTCGACCTAGCCGTTAGGCGGGCAAAGGGGCGCCCGTCGACGCACACCTGCGGAATCATTAGTCCCCAAAACCCAGTACTAAGGCTAATTATTCATGCATTGTCCACCGTACAGCTCAATACCAAATTTCGTATACTAAACCCCCGGACACAACTATCATGCCAAACCCAGCCAGTATGCGACATAATATTAACTATCATCTAGGTCCTCTTGATTCATGATTCCCATGGTATTATCGTATTTTAATCATAAATTTTACATGCTGTTCCGTGGGCTCCAAAACTCGGGCTCTGATGCAGGCTCATTAACAGTTAATGGGTACAACGAAGGCGCACTGAAAATCGGTTAATCAACATTATCCCACGGCCCAAAAATTTGGTCCTGATGGCTTGATCCCGGGGTCCCCCTGCAAACCTCCATAAGCTTGTAAAGTCGGTAAACATTCATCAGGTCGGGAGAGGGACCCGGCGCCATTAAGCCTGCCACCTTGCCCTCGACAGGGGCTCAGCAATCGGCCTGTAGCGACCGGCAGTAGTTTGACGTAAGTTAACTATTAGGGTGGTAATTCGTGCCGGACGCCACCGCATTCATACGATTAACCATACGATTATCGTCGGCGTAGTAGTCGGCTCGGCTCGAATAAATCAGACTTATATGTGAAATTCATTGTTGAACACAACCAAACGAAACAATTCAGTCATTTAGCTACGCCACACAGACCCAAACTGGGATTAGTATAGCACTTAATTATACACCTACCTAAATAATTAAATTCATGAAGACCTTGCCGGAACAGCCGACGGTAACCAAGGGACTTGGCGGTGGTCTATCCATCTACAGGAGCCTGTTCCTCGTAGAAACATCTAAACTAGCATCTCTGCTAATTCAGCCTGGCCCGTGCGGCACATCAGGTGCCGGCCTGAGGAATCAATAGAGCCGTTAATCAAATGGCCAGGCGAAATGGGAGAAATGAACAGCATTTCTTACGGAGCTTACGCTCGTTATCGGCAACCCACACAACAGGAGAAGTTGCTGATAAATGCGAATAGGAGCTGCTTGGGATTGAGCAATGAATACGCACACGGTCGACTATAAAATTAAATGCTGTAGCCTAATTAATTTCGCTAAACCGTTTGAGGGAAAGGCTTACTGACTAGGCATACTGGAAAGTGTAATGCATGATCAGCTTACCTGCTATTAAGCATCTGGCCTACACCAGAGATTCATGGCCAATGAACTAGCTGAACGATCCTAGCCAACTACGCCCATACTAATTAACCTTAGCCTGCGCTCATTTATCCTACAAATTGGAGAAGGAGATTTAATCCTTATACGCATCGGCTGAGTACGGGAAGGGAAAGATGAAGACGATGCGTAAGCAGCCAGCAAGATTAAACCTTGTACCTTTTTCAAATGAACAGCCGCGACTTCACTAAAGGAATTACATAGGGATACCGAAACCAATGAAGCTACACAACAATTTTGGGCGTGCTCGTCTACTTATGCAAAATAATGAGGATTTTAAGCGCGGGCGGGTGGTGATGAGCTGGTTGTACCCAAAATGGAATTTAAGTTCATTTTAAACTTGCGCCGCCTCAGCCAAAACCGCTGAGTCCATTAACAAGAGGAGCGCTCTTTAACCAGGCGACCTTTGTAGTAGTGAATAATGCTCAAACATTTAACCATTGTAGCACGGAGCAGCAATAGGGAGGCGTTCGGACTATAAGATAGCCCATAAATTTCATTAATTCCATAATTTACACCGTATTCCTAAACTTAAAGTGTCATTAATCTTACTATTTATAGATGCAACACTGTTAGTATGAGTAGGGAGGAACCTCACTCAGATAACCATTGTTTGGTCCTGCCCTACCTCACGGCAGGACGGGCCCTCATACGTGACATAACTGTCTCTGTTATGAAACGAGAATGCCAAAGGAAAGATGCACAGCCACGGAATAGGCGTAGAACCCCTGGTTTTTGTTTTGTCCTACTAGCATTACAATATTAGAGGCAGCTTAAGTCCCATGCTCGCGTCGTACTGAGCGCGGTATAAACTCGTGCAAGCCCATAATCGTTTCGTGATTAGAGACAGGCAACAGGCTAAACGAGGGTCGCTCTGTCTCTTATGTCCGTCAGTGAAATTACTCTTTCCATGCAGCAACGAACACTCGGCCTCACCAGAAGACTAAACCGTAAATTAGCTCTTATCCTTTAATTTATTAAACCAACTCCCAAGTAGCTCTCGTTGCCGAAGGTTGCTTTAAACTCGGAGCGCTTAGCCGAATGATTAACCTAGACTTACGTGAGCCGGTAAGCTATCTTATTGGCATACTTTTGATCACGGACCAGTCACCGCCGCGGACCACTAGAAATCCACTTTAGAATTCCATCGACAATTGCCATTTGAACGATGTTGGATCAGATACTCGAAAACTTAGAATAATGCATCGTCGTTGTTCAACGATCCGTTACTCGGGTCGTGGGGTCAAACGGAGCAATCCATTCGTTCAACCTTTACGATTGGCGTACGAGGACAGGGAACGCACGACATTGAACGGATAGACTGCGTTATGAAACAGATCGAGCCTGATAATCGCCTCGCTCAGAAGTATGCCATGAAGGCCAGGAGATCTGCGTGATCAACTTAATGATGTTCCCAGATTCCATTACTGAACATGTTCTTTATCAACAACACTCCGGTTCGGCATTCTAATCACATAACATTCCGCTGCTGACAGGCGGAGTCGCTGGCTCATACGAAGGCGCCTAACATTGTTCGTCTCATACGGCATTTTGAACCGGTCCCGATAGCGGCTTATTTATAGAACCAATACGCTTTAACAACCTCTATATCTTAGCTTATTTATTATTGCACCTCAATGAGCCGCCCATTAGTCAACCGTGCTACATCTAAAGCATGCTGATTAATTTAATACGGAATTTTATTTATTTTAGCAACAACAACAACAGTTTACTCCATTCGTACATGGATAGCGCTCCCCACTCCTCACTTTGCGATTGCGAGCCGGGCCCAAACAATTCAATGGCATGATACGACAACATTATCCTTTATCAGTTCTATTAATAAACGAGTGATTAATAGCTGAACACTTATGCTGACCAGCCCATATGATTCTGCCAGCCTGACCCTACCATAATATGATTGGTGAACCCCTCAGCATGCTGCGGGCGTGGGTTCTTCGATGACGTTATCACTAGTCGGCGAGAAAGTCAAGGGCTTTAGTGGTTGAACAGGATTAACGTAGAGATGAAGCCAACGATGCCCGTTATTCGTTATAGCAATACCCTCGTCGTTGTCTAATAAACACGCCTCTATTATCTTCTAAAACTCATACTATCATTTACGAGTACTAACAACCGTATTCAACGAAGCTCTACTATCATCAACCTTCCTATGAGTGCGAGCATCTTATCCGCTTCCGTCCGATCGTACTCCCTGTCTCTGAAGACTTTCTACAGAGCCTAGCATTACTTATCTCCTATGGTTCTTTTACCAATTCGACGAATACCACATACATAGAACTATGTCTATACAGGAATTGACATTTGGTAGAACGTACCCCAATTCCACACTTATTTCAAAGATAGGAATTAGAACCTACATTGGAGAATTCAATCCTCCGTGCTACTAAACGGTTATCCTAATAGTAAAATCAACGATTAAGCTATCGGTAGAGCCGCGACCGTTGGTTTAAATCCTTCCCGTAACAAACATTAATGACGGTTGCCATCATCTACTTCGATCTTCTTAGGTCTCTGTAGTACAATATCCAGCACCAAACTAATACTAAACGGCTCGCCTGAATTCGACGCAAATTATCCCCAGCTACAACACTAAAAACTCGAATCAACTGAAGCAGCAGCCCCTGATTCGTCACCGGAGCTACCTCAATCAATTATCCTCCTGGCCATCGTACTCAACTATAAACACTCGAAGCTGATATTTCGGCTCAAACAAACGTCTTATCCTTAGCCCTCATTAATAACACACTTAGAACTAAGCACCGATTCCACTTCGTACCGAGAGGTAGCGGGAATCAGGTGCGCCTCAAATCTATTCTTCTTACCTGACAATGCTCCCTATCAATTTTAATTCAGGTTACCACTCATACTATCATTTAATACGCATTGCTCTTCACTTCACGCGGAGGGCGGAAATGTAACCAAGCCCAAATACGCAAATTAACACTTCGTAATTACACGACGCTGAATATTGAGTTCTTCCTTACAACCGTAGCTATACTCAACCTCAGCGTACGTATGTCGTCAAGGCCTATTCATAGCACTTAACACATAATATAACCATCAACCAATCTCGGTCTCTGCAAGCCTCCAGCAATACTATAATATCCACTGATATTACTATCCCTAGGAAGCATTCCACCAGCCCGCATTCTTACCAAAGTGGAATTATCATCACAGTACGGCGACTGTCCCCTTGAGCAACACTCAGCAATAATAACTACACATCCACTTCTTTATACTAATTTATTCCACTTCACTACAATATTCCAACCGGCTACTCGACGCCTCTCACAAACAAGCCATCCAACCGGACTTTTCAGCTATCATAAGCACGGCCTACCCCGCGCCGAACTAATTACTAGAAGTCCCAACTCACGTCGCAACGTCAGGCGCGCAATAGAGTTAGTTATACCCACAACTGCCTATTGTAATCGACGATACCTTGGGATGCATCAGTCCTTTAATGCACGGCCCAAGCGGCCAATTGGCAGGAATTAAACCACGAGAAATTTAGTTAACACTAAAACGCCTCTTGGTAATTAGTGTGGACGTCACCACGAGGGACCCGGTAGGCATTCGGTGGGATTTCTACACCTTCGGAGTTTGGATTCAGCTGGAACTCTCCTGCCTCTACTCCACGAGAAGTCTATGTACCTCTGTTTAGATTGAGTCTAATCTCATGCGGCCATTTTACGCTTTCATTAATCGTCTGATTATGTCTCTCAACCAATCAAATGAACACTATCTACGTCGGAAACCTGAGCGGGAATCAATATGCACCATGATTTTAATTCGAGCAGAATGCTTATGAGGTACAATTCCGCAAGACCAAGTTAGATGTTATCGTAACTGCCATGCTTTTAGTCAATTTTCTTGTCAGCTCACTAATAGCGTGGAGGCTTTGAGTGTCCCGCCTCGTGAACACCAGATGGGGTCCACGATAATAAACTAGTTTTTGACTCACCCATCGTCCCTTCTCCGCTCCTCTTAAGCTGGAGCAGAGGGAGGCCGGGCTCGTACTCGATAACGGAAATCCACCGTCTGGCGGAGCATCAGTAAGCCTAACAATTTCTCATGCTTTAGCTGAGGTGTGATGGGTTTAGACTGCAATTAATTTATCCTATTATCAGCCTGAAATCTCCGCAACAAGCCCGAGAGTATCAAAAACTCATTTGTCCTTAATCTTATGCGGCTCGTGGTCGTCGTCCATCACTTAGACGAGGTTAGGCCGAAGGCATTAGTAGACAGCCAACGCAACCTAAGTAACCAACTTTCTTTGATCCCCTGAAGAAGAATATGAAATTCTACAGCATCTGTTCTGATTCTTCGCACCCAAGTCTATTCTTATCCTCCCCAGGGTTCGAATTATTTCAGTAGTTGGTACTACTGGAAAAGAACCTTTCGGCTATAGGAATAGTATGAGCAATGTGCTATTGGCTTTCTAGGCTTTATTGTATGAGCCCACCAGGGTTCGAACCGCGGTGCGTAGGCCCCAGAGCTTACTTTACATCAATATACGCCTATAATTGGTGGCAATTCCTACATGTGCTCTTTATGACTTGCAACCACTAGAGGTAATATGCTGATCTCCATAGACTCTGATAACCTTAGGCTTCTCTGATTTCTTATTTACAGTTGGTGTGCTGGAATTGTTTATCCAACATCCGTGGTAAACGTCGTCACCGATACAACTATGTAACACCCATTTCGACGTCTATCATCCCACGTTCGTCGTCGTCGAGGATTTGTTCTATGATTCCCATGCTTATTTCAGGCGTCGGAGATACCCCTGGCTACCAAGCCCACTTCAAACGTTCTTC'\n",
       "}"
      ]
     },
     "execution_count": 239,
     "metadata": {},
     "output_type": "execute_result"
    }
   ],
   "source": [
    "alignment"
   ]
  },
  {
   "cell_type": "code",
   "execution_count": null,
   "metadata": {
    "collapsed": true
   },
   "outputs": [],
   "source": []
  },
  {
   "cell_type": "code",
   "execution_count": null,
   "metadata": {
    "collapsed": true
   },
   "outputs": [],
   "source": []
  }
 ],
 "metadata": {
  "kernelspec": {
   "display_name": "Python 3",
   "language": "python",
   "name": "python3"
  },
  "language_info": {
   "codemirror_mode": {
    "name": "ipython",
    "version": 3
   },
   "file_extension": ".py",
   "mimetype": "text/x-python",
   "name": "python",
   "nbconvert_exporter": "python",
   "pygments_lexer": "ipython3",
   "version": "3.4.3"
  }
 },
 "nbformat": 4,
 "nbformat_minor": 0
}
