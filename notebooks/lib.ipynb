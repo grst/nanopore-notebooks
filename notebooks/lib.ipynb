{
 "cells": [
  {
   "cell_type": "code",
   "execution_count": 2,
   "metadata": {
    "collapsed": true
   },
   "outputs": [],
   "source": [
    "def length_standard(n):\n",
    "    out = []\n",
    "    for i in range(n):\n",
    "        if i % 10 == 0:\n",
    "            out.append((i - 100*(i/100.)) / 10.)\n",
    "        elif i % 5 == 0:\n",
    "            out.append(\":\")\n",
    "        else:\n",
    "            out.append(\".\")\n",
    "    return \"\".join(map(str, out))"
   ]
  },
  {
   "cell_type": "code",
   "execution_count": null,
   "metadata": {
    "collapsed": true
   },
   "outputs": [],
   "source": []
  }
 ],
 "metadata": {
  "kernelspec": {
   "display_name": "Python 3",
   "language": "python",
   "name": "python3"
  },
  "language_info": {
   "codemirror_mode": {
    "name": "ipython",
    "version": 3
   },
   "file_extension": ".py",
   "mimetype": "text/x-python",
   "name": "python",
   "nbconvert_exporter": "python",
   "pygments_lexer": "ipython3",
   "version": "3.4.3"
  }
 },
 "nbformat": 4,
 "nbformat_minor": 0
}
