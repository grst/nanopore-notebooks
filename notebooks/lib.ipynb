{
 "cells": [
  {
   "cell_type": "code",
   "execution_count": 3,
   "metadata": {
    "collapsed": true
   },
   "outputs": [],
   "source": [
    "import re"
   ]
  },
  {
   "cell_type": "code",
   "execution_count": 2,
   "metadata": {
    "collapsed": true
   },
   "outputs": [],
   "source": [
    "def length_standard(n):\n",
    "    out = []\n",
    "    for i in range(n):\n",
    "        if i % 10 == 0:\n",
    "            out.append((i - 100*(i/100.)) / 10.)\n",
    "        elif i % 5 == 0:\n",
    "            out.append(\":\")\n",
    "        else:\n",
    "            out.append(\".\")\n",
    "    return \"\".join(map(str, out))"
   ]
  },
  {
   "cell_type": "markdown",
   "metadata": {
    "collapsed": true
   },
   "source": [
    "# Fast 5 data reading routines "
   ]
  },
  {
   "cell_type": "code",
   "execution_count": 4,
   "metadata": {
    "collapsed": true
   },
   "outputs": [],
   "source": [
    "def get_file_and_channel(filename):\n",
    "    result = re.search(r'_ch(\\d+)_file(\\d+)_', filename)\n",
    "    file_id = int(result.group(2))\n",
    "    channel_id = int(result.group(1))\n",
    "    return file_id, channel_id"
   ]
  },
  {
   "cell_type": "markdown",
   "metadata": {},
   "source": [
    "####Events-Table\n",
    "file\tstrand\tmean\tstart\tstdv\tlength\tmodel_state\tmodel_level\tmove\tp_model_state\tmp_model_state\tp_mp_model_state\tp_A\tp_C\tp_G\tp_T\traw_index"
   ]
  },
  {
   "cell_type": "code",
   "execution_count": null,
   "metadata": {
    "collapsed": true
   },
   "outputs": [],
   "source": [
    "def process_metrichor_files(files):\n",
    "    \"\"\"\n",
    "    reads every filename in files with poretools and \n",
    "    extracts events and metadata\n",
    "    \"\"\"\n",
    "    \n",
    "    file_data = []\n",
    "    for file in files: \n",
    "        f_obj = {}\n",
    "        file_id, ch_id = get_file_and_channel(file)\n",
    "        f_obj[\"channel\"] = ch_id\n",
    "        f_obj[\"file_id\"] = file_id\n",
    "\n",
    "        called_seq = !poretools fasta {file} | grep template -A1 | grep -v \">\"\n",
    "        if not called_seq: \n",
    "            print(\"Empty file: {0}. Skipped.\".format(file))\n",
    "            continue\n",
    "        f_obj[\"called_seq\"] = called_seq[0]\n",
    "\n",
    "        events = !poretools events {file} | grep template\n",
    "        events = [line.split(\"\\t\") for line in events]\n",
    "\n",
    "        file_events = []\n",
    "        for ev in events: \n",
    "            r_ev = dict()\n",
    "            r_ev[\"start\"] = round(float(ev[3]) * SRATE)\n",
    "            r_ev[\"end\"] = round(r_ev[\"start\"] + float(ev[5]) * SRATE)\n",
    "            r_ev[\"mp_kmer\"] = ev[10] #maximum posterior\n",
    "            r_ev[\"kmer\"] = ev[6] #model state\n",
    "            r_ev[\"move\"] = int(ev[8])\n",
    "            file_events.append(r_ev)\n",
    "\n",
    "        ## check if raw data is available\n",
    "        file_id, ch_id = get_file_and_channel(file)\n",
    "\n",
    "        f_obj[\"channel\"] = ch_id\n",
    "        f_obj[\"file_id\"] = file_id\n",
    "        f_obj[\"events\"] = file_events\n",
    "        file_data.append(f_obj)\n",
    "        \n",
    "    return file_data\n",
    "    \n",
    "    "
   ]
  },
  {
   "cell_type": "markdown",
   "metadata": {},
   "source": [
    "# Align to Reference\n",
    "## Find kmers and do sequence statistics"
   ]
  },
  {
   "cell_type": "code",
   "execution_count": null,
   "metadata": {
    "collapsed": true
   },
   "outputs": [],
   "source": [
    "def find_seq_start(events, start):\n",
    "    \"\"\"find the kmer that corresponds to the first kmer of the aligned sequences\"\"\"\n",
    "    moved = 0\n",
    "    for i, ev in enumerate(events):\n",
    "        if moved + ev[\"move\"] >= start: \n",
    "            offset = moved - start\n",
    "            return i, offset\n",
    "        else:\n",
    "            moved += ev[\"move\"]"
   ]
  },
  {
   "cell_type": "code",
   "execution_count": null,
   "metadata": {
    "collapsed": true
   },
   "outputs": [],
   "source": [
    "def gapmove(i_seq, ts, move):\n",
    "    \"\"\"moves by *move* steps, respecting gaps.\"\"\"\n",
    "    moved = 0\n",
    "    if i_seq < 0:\n",
    "        return move  \n",
    "    for i, c in enumerate(ts[i_seq:]): \n",
    "        if moved == move:\n",
    "            return i\n",
    "        if c != \"-\": moved +=1\n",
    "        \n",
    "            "
   ]
  },
  {
   "cell_type": "code",
   "execution_count": null,
   "metadata": {
    "collapsed": true
   },
   "outputs": [],
   "source": [
    "def print_alignment_statistics(alignment, aln_stats):\n",
    "    total_diff, total_target_length = aln_stats\n",
    "    print(\"    Query: start: {0}, end {1}, length {2}\".format(alignment.query_begin, alignment.query_end, len(alignment.query_sequence)))\n",
    "    t_beg = alignment.target_begin\n",
    "    t_end = alignment.target_end_optimal\n",
    "    t_diff = len(alignment.target_sequence) - (t_end - t_beg)\n",
    "    total_diff += t_diff\n",
    "    total_target_length += len(alignment.target_sequence)\n",
    "    print(\"    Target: start: {0}, end {1}, length {2}, skipped {3}\".format(alignment.target_begin, alignment.target_end_optimal, len(alignment.target_sequence), t_diff))\n",
    "    aln_stats = (total_diff, total_target_length)\n",
    "    return aln_stats"
   ]
  },
  {
   "cell_type": "code",
   "execution_count": null,
   "metadata": {
    "collapsed": true
   },
   "outputs": [],
   "source": [
    "def sequence_identity(alignment):\n",
    "    \"\"\" get the sequence identity of the alignment (correctly mapped, target-length)\"\"\"\n",
    "    correctly_mapped = 0\n",
    "    aqs = str(alignment.aligned_query_sequence)\n",
    "    ats = str(alignment.aligned_target_sequence)\n",
    "    for i in range(len(alignment.aligned_query_sequence)):\n",
    "        if aqs[i] == ats[i]:\n",
    "            correctly_mapped += 1\n",
    "    return (correctly_mapped, len(alignment.target_sequence))\n",
    "            "
   ]
  }
 ],
 "metadata": {
  "kernelspec": {
   "display_name": "Python 3",
   "language": "python",
   "name": "python3"
  },
  "language_info": {
   "codemirror_mode": {
    "name": "ipython",
    "version": 3
   },
   "file_extension": ".py",
   "mimetype": "text/x-python",
   "name": "python",
   "nbconvert_exporter": "python",
   "pygments_lexer": "ipython3",
   "version": "3.4.3"
  }
 },
 "nbformat": 4,
 "nbformat_minor": 0
}
