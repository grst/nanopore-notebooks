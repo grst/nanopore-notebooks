{
 "cells": [
  {
   "cell_type": "code",
   "execution_count": 1,
   "metadata": {
    "collapsed": false
   },
   "outputs": [],
   "source": [
    "from nbwrapper import getargs\n",
    "from multiprocessing import Pool\n",
    "import pickle\n",
    "import h5py\n",
    "import pandas\n",
    "from pprint import pprint\n",
    "import re\n",
    "import os.path"
   ]
  },
  {
   "cell_type": "code",
   "execution_count": 2,
   "metadata": {
    "collapsed": false
   },
   "outputs": [
    {
     "name": "stderr",
     "output_type": "stream",
     "text": [
      "/home/ibis/gregor.sturm/bin/anaconda3/lib/python3.4/site-packages/nbwrapper.py:28: RuntimeWarning: no arguments passed!\n",
      "  warnings.warn(\"no arguments passed!\", RuntimeWarning)\n"
     ]
    }
   ],
   "source": [
    "args = getargs()"
   ]
  },
  {
   "cell_type": "code",
   "execution_count": 3,
   "metadata": {
    "collapsed": false
   },
   "outputs": [
    {
     "name": "stdout",
     "output_type": "stream",
     "text": [
      "/home/ibis/gregor.sturm/nanopore/own/notebooks/02_raw-experiments/david_analysis\r\n"
     ]
    }
   ],
   "source": [
    "!pwd"
   ]
  },
  {
   "cell_type": "code",
   "execution_count": 4,
   "metadata": {
    "collapsed": false
   },
   "outputs": [],
   "source": [
    "### for testing only\n",
    "args = {\n",
    "    \"f5_path\": \"/home/ibis/gregor.sturm/nanopore/david_eccles_bc_ideas/processed/\", ## path to processed f5-files\n",
    "    \"output\": \"/home/ibis/gregor.sturm/nanopore/own/notebooks/03_pipeline/david_events.pickle\", \n",
    "    \"ncores\": 24,\n",
    "}"
   ]
  },
  {
   "cell_type": "code",
   "execution_count": 5,
   "metadata": {
    "collapsed": true
   },
   "outputs": [],
   "source": [
    "assert os.path.isdir(args[\"f5_path\"])\n",
    "args[\"ncores\"] = int(args[\"ncores\"])\n",
    "assert args[\"ncores\"]"
   ]
  },
  {
   "cell_type": "code",
   "execution_count": 6,
   "metadata": {
    "collapsed": true
   },
   "outputs": [],
   "source": [
    "SRATE = 5000\n",
    "NMERS = 5"
   ]
  },
  {
   "cell_type": "code",
   "execution_count": 7,
   "metadata": {
    "collapsed": false
   },
   "outputs": [
    {
     "name": "stdout",
     "output_type": "stream",
     "text": [
      "81\n"
     ]
    }
   ],
   "source": [
    "files = !find {args[\"f5_path\"]} | grep fast5\n",
    "print(len(files))"
   ]
  },
  {
   "cell_type": "code",
   "execution_count": 8,
   "metadata": {
    "collapsed": true
   },
   "outputs": [],
   "source": [
    "def get_file_and_channel(filename):\n",
    "    result = re.search(r'ch(\\d+)_file(\\d+)_', filename)\n",
    "    file_id = int(result.group(2))\n",
    "    channel_id = int(result.group(1))\n",
    "    return file_id, channel_id"
   ]
  },
  {
   "cell_type": "code",
   "execution_count": 9,
   "metadata": {
    "collapsed": false
   },
   "outputs": [],
   "source": [
    "def kmer2move(prev_kmer, curr_kmer):\n",
    "    \"\"\"calculates the shift between two kmers. \n",
    "    If multiple shifts are possible (repeats), \n",
    "    the minimal possible shift is assumed.\"\"\"\n",
    "    if(prev_kmer is None): return 0 #first position \n",
    "    assert len(prev_kmer) == len(curr_kmer)\n",
    "    l = len(prev_kmer)\n",
    "    for i in range(0, l): \n",
    "        if prev_kmer[i:] == curr_kmer[:l-i]:\n",
    "            return i"
   ]
  },
  {
   "cell_type": "code",
   "execution_count": 10,
   "metadata": {
    "collapsed": false
   },
   "outputs": [],
   "source": [
    "def process_metrichor_file(file):\n",
    "    \"\"\"\n",
    "    reads every filename in files with poretools and \n",
    "    extracts events and metadata\n",
    "    \"\"\"    \n",
    "\n",
    "    tmp_out = []\n",
    "    types = [\"template\", \"complement\", \"2D\"]\n",
    "    file_id, ch_id = get_file_and_channel(file)\n",
    "    tmp_out.append(\"processing file {0} channel {1}\".format(\n",
    "        file_id, ch_id))\n",
    "\n",
    "    f5 = h5py.File(file, 'r')\n",
    "    fastq = {}\n",
    "    for t in types: \n",
    "        try: \n",
    "            fastq[t] = bytes(f5['/Analyses/Basecall_2D_000/BaseCalled_{0}/Fastq'.format(t)][...]).decode('utf-8')\n",
    "        except KeyError:\n",
    "            fastq[t] = None\n",
    "\n",
    "    if(all([not x for x in fastq.values()])): \n",
    "        tmp_out.append(\"\\tempty file, skipped. \")\n",
    "        print(\"\\n\".join(tmp_out) + \"\\n\")\n",
    "        return None\n",
    "\n",
    "    events = {}\n",
    "    for t in [\"template\", \"complement\"]: \n",
    "        if fastq[t]:\n",
    "            events[t] = f5['/Analyses/Basecall_2D_000/BaseCalled_{0}/Events'.format(t)]\n",
    "\n",
    "    if fastq[\"2D\"]:\n",
    "        \"\"\"2d read\"\"\"\n",
    "        aln = f5['/Analyses/Basecall_2D_000/BaseCalled_2D/Alignment']   \n",
    "        events[\"2D\"] = []\n",
    "        prev_kmer = None\n",
    "        for pos in aln:  \n",
    "            ids = {}\n",
    "            ids[\"template\"], ids[\"complement\"], kmer = pos\n",
    "            move = kmer2move(prev_kmer, kmer)\n",
    "            prev_kmer = kmer\n",
    "            ev = {}\n",
    "            ev[\"move\"] = move\n",
    "            ev[\"kmer\"] = bytes(kmer).decode('utf-8')\n",
    "            for t, tmp_id in ids.items():  \n",
    "                tmp_event = None if tmp_id < 0 else events[t][tmp_id]\n",
    "                ev[t] = tmp_id\n",
    "                ev[\"{0}.mean\".format(t)] = None if tmp_event is None else tmp_event[0]\n",
    "                ev[\"{0}.start\".format(t)] = None if tmp_event is None else round(float(tmp_event[1]) * SRATE)\n",
    "                ev[\"{0}.stdv\".format(t)] = None if tmp_event is None else tmp_event[2]\n",
    "                ev[\"{0}.end\".format(t)] = None if tmp_event is None else (\n",
    "                            round((float(tmp_event[1]) + float(tmp_event[3])) * SRATE)-1)\n",
    "\n",
    "            events[\"2D\"].append(ev)\n",
    "\n",
    "    else: \n",
    "        \"\"\"1d read(s) only\"\"\"\n",
    "        ## not implemented\n",
    "        tmp_out.append(\"\\tno 2d reads, skipped.\")\n",
    "        print(\"\\n\".join(tmp_out) + \"\\n\")\n",
    "        return None\n",
    "\n",
    "\n",
    "    f_obj = {\n",
    "        \"channel\": ch_id,\n",
    "        \"file_id\": file_id, \n",
    "        \"events\": pandas.DataFrame(events[\"2D\"]),\n",
    "        \"fastq\": fastq[\"2D\"]\n",
    "    }\n",
    "    print(\"\\n\".join(tmp_out) + \"\\n\")\n",
    "    return f_obj\n",
    "        \n"
   ]
  },
  {
   "cell_type": "code",
   "execution_count": 11,
   "metadata": {
    "collapsed": true
   },
   "outputs": [],
   "source": [
    "p = Pool(args[\"ncores\"])"
   ]
  },
  {
   "cell_type": "code",
   "execution_count": 12,
   "metadata": {
    "collapsed": false
   },
   "outputs": [
    {
     "name": "stdout",
     "output_type": "stream",
     "text": [
      "processing file 17 channel 135\n",
      "\tno 2d reads, skipped.\n",
      "processing file 19 channel 141\n",
      "\tno 2d reads, skipped.\n",
      "processing file 25 channel 132\n",
      "\tno 2d reads, skipped.\n",
      "processing file 33 channel 135\n",
      "\tno 2d reads, skipped.\n",
      "processing file 13 channel 141\n",
      "\tno 2d reads, skipped.\n",
      "processing file 32 channel 135\n",
      "\tno 2d reads, skipped.\n",
      "processing file 3 channel 132\n",
      "\tno 2d reads, skipped.\n",
      "processing file 36 channel 132\n",
      "processing file 15 channel 141\n",
      "processing file 12 channel 141\n",
      "processing file 23 channel 135\n",
      "processing file 23 channel 132\n",
      "processing file 44 channel 132\n",
      "processing file 8 channel 141\n",
      "processing file 19 channel 135\n",
      "processing file 0 channel 135\n",
      "processing file 10 channel 132\n",
      "processing file 11 channel 133\n",
      "processing file 26 channel 132\n",
      "processing file 25 channel 135\n",
      "processing file 2 channel 133\n",
      "processing file 17 channel 132\n",
      "processing file 38 channel 132\n",
      "processing file 35 channel 132\n",
      "\n",
      "\n",
      "\n",
      "\n",
      "\n",
      "\n",
      "\n",
      "\n",
      "\n",
      "\n",
      "\n",
      "\n",
      "\n",
      "\n",
      "\n",
      "\n",
      "\n",
      "\n",
      "\n",
      "\n",
      "\n",
      "\n",
      "\n",
      "\n",
      "processing file 3 channel 142\n",
      "processing file 12 channel 149\n",
      "\tno 2d reads, skipped.\n",
      "processing file 3 channel 149\n",
      "processing file 18 channel 142\n",
      "processing file 6 channel 156\n",
      "processing file 15 channel 156\n",
      "processing file 11 channel 156\n",
      "processing file 1 channel 203\n",
      "processing file 2 channel 203\n",
      "processing file 4 channel 204\n",
      "processing file 5 channel 204\n",
      "processing file 8 channel 204\n",
      "\tno 2d reads, skipped.\n",
      "processing file 12 channel 206\n",
      "\tno 2d reads, skipped.\n",
      "processing file 21 channel 206\n",
      "processing file 17 channel 211\n",
      "processing file 35 channel 211\n",
      "processing file 28 channel 211\n",
      "processing file 29 channel 211\n",
      "\tno 2d reads, skipped.\n",
      "processing file 16 channel 215\n",
      "\tno 2d reads, skipped.\n",
      "processing file 4 channel 215\n",
      "processing file 9 channel 215\n",
      "processing file 6 channel 223\n",
      "processing file 5 channel 227\n",
      "\n",
      "\n",
      "\n",
      "\n",
      "\n",
      "\n",
      "\n",
      "\n",
      "\n",
      "\n",
      "\n",
      "\n",
      "\n",
      "\n",
      "\n",
      "\n",
      "\n",
      "\n",
      "\n",
      "\n",
      "\n",
      "\n",
      "\n",
      "processing file 1 channel 157\n",
      "processing file 14 channel 149\n",
      "\tno 2d reads, skipped.\n",
      "processing file 17 channel 215\n",
      "\tno 2d reads, skipped.\n",
      "processing file 21 channel 212\n",
      "\tno 2d reads, skipped.\n",
      "processing file 12 channel 211\n",
      "processing file 3 channel 195\n",
      "\tno 2d reads, skipped.\n",
      "processing file 3 channel 211\n",
      "processing file 3 channel 213\n",
      "\tno 2d reads, skipped.\n",
      "processing file 11 channel 223\n",
      "processing file 34 channel 206\n",
      "\tno 2d reads, skipped.\n",
      "processing file 20 channel 206\n",
      "processing file 10 channel 206\n",
      "\n",
      "\n",
      "\n",
      "\n",
      "\n",
      "\n",
      "\n",
      "\n",
      "\n",
      "\n",
      "\n",
      "\n",
      "processing file 21 channel 223\n",
      "\tno 2d reads, skipped.\n",
      "processing file 10 channel 156\n",
      "\tno 2d reads, skipped.\n",
      "processing file 23 channel 215\n",
      "\tno 2d reads, skipped.\n",
      "processing file 24 channel 212\n",
      "\tno 2d reads, skipped.\n",
      "processing file 20 channel 211\n",
      "processing file 1 channel 201\n",
      "processing file 4 channel 206\n",
      "\tno 2d reads, skipped.\n",
      "processing file 10 channel 215\n",
      "\tno 2d reads, skipped.\n",
      "\n",
      "\n",
      "\n",
      "\n",
      "\n",
      "\n",
      "\n",
      "\n",
      "processing file 4 channel 223\n",
      "processing file 23 channel 156\n",
      "\tno 2d reads, skipped.\n",
      "processing file 25 channel 215\n",
      "\tno 2d reads, skipped.\n",
      "processing file 27 channel 212\n",
      "processing file 12 channel 215\n",
      "\tno 2d reads, skipped.\n",
      "processing file 26 channel 211\n",
      "processing file 7 channel 206\n",
      "\n",
      "\n",
      "\n",
      "\n",
      "\n",
      "\n",
      "\n",
      "processing file 14 channel 215\n",
      "\tno 2d reads, skipped.\n",
      "processing file 3 channel 156\n",
      "\tno 2d reads, skipped.\n",
      "processing file 27 channel 215\n",
      "\n",
      "\n",
      "\n",
      "processing file 15 channel 215\n",
      "processing file 0 channel 157\n",
      "\n",
      "\n",
      "processing file 9 channel 206\n",
      "\tno 2d reads, skipped.\n",
      "\n",
      "processing file 14 channel 209\n",
      "\n"
     ]
    }
   ],
   "source": [
    "try:\n",
    "    file_data = p.map(process_metrichor_file, files)\n",
    "except KeyboardInterrupt:\n",
    "    p.terminate()"
   ]
  },
  {
   "cell_type": "code",
   "execution_count": 13,
   "metadata": {
    "collapsed": false
   },
   "outputs": [],
   "source": [
    "pickle.dump(file_data, open(args[\"output\"], 'wb'))"
   ]
  }
 ],
 "metadata": {
  "kernelspec": {
   "display_name": "SSH fonsi ipython fonsi parallel 24 CPUs",
   "language": "",
   "name": "rik_ssh_fonsi_ipythonfonsiparallel_24"
  },
  "language_info": {
   "codemirror_mode": {
    "name": "ipython",
    "version": 3
   },
   "file_extension": ".py",
   "mimetype": "text/x-python",
   "name": "python",
   "nbconvert_exporter": "python",
   "pygments_lexer": "ipython3",
   "version": "3.4.3"
  }
 },
 "nbformat": 4,
 "nbformat_minor": 0
}
