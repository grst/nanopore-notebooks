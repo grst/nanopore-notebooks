{
 "cells": [
  {
   "cell_type": "code",
   "execution_count": 3,
   "metadata": {
    "collapsed": true
   },
   "outputs": [],
   "source": [
    "import re"
   ]
  },
  {
   "cell_type": "code",
   "execution_count": 2,
   "metadata": {
    "collapsed": true
   },
   "outputs": [],
   "source": [
    "def length_standard(n):\n",
    "    out = []\n",
    "    for i in range(n):\n",
    "        if i % 10 == 0:\n",
    "            out.append((i - 100*(i/100.)) / 10.)\n",
    "        elif i % 5 == 0:\n",
    "            out.append(\":\")\n",
    "        else:\n",
    "            out.append(\".\")\n",
    "    return \"\".join(map(str, out))"
   ]
  },
  {
   "cell_type": "markdown",
   "metadata": {
    "collapsed": true
   },
   "source": [
    "# Fast 5 data reading routines "
   ]
  },
  {
   "cell_type": "code",
   "execution_count": 4,
   "metadata": {
    "collapsed": true
   },
   "outputs": [],
   "source": [
    "def get_file_and_channel(filename):\n",
    "    result = re.search(r'ch(\\d+)_file(\\d+)_', filename)\n",
    "    file_id = int(result.group(2))\n",
    "    channel_id = int(result.group(1))\n",
    "    return file_id, channel_id"
   ]
  },
  {
   "cell_type": "markdown",
   "metadata": {},
   "source": [
    "####Events-Table\n",
    "file\tstrand\tmean\tstart\tstdv\tlength\tmodel_state\tmodel_level\tmove\tp_model_state\tmp_model_state\tp_mp_model_state\tp_A\tp_C\tp_G\tp_T\traw_index\n",
    "\n",
    "only look at the \"template\" seq for the beginning\n"
   ]
  },
  {
   "cell_type": "code",
   "execution_count": null,
   "metadata": {
    "collapsed": true
   },
   "outputs": [],
   "source": [
    "def process_metrichor_files(files, verbose=False):\n",
    "    \"\"\"\n",
    "    reads every filename in files with poretools and \n",
    "    extracts events and metadata\n",
    "    \"\"\"\n",
    "    \n",
    "    file_data = []\n",
    "    for file in files: \n",
    "        f_obj = {}\n",
    "        file_id, ch_id = get_file_and_channel(file)\n",
    "        if (verbose): \n",
    "            print(\"processing file {0} channel {1}\".format(\n",
    "                file_id, ch_id))\n",
    "        f_obj[\"channel\"] = ch_id\n",
    "        f_obj[\"file_id\"] = file_id\n",
    "\n",
    "        fastq = !poretools fastq {file} | grep template -A3\n",
    "        if not fastq: \n",
    "            print(\"Empty file: {0}. Skipped.\".format(file))\n",
    "            continue\n",
    "       \n",
    "        f_obj[\"called_seq\"] = fastq[1]\n",
    "        f_obj[\"called_qual\"] = fastq[3]\n",
    "\n",
    "        events = !poretools events {file} | grep template\n",
    "        events = [line.split(\"\\t\") for line in events]\n",
    "\n",
    "        file_events = []\n",
    "        for ev in events: \n",
    "            r_ev = dict()\n",
    "            r_ev[\"start\"] = round(float(ev[3]) * SRATE)\n",
    "            r_ev[\"end\"] = round(r_ev[\"start\"] + float(ev[5]) * SRATE)\n",
    "            r_ev[\"mp_kmer\"] = ev[10] #maximum posterior\n",
    "            r_ev[\"kmer\"] = ev[6] #model state\n",
    "            r_ev[\"move\"] = int(ev[8])\n",
    "            file_events.append(r_ev)\n",
    "\n",
    "        ## check if raw data is available\n",
    "        file_id, ch_id = get_file_and_channel(file)\n",
    "\n",
    "        f_obj[\"channel\"] = ch_id\n",
    "        f_obj[\"file_id\"] = file_id\n",
    "        f_obj[\"events\"] = file_events\n",
    "        file_data.append(f_obj)\n",
    "        \n",
    "    return file_data\n",
    "    \n",
    "    "
   ]
  }
 ],
 "metadata": {
  "kernelspec": {
   "display_name": "Python 3",
   "language": "python",
   "name": "python3"
  },
  "language_info": {
   "codemirror_mode": {
    "name": "ipython",
    "version": 3
   },
   "file_extension": ".py",
   "mimetype": "text/x-python",
   "name": "python",
   "nbconvert_exporter": "python",
   "pygments_lexer": "ipython3",
   "version": "3.4.3"
  }
 },
 "nbformat": 4,
 "nbformat_minor": 0
}
