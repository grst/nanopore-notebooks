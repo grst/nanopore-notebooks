{
 "cells": [
  {
   "cell_type": "code",
   "execution_count": 1,
   "metadata": {
    "collapsed": false
   },
   "outputs": [],
   "source": [
    "%load_ext autoreload\n",
    "%autoreload 2\n",
    "import rpy2.robjects as robjects\n",
    "from rpy2.robjects import numpy2ri\n",
    "import rpy2\n",
    "from pprint import pprint\n",
    "import re\n",
    "import numpy as np\n",
    "import pickle\n",
    "from collections import OrderedDict\n",
    "from itertools import repeat, count, product\n",
    "from skbio.alignment import StripedSmithWaterman, local_pairwise_align_ssw\n",
    "import sys\n",
    "sys.path.append(\"../../..\")\n",
    "from analysis_tools import KmerAligner\n",
    "%run ../lib.ipynb"
   ]
  },
  {
   "cell_type": "code",
   "execution_count": 2,
   "metadata": {
    "collapsed": true
   },
   "outputs": [],
   "source": [
    "SRATE = 5000"
   ]
  },
  {
   "cell_type": "code",
   "execution_count": 3,
   "metadata": {
    "collapsed": false
   },
   "outputs": [
    {
     "data": {
      "text/plain": [
       "<StrVector - Python:0x7f35057af308 / R:0x2191498>\n",
       "['nanopore.bundled']"
      ]
     },
     "execution_count": 3,
     "metadata": {},
     "output_type": "execute_result"
    }
   ],
   "source": [
    "robjects.r['load'](\"../../../../david_eccles_bc_ideas/mtDNA_mappable_called_with_rawSignal.Rdata\")"
   ]
  },
  {
   "cell_type": "code",
   "execution_count": 4,
   "metadata": {
    "collapsed": true
   },
   "outputs": [],
   "source": [
    "data = numpy2ri.ri2py(robjects.r['nanopore.bundled'])"
   ]
  },
  {
   "cell_type": "code",
   "execution_count": 5,
   "metadata": {
    "collapsed": false
   },
   "outputs": [],
   "source": [
    "files = !find ../../../../david_eccles_bc_ideas/processed/ | grep fast5"
   ]
  },
  {
   "cell_type": "markdown",
   "metadata": {},
   "source": [
    "### Get data from RData"
   ]
  },
  {
   "cell_type": "markdown",
   "metadata": {},
   "source": [
    "0 = reference\n",
    "1 = called\n",
    "3 = channel\n",
    "8 = metrichor results (events)\n",
    "9 = \"mux\"\n",
    "10 = signal range \n",
    "11 = signal"
   ]
  },
  {
   "cell_type": "code",
   "execution_count": 6,
   "metadata": {
    "collapsed": false
   },
   "outputs": [],
   "source": [
    "ref = data[0][0]\n",
    "channel_ids = [int(x) for x in data[3]]\n",
    "file_ids = [int(x) for x in data[5]]\n",
    "types = list(data[2].names) #template/2D/..."
   ]
  },
  {
   "cell_type": "code",
   "execution_count": 7,
   "metadata": {
    "collapsed": false
   },
   "outputs": [
    {
     "name": "stdout",
     "output_type": "stream",
     "text": [
      "{195: 4638530, 132: 69987497, 133: 12456817, 135: 62976700, 201: 4599826, 227: 18246574, 203: 6371298, 204: 13066295, 141: 29953471, 142: 53380406, 206: 55940501, 209: 25813234, 211: 62405297, 212: 35840257, 149: 57367518, 215: 59538461, 223: 67207073, 156: 63222798, 157: 7725489, 213: 35016383}\n"
     ]
    }
   ],
   "source": [
    "## channel coords from rdata\n",
    "coords = []\n",
    "all_raw = {}\n",
    "channel_max = dict(zip(channel_ids, repeat(0)))\n",
    "for i in range(0, len(data[10]), 2):\n",
    "    se = (round(data[10][i]), round(data[10][i+1]))\n",
    "    coords.append(se)\n",
    "    channel_max[channel_ids[int(i/2)]] = max(channel_max[channel_ids[int(i/2)]], se[1])\n",
    "    \n",
    "print (channel_max)\n",
    "\n",
    "for chid, chmax in channel_max.items():\n",
    "    all_raw[chid] = np.empty(chmax)\n",
    "    all_raw[chid].fill(-1)"
   ]
  },
  {
   "cell_type": "markdown",
   "metadata": {},
   "source": [
    "pack all the available raw signal for the given channel in one array. "
   ]
  },
  {
   "cell_type": "code",
   "execution_count": 8,
   "metadata": {
    "collapsed": false
   },
   "outputs": [
    {
     "name": "stdout",
     "output_type": "stream",
     "text": [
      "0 14263383\n",
      "1 14263383\n",
      "2 53054262\n",
      "3 55559668\n",
      "4 55763736\n",
      "5 55559668\n",
      "6 20841985\n",
      "7 21744018\n",
      "8 20841663\n",
      "9 58611017\n",
      "10 29733238\n",
      "11 30178940\n",
      "12 38452561\n",
      "13 68761506\n",
      "14 69336966\n",
      "15 39203872\n",
      "16 4338899\n",
      "17 10117943\n",
      "18 10111547\n",
      "19 1610262\n",
      "20 1610262\n",
      "21 437216\n",
      "22 1290055\n",
      "23 25820667\n",
      "24 28685564\n",
      "25 29586312\n",
      "26 28684851\n",
      "27 36094944\n",
      "28 36495057\n",
      "29 36094944\n",
      "30 38381291\n",
      "31 60958967\n",
      "32 60827554\n",
      "33 62183810\n",
      "34 13895041\n",
      "35 14282593\n",
      "36 14883605\n",
      "37 16839366\n",
      "38 17196412\n",
      "39 11116981\n",
      "40 12018853\n",
      "41 28113526\n",
      "42 50760609\n",
      "43 52030192\n",
      "44 11786742\n",
      "45 11971416\n",
      "46 4415895\n",
      "47 14826058\n",
      "48 15605747\n",
      "49 17611679\n",
      "50 15605747\n",
      "51 50100827\n",
      "52 50279488\n",
      "53 50100827\n",
      "54 54684243\n",
      "55 56708683\n",
      "56 62911375\n",
      "57 4682908\n",
      "58 9660018\n",
      "59 10549882\n",
      "60 9660018\n",
      "61 1262851\n",
      "62 2095322\n",
      "63 3367671\n",
      "64 5777375\n",
      "65 3310668\n",
      "66 4523542\n",
      "67 3724151\n",
      "68 2837075\n",
      "69 12054328\n",
      "70 2865115\n",
      "71 4214741\n",
      "72 5115935\n",
      "73 12445897\n",
      "74 13721867\n",
      "75 16388228\n",
      "76 15418914\n",
      "77 6253118\n"
     ]
    },
    {
     "ename": "KeyboardInterrupt",
     "evalue": "",
     "output_type": "error",
     "traceback": [
      "\u001b[1;31m---------------------------------------------------------------------------\u001b[0m",
      "\u001b[1;31mKeyboardInterrupt\u001b[0m                         Traceback (most recent call last)",
      "\u001b[1;32m<ipython-input-8-9debbe4ee3cd>\u001b[0m in \u001b[0;36m<module>\u001b[1;34m()\u001b[0m\n\u001b[0;32m      2\u001b[0m     \u001b[0mstart\u001b[0m\u001b[1;33m,\u001b[0m \u001b[0mend\u001b[0m \u001b[1;33m=\u001b[0m \u001b[0mstart_end\u001b[0m\u001b[1;33m\u001b[0m\u001b[0m\n\u001b[0;32m      3\u001b[0m     \u001b[0mprint\u001b[0m\u001b[1;33m(\u001b[0m\u001b[0mi\u001b[0m\u001b[1;33m,\u001b[0m \u001b[0mstart\u001b[0m\u001b[1;33m)\u001b[0m\u001b[1;33m\u001b[0m\u001b[0m\n\u001b[1;32m----> 4\u001b[1;33m     \u001b[1;32mfor\u001b[0m \u001b[0mk\u001b[0m\u001b[1;33m,\u001b[0m \u001b[0msig\u001b[0m \u001b[1;32min\u001b[0m \u001b[0menumerate\u001b[0m\u001b[1;33m(\u001b[0m\u001b[0mdata\u001b[0m\u001b[1;33m[\u001b[0m\u001b[1;36m11\u001b[0m\u001b[1;33m]\u001b[0m\u001b[1;33m[\u001b[0m\u001b[0mi\u001b[0m\u001b[1;33m]\u001b[0m\u001b[1;33m)\u001b[0m\u001b[1;33m:\u001b[0m\u001b[1;33m\u001b[0m\u001b[0m\n\u001b[0m\u001b[0;32m      5\u001b[0m         \u001b[0mall_raw\u001b[0m\u001b[1;33m[\u001b[0m\u001b[0mchannel_ids\u001b[0m\u001b[1;33m[\u001b[0m\u001b[0mi\u001b[0m\u001b[1;33m]\u001b[0m\u001b[1;33m]\u001b[0m\u001b[1;33m[\u001b[0m\u001b[0mstart\u001b[0m \u001b[1;33m+\u001b[0m \u001b[0mk\u001b[0m\u001b[1;33m]\u001b[0m \u001b[1;33m=\u001b[0m \u001b[0msig\u001b[0m\u001b[1;33m\u001b[0m\u001b[0m\n",
      "\u001b[1;31mKeyboardInterrupt\u001b[0m: "
     ]
    }
   ],
   "source": [
    "for i, start_end in enumerate(coords):\n",
    "    start, end = start_end\n",
    "    print(i, start)\n",
    "    for k, sig in enumerate(data[11][i]):\n",
    "        all_raw[channel_ids[i]][start + k] = sig"
   ]
  },
  {
   "cell_type": "markdown",
   "metadata": {},
   "source": [
    "### Get events and sequence via poretools "
   ]
  },
  {
   "cell_type": "code",
   "execution_count": null,
   "metadata": {
    "collapsed": false
   },
   "outputs": [],
   "source": [
    "# file_data = process_metrichor_files(files)"
   ]
  },
  {
   "cell_type": "code",
   "execution_count": null,
   "metadata": {
    "collapsed": false
   },
   "outputs": [],
   "source": [
    "# def determine(f_obj): \n",
    "#     ch_id = f_obj[\"channel\"]\n",
    "#     file_id = f_obj[\"file_id\"]\n",
    "#     file_events = f_obj[\"events\"]\n",
    "#     if (all_raw[ch_id][file_events[0][\"start\"]] < 0 or\n",
    "#                 all_raw[ch_id][file_events[-1][\"end\"]-1] < 0):\n",
    "#         print(\"file ch{0}-file{1} removed. No raw data available.\".format(ch_id, file_id))\n",
    "#         return False\n",
    "#     else: \n",
    "#         return True\n",
    "\n",
    "# file_data[:] = [f_obj for f_obj in file_data if determine(f_obj)]\n",
    "        \n",
    "        "
   ]
  },
  {
   "cell_type": "code",
   "execution_count": null,
   "metadata": {
    "collapsed": true
   },
   "outputs": [],
   "source": [
    "# pickle.dump(file_data, open(\"mouse_file_data.pickle\", 'wb'))\n",
    "file_data = pickle.load(open(\"mouse_file_data.pickle\", 'rb'))"
   ]
  },
  {
   "cell_type": "code",
   "execution_count": null,
   "metadata": {
    "collapsed": true
   },
   "outputs": [],
   "source": [
    "from pylab import * \n",
    "import seaborn as sns\n",
    "%matplotlib inline\n",
    "sns.set_style(\"ticks\", {\"axes.grid\" : True, \"grid.color\" : \".95\", \"lines.linewidth\": .5})"
   ]
  },
  {
   "cell_type": "markdown",
   "metadata": {
    "collapsed": true
   },
   "source": [
    "#Distribution of all events "
   ]
  },
  {
   "cell_type": "code",
   "execution_count": null,
   "metadata": {
    "collapsed": false,
    "scrolled": true
   },
   "outputs": [],
   "source": [
    "props = {\n",
    "    \"mean\" : [], \n",
    "    \"length\" : [],\n",
    "    \"stdev\" : []\n",
    "}\n",
    "for file in file_data:\n",
    "    ch = file[\"channel\"]\n",
    "    for ev in file[\"events\"]:\n",
    "        l, r = ev[\"start\"], ev[\"end\"]\n",
    "        props[\"mean\"].append(np.mean(all_raw[ch][l:r]))        \n",
    "        props[\"stdev\"].append(np.std(all_raw[ch][l:r]))\n",
    "        props[\"length\"].append(r-l)"
   ]
  },
  {
   "cell_type": "code",
   "execution_count": null,
   "metadata": {
    "collapsed": false,
    "scrolled": true
   },
   "outputs": [],
   "source": [
    "fig, ax = subplots(figsize=(15,5))\n",
    "ax.hist(props[\"length\"], bins=range(0, 1000, 10))\n",
    "ax.set_title(\"length\")\n",
    "fig.show()"
   ]
  },
  {
   "cell_type": "code",
   "execution_count": null,
   "metadata": {
    "collapsed": false
   },
   "outputs": [],
   "source": [
    "fig, ax = subplots(figsize=(15,5))\n",
    "ax.hist(props[\"mean\"], bins=500)\n",
    "ax.set_title(\"mean pA\")\n",
    "fig.show()"
   ]
  },
  {
   "cell_type": "code",
   "execution_count": null,
   "metadata": {
    "collapsed": false
   },
   "outputs": [],
   "source": [
    "fig, ax = subplots(figsize=(15,5))\n",
    "ax.hist(props[\"stdev\"], bins=500)\n",
    "ax.set_title(\"stdev pA\")\n",
    "fig.show()"
   ]
  },
  {
   "cell_type": "markdown",
   "metadata": {},
   "source": [
    "#find all correctly mapped N-mers"
   ]
  },
  {
   "cell_type": "code",
   "execution_count": 43,
   "metadata": {
    "collapsed": false
   },
   "outputs": [
    {
     "name": "stdout",
     "output_type": "stream",
     "text": [
      "Query Length 16299\n"
     ]
    }
   ],
   "source": [
    "NMER = 3\n",
    "kmer_aligner = KmerAligner(ref, verbose=True, nmer=NMER)"
   ]
  },
  {
   "cell_type": "code",
   "execution_count": 44,
   "metadata": {
    "collapsed": false,
    "scrolled": true
   },
   "outputs": [
    {
     "name": "stdout",
     "output_type": "stream",
     "text": [
      "processing ch 149 file 3\n",
      "\n",
      "        Start/End Query 5270/12963 Target 0/7446 Skipped 4\n",
      "        Length 7446/7450 Identity 0.25933\n",
      "        \n",
      "processing ch 133 file 11\n",
      "\n",
      "        Start/End Query 0/6578 Target 938/6866 Skipped 939\n",
      "        Length 5928/6867 Identity 0.28104\n",
      "        \n",
      "processing ch 204 file 8\n",
      "\n",
      "        Start/End Query 6545/15137 Target 1/7603 Skipped 3\n",
      "        Length 7602/7605 Identity 0.32386\n",
      "        \n",
      "processing ch 215 file 27\n",
      "\n",
      "        Start/End Query 0/6580 Target 692/6600 Skipped 694\n",
      "        Length 5908/6602 Identity 0.27065\n",
      "        \n",
      "processing ch 215 file 4\n",
      "\n",
      "        Start/End Query 3910/5945 Target 0/1969 Skipped 3\n",
      "        Length 1969/1972 Identity 0.27019\n",
      "        \n",
      "processing ch 215 file 14\n",
      "\n",
      "        Start/End Query 4995/12084 Target 0/6876 Skipped 2\n",
      "        Length 6876/6878 Identity 0.25844\n",
      "        \n",
      "processing ch 223 file 21\n",
      "\n",
      "        Start/End Query 6551/13478 Target 4/6253 Skipped 7\n",
      "        Length 6249/6256 Identity 0.31173\n",
      "        \n",
      "processing ch 203 file 2\n",
      "\n",
      "        Start/End Query 3582/9860 Target 0/6116 Skipped 1\n",
      "        Length 6116/6117 Identity 0.26373\n",
      "        \n",
      "processing ch 132 file 36\n",
      "\n",
      "        Start/End Query 5195/6584 Target 0/1245 Skipped 1\n",
      "        Length 1245/1246 Identity 0.47390\n",
      "        \n",
      "processing ch 211 file 26\n",
      "\n",
      "        Start/End Query 6562/15171 Target 2/7376 Skipped 5\n",
      "        Length 7374/7379 Identity 0.30594\n",
      "        \n",
      "processing ch 157 file 0\n",
      "\n",
      "        Start/End Query 4642/11421 Target 0/6392 Skipped 1\n",
      "        Length 6392/6393 Identity 0.26314\n",
      "        \n",
      "processing ch 206 file 12\n",
      "\n",
      "        Start/End Query 1/6568 Target 1050/6830 Skipped 1051\n",
      "        Length 5780/6831 Identity 0.30363\n",
      "        \n",
      "processing ch 215 file 15\n",
      "\n",
      "        Start/End Query 0/6580 Target 997/6894 Skipped 998\n",
      "        Length 5897/6895 Identity 0.28981\n",
      "        \n",
      "processing ch 215 file 12\n",
      "\n",
      "        Start/End Query 10034/14751 Target 0/4495 Skipped 1\n",
      "        Length 4495/4496 Identity 0.26140\n",
      "        \n",
      "processing ch 223 file 11\n",
      "\n",
      "        Start/End Query 5465/12428 Target 0/6669 Skipped 3\n",
      "        Length 6669/6672 Identity 0.26181\n",
      "        \n",
      "processing ch 141 file 13\n",
      "\n",
      "        Start/End Query 8657/14176 Target 3/5254 Skipped 5\n",
      "        Length 5251/5256 Identity 0.27309\n",
      "        \n",
      "processing ch 135 file 17\n",
      "\n",
      "        Start/End Query 1968/15629 Target 2/13232 Skipped 946\n",
      "        Length 13230/14176 Identity 0.25586\n",
      "        \n",
      "processing ch 132 file 17\n",
      "\n",
      "        Start/End Query 1/6580 Target 1042/6826 Skipped 1043\n",
      "        Length 5784/6827 Identity 0.31881\n",
      "        \n",
      "processing ch 156 file 11\n",
      "\n",
      "        Start/End Query 3832/11446 Target 0/7131 Skipped 1\n",
      "        Length 7131/7132 Identity 0.25887\n",
      "        \n",
      "processing ch 206 file 20\n",
      "\n",
      "        Start/End Query 3319/6581 Target 1/3185 Skipped 3\n",
      "        Length 3184/3187 Identity 0.30496\n",
      "        \n",
      "processing ch 132 file 23\n",
      "\n",
      "        Start/End Query 11586/15169 Target 1/3169 Skipped 3\n",
      "        Length 3168/3171 Identity 0.33712\n",
      "        \n",
      "processing ch 204 file 4\n",
      "\n",
      "        Start/End Query 6563/15184 Target 2/7595 Skipped 3\n",
      "        Length 7593/7596 Identity 0.32517\n",
      "        \n",
      "processing ch 135 file 32\n",
      "\n",
      "        Start/End Query 1831/2653 Target 3/752 Skipped 5\n",
      "        Length 749/754 Identity 0.39119\n",
      "        \n",
      "processing ch 212 file 27\n",
      "\n",
      "        Start/End Query 3871/10935 Target 0/6753 Skipped 4\n",
      "        Length 6753/6757 Identity 0.26966\n",
      "        \n",
      "processing ch 195 file 3\n",
      "\n",
      "        Start/End Query 0/6571 Target 72/6327 Skipped 74\n",
      "        Length 6255/6329 Identity 0.27418\n",
      "        \n",
      "processing ch 211 file 28\n",
      "\n",
      "        Start/End Query 4942/11910 Target 0/6634 Skipped 2\n",
      "        Length 6634/6636 Identity 0.26877\n",
      "        \n",
      "processing ch 215 file 10\n",
      "\n",
      "        Start/End Query 0/6598 Target 873/6838 Skipped 877\n",
      "        Length 5965/6842 Identity 0.26924\n",
      "        \n",
      "processing ch 201 file 1\n",
      "\n",
      "        Start/End Query 5911/12232 Target 0/6006 Skipped 3\n",
      "        Length 6006/6009 Identity 0.27140\n",
      "        \n",
      "processing ch 132 file 10\n",
      "\n",
      "        Start/End Query 1/6579 Target 1030/7057 Skipped 1031\n",
      "        Length 6027/7058 Identity 0.27659\n",
      "        \n",
      "processing ch 157 file 1\n",
      "\n",
      "        Start/End Query 1/6579 Target 1066/7083 Skipped 1069\n",
      "        Length 6017/7086 Identity 0.30181\n",
      "        \n",
      "processing ch 135 file 0\n",
      "\n",
      "        Start/End Query 3/6568 Target 963/6732 Skipped 965\n",
      "        Length 5769/6734 Identity 0.28826\n",
      "        \n",
      "processing ch 156 file 23\n",
      "\n",
      "        Start/End Query 7461/9132 Target 1/1612 Skipped 3\n",
      "        Length 1611/1614 Identity 0.29050\n",
      "        \n",
      "processing ch 156 file 10\n",
      "\n",
      "        Start/End Query 0/6253 Target 155/5695 Skipped 160\n",
      "        Length 5540/5700 Identity 0.32094\n",
      "        \n",
      "processing ch 223 file 6\n",
      "\n",
      "        Start/End Query 2010/10281 Target 0/7751 Skipped 3\n",
      "        Length 7751/7754 Identity 0.25352\n",
      "        \n",
      "processing ch 142 file 18\n",
      "\n",
      "        Start/End Query 1/6580 Target 1051/6916 Skipped 1052\n",
      "        Length 5865/6917 Identity 0.30162\n",
      "        \n",
      "processing ch 204 file 5\n",
      "\n",
      "        Start/End Query 2/6576 Target 1003/6693 Skipped 1006\n",
      "        Length 5690/6696 Identity 0.30668\n",
      "        \n",
      "processing ch 141 file 15\n",
      "\n",
      "        Start/End Query 7770/9940 Target 1/2102 Skipped 3\n",
      "        Length 2101/2104 Identity 0.28558\n",
      "        \n",
      "processing ch 211 file 12\n",
      "\n",
      "        Start/End Query 0/6586 Target 1006/6639 Skipped 1009\n",
      "        Length 5633/6642 Identity 0.35150\n",
      "        \n",
      "processing ch 132 file 3\n",
      "\n",
      "        Start/End Query 6556/15126 Target 3/7817 Skipped 4\n",
      "        Length 7814/7818 Identity 0.29178\n",
      "        \n",
      "processing ch 141 file 8\n",
      "\n",
      "        Start/End Query 5657/12142 Target 0/6248 Skipped 7\n",
      "        Length 6248/6255 Identity 0.26424\n",
      "        \n",
      "processing ch 215 file 23\n",
      "\n",
      "        Start/End Query 6551/10943 Target 4/4049 Skipped 5\n",
      "        Length 4045/4050 Identity 0.34413\n",
      "        \n",
      "processing ch 156 file 6\n",
      "\n",
      "        Start/End Query 0/6580 Target 916/6707 Skipped 918\n",
      "        Length 5791/6709 Identity 0.29943\n",
      "        \n",
      "processing ch 213 file 3\n",
      "\n",
      "        Start/End Query 7210/15136 Target 0/7250 Skipped 1\n",
      "        Length 7250/7251 Identity 0.29103\n",
      "        \n",
      "processing ch 215 file 9\n",
      "\n",
      "        Start/End Query 0/6585 Target 1055/7074 Skipped 1058\n",
      "        Length 6019/7077 Identity 0.31600\n",
      "        \n",
      "processing ch 211 file 3\n",
      "\n",
      "        Start/End Query 2/6568 Target 958/6569 Skipped 959\n",
      "        Length 5611/6570 Identity 0.34290\n",
      "        \n",
      "processing ch 132 file 44\n",
      "\n",
      "        Start/End Query 6339/9986 Target 0/3516 Skipped 1\n",
      "        Length 3516/3517 Identity 0.27247\n",
      "        \n",
      "processing ch 215 file 17\n",
      "\n",
      "        Start/End Query 7617/10908 Target 0/3100 Skipped 2\n",
      "        Length 3100/3102 Identity 0.29419\n",
      "        \n",
      "processing ch 215 file 25\n",
      "\n",
      "        Start/End Query 0/3971 Target 1034/4555 Skipped 1035\n",
      "        Length 3521/4556 Identity 0.33087\n",
      "        \n",
      "processing ch 132 file 38\n",
      "\n",
      "        Start/End Query 5366/12547 Target 2/6868 Skipped 4\n",
      "        Length 6866/6870 Identity 0.25706\n",
      "        \n",
      "processing ch 132 file 25\n",
      "\n",
      "        Start/End Query 9942/15196 Target 1/4863 Skipped 4\n",
      "        Length 4862/4866 Identity 0.27190\n",
      "        \n",
      "processing ch 132 file 26\n",
      "\n",
      "        Start/End Query 3146/10493 Target 0/6906 Skipped 1\n",
      "        Length 6906/6907 Identity 0.25326\n",
      "        \n",
      "processing ch 215 file 16\n",
      "\n",
      "        Start/End Query 10183/13229 Target 1/2927 Skipped 5\n",
      "        Length 2926/2931 Identity 0.29665\n",
      "        \n",
      "processing ch 211 file 17\n",
      "\n",
      "        Start/End Query 2814/10620 Target 1/7379 Skipped 2\n",
      "        Length 7378/7380 Identity 0.26620\n",
      "        \n",
      "processing ch 135 file 23\n",
      "\n",
      "        Start/End Query 7298/10023 Target 1/2657 Skipped 2\n",
      "        Length 2656/2658 Identity 0.28163\n",
      "        \n",
      "processing ch 132 file 35\n",
      "\n",
      "        Start/End Query 3/6423 Target 1010/6583 Skipped 1013\n",
      "        Length 5573/6586 Identity 0.30899\n",
      "        \n",
      "processing ch 156 file 15\n",
      "\n",
      "        Start/End Query 14000/15176 Target 2/1115 Skipped 3\n",
      "        Length 1113/1116 Identity 0.40881\n",
      "        \n",
      "processing ch 141 file 12\n",
      "\n",
      "        Start/End Query 6086/8876 Target 0/2680 Skipped 1\n",
      "        Length 2680/2681 Identity 0.28507\n",
      "        \n",
      "processing ch 156 file 3\n",
      "\n",
      "        Start/End Query 5/11357 Target 897/10861 Skipped 898\n",
      "        Length 9964/10862 Identity 0.28593\n",
      "        \n",
      "processing ch 227 file 5\n",
      "\n",
      "        Start/End Query 2751/10327 Target 0/7231 Skipped 2\n",
      "        Length 7231/7233 Identity 0.26151\n",
      "        \n",
      "processing ch 206 file 9\n",
      "\n",
      "        Start/End Query 6554/9094 Target 1/2357 Skipped 3\n",
      "        Length 2356/2359 Identity 0.35823\n",
      "        \n",
      "processing ch 212 file 21\n",
      "\n",
      "        Start/End Query 3890/7223 Target 1/3217 Skipped 3\n",
      "        Length 3216/3219 Identity 0.28296\n",
      "        \n",
      "processing ch 212 file 24\n",
      "\n",
      "        Start/End Query 4567/10117 Target 3/5321 Skipped 4\n",
      "        Length 5318/5322 Identity 0.25874\n",
      "        \n",
      "processing ch 135 file 33\n",
      "\n",
      "        Start/End Query 1269/6588 Target 0/4723 Skipped 2\n",
      "        Length 4723/4725 Identity 0.27694\n",
      "        \n",
      "processing ch 211 file 35\n",
      "\n",
      "        Start/End Query 4980/7643 Target 1/2518 Skipped 2\n",
      "        Length 2517/2519 Identity 0.27652\n",
      "        \n",
      "processing ch 133 file 2\n",
      "\n",
      "        Start/End Query 6563/15015 Target 1/7620 Skipped 2\n",
      "        Length 7619/7621 Identity 0.28888\n",
      "        \n",
      "processing ch 135 file 19\n",
      "\n",
      "        Start/End Query 0/6578 Target 1005/6830 Skipped 1006\n",
      "        Length 5825/6831 Identity 0.31056\n",
      "        \n",
      "processing ch 206 file 21\n",
      "\n",
      "        Start/End Query 8662/9603 Target 0/920 Skipped 1\n",
      "        Length 920/921 Identity 0.29674\n",
      "        \n",
      "processing ch 223 file 4\n",
      "\n",
      "        Start/End Query 6565/13051 Target 1/5827 Skipped 3\n",
      "        Length 5826/5829 Identity 0.28407\n",
      "        \n",
      "processing ch 142 file 3\n",
      "\n",
      "        Start/End Query 8648/10082 Target 0/1379 Skipped 1\n",
      "        Length 1379/1380 Identity 0.28716\n",
      "        \n",
      "processing ch 206 file 7\n",
      "\n",
      "        Start/End Query 4882/11782 Target 0/6576 Skipped 2\n",
      "        Length 6576/6578 Identity 0.25608\n",
      "        \n",
      "processing ch 209 file 14\n",
      "\n",
      "        Start/End Query 3/6560 Target 16/6291 Skipped 17\n",
      "        Length 6275/6292 Identity 0.25880\n",
      "        \n",
      "processing ch 206 file 4\n",
      "\n",
      "        Start/End Query 15145/16297 Target 0/1008 Skipped 160\n",
      "        Length 1008/1168 Identity 0.43651\n",
      "        \n",
      "processing ch 211 file 20\n",
      "\n",
      "        Start/End Query 0/6563 Target 946/6769 Skipped 947\n",
      "        Length 5823/6770 Identity 0.30603\n",
      "        \n",
      "\n",
      "        length of all reads 407165\n",
      "        length of aligned parts of the reads 386104\n",
      "        ratio nucleotides not aligned 0.05173\n",
      "        sequence identity of aligned reads 0.28718\n",
      "        fully correct kmers 11810\n",
      "        ratio fully correct kmers 0.02901\n",
      "        \n"
     ]
    }
   ],
   "source": [
    "true_events = []\n",
    "\n",
    "for file in file_data:\n",
    "    tmp_events = kmer_aligner.align_file(file)\n",
    "    true_events.extend(tmp_events)\n",
    "    \n",
    "kmer_aligner.print_statistics()"
   ]
  },
  {
   "cell_type": "code",
   "execution_count": 45,
   "metadata": {
    "collapsed": false
   },
   "outputs": [
    {
     "data": {
      "text/plain": [
       "11810"
      ]
     },
     "execution_count": 45,
     "metadata": {},
     "output_type": "execute_result"
    }
   ],
   "source": [
    "len(true_events)"
   ]
  },
  {
   "cell_type": "markdown",
   "metadata": {},
   "source": [
    "well, that's not a lot!"
   ]
  },
  {
   "cell_type": "markdown",
   "metadata": {},
   "source": [
    "### make dict with all kmers "
   ]
  },
  {
   "cell_type": "code",
   "execution_count": 46,
   "metadata": {
    "collapsed": false
   },
   "outputs": [],
   "source": [
    "from itertools import product\n",
    "all_5mers = [''.join(i) for i in product(\"ACGT\",repeat=NMER)]\n",
    "ev_map = OrderedDict((k,[]) for k in all_5mers)"
   ]
  },
  {
   "cell_type": "code",
   "execution_count": 47,
   "metadata": {
    "collapsed": false
   },
   "outputs": [],
   "source": [
    "for ev in true_events: \n",
    "    ev_map[ev[\"kmer\"][:NMER]].append(ev)"
   ]
  },
  {
   "cell_type": "markdown",
   "metadata": {},
   "source": [
    "#Analysis"
   ]
  },
  {
   "cell_type": "markdown",
   "metadata": {},
   "source": [
    "### compare with distributions in sequence\n",
    "\n",
    "* kmer-frequence\n",
    "* length (how many kmers were mapped correctly, at all) "
   ]
  },
  {
   "cell_type": "code",
   "execution_count": 48,
   "metadata": {
    "collapsed": false
   },
   "outputs": [],
   "source": [
    "from collections import OrderedDict\n",
    "import scipy as sp"
   ]
  },
  {
   "cell_type": "code",
   "execution_count": 49,
   "metadata": {
    "collapsed": false
   },
   "outputs": [],
   "source": [
    "kmer_freq = OrderedDict((k, 0) for k in all_5mers)\n",
    "for i in range(0, len(ref)-(NMER-1)):\n",
    "    kmer_freq[ref[i:i+NMER]] += 1"
   ]
  },
  {
   "cell_type": "code",
   "execution_count": 50,
   "metadata": {
    "collapsed": false
   },
   "outputs": [],
   "source": [
    "true_kmer_freq = OrderedDict((k, len(v)) for k, v in ev_map.items())"
   ]
  },
  {
   "cell_type": "code",
   "execution_count": 51,
   "metadata": {
    "collapsed": false
   },
   "outputs": [
    {
     "data": {
      "text/plain": [
       "(0.92116844571302281, 4.2333338505075762e-27)"
      ]
     },
     "execution_count": 51,
     "metadata": {},
     "output_type": "execute_result"
    }
   ],
   "source": [
    "sp.stats.pearsonr(list(true_kmer_freq.values()), list(kmer_freq.values()))"
   ]
  },
  {
   "cell_type": "code",
   "execution_count": 52,
   "metadata": {
    "collapsed": false
   },
   "outputs": [
    {
     "name": "stderr",
     "output_type": "stream",
     "text": [
      "/home/sturm/bin/anaconda3/lib/python3.4/site-packages/matplotlib/figure.py:387: UserWarning: matplotlib is currently using a non-GUI backend, so cannot show the figure\n",
      "  \"matplotlib is currently using a non-GUI backend, \"\n"
     ]
    },
    {
     "data": {
      "image/png": "[encoded data removed]",
      "text/plain": [
       "<matplotlib.figure.Figure at 0x7fa22bfdd438>"
      ]
     },
     "metadata": {},
     "output_type": "display_data"
    }
   ],
   "source": [
    "fig, ax = subplots()\n",
    "ax.scatter(list(true_kmer_freq.values()), list(kmer_freq.values()))\n",
    "fig.show()"
   ]
  },
  {
   "cell_type": "markdown",
   "metadata": {},
   "source": [
    "#### outliers = kmers that are difficult to predict"
   ]
  },
  {
   "cell_type": "code",
   "execution_count": 53,
   "metadata": {
    "collapsed": false
   },
   "outputs": [],
   "source": [
    "# for kmer in kmer_freq.keys():\n",
    "#     if (true_kmer_freq[kmer] == 0 and kmer_freq[kmer] < 30): continue\n",
    "#     elif true_kmer_freq[kmer] == 0 or (kmer_freq[kmer]/true_kmer_freq[kmer] > 20):\n",
    "#         print(kmer)"
   ]
  },
  {
   "cell_type": "code",
   "execution_count": 54,
   "metadata": {
    "collapsed": false
   },
   "outputs": [
    {
     "name": "stdout",
     "output_type": "stream",
     "text": [
      "true_kmers  11810\n",
      "total_kmers in reads 407165\n",
      "ratio 0.029005440055\n"
     ]
    }
   ],
   "source": [
    "tr = sum(list(true_kmer_freq.values()))\n",
    "tot = sum([len(f[\"called_seq\"]) for f in file_data])\n",
    "print(\"true_kmers \", tr)\n",
    "print(\"total_kmers in reads\", tot)\n",
    "print(\"ratio\", tr/tot)"
   ]
  },
  {
   "cell_type": "markdown",
   "metadata": {},
   "source": [
    "### => Result\n",
    "\n",
    "* the number of reads that are *totally* correct is really low...\n",
    "    * (this is partly due to the fact, that the alignments are cropped)\n",
    "* there is a pretty strong correlation (pearson r = .7) between the frequency of kmers in the reference and the frequency of correctly predicted kmers\n",
    "    * this indicates that there is no direct evidence for specific base-pairs to be perdicted at low accuracy (there could be single ones, however)\n",
    "   "
   ]
  },
  {
   "cell_type": "markdown",
   "metadata": {
    "collapsed": true
   },
   "source": [
    "## compare features"
   ]
  },
  {
   "cell_type": "code",
   "execution_count": 55,
   "metadata": {
    "collapsed": true
   },
   "outputs": [],
   "source": [
    "def sorted_boxplot(ordered_dict):\n",
    "    sns.set_context(\"notebook\", font_scale=1.5, rc={\"lines.linewidth\": 1})\n",
    "    map2 = OrderedDict(sorted(ordered_dict.items(), key=lambda x : 0 if len(x[1]) == 0 else np.mean(x[1])))\n",
    "    fig, ax = subplots(figsize = (15, 5))\n",
    "    boxplot(list(map2.values()))\n",
    "    ax.set_xticklabels(list(map2.keys()), rotation=90, fontsize=8)\n",
    "    fig.show()"
   ]
  },
  {
   "cell_type": "markdown",
   "metadata": {},
   "source": [
    "### mean pA"
   ]
  },
  {
   "cell_type": "code",
   "execution_count": 56,
   "metadata": {
    "collapsed": false
   },
   "outputs": [],
   "source": [
    "pa_map = {}\n",
    "for kmer, events in ev_map.items():\n",
    "    kmer_means = []\n",
    "    for ev in events: \n",
    "        l, r = ev[\"start\"], ev[\"end\"]\n",
    "        ch = ev[\"channel\"]\n",
    "        kmer_means.append(np.mean(all_raw[ch][l:r]))\n",
    "    pa_map[kmer] = kmer_means"
   ]
  },
  {
   "cell_type": "code",
   "execution_count": 57,
   "metadata": {
    "collapsed": false,
    "scrolled": true
   },
   "outputs": [
    {
     "name": "stderr",
     "output_type": "stream",
     "text": [
      "/home/sturm/bin/anaconda3/lib/python3.4/site-packages/matplotlib/figure.py:387: UserWarning: matplotlib is currently using a non-GUI backend, so cannot show the figure\n",
      "  \"matplotlib is currently using a non-GUI backend, \"\n"
     ]
    },
    {
     "data": {
      "image/png": "[encoded data removed]",
      "text/plain": [
       "<matplotlib.figure.Figure at 0x7fa22b9dea58>"
      ]
     },
     "metadata": {},
     "output_type": "display_data"
    }
   ],
   "source": [
    "sorted_boxplot(pa_map)"
   ]
  },
  {
   "cell_type": "markdown",
   "metadata": {},
   "source": [
    "### mean stdev"
   ]
  },
  {
   "cell_type": "code",
   "execution_count": 58,
   "metadata": {
    "collapsed": false
   },
   "outputs": [
    {
     "name": "stderr",
     "output_type": "stream",
     "text": [
      "/home/sturm/bin/anaconda3/lib/python3.4/site-packages/matplotlib/figure.py:387: UserWarning: matplotlib is currently using a non-GUI backend, so cannot show the figure\n",
      "  \"matplotlib is currently using a non-GUI backend, \"\n"
     ]
    },
    {
     "data": {
      "image/png": "[encoded data removed]",
      "text/plain": [
       "<matplotlib.figure.Figure at 0x7fa22b860a20>"
      ]
     },
     "metadata": {},
     "output_type": "display_data"
    }
   ],
   "source": [
    "stdev_map = {}\n",
    "for kmer, events in ev_map.items():\n",
    "    kmer_std = []\n",
    "    for ev in events: \n",
    "        l, r = ev[\"start\"], ev[\"end\"]\n",
    "        ch = ev[\"channel\"]\n",
    "        kmer_std.append(np.std(all_raw[ch][l:r]))\n",
    "    stdev_map[kmer] = kmer_std\n",
    "sorted_boxplot(stdev_map)"
   ]
  },
  {
   "cell_type": "markdown",
   "metadata": {},
   "source": [
    "### mean length"
   ]
  },
  {
   "cell_type": "code",
   "execution_count": 59,
   "metadata": {
    "collapsed": false
   },
   "outputs": [
    {
     "name": "stderr",
     "output_type": "stream",
     "text": [
      "/home/sturm/bin/anaconda3/lib/python3.4/site-packages/matplotlib/figure.py:387: UserWarning: matplotlib is currently using a non-GUI backend, so cannot show the figure\n",
      "  \"matplotlib is currently using a non-GUI backend, \"\n"
     ]
    },
    {
     "data": {
      "image/png": "[encoded data removed]",
      "text/plain": [
       "<matplotlib.figure.Figure at 0x7fa0c4b6e550>"
      ]
     },
     "metadata": {},
     "output_type": "display_data"
    }
   ],
   "source": [
    "len_map = {}\n",
    "for kmer, events in ev_map.items():\n",
    "    kmer_len = []\n",
    "    for ev in events: \n",
    "        l, r = ev[\"start\"], ev[\"end\"]\n",
    "        kmer_len.append(r-l)\n",
    "    len_map[kmer] = kmer_len\n",
    "sorted_boxplot(len_map)"
   ]
  },
  {
   "cell_type": "code",
   "execution_count": null,
   "metadata": {
    "collapsed": true
   },
   "outputs": [],
   "source": []
  }
 ],
 "metadata": {
  "kernelspec": {
   "display_name": "Python 3",
   "language": "python",
   "name": "python3"
  },
  "language_info": {
   "codemirror_mode": {
    "name": "ipython",
    "version": 3
   },
   "file_extension": ".py",
   "mimetype": "text/x-python",
   "name": "python",
   "nbconvert_exporter": "python",
   "pygments_lexer": "ipython3",
   "version": "3.4.3"
  }
 },
 "nbformat": 4,
 "nbformat_minor": 0
}
