{
 "cells": [
  {
   "cell_type": "code",
   "execution_count": 5,
   "metadata": {
    "collapsed": false
   },
   "outputs": [
    {
     "name": "stdout",
     "output_type": "stream",
     "text": [
      "The autoreload extension is already loaded. To reload it, use:\n",
      "  %reload_ext autoreload\n"
     ]
    }
   ],
   "source": [
    "%load_ext autoreload\n",
    "%autoreload 2\n",
    "import rpy2.robjects as robjects\n",
    "from rpy2.robjects import numpy2ri\n",
    "import rpy2\n",
    "from pprint import pprint\n",
    "import re\n",
    "import numpy as np\n",
    "import pickle\n",
    "from collections import OrderedDict\n",
    "from itertools import repeat, count, product\n",
    "from skbio.alignment import StripedSmithWaterman, local_pairwise_align_ssw\n",
    "import sys\n",
    "sys.path.append(\"../../..\")\n",
    "from analysis_tools import KmerAligner\n",
    "%run ../lib.ipynb\n",
    "import pysam"
   ]
  },
  {
   "cell_type": "code",
   "execution_count": 4,
   "metadata": {
    "collapsed": false
   },
   "outputs": [],
   "source": [
    "file_data = pickle.load(open(\"mouse_file_data.pickle\", 'rb'))"
   ]
  },
  {
   "cell_type": "code",
   "execution_count": 6,
   "metadata": {
    "collapsed": true
   },
   "outputs": [],
   "source": [
    "with open(\"mouse_all_reads.fastq\", 'w') as f: \n",
    "    for file_obj in file_data:\n",
    "        f.write(\"@ch{0}_file{1}_template\\n\".format(file_obj[\"channel\"], file_obj[\"file_id\"]))\n",
    "        f.write(file_obj[\"called_seq\"] + \"\\n\")\n",
    "        f.write(\"+\\n\")\n",
    "        f.write(file_obj[\"called_qual\"] + \"\\n\")\n"
   ]
  },
  {
   "cell_type": "code",
   "execution_count": 7,
   "metadata": {
    "collapsed": false
   },
   "outputs": [
    {
     "name": "stdout",
     "output_type": "stream",
     "text": [
      "[bwa_index] Pack FASTA... 0.00 sec\n",
      "[bwa_index] Construct BWT for the packed sequence...\n",
      "[bwa_index] 0.00 seconds elapse.\n",
      "[bwa_index] Update BWT... 0.00 sec\n",
      "[bwa_index] Pack forward-only FASTA... 0.00 sec\n",
      "[bwa_index] Construct SA from BWT and Occ... 0.00 sec\n",
      "[main] Version: 0.7.5a-r405\n",
      "[main] CMD: bwa index mouse_ref.fa\n",
      "[main] Real time: 0.065 sec; CPU: 0.009 sec\n"
     ]
    }
   ],
   "source": [
    "!bwa index mouse_ref.fa"
   ]
  },
  {
   "cell_type": "code",
   "execution_count": 8,
   "metadata": {
    "collapsed": false
   },
   "outputs": [
    {
     "name": "stdout",
     "output_type": "stream",
     "text": [
      "[M::main_mem] read 73 sequences (407165 bp)...\n",
      "[main] Version: 0.7.5a-r405\n",
      "[main] CMD: bwa mem -t 3 mouse_ref.fa mouse_all_reads.fastq\n",
      "[main] Real time: 0.086 sec; CPU: 0.186 sec\n"
     ]
    }
   ],
   "source": [
    "!bwa mem -t 3 mouse_ref.fa mouse_all_reads.fastq > mouse_all_reads.sam"
   ]
  },
  {
   "cell_type": "code",
   "execution_count": 11,
   "metadata": {
    "collapsed": false
   },
   "outputs": [
    {
     "name": "stdout",
     "output_type": "stream",
     "text": [
      "[samopen] SAM header is present: 1 sequences.\r\n"
     ]
    }
   ],
   "source": [
    "!samtools view -S -b mouse_all_reads.sam > mouse_all_reads.bam"
   ]
  },
  {
   "cell_type": "code",
   "execution_count": 15,
   "metadata": {
    "collapsed": true
   },
   "outputs": [],
   "source": [
    "!samtools sort mouse_all_reads.bam mouse_all_reads.sorted"
   ]
  },
  {
   "cell_type": "code",
   "execution_count": 17,
   "metadata": {
    "collapsed": false
   },
   "outputs": [],
   "source": [
    "!samtools index mouse_all_reads.sorted.bam"
   ]
  },
  {
   "cell_type": "code",
   "execution_count": 18,
   "metadata": {
    "collapsed": true
   },
   "outputs": [],
   "source": [
    "samfile = pysam.AlignmentFile(\"mouse_all_reads.sorted.bam\")"
   ]
  },
  {
   "cell_type": "code",
   "execution_count": 19,
   "metadata": {
    "collapsed": true
   },
   "outputs": [],
   "source": [
    "reads = [x for x in samfile.fetch()]"
   ]
  },
  {
   "cell_type": "code",
   "execution_count": 24,
   "metadata": {
    "collapsed": false,
    "scrolled": false
   },
   "outputs": [],
   "source": [
    "read = reads[1]"
   ]
  },
  {
   "cell_type": "code",
   "execution_count": 25,
   "metadata": {
    "collapsed": false
   },
   "outputs": [
    {
     "data": {
      "text/plain": [
       "[(0, 587),\n",
       " (1, 588),\n",
       " (2, 589),\n",
       " (3, 590),\n",
       " (4, 591),\n",
       " (5, 592),\n",
       " (6, 593),\n",
       " (7, 594),\n",
       " (8, 595),\n",
       " (9, 596),\n",
       " (10, 597),\n",
       " (11, 598),\n",
       " (12, 599),\n",
       " (None, 600),\n",
       " (13, 601),\n",
       " (14, 602),\n",
       " (15, 603),\n",
       " (16, 604),\n",
       " (17, 605),\n",
       " (18, 606),\n",
       " (19, 607),\n",
       " (20, 608),\n",
       " (21, 609),\n",
       " (22, 610),\n",
       " (23, 611),\n",
       " (24, 612),\n",
       " (25, 613),\n",
       " (26, 614),\n",
       " (27, 615),\n",
       " (28, 616),\n",
       " (29, 617),\n",
       " (30, 618),\n",
       " (31, 619),\n",
       " (32, 620),\n",
       " (33, 621),\n",
       " (34, 622),\n",
       " (35, 623),\n",
       " (36, 624),\n",
       " (37, 625),\n",
       " (38, 626),\n",
       " (39, 627),\n",
       " (40, 628),\n",
       " (41, 629),\n",
       " (42, 630),\n",
       " (43, 631),\n",
       " (44, 632),\n",
       " (45, 633),\n",
       " (46, 634),\n",
       " (47, 635),\n",
       " (48, 636)]"
      ]
     },
     "execution_count": 25,
     "metadata": {},
     "output_type": "execute_result"
    }
   ],
   "source": [
    "read.aligned_pairs"
   ]
  },
  {
   "cell_type": "code",
   "execution_count": null,
   "metadata": {
    "collapsed": true
   },
   "outputs": [],
   "source": []
  }
 ],
 "metadata": {
  "kernelspec": {
   "display_name": "Python 3",
   "language": "python",
   "name": "python3"
  },
  "language_info": {
   "codemirror_mode": {
    "name": "ipython",
    "version": 3
   },
   "file_extension": ".py",
   "mimetype": "text/x-python",
   "name": "python",
   "nbconvert_exporter": "python",
   "pygments_lexer": "ipython3",
   "version": "3.4.3"
  }
 },
 "nbformat": 4,
 "nbformat_minor": 0
}
