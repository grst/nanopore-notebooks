{
 "cells": [
  {
   "cell_type": "code",
   "execution_count": 1,
   "metadata": {
    "collapsed": false
   },
   "outputs": [],
   "source": [
    "%load_ext autoreload\n",
    "%autoreload 2\n",
    "import rpy2.robjects as robjects\n",
    "from rpy2.robjects import numpy2ri\n",
    "import rpy2\n",
    "from pprint import pprint\n",
    "import re\n",
    "import numpy as np\n",
    "import pickle\n",
    "from collections import OrderedDict\n",
    "from itertools import repeat, count, product\n",
    "from skbio.alignment import StripedSmithWaterman, local_pairwise_align_ssw\n",
    "import sys\n",
    "sys.path.append(\"../../..\")\n",
    "from analysis_tools import KmerAligner\n",
    "%run ../lib.ipynb\n",
    "import pysam"
   ]
  },
  {
   "cell_type": "code",
   "execution_count": 2,
   "metadata": {
    "collapsed": false
   },
   "outputs": [],
   "source": [
    "file_data = pickle.load(open(\"mouse_file_data.pickle\", 'rb'))"
   ]
  },
  {
   "cell_type": "code",
   "execution_count": 3,
   "metadata": {
    "collapsed": true
   },
   "outputs": [],
   "source": [
    "ref = !cat mouse_ref.fa | grep -v \">\"\n",
    "ref = ref[0]"
   ]
  },
  {
   "cell_type": "code",
   "execution_count": 4,
   "metadata": {
    "collapsed": true
   },
   "outputs": [],
   "source": [
    "with open(\"mouse_all_reads.fastq\", 'w') as f: \n",
    "    for file_obj in file_data:\n",
    "        f.write(\"@ch{0}_file{1}_template\\n\".format(file_obj[\"channel\"], file_obj[\"file_id\"]))\n",
    "        f.write(file_obj[\"called_seq\"] + \"\\n\")\n",
    "        f.write(\"+\\n\")\n",
    "        f.write(file_obj[\"called_qual\"] + \"\\n\")\n"
   ]
  },
  {
   "cell_type": "code",
   "execution_count": 5,
   "metadata": {
    "collapsed": false
   },
   "outputs": [
    {
     "name": "stdout",
     "output_type": "stream",
     "text": [
      "[bwa_index] Pack FASTA... 0.00 sec\n",
      "[bwa_index] Construct BWT for the packed sequence...\n",
      "[bwa_index] 0.01 seconds elapse.\n",
      "[bwa_index] Update BWT... 0.00 sec\n",
      "[bwa_index] Pack forward-only FASTA... 0.00 sec\n",
      "[bwa_index] Construct SA from BWT and Occ... 0.00 sec\n",
      "[main] Version: 0.7.5a-r405\n",
      "[main] CMD: bwa index mouse_ref.fa\n",
      "[main] Real time: 0.048 sec; CPU: 0.013 sec\n"
     ]
    }
   ],
   "source": [
    "!bwa index mouse_ref.fa"
   ]
  },
  {
   "cell_type": "code",
   "execution_count": 6,
   "metadata": {
    "collapsed": false
   },
   "outputs": [
    {
     "name": "stdout",
     "output_type": "stream",
     "text": [
      "[M::main_mem] read 73 sequences (407165 bp)...\n",
      "[main] Version: 0.7.5a-r405\n",
      "[main] CMD: bwa mem -t 3 mouse_ref.fa mouse_all_reads.fastq\n",
      "[main] Real time: 0.091 sec; CPU: 0.204 sec\n"
     ]
    }
   ],
   "source": [
    "!bwa mem -t 3 mouse_ref.fa mouse_all_reads.fastq > mouse_all_reads.sam"
   ]
  },
  {
   "cell_type": "code",
   "execution_count": 7,
   "metadata": {
    "collapsed": false
   },
   "outputs": [
    {
     "name": "stdout",
     "output_type": "stream",
     "text": [
      "[samopen] SAM header is present: 1 sequences.\r\n"
     ]
    }
   ],
   "source": [
    "!samtools view -S -b mouse_all_reads.sam > mouse_all_reads.bam"
   ]
  },
  {
   "cell_type": "code",
   "execution_count": 8,
   "metadata": {
    "collapsed": true
   },
   "outputs": [],
   "source": [
    "!samtools sort mouse_all_reads.bam mouse_all_reads.sorted"
   ]
  },
  {
   "cell_type": "code",
   "execution_count": 9,
   "metadata": {
    "collapsed": false
   },
   "outputs": [],
   "source": [
    "!samtools index mouse_all_reads.sorted.bam"
   ]
  },
  {
   "cell_type": "code",
   "execution_count": 10,
   "metadata": {
    "collapsed": true
   },
   "outputs": [],
   "source": [
    "samfile = pysam.AlignmentFile(\"mouse_all_reads.sorted.bam\")\n",
    "samreads = {}"
   ]
  },
  {
   "cell_type": "code",
   "execution_count": 11,
   "metadata": {
    "collapsed": false,
    "scrolled": false
   },
   "outputs": [
    {
     "name": "stdout",
     "output_type": "stream",
     "text": [
      "73\n"
     ]
    }
   ],
   "source": [
    "print(len(file_data))"
   ]
  },
  {
   "cell_type": "code",
   "execution_count": 12,
   "metadata": {
    "collapsed": false
   },
   "outputs": [
    {
     "name": "stdout",
     "output_type": "stream",
     "text": [
      "Query Length 0\n"
     ]
    }
   ],
   "source": [
    "kmer_aligner = KmerAligner(\"\")"
   ]
  },
  {
   "cell_type": "code",
   "execution_count": 13,
   "metadata": {
    "collapsed": true
   },
   "outputs": [],
   "source": [
    "fmap = {}\n",
    "for f in file_data: \n",
    "    fmap[\"ch{0}_file{1}\".format(f[\"channel\"], f[\"file_id\"])] = f"
   ]
  },
  {
   "cell_type": "code",
   "execution_count": 14,
   "metadata": {
    "collapsed": true
   },
   "outputs": [],
   "source": [
    "def get_file(channel, file_id):\n",
    "    return fmap[\"ch{0}_file{1}\".format(channel, file_id)]"
   ]
  },
  {
   "cell_type": "code",
   "execution_count": 15,
   "metadata": {
    "collapsed": false
   },
   "outputs": [
    {
     "data": {
      "text/plain": [
       "104"
      ]
     },
     "execution_count": 15,
     "metadata": {},
     "output_type": "execute_result"
    }
   ],
   "source": [
    "reads  = [x for x in samfile.fetch()]\n",
    "len(reads)"
   ]
  },
  {
   "cell_type": "code",
   "execution_count": 16,
   "metadata": {
    "collapsed": true
   },
   "outputs": [],
   "source": [
    "NMER = 5"
   ]
  },
  {
   "cell_type": "code",
   "execution_count": 17,
   "metadata": {
    "collapsed": false
   },
   "outputs": [],
   "source": [
    "class AlignmentEndException(Exception):\n",
    "    pass\n",
    "\n",
    "def event_indexes(pairing_seq, offset):\n",
    "    \"\"\" get the next entries from the pairing array\n",
    "    such that k non-gap characters are contained\"\"\"\n",
    "    count = 0\n",
    "    kmer = []\n",
    "    for i in range(offset, len(pairing_seq)): \n",
    "        if count == NMER: break\n",
    "        if pairing_seq[i] is not None:\n",
    "            count += 1\n",
    "            kmer.append(i)\n",
    "    if len(kmer) != NMER: \n",
    "        raise AlignmentEndException\n",
    "    return kmer\n",
    "    \n",
    "    "
   ]
  },
  {
   "cell_type": "code",
   "execution_count": 18,
   "metadata": {
    "collapsed": false
   },
   "outputs": [],
   "source": [
    "def gapmove(to_move, seq, offset):\n",
    "    \"\"\"move by 'move' (from metrichor) in the aligned sequence. \n",
    "    additionally increase index to compensate for each gap\n",
    "    \"\"\"\n",
    "    move = to_move\n",
    "    for i in seq[offset:]: \n",
    "        if i is None: \n",
    "            move += 1\n",
    "        else:\n",
    "            to_move -= 1\n",
    "            if to_move <= 0:\n",
    "                return move"
   ]
  },
  {
   "cell_type": "code",
   "execution_count": 19,
   "metadata": {
    "collapsed": true
   },
   "outputs": [],
   "source": [
    "def get_nt_kmer(index, pairs, seq): \n",
    "    \"\"\"convert sequence indexes into the corresponding nucleotides. \n",
    "    gaps are converted into '' \n",
    "    \"\"\"\n",
    "    seq_index = [pairs[x] for x in index]\n",
    "    nt_kmer = [seq[x] for x in seq_index]\n",
    "    return \"\".join(nt_kmer)\n"
   ]
  },
  {
   "cell_type": "code",
   "execution_count": 20,
   "metadata": {
    "collapsed": true
   },
   "outputs": [],
   "source": [
    "def is_consecutive_seq(seq):\n",
    "    \"\"\"check if the sequence 'seq' consists of consecutive numbers\"\"\"\n",
    "    return len(set(list(map(lambda ix:ix[1]-ix[0], enumerate(seq))))) <= 1"
   ]
  },
  {
   "cell_type": "code",
   "execution_count": 21,
   "metadata": {
    "collapsed": false
   },
   "outputs": [],
   "source": [
    "def is_correct_kmer(ev_index, pairs, read, ref):\n",
    "    \"\"\"check if a kmer corresponds completely wit the reference. \n",
    "    This is the case if: \n",
    "        * the read positions are consecutive (no indels)\n",
    "        * the ref positions are consecutive (no indels)\n",
    "        * the nucleotides are idential (no substitutions)\n",
    "    \"\"\"\n",
    "    assert(len(ev_index) == NMER), \"invalid event index\"\n",
    "    read_index = [pairs[0][x] for x in ev_index]\n",
    "    ref_index = [pairs[1][x] for x in ev_index]\n",
    "    \n",
    "    if None in read_index or not is_consecutive_seq(read_index): \n",
    "        \"\"\"indel in read\"\"\"\n",
    "        return False\n",
    "             \n",
    "    if None in ref_index or not is_consecutive_seq(ref_index): \n",
    "        \"\"\"indel in ref\"\"\"\n",
    "        return False\n",
    "             \n",
    "    read_seq = [read[x] for x in read_index]\n",
    "    ref_seq = [ref[x] for x in ref_index]\n",
    "    if read_seq == ref_seq:\n",
    "        \"\"\"full_match\"\"\"\n",
    "        return True\n",
    "    else: \n",
    "        \"\"\"substitution\"\"\"\n",
    "        return False\n",
    "    "
   ]
  },
  {
   "cell_type": "code",
   "execution_count": 27,
   "metadata": {
    "collapsed": false,
    "scrolled": false
   },
   "outputs": [
    {
     "name": "stdout",
     "output_type": "stream",
     "text": [
      "0 5 227\n",
      "1 1 157\n",
      "2 15 215\n",
      "3 13 141\n",
      "4 16 215\n",
      "5 24 212\n",
      "6 5 204\n",
      "7 19 135\n",
      "8 12 206\n",
      "9 12 206\n",
      "10 17 132\n",
      "11 15 215\n",
      "12 10 132\n",
      "13 9 215\n",
      "14 9 215\n",
      "15 3 211\n",
      "16 11 156\n",
      "17 3 156\n",
      "18 15 215\n",
      "19 3 156\n",
      "20 9 215\n",
      "21 17 132\n",
      "22 5 204\n",
      "23 10 156\n",
      "24 12 206\n",
      "25 6 156\n",
      "26 3 195\n",
      "27 3 211\n",
      "28 12 211\n",
      "29 1 157\n",
      "30 10 132\n",
      "31 11 156\n",
      "32 11 133\n",
      "33 17 132\n",
      "34 1 157\n",
      "35 3 156\n",
      "36 3 156\n",
      "37 12 206\n",
      "38 9 215\n",
      "39 11 156\n",
      "40 33 135\n",
      "41 1 157\n",
      "42 20 211\n",
      "43 10 132\n",
      "44 10 132\n",
      "45 3 156\n",
      "46 15 215\n",
      "47 3 211\n",
      "48 1 157\n",
      "49 3 195\n",
      "50 3 156\n",
      "51 11 133\n",
      "52 1 157\n",
      "53 10 156\n",
      "54 1 157\n",
      "55 11 133\n",
      "56 20 206\n",
      "57 14 209\n",
      "58 10 156\n",
      "59 9 215\n",
      "60 15 215\n",
      "61 1 157\n",
      "62 3 156\n",
      "63 17 132\n",
      "64 15 215\n",
      "65 3 211\n",
      "66 9 215\n",
      "67 20 206\n",
      "68 10 132\n",
      "69 4 204\n",
      "70 9 206\n",
      "71 9 206\n",
      "72 21 223\n",
      "73 23 215\n",
      "74 23 215\n",
      "75 4 204\n",
      "76 44 132\n",
      "77 23 215\n",
      "78 23 215\n",
      "79 2 133\n",
      "80 2 133\n",
      "81 4 204\n",
      "82 2 133\n",
      "83 23 132\n",
      "84 8 204\n",
      "85 4 204\n",
      "86 3 132\n",
      "87 8 204\n",
      "88 16 215\n",
      "89 4 206\n",
      "90 9 215\n",
      "91 12 206\n",
      "92 1 157\n",
      "93 19 135\n",
      "94 12 215\n",
      "95 1 157\n",
      "96 3 211\n",
      "97 25 215\n",
      "98 20 211\n",
      "99 12 206\n",
      "100 16 215\n",
      "101 20 211\n",
      "102 23 135\n",
      "103 1 157\n"
     ]
    }
   ],
   "source": [
    "true_events = 0\n",
    "total_events = 0\n",
    "\n",
    "for i, read in enumerate(reads):\n",
    "    file_id, channel_id = get_file_and_channel(read.query_name)\n",
    "    print(i, file_id, channel_id)\n",
    "    pairs = [list(t) for t in zip(*read.get_aligned_pairs())]\n",
    "    file_obj = get_file(channel_id, file_id)\n",
    "    events = file_obj[\"events\"]\n",
    "    i_seq = 0\n",
    "    assert(pairs[0][0] == 0), \"alignment is not null-indexed.\"\n",
    "       \n",
    "    ## map read to events\n",
    "    total_events += len(events)\n",
    "    for ev in events:\n",
    "        ev_kmer = ev[\"kmer\"]\n",
    "        i_seq += gapmove(ev[\"move\"], pairs[0], i_seq)\n",
    "        try:\n",
    "            ev_index = event_indexes(pairs[0], i_seq)\n",
    "        except AlignmentEndException:\n",
    "            \"\"\"not the whole read is aligned\"\"\"\n",
    "            break\n",
    "        read_kmer = get_nt_kmer(ev_index, pairs[0], file_obj[\"called_seq\"])       \n",
    "        assert(read_kmer == ev_kmer), (ev, read_kmer, ev_index)\n",
    "        if is_correct_kmer(ev_index, pairs, file_obj[\"called_seq\"], ref):\n",
    "            true_events += 1\n",
    "        \n"
   ]
  },
  {
   "cell_type": "code",
   "execution_count": 28,
   "metadata": {
    "collapsed": false
   },
   "outputs": [
    {
     "name": "stdout",
     "output_type": "stream",
     "text": [
      "0.0020408672360514753\n"
     ]
    }
   ],
   "source": [
    "print(true_events/total_events)"
   ]
  }
 ],
 "metadata": {
  "kernelspec": {
   "display_name": "Python 3",
   "language": "python",
   "name": "python3"
  },
  "language_info": {
   "codemirror_mode": {
    "name": "ipython",
    "version": 3
   },
   "file_extension": ".py",
   "mimetype": "text/x-python",
   "name": "python",
   "nbconvert_exporter": "python",
   "pygments_lexer": "ipython3",
   "version": "3.4.3"
  }
 },
 "nbformat": 4,
 "nbformat_minor": 0
}
