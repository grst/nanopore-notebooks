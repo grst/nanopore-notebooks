{
 "cells": [
  {
   "cell_type": "markdown",
   "metadata": {},
   "source": [
    "# Fast5 Raw Data extraction"
   ]
  },
  {
   "cell_type": "code",
   "execution_count": 1,
   "metadata": {
    "collapsed": false,
    "scrolled": false
   },
   "outputs": [
    {
     "name": "stdout",
     "output_type": "stream",
     "text": [
      "total 21G\r\n",
      "-rw-r--r-- 1 sturm sturm  832 Jul  7 12:04 conger_analys_log-2015-06-30_10-19-38.txt\r\n",
      "-rw-r--r-- 1 sturm sturm  102 Jul  7 12:04 conger_write_log-2015-06-30_13-09-12.txt\r\n",
      "-rw-r--r-- 1 sturm sturm  22K Jul  7 12:04 control_server_log-2015-06-29_08-34-14.txt\r\n",
      "-rw-r--r-- 1 sturm sturm  235 Jul  7 12:03 control_server_log-2015-06-30_13-14-13.txt\r\n",
      "-rw-r--r-- 1 sturm sturm 5.6K Jul  7 12:03 control_server_log-2015-06-30_13-22-24.txt\r\n",
      "-rw-r--r-- 1 sturm sturm 5.0K Jul  7 12:03 exec_end_history.txt\r\n",
      "-rw-r--r-- 1 sturm sturm 5.1K Jul  7 12:03 exec_start_history.txt\r\n",
      "-rw-r--r-- 1 sturm sturm 4.5M Jul  7 12:00 experimental_history.txt\r\n",
      "-rw-r--r-- 1 sturm sturm  11M Jul  7 12:05 IBIS218_010_036_0630102106.fast5\r\n",
      "-rw-r--r-- 1 sturm sturm  18M Jul  7 12:05 IBIS218_010_036_0630102144.fast5\r\n",
      "-rw-r--r-- 1 sturm sturm 442M Jul  7 12:05 IBIS218_010_036_20150630_FN_MN03800_system_mux_scan_RCC_Sample1_Elec0_83299.fast5\r\n",
      "-rw-r--r-- 1 sturm sturm 436M Jul  7 12:04 IBIS218_010_036_20150630_FN_MN03800_system_mux_scan_RCC_Sample2_Elec0_42194.fast5\r\n",
      "-rw-r--r-- 1 sturm sturm 421M Jul  7 12:03 IBIS218_010_036_20150630_FN_MN03800_system_mux_scan_RCC_Sample9_Elec0_79346.fast5\r\n",
      "-rw-r--r-- 1 sturm sturm 4.1G Jul  7 12:05 IBIS218_010_036_RCC_Sample1_2601_1.fast5\r\n",
      "-rw-r--r-- 1 sturm sturm  40M Jul  7 12:04 IBIS218_010_036_RCC_Sample2_2601_2.fast5\r\n",
      "-rw-r--r-- 1 sturm sturm 1.1G Jul  7 12:04 IBIS218_010_036_RCC_Sample2_4655_1.fast5.tmp\r\n",
      "-rw-r--r-- 1 sturm sturm  14G Jul  7 12:03 IBIS218_010_036_RCC_Sample9_3533_1.fast5\r\n",
      "-rw-r--r-- 1 sturm sturm    0 Jul  7 12:03 lost_frames_history.txt\r\n",
      "-rw-r--r-- 1 sturm sturm 376K Jul  7 12:04 manta_log-2015-06-30_10-15-15.txt\r\n",
      "-rw-r--r-- 1 sturm sturm  161 Jul  7 12:03 manta_log-2015-06-30_13-25-16.txt\r\n",
      "-rw-r--r-- 1 sturm sturm  630 Jul  7 12:03 native_client_main_log-2015-06-30_13-15-11.txt\r\n",
      "-rw-r--r-- 1 sturm sturm  420 Jul  7 12:03 native_client_main_log-2015-06-30_13-16-49.txt\r\n",
      "-rw-r--r-- 1 sturm sturm  420 Jul  7 12:03 native_client_main_log-2015-06-30_13-24-09.txt\r\n",
      "-rw-r--r-- 1 sturm sturm  39M Jul  7 12:05 RCC.fast5\r\n",
      "-rw-r--r-- 1 sturm sturm  40M Jul  7 12:03 RCC_Sample9_Dataset.fast5\r\n",
      "drwxr-xr-x 3 sturm sturm  64K Jul  7 12:00 reads\r\n",
      "-rw-r--r-- 1 sturm sturm    0 Jul  7 12:00 script_history.txt\r\n",
      "-rw-r--r-- 1 sturm sturm  23K Jul  7 12:03 startup_log.txt\r\n",
      "-rw-r--r-- 1 sturm sturm  746 Jul  7 12:03 version_history.txt\r\n",
      "-rw-r--r-- 1 sturm sturm  579 Jul  7 12:04 ws_data_streamer_log-2015-06-29_08-35-24.txt\r\n",
      "-rw-r--r-- 1 sturm sturm  621 Jul  7 12:03 ws_data_streamer_log-2015-06-30_13-15-11.txt\r\n",
      "-rw-r--r-- 1 sturm sturm  137 Jul  7 12:03 ws_data_streamer_log-2015-06-30_13-24-09.txt\r\n",
      "-rw-r--r-- 1 sturm sturm   97 Jul  7 12:03 ws_jsonsm_log-2015-06-30_13-15-04.txt\r\n",
      "-rw-r--r-- 1 sturm sturm   97 Jul  7 12:03 ws_jsonsm_log-2015-06-30_13-16-43.txt\r\n",
      "-rw-r--r-- 1 sturm sturm   97 Jul  7 12:03 ws_jsonsm_log-2015-06-30_13-23-59.txt\r\n",
      "-rw-r--r-- 1 sturm sturm  579 Jul  7 12:04 ws_longpoll_log-2015-06-29_08-35-24.txt\r\n",
      "-rw-r--r-- 1 sturm sturm  621 Jul  7 12:03 ws_longpoll_log-2015-06-30_13-15-11.txt\r\n",
      "-rw-r--r-- 1 sturm sturm  137 Jul  7 12:03 ws_longpoll_log-2015-06-30_13-24-09.txt\r\n"
     ]
    }
   ],
   "source": [
    "!ls -lh \"../data/raw\""
   ]
  },
  {
   "cell_type": "code",
   "execution_count": 2,
   "metadata": {
    "collapsed": true
   },
   "outputs": [],
   "source": [
    "f5path = \"../data/raw/IBIS218_010_036_RCC_Sample1_2601_1.fast5\"\n",
    "channels = [1]"
   ]
  },
  {
   "cell_type": "code",
   "execution_count": 3,
   "metadata": {
    "collapsed": false
   },
   "outputs": [],
   "source": [
    "import h5py\n",
    "import numpy as np\n",
    "from pprint import pprint\n",
    "from pylab import *\n",
    "import seaborn as sns"
   ]
  },
  {
   "cell_type": "code",
   "execution_count": 4,
   "metadata": {
    "collapsed": true
   },
   "outputs": [],
   "source": [
    "f = h5py.File(f5path, 'r')"
   ]
  },
  {
   "cell_type": "code",
   "execution_count": 5,
   "metadata": {
    "collapsed": false
   },
   "outputs": [],
   "source": [
    "dataset = f[\"/Raw/Channel_144/Signal\"]"
   ]
  },
  {
   "cell_type": "code",
   "execution_count": 7,
   "metadata": {
    "collapsed": false
   },
   "outputs": [
    {
     "data": {
      "text/plain": [
       "array([553, 547, 551, ...,  -1,  -6,  -3], dtype=int16)"
      ]
     },
     "execution_count": 7,
     "metadata": {},
     "output_type": "execute_result"
    }
   ],
   "source": [
    "np.array(dataset)"
   ]
  },
  {
   "cell_type": "code",
   "execution_count": 53,
   "metadata": {
    "collapsed": false
   },
   "outputs": [],
   "source": [
    "%matplotlib inline"
   ]
  },
  {
   "cell_type": "code",
   "execution_count": 54,
   "metadata": {
    "collapsed": false
   },
   "outputs": [
    {
     "data": {
      "text/plain": [
       "array([549, 545, 549, ..., 548, 550, 543], dtype=int16)"
      ]
     },
     "execution_count": 54,
     "metadata": {},
     "output_type": "execute_result"
    }
   ],
   "source": [
    "dataset[20000:30000]"
   ]
  },
  {
   "cell_type": "code",
   "execution_count": 57,
   "metadata": {
    "collapsed": false
   },
   "outputs": [
    {
     "data": {
      "text/plain": [
       "[<matplotlib.lines.Line2D at 0x7fd261805518>]"
      ]
     },
     "execution_count": 57,
     "metadata": {},
     "output_type": "execute_result"
    },
    {
     "data": {
      "image/png": "[encoded data removed]",
      "text/plain": [
       "<matplotlib.figure.Figure at 0x7fd261896da0>"
      ]
     },
     "metadata": {},
     "output_type": "display_data"
    }
   ],
   "source": [
    "plot(dataset[200000:300000])"
   ]
  },
  {
   "cell_type": "code",
   "execution_count": null,
   "metadata": {
    "collapsed": true
   },
   "outputs": [],
   "source": []
  },
  {
   "cell_type": "code",
   "execution_count": null,
   "metadata": {
    "collapsed": true
   },
   "outputs": [],
   "source": []
  }
 ],
 "metadata": {
  "kernelspec": {
   "display_name": "Python 3",
   "language": "python",
   "name": "python3"
  },
  "language_info": {
   "codemirror_mode": {
    "name": "ipython",
    "version": 3
   },
   "file_extension": ".py",
   "mimetype": "text/x-python",
   "name": "python",
   "nbconvert_exporter": "python",
   "pygments_lexer": "ipython3",
   "version": "3.4.3"
  }
 },
 "nbformat": 4,
 "nbformat_minor": 0
}
