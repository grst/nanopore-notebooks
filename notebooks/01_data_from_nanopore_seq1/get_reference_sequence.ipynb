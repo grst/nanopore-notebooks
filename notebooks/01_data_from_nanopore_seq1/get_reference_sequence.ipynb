{
 "cells": [
  {
   "cell_type": "code",
   "execution_count": 1,
   "metadata": {
    "collapsed": true
   },
   "outputs": [],
   "source": [
    "reference_scaffold = \"../data/illumina_reference/p3_i2_t112498_Ram_collo_cygni_ge.contig.fa\""
   ]
  },
  {
   "cell_type": "code",
   "execution_count": 2,
   "metadata": {
    "collapsed": false
   },
   "outputs": [
    {
     "name": "stdout",
     "output_type": "stream",
     "text": [
      "\n",
      "\n",
      "Building a new DB, current time: 07/08/2015 13:24:57\n",
      "New DB name:   /home/sturm/repos/uni/nanopore/own/data/illumina_reference/p3_i2_t112498_Ram_collo_cygni_ge.contig.fa\n",
      "New DB title:  ../data/illumina_reference/p3_i2_t112498_Ram_collo_cygni_ge.contig.fa\n",
      "Sequence type: Nucleotide\n",
      "Deleted existing Nucleotide BLAST database named /home/sturm/repos/uni/nanopore/own/data/illumina_reference/p3_i2_t112498_Ram_collo_cygni_ge.contig.fa\n",
      "Keep Linkouts: T\n",
      "Keep MBits: T\n",
      "Maximum file size: 1000000000B\n",
      "Adding sequences from FASTA; added 78 sequences in 0.774685 seconds.\n"
     ]
    }
   ],
   "source": [
    "!makeblastdb -in {reference_scaffold} -parse_seqids -dbtype nucl"
   ]
  },
  {
   "cell_type": "code",
   "execution_count": 3,
   "metadata": {
    "collapsed": true
   },
   "outputs": [],
   "source": [
    "!poretools fasta ../data/Download/IBIS218_010_036_RCC_Sample1_2601_1_ch220_file0_strand.fast5 > /tmp/metseq.fa"
   ]
  },
  {
   "cell_type": "code",
   "execution_count": 5,
   "metadata": {
    "collapsed": false
   },
   "outputs": [
    {
     "name": "stdout",
     "output_type": "stream",
     "text": [
      "BLASTN 2.2.31+\r\n",
      "\r\n",
      "\r\n",
      "Reference: Zheng Zhang, Scott Schwartz, Lukas Wagner, and Webb\r\n",
      "Miller (2000), \"A greedy algorithm for aligning DNA sequences\", J\r\n",
      "Comput Biol 2000; 7(1-2):203-14.\r\n",
      "\r\n",
      "\r\n",
      "\r\n",
      "Database: ../data/illumina_reference/p3_i2_t112498_Ram_collo_cygni_ge.contig.f\r\n",
      "a\r\n",
      "           78 sequences; 32,254,922 total letters\r\n",
      "\r\n",
      "\r\n",
      "\r\n",
      "Query= 12a05e3c-cb49-4f7b-ad5a-6325f705b3a0_Basecall_2D_000_template\r\n",
      "IBIS218_010_036_RCC_Sample1_2601_1_ch220_file0_strand_template\r\n",
      "../data/Download/IBIS218_010_036_RCC_Sample1_2601_1_ch220_file0_stra\r\n",
      "nd.fast5\r\n",
      "\r\n",
      "Length=1238\r\n",
      "\r\n",
      "\r\n",
      "***** No hits found *****\r\n",
      "\r\n",
      "\r\n",
      "\r\n",
      "Lambda      K        H\r\n",
      "    1.33    0.621     1.12 \r\n",
      "\r\n",
      "Gapped\r\n",
      "Lambda      K        H\r\n",
      "    1.28    0.460    0.850 \r\n",
      "\r\n",
      "Effective search space used: 39122855036\r\n",
      "\r\n",
      "\r\n",
      "  Database: ../data/illumina_reference/p3_i2_t112498_Ram_collo_cygni_ge.contig.f\r\n",
      "a\r\n",
      "    Posted date:  Jul 8, 2015  1:24 PM\r\n",
      "  Number of letters in database: 32,254,922\r\n",
      "  Number of sequences in database:  78\r\n",
      "\r\n",
      "\r\n",
      "\r\n",
      "Matrix: blastn matrix 1 -2\r\n",
      "Gap Penalties: Existence: 0, Extension: 2.5\r\n"
     ]
    }
   ],
   "source": [
    "!blastn -db /home/sturm/repos/uni/nanopore/own/data/illumina_reference/p3_i2_t112498_Ram_collo_cygni_ge.contig.fa -query /tmp/metseq.fa"
   ]
  },
  {
   "cell_type": "code",
   "execution_count": null,
   "metadata": {
    "collapsed": true
   },
   "outputs": [],
   "source": []
  }
 ],
 "metadata": {
  "kernelspec": {
   "display_name": "Python 3",
   "language": "python",
   "name": "python3"
  },
  "language_info": {
   "codemirror_mode": {
    "name": "ipython",
    "version": 3
   },
   "file_extension": ".py",
   "mimetype": "text/x-python",
   "name": "python",
   "nbconvert_exporter": "python",
   "pygments_lexer": "ipython3",
   "version": "3.4.3"
  }
 },
 "nbformat": 4,
 "nbformat_minor": 0
}
