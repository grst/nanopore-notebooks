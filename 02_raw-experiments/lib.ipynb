{
 "cells": [
  {
   "cell_type": "code",
   "execution_count": null,
   "metadata": {
    "collapsed": false
   },
   "outputs": [],
   "source": [
    "import re\n",
    "%load_ext autoreload\n",
    "%autoreload 1"
   ]
  },
  {
   "cell_type": "code",
   "execution_count": null,
   "metadata": {
    "collapsed": true
   },
   "outputs": [],
   "source": [
    "def length_standard(n):\n",
    "    out = []\n",
    "    for i in range(n):\n",
    "        if i % 10 == 0:\n",
    "            out.append((i - 100*(i/100.)) / 10.)\n",
    "        elif i % 5 == 0:\n",
    "            out.append(\":\")\n",
    "        else:\n",
    "            out.append(\".\")\n",
    "    return \"\".join(map(str, out))"
   ]
  },
  {
   "cell_type": "markdown",
   "metadata": {
    "collapsed": true
   },
   "source": [
    "# Fast 5 data reading routines "
   ]
  },
  {
   "cell_type": "code",
   "execution_count": null,
   "metadata": {
    "collapsed": true
   },
   "outputs": [],
   "source": [
    "import h5py\n",
    "import numpy as np\n",
    "import pandas as pd\n",
    "from pprint import pprint\n",
    "import sys\n",
    "sys.path.append(\"../../../tools/fast5py/\")"
   ]
  },
  {
   "cell_type": "code",
   "execution_count": null,
   "metadata": {
    "collapsed": true
   },
   "outputs": [],
   "source": [
    "def get_file_and_channel(filename):\n",
    "    result = re.search(r'ch(\\d+)_file(\\d+)_', filename)\n",
    "    file_id = int(result.group(2))\n",
    "    channel_id = int(result.group(1))\n",
    "    return file_id, channel_id"
   ]
  },
  {
   "cell_type": "markdown",
   "metadata": {},
   "source": [
    "####Events-Table\n",
    "file\tstrand\tmean\tstart\tstdv\tlength\tmodel_state\tmodel_level\tmove\tp_model_state\tmp_model_state\tp_mp_model_state\tp_A\tp_C\tp_G\tp_T\traw_index\n",
    "\n",
    "only look at the \"template\" seq for the beginning\n"
   ]
  },
  {
   "cell_type": "code",
   "execution_count": null,
   "metadata": {
    "collapsed": false
   },
   "outputs": [],
   "source": [
    "def kmer2move(prev_kmer, curr_kmer):\n",
    "    \"\"\"calculates the shift between two kmers. \n",
    "    If multiple shifts are possible (repeats), \n",
    "    the minimal possible shift is assumed.\"\"\"\n",
    "    if(prev_kmer is None): return 0 #first position \n",
    "    assert len(prev_kmer) == len(curr_kmer)\n",
    "    l = len(prev_kmer)\n",
    "    for i in range(0, l): \n",
    "        if prev_kmer[i:] == curr_kmer[:l-i]:\n",
    "            return i\n",
    "\n",
    "def process_metrichor_files(files, verbose=False):\n",
    "    \"\"\"\n",
    "    reads every filename in files with poretools and \n",
    "    extracts events and metadata\n",
    "    \"\"\"\n",
    "    \n",
    "    file_data = []\n",
    "    for file in files: \n",
    "        types = [\"template\", \"complement\", \"2D\"]\n",
    "        file_id, ch_id = get_file_and_channel(file)\n",
    "        if (verbose): \n",
    "            print(\"processing file {0} channel {1}\".format(\n",
    "                file_id, ch_id))\n",
    "\n",
    "        f5 = h5py.File(file, 'r')\n",
    "        fastq = {}\n",
    "        for t in types: \n",
    "            try: \n",
    "                fastq[t] = bytes(f5['/Analyses/Basecall_2D_000/BaseCalled_{0}/Fastq'.format(t)][...]).decode('utf-8')\n",
    "            except KeyError:\n",
    "                fastq[t] = None\n",
    "                \n",
    "        if(all([not x for x in fastq.values()])): \n",
    "            print(\"empty file, skipped. \")\n",
    "            continue\n",
    "            \n",
    "        events = {}\n",
    "        for t in [\"template\", \"complement\"]: \n",
    "            if fastq[t]:\n",
    "                events[t] = f5['/Analyses/Basecall_2D_000/BaseCalled_{0}/Events'.format(t)]\n",
    "                \n",
    "        if fastq[\"2D\"]:\n",
    "            \"\"\"2d read\"\"\"\n",
    "            aln = f5['/Analyses/Basecall_2D_000/BaseCalled_2D/Alignment']   \n",
    "            events[\"2D\"] = []\n",
    "            prev_kmer = None\n",
    "            for pos in aln:  \n",
    "                ids = {}\n",
    "                ids[\"template\"], ids[\"complement\"], kmer = pos\n",
    "                move = kmer2move(prev_kmer, kmer)\n",
    "                prev_kmer = kmer\n",
    "                ev = {}\n",
    "                ev[\"move\"] = move\n",
    "                ev[\"kmer\"] = bytes(kmer).decode('utf-8')\n",
    "                for t, tmp_id in ids.items():  \n",
    "                    tmp_event = None if tmp_id < 0 else events[t][tmp_id]\n",
    "                    ev[t] = tmp_id\n",
    "                    ev[\"{0}.mean\".format(t)] = None if tmp_event is None else tmp_event[0]\n",
    "                    ev[\"{0}.start\".format(t)] = None if tmp_event is None else round(float(tmp_event[1]) * SRATE)\n",
    "                    ev[\"{0}.stdv\".format(t)] = None if tmp_event is None else tmp_event[2]\n",
    "                    ev[\"{0}.end\".format(t)] = None if tmp_event is None else (\n",
    "                                round((float(tmp_event[1]) + float(tmp_event[3])) * SRATE)-1)\n",
    "                    \n",
    "                events[\"2D\"].append(ev)\n",
    "            \n",
    "        else: \n",
    "            \"\"\"1d read(s) only\"\"\"\n",
    "            ## not implemented\n",
    "            print(\"no 2d reads, skipped.\")\n",
    "            continue\n",
    "            \n",
    "            \n",
    "        f_obj = {\n",
    "            \"channel\": ch_id,\n",
    "            \"file_id\": file_id, \n",
    "            \"events\": pd.DataFrame(events[\"2D\"]),\n",
    "            \"fastq\": fastq[\"2D\"]\n",
    "        }\n",
    "        file_data.append(f_obj)\n",
    "        \n",
    "    return file_data"
   ]
  },
  {
   "cell_type": "markdown",
   "metadata": {},
   "source": [
    "# Alingment tools"
   ]
  },
  {
   "cell_type": "code",
   "execution_count": null,
   "metadata": {
    "collapsed": true
   },
   "outputs": [],
   "source": [
    "def prepare_sam(basename):\n",
    "    !samtools view -S -b {basename}.sam > {basename}.bam\n",
    "    !samtools sort {basename}.bam {basename}.sorted\n",
    "    !samtools index {basename}.sorted.bam"
   ]
  },
  {
   "cell_type": "code",
   "execution_count": null,
   "metadata": {
    "collapsed": true
   },
   "outputs": [],
   "source": []
  }
 ],
 "metadata": {
  "kernelspec": {
   "display_name": "Python 3",
   "language": "python",
   "name": "python3"
  },
  "language_info": {
   "codemirror_mode": {
    "name": "ipython",
    "version": 3
   },
   "file_extension": ".py",
   "mimetype": "text/x-python",
   "name": "python",
   "nbconvert_exporter": "python",
   "pygments_lexer": "ipython3",
   "version": "3.4.3"
  }
 },
 "nbformat": 4,
 "nbformat_minor": 0
}
