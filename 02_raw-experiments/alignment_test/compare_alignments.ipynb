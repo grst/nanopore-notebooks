{
 "cells": [
  {
   "cell_type": "code",
   "execution_count": 18,
   "metadata": {
    "collapsed": true
   },
   "outputs": [],
   "source": [
    "%run ../lib.ipynb"
   ]
  },
  {
   "cell_type": "code",
   "execution_count": 6,
   "metadata": {
    "collapsed": false
   },
   "outputs": [
    {
     "name": "stdout",
     "output_type": "stream",
     "text": [
      "[M::bwa_idx_load_from_disk] read 0 ALT contigs\n",
      "[M::process] read 2872 sequences (17479911 bp)...\n",
      "[M::mem_process_seqs] Processed 2872 reads in 187.178 CPU sec, 50.621 real sec\n",
      "[main] Version: 0.7.12-r1044\n",
      "[main] CMD: ../../../../tools/bwa/bwa mem -t4 -x ont2d lambda_ref.fasta burnin_2d.fastq\n",
      "[main] Real time: 51.495 sec; CPU: 187.313 sec\n"
     ]
    }
   ],
   "source": [
    "!../../../../tools/bwa/bwa mem -t4 -x ont2d lambda_ref.fasta burnin_2d.fastq > burin_2d_ont2d.sam"
   ]
  },
  {
   "cell_type": "code",
   "execution_count": 7,
   "metadata": {
    "collapsed": false
   },
   "outputs": [
    {
     "name": "stdout",
     "output_type": "stream",
     "text": [
      "[M::bwa_idx_load_from_disk] read 0 ALT contigs\n",
      "[M::process] read 6123 sequences (33847644 bp)...\n",
      "[M::mem_process_seqs] Processed 6123 reads in 615.247 CPU sec, 181.882 real sec\n",
      "[main] Version: 0.7.12-r1044\n",
      "[main] CMD: ../../../../tools/bwa/bwa mem -t4 -x ont2d lambda_ref.fasta burnin_templ.fastq\n",
      "[main] Real time: 183.695 sec; CPU: 615.504 sec\n"
     ]
    }
   ],
   "source": [
    "!../../../../tools/bwa/bwa mem -t4 -x ont2d lambda_ref.fasta burnin_templ.fastq > burin_templ_ont2d.sam"
   ]
  },
  {
   "cell_type": "code",
   "execution_count": 15,
   "metadata": {
    "collapsed": false
   },
   "outputs": [
    {
     "name": "stdout",
     "output_type": "stream",
     "text": [
      "[Index 14:21:11] Running in fast and sensitive mode. Two indexes will be used (double memory consumption).\n",
      "[Index 14:21:11] Index is not prebuilt. Generating index.\n",
      "[LoadOrGenerate 14:21:11] Started generating new index from file 'lambda_ref.fasta'...\n",
      "[LoadOrGenerate 14:21:11] Storing new index to file 'lambda_ref.fasta.gmidx'...\n",
      "[LoadOrGenerate 14:21:12] New index stored.\n",
      "[Index 14:21:12] Secondary index is not prebuilt. Generating index.\n",
      "[LoadOrGenerate 14:21:12] Started generating new index from file 'lambda_ref.fasta'...\n",
      "[LoadOrGenerate 14:21:13] Storing new index to file 'lambda_ref.fasta.gmidxsec'...\n",
      "[LoadOrGenerate 14:21:14] New index stored.\n",
      "[Index 14:21:14] Index loaded in 0.96 sec.\n",
      "[Index 14:21:14] Memory consumption: [currentRSS = 482 MB, peakRSS = 610 MB]\n",
      "\n",
      "[Run 14:21:14] Automatically setting the maximum allowed number of regions: max. 500, attempt to reduce after 100\n",
      "[Run 14:21:14] Reference genome is assumed to be linear.\n",
      "[Run 14:21:14] Only one alignment will be reported per mapped read.\n",
      "[ProcessReads 14:21:14] Reads will be loaded in batches of up to 200 MB in size.\n",
      "[ProcessReads 14:21:14] Batch of 2872 reads (33 MiB) loaded in 0.16 sec. (31634312 bases)\n",
      "[ProcessReads 14:21:14] Memory consumption: [currentRSS = 516 MB, peakRSS = 610 MB]\n",
      "[ProcessReads 14:21:14] Using 2 threads.\n",
      "[ProcessReads 14:22:14] [CPU time: 118.21 sec, RSS: 575 MB] Read: 2872/2872 (100.00%) [m: 2846, u: 26]                                                             \n",
      "\n",
      "[ProcessReads 14:22:14] Memory consumption: [currentRSS = 575 MB, peakRSS = 949 MB]\n",
      "\n",
      "[ProcessReads 14:22:14] All reads processed in 118.22 sec (or 1.97 CPU min).\n"
     ]
    }
   ],
   "source": [
    "!../../../../tools/graphmap/graphmap -t4 -r lambda_ref.fasta -d burnin_2d.fastq -o burnin_2d_graphmap.sam "
   ]
  },
  {
   "cell_type": "code",
   "execution_count": 16,
   "metadata": {
    "collapsed": false
   },
   "outputs": [
    {
     "name": "stdout",
     "output_type": "stream",
     "text": [
      "[Index 14:22:48] Running in fast and sensitive mode. Two indexes will be used (double memory consumption).\n",
      "[Index 14:22:48] Index already exists. Loading from file.\n",
      "[Index 14:22:50] Secondary index already exists. Loading from file.\n",
      "[Index 14:22:52] Index loaded in 1.46 sec.\n",
      "[Index 14:22:52] Memory consumption: [currentRSS = 514 MB, peakRSS = 514 MB]\n",
      "\n",
      "[Run 14:22:52] Automatically setting the maximum allowed number of regions: max. 500, attempt to reduce after 100\n",
      "[Run 14:22:52] Reference genome is assumed to be linear.\n",
      "[Run 14:22:52] Only one alignment will be reported per mapped read.\n",
      "[ProcessReads 14:22:52] Reads will be loaded in batches of up to 200 MB in size.\n",
      "[ProcessReads 14:22:53] Batch of 6123 reads (65 MiB) loaded in 0.36 sec. (40735624 bases)\n",
      "[ProcessReads 14:22:53] Memory consumption: [currentRSS = 581 MB, peakRSS = 581 MB]\n",
      "[ProcessReads 14:22:53] Using 4 threads.\n",
      "[ProcessReads 14:24:38] [CPU time: 336.34 sec, RSS: 643 MB] Read: 6123/6123 (100.00%) [m: 5709, u: 414]                                                            \n",
      "\n",
      "[ProcessReads 14:24:38] Memory consumption: [currentRSS = 643 MB, peakRSS = 1736 MB]\n",
      "\n",
      "[ProcessReads 14:24:38] All reads processed in 336.35 sec (or 5.61 CPU min).\n"
     ]
    }
   ],
   "source": [
    "!../../../../tools/graphmap/graphmap -t4 -r lambda_ref.fasta -d burnin_templ.fastq -o burnin_templ_graphmap.sam "
   ]
  },
  {
   "cell_type": "code",
   "execution_count": 12,
   "metadata": {
    "collapsed": false
   },
   "outputs": [
    {
     "name": "stdout",
     "output_type": "stream",
     "text": [
      "[samopen] SAM header is present: 1 sequences.\r\n"
     ]
    }
   ],
   "source": [
    "prepare_sam(\"burnin_2d_ont2d\")"
   ]
  },
  {
   "cell_type": "code",
   "execution_count": 13,
   "metadata": {
    "collapsed": false
   },
   "outputs": [
    {
     "name": "stdout",
     "output_type": "stream",
     "text": [
      "[samopen] SAM header is present: 1 sequences.\r\n"
     ]
    }
   ],
   "source": [
    "prepare_sam(\"burnin_templ_ont2d\")"
   ]
  },
  {
   "cell_type": "code",
   "execution_count": 17,
   "metadata": {
    "collapsed": false
   },
   "outputs": [
    {
     "name": "stdout",
     "output_type": "stream",
     "text": [
      "[samopen] SAM header is present: 1 sequences.\n",
      "[samopen] SAM header is present: 1 sequences.\n"
     ]
    }
   ],
   "source": [
    "prepare_sam(\"burnin_templ_graphmap\")\n",
    "prepare_sam(\"burnin_2d_graphmap\")"
   ]
  },
  {
   "cell_type": "code",
   "execution_count": null,
   "metadata": {
    "collapsed": true
   },
   "outputs": [],
   "source": []
  }
 ],
 "metadata": {
  "kernelspec": {
   "display_name": "Python 3",
   "language": "python",
   "name": "python3"
  },
  "language_info": {
   "codemirror_mode": {
    "name": "ipython",
    "version": 3
   },
   "file_extension": ".py",
   "mimetype": "text/x-python",
   "name": "python",
   "nbconvert_exporter": "python",
   "pygments_lexer": "ipython3",
   "version": "3.4.3"
  }
 },
 "nbformat": 4,
 "nbformat_minor": 0
}
