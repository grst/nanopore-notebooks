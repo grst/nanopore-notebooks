{
 "cells": [
  {
   "cell_type": "code",
   "execution_count": 1,
   "metadata": {
    "collapsed": false
   },
   "outputs": [
    {
     "name": "stdout",
     "output_type": "stream",
     "text": [
      "The autoreload extension is already loaded. To reload it, use:\n",
      "  %reload_ext autoreload\n"
     ]
    }
   ],
   "source": [
    "%load_ext autoreload\n",
    "%autoreload 2\n",
    "import rpy2.robjects as robjects\n",
    "from rpy2.robjects import numpy2ri\n",
    "import rpy2\n",
    "from pprint import pprint\n",
    "import re\n",
    "import numpy as np\n",
    "import pickle\n",
    "from collections import OrderedDict\n",
    "from itertools import repeat, count, product\n",
    "from skbio.alignment import StripedSmithWaterman, local_pairwise_align_ssw\n",
    "import sys\n",
    "sys.path.append(\"../../..\")\n",
    "%run \"../lib.ipynb\"\n",
    "import pysam"
   ]
  },
  {
   "cell_type": "code",
   "execution_count": 2,
   "metadata": {
    "collapsed": false
   },
   "outputs": [],
   "source": [
    "file_data = pickle.load(open(\"mouse_file_data.pickle\", 'rb'))"
   ]
  },
  {
   "cell_type": "code",
   "execution_count": 3,
   "metadata": {
    "collapsed": true
   },
   "outputs": [],
   "source": [
    "ref = !cat mouse_ref.fa | grep -v \">\"\n",
    "ref = ref[0]"
   ]
  },
  {
   "cell_type": "code",
   "execution_count": 4,
   "metadata": {
    "collapsed": false
   },
   "outputs": [],
   "source": [
    "with open(\"mouse_all_reads.fastq\", 'w') as f: \n",
    "    for file_obj in file_data:\n",
    "        f.write(\"@ch{0}_file{1}_2d\".format(file_obj[\"channel\"], file_obj[\"file_id\"]) + \"\\n\")\n",
    "        f.write(\"\\n\".join(file_obj[\"fastq\"].split(\"\\n\")[1:]))\n"
   ]
  },
  {
   "cell_type": "code",
   "execution_count": 5,
   "metadata": {
    "collapsed": false
   },
   "outputs": [
    {
     "name": "stdout",
     "output_type": "stream",
     "text": [
      "[Index 13:50:00] Running in fast and sensitive mode. Two indexes will be used (double memory consumption).\n",
      "[Index 13:50:00] Index already exists. Loading from file.\n",
      "[Index 13:50:02] Secondary index already exists. Loading from file.\n",
      "[Index 13:50:03] Index loaded in 0.89 sec.\n",
      "[Index 13:50:03] Memory consumption: [currentRSS = 515 MB, peakRSS = 515 MB]\n",
      "\n",
      "[Run 13:50:03] Automatically setting the maximum allowed number of regions: max. 500, attempt to reduce after 100\n",
      "[Run 13:50:03] Reference genome is assumed to be linear.\n",
      "[Run 13:50:03] Only one alignment will be reported per mapped read.\n",
      "[ProcessReads 13:50:03] Reads will be loaded in batches of up to 200 MB in size.\n",
      "[ProcessReads 13:50:03] Batch of 51 reads (0 MiB) loaded in 0.01 sec. (11359128 bases)\n",
      "[ProcessReads 13:50:03] Memory consumption: [currentRSS = 516 MB, peakRSS = 516 MB]\n",
      "[ProcessReads 13:50:03] Using 4 threads.\n",
      "[ProcessReads 13:50:04] [CPU time: 3.33 sec, RSS: 534 MB] Read: 51/51 (100.00%) [m: 51, u: 0]                                                                      \n",
      "\n",
      "[ProcessReads 13:50:04] Memory consumption: [currentRSS = 534 MB, peakRSS = 560 MB]\n",
      "\n",
      "[ProcessReads 13:50:04] All reads processed in 3.33 sec (or 0.06 CPU min).\n"
     ]
    }
   ],
   "source": [
    "!../../../../tools/graphmap/graphmap -t4 -r mouse_ref.fa -d mouse_all_reads.fastq -o mouse_all_reads.sam"
   ]
  },
  {
   "cell_type": "code",
   "execution_count": 6,
   "metadata": {
    "collapsed": false
   },
   "outputs": [
    {
     "name": "stdout",
     "output_type": "stream",
     "text": [
      "[samopen] SAM header is present: 1 sequences.\r\n"
     ]
    }
   ],
   "source": [
    "prepare_sam(\"mouse_all_reads\")"
   ]
  },
  {
   "cell_type": "code",
   "execution_count": 7,
   "metadata": {
    "collapsed": true
   },
   "outputs": [],
   "source": [
    "samfile = pysam.AlignmentFile(\"mouse_all_reads.sorted.bam\")\n",
    "samreads = {}"
   ]
  },
  {
   "cell_type": "code",
   "execution_count": 8,
   "metadata": {
    "collapsed": false,
    "scrolled": false
   },
   "outputs": [
    {
     "name": "stdout",
     "output_type": "stream",
     "text": [
      "51\n"
     ]
    }
   ],
   "source": [
    "print(len(file_data))"
   ]
  },
  {
   "cell_type": "code",
   "execution_count": 9,
   "metadata": {
    "collapsed": true
   },
   "outputs": [],
   "source": [
    "fmap = {}\n",
    "for f in file_data: \n",
    "    fmap[\"ch{0}_file{1}\".format(f[\"channel\"], f[\"file_id\"])] = f"
   ]
  },
  {
   "cell_type": "code",
   "execution_count": 10,
   "metadata": {
    "collapsed": true
   },
   "outputs": [],
   "source": [
    "def get_file(channel, file_id):\n",
    "    return fmap[\"ch{0}_file{1}\".format(channel, file_id)]"
   ]
  },
  {
   "cell_type": "code",
   "execution_count": 11,
   "metadata": {
    "collapsed": false
   },
   "outputs": [
    {
     "data": {
      "text/plain": [
       "51"
      ]
     },
     "execution_count": 11,
     "metadata": {},
     "output_type": "execute_result"
    }
   ],
   "source": [
    "reads  = [x for x in samfile.fetch()]\n",
    "len(reads)"
   ]
  },
  {
   "cell_type": "code",
   "execution_count": 12,
   "metadata": {
    "collapsed": true
   },
   "outputs": [],
   "source": [
    "NMER = 5"
   ]
  },
  {
   "cell_type": "code",
   "execution_count": 13,
   "metadata": {
    "collapsed": false
   },
   "outputs": [],
   "source": [
    "class AlignmentEndException(Exception):\n",
    "    pass\n",
    "\n",
    "def event_indexes(pairing_seq, offset):\n",
    "    \"\"\" get the next entries from the pairing array\n",
    "    such that k non-gap characters are contained\"\"\"\n",
    "    count = 0\n",
    "    kmer = []\n",
    "    for i in range(offset, len(pairing_seq)): \n",
    "        if count == NMER: break\n",
    "        if pairing_seq[i] is not None:\n",
    "            count += 1\n",
    "            kmer.append(i)\n",
    "    if len(kmer) != NMER: \n",
    "        raise AlignmentEndException\n",
    "    return kmer\n",
    "    \n",
    "    "
   ]
  },
  {
   "cell_type": "code",
   "execution_count": 14,
   "metadata": {
    "collapsed": false
   },
   "outputs": [],
   "source": [
    "def gapmove(to_move, seq, offset):\n",
    "    \"\"\"move by 'move' (from metrichor) in the aligned sequence. \n",
    "    additionally increase index to compensate for each gap\n",
    "    \"\"\"\n",
    "    move = to_move\n",
    "    for i in seq[offset:]: \n",
    "        if i is None: \n",
    "            move += 1\n",
    "        else:\n",
    "            to_move -= 1\n",
    "            if to_move <= 0:\n",
    "                return move"
   ]
  },
  {
   "cell_type": "code",
   "execution_count": 15,
   "metadata": {
    "collapsed": true
   },
   "outputs": [],
   "source": [
    "def get_nt_kmer(index, pairs, seq): \n",
    "    \"\"\"convert sequence indexes into the corresponding nucleotides. \n",
    "    gaps are converted into '' \n",
    "    \"\"\"\n",
    "    seq_index = [pairs[x] for x in index]\n",
    "    nt_kmer = [seq[x] for x in seq_index]\n",
    "    return \"\".join(nt_kmer)\n"
   ]
  },
  {
   "cell_type": "code",
   "execution_count": 16,
   "metadata": {
    "collapsed": true
   },
   "outputs": [],
   "source": [
    "def is_consecutive_seq(seq):\n",
    "    \"\"\"check if the sequence 'seq' consists of consecutive numbers\"\"\"\n",
    "    return len(set(list(map(lambda ix:ix[1]-ix[0], enumerate(seq))))) <= 1"
   ]
  },
  {
   "cell_type": "code",
   "execution_count": 17,
   "metadata": {
    "collapsed": false
   },
   "outputs": [],
   "source": [
    "def is_correct_kmer(ev_index, pairs, read, ref):\n",
    "    \"\"\"check if a kmer corresponds completely wit the reference. \n",
    "    This is the case if: \n",
    "        * the read positions are consecutive (no indels)\n",
    "        * the ref positions are consecutive (no indels)\n",
    "        * the nucleotides are idential (no substitutions)\n",
    "    \"\"\"\n",
    "    assert(len(ev_index) == NMER), \"invalid event index\"\n",
    "    read_index = [pairs[0][x] for x in ev_index]\n",
    "    ref_index = [pairs[1][x] for x in ev_index]\n",
    "    \n",
    "    if None in read_index or not is_consecutive_seq(read_index): \n",
    "        \"\"\"indel in read\"\"\"\n",
    "        return False\n",
    "             \n",
    "    if None in ref_index or not is_consecutive_seq(ref_index): \n",
    "        \"\"\"indel in ref\"\"\"\n",
    "        return False\n",
    "             \n",
    "    read_seq = [read[x] for x in read_index]\n",
    "    ref_seq = [ref[x] for x in ref_index]\n",
    "    if read_seq == ref_seq:\n",
    "        \"\"\"full_match\"\"\"\n",
    "        return True\n",
    "    else: \n",
    "        \"\"\"substitution\"\"\"\n",
    "        return False\n",
    "    "
   ]
  },
  {
   "cell_type": "code",
   "execution_count": 23,
   "metadata": {
    "collapsed": false,
    "scrolled": false
   },
   "outputs": [
    {
     "name": "stdout",
     "output_type": "stream",
     "text": [
      "ch135_file0_2d\n",
      "0 0 135\n",
      "ch135_file19_2d\n",
      "1 19 135\n",
      "ch156_file6_2d\n",
      "2 6 156\n",
      "ch157_file1_2d\n",
      "3 1 157\n",
      "ch204_file5_2d\n",
      "4 5 204\n",
      "ch206_file10_2d\n",
      "5 10 206\n",
      "ch209_file14_2d\n",
      "6 14 209\n",
      "ch211_file3_2d\n",
      "7 3 211\n",
      "ch215_file15_2d\n",
      "8 15 215\n",
      "ch215_file27_2d\n",
      "9 27 215\n",
      "ch215_file9_2d\n",
      "10 9 215\n",
      "ch132_file38_2d\n",
      "11 38 132\n",
      "ch141_file8_2d\n",
      "12 8 141\n",
      "ch157_file0_2d\n",
      "13 0 157\n",
      "ch201_file1_2d\n",
      "14 1 201\n",
      "ch203_file1_2d\n",
      "15 1 203\n",
      "ch211_file28_2d\n",
      "16 28 211\n",
      "ch223_file11_2d\n",
      "17 11 223\n",
      "ch227_file5_2d\n",
      "18 5 227\n",
      "ch132_file35_2d\n",
      "19 35 132\n",
      "ch142_file18_2d\n",
      "20 18 142\n",
      "ch211_file20_2d\n",
      "21 20 211\n",
      "ch132_file26_2d\n",
      "22 26 132\n",
      "ch156_file11_2d\n",
      "23 11 156\n",
      "ch133_file11_2d\n",
      "24 11 133\n",
      "ch203_file2_2d\n",
      "25 2 203\n",
      "ch132_file10_2d\n",
      "26 10 132\n",
      "ch211_file12_2d\n",
      "27 12 211\n",
      "ch212_file27_2d\n",
      "28 27 212\n",
      "ch135_file23_2d\n",
      "29 23 135\n",
      "ch132_file17_2d\n",
      "30 17 132\n",
      "ch141_file12_2d\n",
      "31 12 141\n",
      "ch206_file20_2d\n",
      "32 20 206\n",
      "ch142_file3_2d\n",
      "33 3 142\n",
      "ch132_file36_2d\n",
      "34 36 132\n",
      "ch211_file17_2d\n",
      "35 17 211\n",
      "ch132_file44_2d\n",
      "36 44 132\n",
      "ch223_file6_2d\n",
      "37 6 223\n",
      "ch133_file2_2d\n",
      "38 2 133\n",
      "ch149_file3_2d\n",
      "39 3 149\n",
      "ch141_file15_2d\n",
      "40 15 141\n",
      "ch204_file4_2d\n",
      "41 4 204\n",
      "ch223_file4_2d\n",
      "42 4 223\n",
      "ch211_file26_2d\n",
      "43 26 211\n",
      "ch135_file25_2d\n",
      "44 25 135\n",
      "ch132_file23_2d\n",
      "45 23 132\n",
      "ch206_file7_2d\n",
      "46 7 206\n",
      "ch215_file4_2d\n",
      "47 4 215\n",
      "ch156_file15_2d\n",
      "48 15 156\n",
      "ch211_file35_2d\n",
      "49 35 211\n",
      "ch206_file21_2d\n",
      "50 21 206\n"
     ]
    }
   ],
   "source": [
    "true_events = 0\n",
    "total_events = 0\n",
    "\n",
    "for i, read in enumerate(reads):\n",
    "    print (read.query_name)\n",
    "    file_id, channel_id = get_file_and_channel(read.query_name)\n",
    "    print(i, file_id, channel_id)\n",
    "    pairs = [list(t) for t in zip(*read.get_aligned_pairs())]\n",
    "    file_obj = get_file(channel_id, file_id)\n",
    "    events = file_obj[\"events\"]\n",
    "    i_seq = 0\n",
    "    assert(pairs[0][0] == 0), \"alignment is not null-indexed.\"\n",
    "       \n",
    "    ## map read to events\n",
    "    event_dict = events.to_dict(\"records\")\n",
    "    total_events += len(event_dict)\n",
    "    called_seq = file_obj[\"fastq\"].split(\"\\n\")[1]\n",
    "    \n",
    "    for ev in event_dict:\n",
    "        ev_kmer = ev[\"kmer\"]\n",
    "        i_seq += gapmove(ev[\"move\"], pairs[0], i_seq)\n",
    "\n",
    "        try:\n",
    "            ev_index = event_indexes(pairs[0], i_seq)\n",
    "        except AlignmentEndException:\n",
    "            \"\"\"not the whole read is aligned\"\"\"\n",
    "            break\n",
    "        read_kmer = get_nt_kmer(ev_index, pairs[0], called_seq)       \n",
    "        assert(read_kmer == ev_kmer), (ev, read_kmer, ev_index)\n",
    "        if is_correct_kmer(ev_index, pairs, called_seq, ref):\n",
    "            true_events += 1\n",
    "        \n"
   ]
  },
  {
   "cell_type": "code",
   "execution_count": 24,
   "metadata": {
    "collapsed": false
   },
   "outputs": [
    {
     "name": "stdout",
     "output_type": "stream",
     "text": [
      "0.16406780330426327\n"
     ]
    }
   ],
   "source": [
    "print(true_events/total_events)"
   ]
  },
  {
   "cell_type": "code",
   "execution_count": 25,
   "metadata": {
    "collapsed": false
   },
   "outputs": [
    {
     "data": {
      "text/plain": [
       "66466"
      ]
     },
     "execution_count": 25,
     "metadata": {},
     "output_type": "execute_result"
    }
   ],
   "source": [
    "true_events"
   ]
  },
  {
   "cell_type": "markdown",
   "metadata": {
    "collapsed": true
   },
   "source": [
    "### do the kmers correspond to the 2d read? "
   ]
  },
  {
   "cell_type": "code",
   "execution_count": 21,
   "metadata": {
    "collapsed": false
   },
   "outputs": [
    {
     "name": "stdout",
     "output_type": "stream",
     "text": [
      "ch135_file0_2d\n",
      "CGATTGGGGGCCAACCAGTGAACAGGATTTATTATCATTGGCCAAGCCTCGACGGAATGGATATTCTCAAATGCCTGTAA\n",
      "CGATTGGGGGCCAACCAGTGAACAGGATTTATTATCATTGGCCAAGCCTCGACGGAATGGATATTCTCAAATGCCTGTAA\n",
      "ch135_file19_2d\n",
      "GGAGTTGGGCGCACGATGACGCGTAAGAGTAGAAGTCGTATTAGTCTCATGAGCAAGCCATCTCATGGCGTGCTAATCAT\n",
      "GGAGTTGGGCGCACGATGACGCGTAAGAGTAGAAGTCGTATTAGTCTCATGAGCAAGCCATCTCATGGCGTGCTAATCAT\n",
      "ch156_file6_2d\n",
      "ATCCTACCCGAATTGGGGGCTCAACCCGTGAACACCCATTTATTATCATTGCCACTGAGCCTCCATCTCATACTTCTCAA\n",
      "ATCCTACCCGAATTGGGGGCTCAACCCGTGAACACCCATTTATTATCATTGCCACTGAGCCTCCATCTCATACTTCTCAA\n",
      "ch157_file1_2d\n",
      "ACTTGCCTGACCTGAGACAAATGAAGATCTTCTTCTCAGATGCCGGAGGAGTAAACATCACAGCGCACGACGAGCTGACT\n",
      "ACTTGCCTGACCTGAGACAAATGAAGATCTTCTTCTCAGATGCCGGAGGAGTAAACATCACAGCGCACGACGAGCTGACT\n",
      "ch204_file5_2d\n",
      "CAACAAGGGTGAATTGACTTAGTACTGCTAGAACATCCACGTTTATGCTTGGTCTCAACTAGCCTCCATCTCATACTTCC\n",
      "CAACAAGGGTGAATTGACTTAGTACTGCTAGAACATCCACGTTTATGCTTGGTCTCAACTAGCCTCCATCTCATACTTCC\n",
      "ch206_file10_2d\n",
      "TCATCTTCTTAGCGTCGGCGGCACGGGAGTCACAGTGGATCGAGTGGGATTTCTTCTTATGGTCGTCATCTTCGGGCTTG\n",
      "TCATCTTCTTAGCGTCGGCGGCACGGGAGTCACAGTGGATCGAGTGGGATTTCTTCTTATGGTCGTCATCTTCGGGCTTG\n",
      "ch209_file14_2d\n",
      "AGCCAACCAGTAGAAACACCGATTTATTAATTGGCCAACTAGCCTCCATCTCCATGATTTCTCCAATCATCTTAATTCTG\n",
      "AGCCAACCAGTAGAAACACCGATTTATTAATTGGCCAACTAGCCTCCATCTCCATGATTTCTCCAATCATCTTAATTCTG\n",
      "ch211_file3_2d\n",
      "CTATGAATTGGGGGCCAACCAGTGAACCGAATTTAATTATCAATTAAAATAGGCGCCTCCATCTCATACTTCTCAATCAT\n",
      "CTATGAATTGGGGGCCAACCAGTGAACCGAATTTAATTATCAATTAAAATAGGCGCCTCCATCTCATACTTCTCAATCAT\n",
      "ch215_file15_2d\n",
      "AGCCTGAATTGGGGGCCAACCAGTCAGAACACAGCATTTAATTATCATTGGCTGAGACTAGCCATCTCATACTTCTCAAT\n",
      "AGCCTGAATTGGGGGCCAACCAGTCAGAACACAGCATTTAATTATCATTGGCTGAGACTAGCCATCTCATACTTCTCAAT\n",
      "ch215_file27_2d\n",
      "CCACCTGAATTGGGGGCCAACCAGTAGTAGAACACCCATTTTATTATCATGCCACTGAGCCTCCATCTCATACTTTCAAT\n",
      "CCACCTGAATTGGGGGCCAACCAGTAGTAGAACACCCATTTTATTATCATGCCACTGAGCCTCCATCTCATACTTTCAAT\n",
      "ch215_file9_2d\n",
      "GCATTCGCCGCTAACCGGGCTGGATTCTAATTATCACTTAGACTCATAGCCATCTTCTCATACTTCTCAATCATCTTAAT\n",
      "GCATTCGCCGCTAACCGGGCTGGATTCTAATTATCACTTAGACTCATAGCCATCTTCTCATACTTCTCAATCATCTTAAT\n",
      "ch132_file38_2d\n",
      "TGGCTTTTGGCTTCACTCCCTACGGGGCAACGGCAAACGAATGGGAATCTGAAATGAAATCCGCTTGTACTGAAATCGCC\n",
      "TGGCTTTTGGCTTCACTCCCTACGGGGCAACGGCAAACGAATGGGAATCTGAAATGAAATCCGCTTGTACTGAAATCGCC\n",
      "ch141_file8_2d\n",
      "CTTGCCTCATGATCTTGAAGTGCGTAGCGTCCGTACCGGGCAAGCCTGAAAGTCAATGGGAATCAGTAAACAAATGCCTG\n",
      "CTTGCCTCATGATCTTGAAGTGCGTAGCGTCCGTACCGGGCAAGCCTGAAAGTCAATGGGAATCAGTAAACAAATGCCTG\n",
      "ch157_file0_2d\n",
      "AAGACCATGTGAAGTGGGCTTTTGCTCTACTTGTCATCCGCTGAAGCCTGAAAATAATCGTAAAATGAACAAATCCTGCC\n",
      "AAGACCATGTGAAGTGGGCTTTTGCTCTACTTGTCATCCGCTGAAGCCTGAAAATAATCGTAAAATGAACAAATCCTGCC\n",
      "ch201_file1_2d\n",
      "TCGTCGTTTTGCTCATGTCATCTAGGGTGAAGCCTGAAAAATAATGGGAATCAGTGAACAAAATCCTTGCTATGATAGCA\n",
      "TCGTCGTTTTGCTCATGTCATCTAGGGTGAAGCCTGAAAAATAATGGGAATCAGTGAACAAAATCCTTGCTATGATAGCA\n",
      "ch203_file1_2d\n",
      "TTCGCTGCTACTGGGCGTAGTCCTAATCTAGAATTTGTAGGGTTGCAGTGAGCGCTCTTTGACGCCGAAATAATCGGAAT\n",
      "TTCGCTGCTACTGGGCGTAGTCCTAATCTAGAATTTGTAGGGTTGCAGTGAGCGCTCTTTGACGCCGAAATAATCGGAAT\n",
      "ch211_file28_2d\n",
      "ATTGGGCATGGATTTTGCTCAATGTGTCCGTTCATCTAGGGTGAAGCCTGAATCAAGCAATGGGAATCAGTGAACAATCC\n",
      "ATTGGGCATGGATTTTGCTCAATGTGTCCGTTCATCTAGGGTGAAGCCTGAATCAAGCAATGGGAATCAGTGAACAATCC\n",
      "ch223_file11_2d\n",
      "CTCTTATCGAAGCGAACCGGGCTTTTGCATCTTGTCATGCCCGCGGGCAACGGGAAAAGCAATGGGAATCGATGAACTAA\n",
      "CTCTTATCGAAGCGAACCGGGCTTTTGCATCTTGTCATGCCCGCGGGCAACGGGAAAAGCAATGGGAATCGATGAACTAA\n",
      "ch227_file5_2d\n",
      "TAGCCTGCTTACGCGAATGGGCTTTCAGCCGTCATCTAGGGTGAAGCCTGAAAATAATGGAATCAGTGAACAAATCCTAG\n",
      "TAGCCTGCTTACGCGAATGGGCTTTCAGCCGTCATCTAGGGTGAAGCCTGAAAATAATGGAATCAGTGAACAAATCCTAG\n",
      "ch132_file35_2d\n",
      "ATCATGAATTGCGAGGCCAACCGTGAAGTAGAATTTCGTATCATGCCATCAAGCCTCCATCTCATACTTCAATCATCTGT\n",
      "ATCATGAATTGCGAGGCCAACCGTGAAGTAGAATTTCGTATCATGCCATCAAGCCTCCATCTCATACTTCAATCATCTGT\n",
      "ch142_file18_2d\n",
      "TCACCGTGGCCAACAGGTGAACAGCCCCAATTCTATTATCATGCTCGATACTAGCCTCCCATCTCATGACTTCAATCATC\n",
      "TCACCGTGGCCAACAGGTGAACAGCCCCAATTCTATTATCATGCTCGATACTAGCCTCCCATCTCATGACTTCAATCATC\n",
      "ch211_file20_2d\n",
      "ATCCTATCATCTTAATTCTTATACTAATCTCAGGAATTATCGCATAACAAGAGCTGACAAATTATATCCATGTCTTAACG\n",
      "ATCCTATCATCTTAATTCTTATACTAATCTCAGGAATTATCGCATAACAAGAGCTGACAAATTATATCCATGTCTTAACG\n",
      "ch132_file26_2d\n",
      "GTACGTGGCGAAGTGGGCTTTTGCTCATTCATCTAGGATCGCATGAAATAATGGGAATCAGTGAACAAATCGCCTGCTGA\n",
      "GTACGTGGCGAAGTGGGCTTTTGCTCATTCATCTAGGATCGCATGAAATAATGGGAATCAGTGAACAAATCGCCTGCTGA\n",
      "ch156_file11_2d\n",
      "ATTCTTGGCTGTGCATTCCGTGCTTCATTTCTATTGACGTGAAACGGTTCACTCAATCCGCGCTGAAACGCCTGAAAAGC\n",
      "ATTCTTGGCTGTGCATTCCGTGCTTCATTTCTATTGACGTGAAACGGTTCACTCAATCCGCGCTGAAACGCCTGAAAAGC\n",
      "ch133_file11_2d\n",
      "TCCCATCCGCTCTTCGATCATCTTAATTTCCTCCAATCTCAGGAAGTCTTATTACCGCAGCGCCTGGACCATGTAACTGC\n",
      "TCCCATCCGCTCTTCGATCATCTTAATTTCCTCCAATCTCAGGAAGTCTTATTACCGCAGCGCCTGGACCATGTAACTGC\n",
      "ch203_file2_2d\n",
      "GTCGAAGTGGGCTTTGCTCAGTCCATCTAGTGAAGCCGCTGAAATACGAATCCCAACGTTGAACAAATCACCTGCTGATA\n",
      "GTCGAAGTGGGCTTTGCTCAGTCCATCTAGTGAAGCCGCTGAAATACGAATCCCAACGTTGAACAAATCACCTGCTGATA\n",
      "ch132_file10_2d\n",
      "ATCGGGATTGGGGGCCTGGCGGGCTCACCGAATTCTACGTTAGACTCATGAGCTCATCGCTCTTCCAATCATCTGCACTT\n",
      "ATCGGGATTGGGGGCCTGGCGGGCTCACCGAATTCTACGTTAGACTCATGAGCTCATCGCTCTTCCAATCATCTGCACTT\n",
      "ch211_file12_2d\n",
      "ACTGTTCCTACCTGAATTGGGCACTAGACCCACGGGCTGAATTTATTATCATTGGCCTCCTCCTCCATCTCATACTTCAA\n",
      "ACTGTTCCTACCTGAATTGGGCACTAGACCCACGGGCTGAATTTATTATCATTGGCCTCCTCCTCCATCTCATACTTCAA\n",
      "ch212_file27_2d\n",
      "TGTTTGCTCTTGGCATCCGTTGAAGTGTGCTCCACTGAAGCCGTATGAAAGAGATCCGTAACGAATGACGAAACCAACGC\n",
      "TGTTTGCTCTTGGCATCCGTTGAAGTGTGCTCCACTGAAGCCGTATGAAAGAGATCCGTAACGAATGACGAAACCAACGC\n",
      "ch135_file23_2d\n",
      "TGAGCTGAATTGGGGGCCAACCAGTAGAACAGGATTCTATTATCATGCTGGATCGGGCTCCCATCTCATACTTCGGTAAT\n",
      "TGAGCTGAATTGGGGGCCAACCAGTAGAACAGGATTCTATTATCATGCTGGATCGGGCTCCCATCTCATACTTCGGTAAT\n",
      "ch132_file17_2d\n",
      "ATATGCCAAGCGCCTGGATAGGGATTCGTATCATTGAGGCCGGCAGCCAACCACTGGTCAAATCATCTGCGTGTACAGAG\n",
      "ATATGCCAAGCGCCTGGATAGGGATTCGTATCATTGAGGCCGGCAGCCAACCACTGGTCAAATCATCTGCGTGTACAGAG\n",
      "ch141_file12_2d\n",
      "ATGGCTAAGGGCAGTTGATCACGGTAACGGCGGAAGCGTCAGCCCGATGCTCGATCCATAGGAATGTTGATGATAGTAGG\n",
      "ATGGCTAAGGGCAGTTGATCACGGTAACGGCGGAAGCGTCAGCCCGATGCTCGATCCATAGGAATGTTGATGATAGTAGG\n",
      "ch206_file20_2d\n",
      "GTGCGTTAGCAATCAAACCGGGCCCATTCGATAACTGACGAAGGAGAATCAGAATTAGTACGGGGTTAACGTAGAATACG\n",
      "GTGCGTTAGCAATCAAACCGGGCCCATTCGATAACTGACGAAGGAGAATCAGAATTAGTACGGGGTTAACGTAGAATACG\n",
      "ch142_file3_2d\n",
      "GGATGGGCTTTGCTCAGTCCGTATCTAGGTGAAGCCTGAACTAATGGAATCAGTGAACAAATCCTGCCTTGATTAAACAA\n",
      "GGATGGGCTTTGCTCAGTCCGTATCTAGGTGAAGCCTGAACTAATGGAATCAGTGAACAAATCCTGCCTTGATTAAACAA\n",
      "ch132_file36_2d\n",
      "TGTTTAAACCGGGTTCGTCACCCTTCGAATTTGCAATTCGACAGATGAATATCATTAAGACTCTGGTAAAGAGGATTTAA\n",
      "TGTTTAAACCGGGTTCGTCACCCTTCGAATTTGCAATTCGACAGATGAATATCATTAAGACTCTGGTAAAGAGGATTTAA\n",
      "ch211_file17_2d\n",
      "CTGGTCTACGATTCAGATTAGAGCTCCGTATTAGCACCCCATGCTGTACAAATTTGTGTGATTGAGGCGAATATGCGCCT\n",
      "CTGGTCTACGATTCAGATTAGAGCTCCGTATTAGCACCCCATGCTGTACAAATTTGTGTGATTGAGGCGAATATGCGCCT\n",
      "ch132_file44_2d\n",
      "GAGTTAACCGACCAAATAAACCATAAATCCGTTCAGTTGCTGAAAGTATGATTAGGGAGAATTTAATGTAATTAGTATTA\n",
      "GAGTTAACCGACCAAATAAACCATAAATCCGTTCAGTTGCTGAAAGTATGATTAGGGAGAATTTAATGTAATTAGTATTA\n",
      "ch223_file6_2d\n",
      "GACGCGTGCGTGAACTCCTGAACGGTTGGCATAGGGATTCAGATCGCTAAGTTAATTGATTAGTAGCAGAATATTACATA\n",
      "GACGCGTGCGTGAACTCCTGAACGGTTGGCATAGGGATTCAGATCGCTAAGTTAATTGATTAGTAGCAGAATATTACATA\n",
      "ch133_file2_2d\n",
      "CCAAGGCACGCAGTTCCCGATAGATTCGGGCTAACAGACATTCTTCCAACATTTCCGCTTTCAGGAATCACGACGGATAC\n",
      "CCAAGGCACGCAGTTCCCGATAGATTCGGGCTAACAGACATTCTTCCAACATTTCCGCTTTCAGGAATCACGACGGATAC\n",
      "ch149_file3_2d\n",
      "GAATCGGTTGTGGACCCCGTTAGATCCAAGATAATAGCATTGGCTATCTAGAATTCAGTACAAATTTGTGTGATTAGCTG\n",
      "GAATCGGTTGTGGACCCCGTTAGATCCAAGATAATAGCATTGGCTATCTAGAATTCAGTACAAATTTGTGTGATTAGCTG\n",
      "ch141_file15_2d\n",
      "GACCTCATGTAATTGAATACCCTGATGCTAGAAGTACTGAAGAGTAAGTAGTGGGTTACGCGGAGTCCATCGTGAAATTC\n",
      "GACCTCATGTAATTGAATACCCTGATGCTAGAAGTACTGAAGAGTAAGTAGTGGGTTACGCGGAGTCCATCGTGAAATTC\n",
      "ch204_file4_2d\n",
      "GAACCGGTGCTTAGATCATGTTAGCTAGTATTTGTCGCTTGCACGTGGCTTGATCGTAAAATCTAACGCGTATTATGGCC\n",
      "GAACCGGTGCTTAGATCATGTTAGCTAGTATTTGTCGCTTGCACGTGGCTTGATCGTAAAATCTAACGCGTATTATGGCC\n",
      "ch223_file4_2d\n",
      "TCGTCGGCCCAGCGTCGCATTAAAGCTTCGTAGGAGCGGGTAAAACAGATTCTTCGACAGTTTCCTGGCTTTCGAGAAGC\n",
      "TCGTCGGCCCAGCGTCGCATTAAAGCTTCGTAGGAGCGGGTAAAACAGATTCTTCGACAGTTTCCTGGCTTTCGAGAAGC\n",
      "ch211_file26_2d\n",
      "CTCCGCGTGCGCATCGATTCTATCGCCAGCTATCGCTAGAATACATTCCCGCCACTTTCCTGGCCTTAGAAGTAAGAAGG\n",
      "CTCCGCGTGCGCATCGATTCTATCGCCAGCTATCGCTAGAATACATTCCCGCCACTTTCCTGGCCTTAGAAGTAAGAAGG\n",
      "ch135_file25_2d\n",
      "GCCATTGGGGTCGAGGTAAGCCAACATGTGATGGGCCAACGGAGCGGCCTCGTCTGGGGTCGTACCAAACGACTAGTTAC\n",
      "GCCATTGGGGTCGAGGTAAGCCAACATGTGATGGGCCAACGGAGCGGCCTCGTCTGGGGTCGTACCAAACGACTAGTTAC\n",
      "ch132_file23_2d\n",
      "CGACTGAAATAAACCTCCTTATTCACGAAGATTGCAGAACTGCTAATTCATGCATTCCATGTTTAAAACATGGCTTTCTT\n",
      "CGACTGAAATAAACCTCCTTATTCACGAAGATTGCAGAACTGCTAATTCATGCATTCCATGTTTAAAACATGGCTTTCTT\n",
      "ch206_file7_2d\n",
      "TAATAACATAACATTCTCCGAAACATTTCCTCAAGTGTGCTCCCATGAAACGACATAACGCGAGCCAATGGGAGTCGCGA\n",
      "TAATAACATAACATTCTCCGAAACATTTCCTCAAGTGTGCTCCCATGAAACGACATAACGCGAGCCAATGGGAGTCGCGA\n",
      "ch215_file4_2d\n",
      "CTGGTCTCACGCGATTCCAGTCGTTAAGAGCATTAGCCTGTGTCAGCGGCATTCATCCAAATTTGTGATTGGGCCAGAAT\n",
      "CTGGTCTCACGCGATTCCAGTCGTTAAGAGCATTAGCCTGTGTCAGCGGCATTCATCCAAATTTGTGATTGGGCCAGAAT\n",
      "ch156_file15_2d\n",
      "GCCTGGGGATCTAAGGACCGATCCAATATAGAATTCTATTTATTATCATGCCAACTAGCCTCCATCTCATACTTCTCAAT\n",
      "GCCTGGGGATCTAAGGACCGATCCAATATAGAATTCTATTTATTATCATGCCAACTAGCCTCCATCTCATACTTCTCAAT\n",
      "ch211_file35_2d\n",
      "ATGTAACCTACTGAATTGGGCCAACCAGTAGAACCCCATTATTATCATGCCACTGAGCCTCCATCTCAATATTCAATCAT\n",
      "ATGTAACCTACTGAATTGGGCCAACCAGTAGAACCCCATTATTATCATGCCACTGAGCCTCCATCTCAATATTCAATCAT\n",
      "ch206_file21_2d\n",
      "CTGGGTTTAGCCGGTGTCATCTAGGGTGAAGCCGAACATAATGGGAATCAGTGAACAAATCCGGTCGATGAGCAAACACT\n",
      "CTGGGTTTAGCCGGTGTCATCTAGGGTGAAGCCGAACATAATGGGAATCAGTGAACAAATCCGGTCGATGAGCAAACACT\n"
     ]
    }
   ],
   "source": [
    "for i, read in enumerate(reads[:]):\n",
    "    print (read.query_name)\n",
    "    file_id, channel_id = get_file_and_channel(read.query_name)\n",
    "    file_obj = get_file(channel_id, file_id)\n",
    "    events = file_obj[\"events\"]\n",
    "    called_seq = file_obj[\"fastq\"].split(\"\\n\")[1]\n",
    "    seq = []\n",
    "    event_dict = events.to_dict(\"records\")\n",
    "    seq.extend(event_dict[0][\"kmer\"])\n",
    "    for ev in event_dict[1:]:\n",
    "        if(ev[\"move\"] == 0): continue\n",
    "        seq.extend(ev[\"kmer\"][-ev[\"move\"]:])\n",
    "\n",
    "    seq = \"\".join(seq)\n",
    "    \n",
    "    print(called_seq[:80])\n",
    "    print(seq[:80])\n",
    "    assert(called_seq == seq)\n",
    "        "
   ]
  },
  {
   "cell_type": "markdown",
   "metadata": {},
   "source": [
    "_Yes, it's true!!!_"
   ]
  },
  {
   "cell_type": "code",
   "execution_count": null,
   "metadata": {
    "collapsed": true
   },
   "outputs": [],
   "source": []
  }
 ],
 "metadata": {
  "kernelspec": {
   "display_name": "SSH fonsi ipython fonsi",
   "language": "",
   "name": "rik_ssh_fonsi_ipythonfonsi"
  },
  "language_info": {
   "codemirror_mode": {
    "name": "ipython",
    "version": 3
   },
   "file_extension": ".py",
   "mimetype": "text/x-python",
   "name": "python",
   "nbconvert_exporter": "python",
   "pygments_lexer": "ipython3",
   "version": "3.4.3"
  }
 },
 "nbformat": 4,
 "nbformat_minor": 0
}
