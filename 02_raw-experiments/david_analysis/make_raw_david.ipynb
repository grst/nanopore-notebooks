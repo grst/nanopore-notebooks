{
 "cells": [
  {
   "cell_type": "code",
   "execution_count": 3,
   "metadata": {
    "collapsed": false
   },
   "outputs": [
    {
     "name": "stdout",
     "output_type": "stream",
     "text": [
      "The autoreload extension is already loaded. To reload it, use:\n",
      "  %reload_ext autoreload\n"
     ]
    }
   ],
   "source": [
    "%load_ext autoreload\n",
    "%autoreload 2\n",
    "import rpy2.robjects as robjects\n",
    "from rpy2.robjects import numpy2ri\n",
    "import rpy2\n",
    "from pprint import pprint\n",
    "import re\n",
    "import numpy as np\n",
    "import pickle\n",
    "from collections import OrderedDict\n",
    "from itertools import repeat, count, product\n",
    "from skbio.alignment import StripedSmithWaterman, local_pairwise_align_ssw\n",
    "import sys"
   ]
  },
  {
   "cell_type": "code",
   "execution_count": 4,
   "metadata": {
    "collapsed": true
   },
   "outputs": [],
   "source": [
    "SRATE = 5000"
   ]
  },
  {
   "cell_type": "code",
   "execution_count": 6,
   "metadata": {
    "collapsed": false
   },
   "outputs": [
    {
     "data": {
      "text/plain": [
       "<StrVector - Python:0x7f4d2477aec8 / R:0x2f1b968>\n",
       "['nanopore.bundled']"
      ]
     },
     "execution_count": 6,
     "metadata": {},
     "output_type": "execute_result"
    }
   ],
   "source": [
    "robjects.r['load'](\"/home/ibis/gregor.sturm/nanopore/david_eccles_bc_ideas/mtDNA_mappable_called_with_rawSignal.Rdata\")"
   ]
  },
  {
   "cell_type": "code",
   "execution_count": 7,
   "metadata": {
    "collapsed": true
   },
   "outputs": [],
   "source": [
    "data = numpy2ri.ri2py(robjects.r['nanopore.bundled'])"
   ]
  },
  {
   "cell_type": "code",
   "execution_count": 8,
   "metadata": {
    "collapsed": false
   },
   "outputs": [],
   "source": [
    "files = !find ../../../../david_eccles_bc_ideas/processed/ | grep fast5"
   ]
  },
  {
   "cell_type": "markdown",
   "metadata": {},
   "source": [
    "### Get data from RData"
   ]
  },
  {
   "cell_type": "markdown",
   "metadata": {},
   "source": [
    "0 = reference\n",
    "1 = called\n",
    "3 = channel\n",
    "8 = metrichor results (events)\n",
    "9 = \"mux\"\n",
    "10 = signal range \n",
    "11 = signal"
   ]
  },
  {
   "cell_type": "code",
   "execution_count": 9,
   "metadata": {
    "collapsed": false
   },
   "outputs": [],
   "source": [
    "ref = data[0][0]\n",
    "channel_ids = [int(x) for x in data[3]]\n",
    "file_ids = [int(x) for x in data[5]]\n",
    "types = list(data[2].names) #template/2D/..."
   ]
  },
  {
   "cell_type": "code",
   "execution_count": 31,
   "metadata": {
    "collapsed": false
   },
   "outputs": [
    {
     "name": "stdout",
     "output_type": "stream",
     "text": [
      "{195: 4638530, 132: 69987497, 133: 12456817, 135: 62976700, 201: 4599826, 227: 18246574, 203: 6371298, 204: 13066295, 141: 29953471, 142: 53380406, 206: 55940501, 209: 25813234, 211: 62405297, 212: 35840257, 149: 57367518, 215: 59538461, 223: 67207073, 156: 63222798, 157: 7725489, 213: 35016383}\n"
     ]
    }
   ],
   "source": [
    "## channel coords from rdata\n",
    "coords = []\n",
    "all_raw = {}\n",
    "channel_max = dict(zip(channel_ids, repeat(0)))\n",
    "for i in range(0, len(data[10]), 2):\n",
    "    se = (round(data[10][i]), round(data[10][i+1]))\n",
    "    coords.append(se)\n",
    "    channel_max[channel_ids[int(i/2)]] = max(channel_max[channel_ids[int(i/2)]], se[1])\n",
    "    \n",
    "print (channel_max)\n",
    "\n",
    "for chid, chmax in channel_max.items():\n",
    "    all_raw[chid] = np.empty(chmax)\n",
    "    all_raw[chid].fill(np.nan)"
   ]
  },
  {
   "cell_type": "markdown",
   "metadata": {},
   "source": [
    "pack all the available raw signal for the given channel in one array. "
   ]
  },
  {
   "cell_type": "code",
   "execution_count": 32,
   "metadata": {
    "collapsed": false,
    "scrolled": true
   },
   "outputs": [
    {
     "name": "stdout",
     "output_type": "stream",
     "text": [
      "0 14263383\n",
      "1 14263383\n",
      "2 53054262\n",
      "3 55559668\n",
      "4 55763736\n",
      "5 55559668\n",
      "6 20841985\n",
      "7 21744018\n",
      "8 20841663\n",
      "9 58611017\n",
      "10 29733238\n",
      "11 30178940\n",
      "12 38452561\n",
      "13 68761506\n",
      "14 69336966\n",
      "15 39203872\n",
      "16 4338899\n",
      "17 10117943\n",
      "18 10111547\n",
      "19 1610262\n",
      "20 1610262\n",
      "21 437216\n",
      "22 1290055\n",
      "23 25820667\n",
      "24 28685564\n",
      "25 29586312\n",
      "26 28684851\n",
      "27 36094944\n",
      "28 36495057\n",
      "29 36094944\n",
      "30 38381291\n",
      "31 60958967\n",
      "32 60827554\n",
      "33 62183810\n",
      "34 13895041\n",
      "35 14282593\n",
      "36 14883605\n",
      "37 16839366\n",
      "38 17196412\n",
      "39 11116981\n",
      "40 12018853\n",
      "41 28113526\n",
      "42 50760609\n",
      "43 52030192\n",
      "44 11786742\n",
      "45 11971416\n",
      "46 4415895\n",
      "47 14826058\n",
      "48 15605747\n",
      "49 17611679\n",
      "50 15605747\n",
      "51 50100827\n",
      "52 50279488\n",
      "53 50100827\n",
      "54 54684243\n",
      "55 56708683\n",
      "56 62911375\n",
      "57 4682908\n",
      "58 9660018\n",
      "59 10549882\n",
      "60 9660018\n",
      "61 1262851\n",
      "62 2095322\n",
      "63 3367671\n",
      "64 5777375\n",
      "65 3310668\n",
      "66 4523542\n",
      "67 3724151\n",
      "68 2837075\n",
      "69 12054328\n",
      "70 2865115\n",
      "71 4214741\n",
      "72 5115935\n",
      "73 12445897\n",
      "74 13721867\n",
      "75 16388228\n",
      "76 15418914\n",
      "77 6253118\n",
      "78 6213608\n",
      "79 8839630\n",
      "80 9700201\n",
      "81 8839630\n",
      "82 27325701\n",
      "83 28050421\n",
      "84 27325701\n",
      "85 30627084\n",
      "86 55085511\n",
      "87 4550156\n",
      "88 7663002\n",
      "89 11397931\n",
      "90 23898427\n",
      "91 24776119\n",
      "92 23866775\n",
      "93 23866775\n",
      "94 27346457\n",
      "95 27346457\n",
      "96 61821237\n",
      "97 62122996\n",
      "98 35367400\n",
      "99 35367400\n",
      "100 43549673\n",
      "101 47221200\n",
      "102 48241865\n",
      "103 47221200\n",
      "104 53585905\n",
      "105 3742361\n",
      "106 4540664\n",
      "107 3742361\n",
      "108 21241658\n",
      "109 29893562\n",
      "110 32869982\n",
      "111 36749681\n",
      "112 37993252\n",
      "113 39107681\n",
      "114 37993252\n",
      "115 33792991\n",
      "116 41030598\n",
      "117 41411553\n",
      "118 54673976\n",
      "119 32977279\n",
      "120 34737624\n",
      "121 55353985\n",
      "122 57174444\n",
      "123 58154700\n",
      "124 3344251\n",
      "125 3668713\n",
      "126 28132973\n",
      "127 30091422\n",
      "128 30091422\n",
      "129 31790027\n",
      "130 31790027\n",
      "131 38320808\n",
      "132 39423326\n",
      "133 66243686\n",
      "134 14977849\n",
      "135 16506736\n",
      "136 14977849\n"
     ]
    }
   ],
   "source": [
    "for i, start_end in enumerate(coords):\n",
    "    start, end = start_end\n",
    "    print(i, start)\n",
    "    for k, sig in enumerate(data[11][i]):\n",
    "        all_raw[channel_ids[i]][start + k] = sig"
   ]
  },
  {
   "cell_type": "code",
   "execution_count": 33,
   "metadata": {
    "collapsed": false
   },
   "outputs": [],
   "source": [
    "pickle.dump(all_raw, open(\"/home/ibis/gregor.sturm/nanopore/own/notebooks/03_pipeline/david_raw.pickle\", 'wb'), protocol=2)"
   ]
  },
  {
   "cell_type": "code",
   "execution_count": 30,
   "metadata": {
    "collapsed": false
   },
   "outputs": [
    {
     "data": {
      "text/plain": [
       "[(5077275, -12.0),\n",
       " (14527754, -38.0),\n",
       " (14537810, -20.0),\n",
       " (14988691, -46.0),\n",
       " (21204879, -4096.0),\n",
       " (21204880, -889.0),\n",
       " (21204881, -464.0),\n",
       " (21204882, -234.0),\n",
       " (21204883, -107.0),\n",
       " (21204884, -34.0),\n",
       " (21904280, -12.0),\n",
       " (22352821, -45.0),\n",
       " (29865513, -43.0),\n",
       " (30162890, -38.0),\n",
       " (30463523, -25.0),\n",
       " (30613377, -79.0),\n",
       " (30764920, -10.0),\n",
       " (38883202, -23.0),\n",
       " (39782445, -80.0),\n",
       " (40236039, -8.0),\n",
       " (40267614, -1647.0),\n",
       " (40267615, -1164.0),\n",
       " (40267616, -563.0),\n",
       " (40267617, -265.0),\n",
       " (40267618, -112.0),\n",
       " (40267619, -13.0),\n",
       " (40835307, -2.0),\n",
       " (41133529, -24.0),\n",
       " (41282610, -56.0),\n",
       " (41438277, -60.0),\n",
       " (53149625, -117.0),\n",
       " (53454479, -4096.0),\n",
       " (53752870, -122.0),\n",
       " (54054085, -137.0),\n",
       " (54202847, -25.0),\n",
       " (54353318, -91.0),\n",
       " (54664921, -10.0),\n",
       " (54965536, -126.0),\n",
       " (55113689, -90.0),\n",
       " (55263463, -97.0),\n",
       " (55563561, -117.0),\n",
       " (55712566, -90.0),\n",
       " (58718623, -42.0),\n",
       " (59168470, -35.0),\n",
       " (59321017, -40.0),\n",
       " (59621103, -10.0),\n",
       " (59732717, -4096.0),\n",
       " (59732718, -815.0),\n",
       " (59732719, -389.0),\n",
       " (59732720, -174.0),\n",
       " (59732721, -46.0),\n",
       " (60068368, -28.0),\n",
       " (60219361, -57.0),\n",
       " (60370228, -12.0),\n",
       " (60519385, -87.0),\n",
       " (60818361, -4096.0),\n",
       " (60967994, -128.0),\n",
       " (61118609, -93.0),\n",
       " (68778431, -47.0),\n",
       " (68928544, -115.0),\n",
       " (69079358, -4096.0),\n",
       " (69235592, -92.0),\n",
       " (69383168, -41.0),\n",
       " (69532802, -23.0),\n",
       " (69684311, -35.0),\n",
       " (69834957, -53.0)]"
      ]
     },
     "execution_count": 30,
     "metadata": {},
     "output_type": "execute_result"
    }
   ],
   "source": [
    "[(i, x) for i, x in enumerate(all_raw[channel_ids[0]]) if x < -1]"
   ]
  },
  {
   "cell_type": "code",
   "execution_count": null,
   "metadata": {
    "collapsed": true
   },
   "outputs": [],
   "source": []
  }
 ],
 "metadata": {
  "kernelspec": {
   "display_name": "SSH fonsi ipython",
   "language": "",
   "name": "rik_ssh_fonsi_ipython"
  },
  "language_info": {
   "codemirror_mode": {
    "name": "ipython",
    "version": 3
   },
   "file_extension": ".py",
   "mimetype": "text/x-python",
   "name": "python",
   "nbconvert_exporter": "python",
   "pygments_lexer": "ipython3",
   "version": "3.4.3"
  }
 },
 "nbformat": 4,
 "nbformat_minor": 0
}
